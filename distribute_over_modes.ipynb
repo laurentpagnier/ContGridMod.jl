{
 "cells": [
  {
   "cell_type": "code",
   "execution_count": null,
   "metadata": {},
   "outputs": [],
   "source": [
    "import JSON\n",
    "using Plots\n",
    "using HDF5\n",
    "using LinearAlgebra\n",
    "include(\"tools.jl\")"
   ]
  },
  {
   "cell_type": "code",
   "execution_count": null,
   "metadata": {},
   "outputs": [],
   "source": [
    "data = h5read(\"data/panta.h5\",\"/\")\n",
    "mg = vec(data[\"gen_inertia\"])\n",
    "dg = vec(data[\"gen_prim_ctrl\"])\n",
    "idgen = Int64.(vec(data[\"gen\"][:,1]))\n",
    "dem = vec(data[\"bus\"][:,3]) / 100\n",
    "gen = vec(data[\"gen\"][:,2]) / 100\n",
    "coord = alberts_projection(data[\"bus_coord\"]./(180/pi), 13.37616/180*pi, 46.94653/180*pi, 10/180*pi, 50/180*pi)\n",
    "dl = vec(data[\"load_freq_coef\"])\n",
    "idb = Int64.(data[\"branch\"][:,1:2])\n",
    "bline = 1 ./ data[\"branch\"][:,4]\n",
    "th_ref = vec(data[\"bus\"][:,9]/180*pi)"
   ]
  },
  {
   "cell_type": "code",
   "execution_count": null,
   "metadata": {},
   "outputs": [],
   "source": [
    "data = h5read(\"eigen_20.h5\",\"/\")\n",
    "c = data[\"coord\"]\n",
    "V = data[\"V\"]\n",
    "D = data[\"D\"]\n",
    "Ntrunc = 50\n",
    "mu = zeros(Ntrunc)\n",
    "pie = zeros(Ntrunc) #pie to avoid overloading pi ;-)\n",
    "theta = zeros(Ntrunc)\n",
    "\n",
    "for a in 1:Ntrunc\n",
    "    println(a)\n",
    "    for g in 1:length(mg)\n",
    "        #println(g)\n",
    "        #id = argmin((c[:,1] .- coord[idgen[g],1]).^2 + (c[:,2] .- coord[idgen[g],2]).^2)\n",
    "        #mu[a] += mg[g] * V[id,a]\n",
    "        #pie[a] += mg[g] * V[id,a]\n",
    "        d = 10*sqrt.((c[:,1] .- coord[idgen[g],1]).^2 + (c[:,2] .- coord[idgen[g],2]).^2)\n",
    "        f = exp.(-d) ./ sum(exp.(-d)) \n",
    "        #println(sum(f))\n",
    "        #println(maximum(f))\n",
    "        #println(V[id,a])        \n",
    "        mu[a] += mg[g] * dot(f, V[:,a])\n",
    "        pie[a] += mg[g] *  dot(f, V[:,a])\n",
    "    end\n",
    "    \n",
    "    for l in 1:length(dl)\n",
    "        #id = argmin((c[:,1] .- coord[l,1]).^2 + (c[:,2] .- coord[l,2]).^2)\n",
    "        #pie[a] += dem[l] * V[id,a]\n",
    "        #theta[a] += th_ref[l] * V[id,a]\n",
    "        d = 10*sqrt.((c[:,1] .- coord[l,1]).^2 + (c[:,2] .- coord[l,2]).^2)\n",
    "        f = exp.(-d) ./ sum(exp.(-d))\n",
    "        pie[a] += dem[l] * dot(f,V[:,a])\n",
    "        theta[a] += th_ref[l] * dot(f,V[:,a])\n",
    "    end\n",
    "end\n"
   ]
  },
  {
   "cell_type": "code",
   "execution_count": null,
   "metadata": {},
   "outputs": [],
   "source": [
    "mu"
   ]
  },
  {
   "cell_type": "code",
   "execution_count": null,
   "metadata": {},
   "outputs": [],
   "source": [
    "#mbis = sum(mg) * ones(size(c,1)) / size(c,1) \n",
    "mbis = zeros(size(c,1))\n",
    "pbis = zeros(size(c,1))\n",
    "thetabis = zeros(size(c,1))\n",
    "mmin = Inf\n",
    "a = 1\n",
    "mthres = 0.1\n",
    "#while(mmin > mthres &&  a < 100) \n",
    "for a = 1:50 \n",
    "    mbis += mu[a] * V[:,a]\n",
    "    pbis += pie[a] * V[:,a]\n",
    "    thetabis += theta[a] * V[:,a]\n",
    "    mmin = minimum(mbis)\n",
    "    #a += 1\n",
    "end\n",
    "a"
   ]
  },
  {
   "cell_type": "code",
   "execution_count": null,
   "metadata": {},
   "outputs": [],
   "source": [
    "Nx = data[\"Nx\"]\n",
    "Ny = data[\"Ny\"]\n",
    "isgrid = Bool.(data[\"isgrid\"])\n",
    "id_x = vec(data[\"id_x\"])\n",
    "id_y = vec(data[\"id_y\"])\n",
    "id_xy = Vector{CartesianIndex{2}}()\n",
    "for i=1:length(id_x)\n",
    "    push!(id_xy, CartesianIndex{2}((id_y[i],id_x[i])))\n",
    "end\n",
    "#id_xy = vec(data[\"id_xy\"])\n",
    "println(size(V[:,25]))\n",
    "mlat = zeros(Ny, Nx)\n",
    "plat = zeros(Ny, Nx)\n",
    "thlat = zeros(Ny, Nx)\n",
    "#mode[id_xy] = V_ref[:,3]\n",
    "mlat[id_xy] = mbis\n",
    "plat[id_xy] = pbis\n",
    "thlat[id_xy] = thetabis\n",
    "\n",
    "println(minimum(mlat))\n",
    "#print(sum(mg))\n",
    "println(sum(mlat))\n",
    "mlat[.!isgrid] .= NaN\n",
    "plat[.!isgrid] .= NaN\n",
    "thlat[.!isgrid] .= NaN\n",
    "\n",
    "\n",
    "\n",
    "contour(1:Nx, 1:Ny, mlat, fill=true)\n"
   ]
  },
  {
   "cell_type": "code",
   "execution_count": null,
   "metadata": {},
   "outputs": [],
   "source": [
    "contour(1:Nx, 1:Ny, plat, fill=true)"
   ]
  },
  {
   "cell_type": "code",
   "execution_count": null,
   "metadata": {},
   "outputs": [],
   "source": [
    "println(minimum(th_ref))\n",
    "println(maximum(th_ref))\n",
    "contour(1:Nx, 1:Ny, thlat, fill=true)"
   ]
  },
  {
   "cell_type": "code",
   "execution_count": null,
   "metadata": {},
   "outputs": [],
   "source": [
    "plot(D[1:100])"
   ]
  }
 ],
 "metadata": {
  "kernelspec": {
   "display_name": "Julia 1.6.1",
   "language": "julia",
   "name": "julia-1.6"
  },
  "language_info": {
   "file_extension": ".jl",
   "mimetype": "application/julia",
   "name": "julia",
   "version": "1.6.1"
  }
 },
 "nbformat": 4,
 "nbformat_minor": 5
}

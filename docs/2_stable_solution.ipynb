{
 "cells": [
  {
   "cell_type": "code",
   "execution_count": 2,
   "id": "b2b10492",
   "metadata": {},
   "outputs": [],
   "source": [
    "# load ContGridMod package\n",
    "using ContGridMod"
   ]
  },
  {
   "cell_type": "code",
   "execution_count": 3,
   "id": "76a554e8",
   "metadata": {},
   "outputs": [
    {
     "name": "stdout",
     "output_type": "stream",
     "text": [
      "border\n"
     ]
    },
    {
     "data": {
      "text/plain": [
       "4×2 Matrix{Float64}:\n",
       " -1.0  -0.743134\n",
       "  1.0  -0.743134\n",
       "  1.0   0.743134\n",
       " -1.0   0.743134"
      ]
     },
     "execution_count": 3,
     "metadata": {},
     "output_type": "execute_result"
    }
   ],
   "source": [
    "# make an example\n",
    "data, ~ = import_json_numerics(\"../data/test/rectangle.json\")\n",
    "border = data[\"border\"]"
   ]
  },
  {
   "cell_type": "code",
   "execution_count": null,
   "id": "b5d2d4b5",
   "metadata": {},
   "outputs": [],
   "source": [
    "# create the mesh\n",
    "dx =0.02\n",
    "mesh = get_mesh(border, dx);"
   ]
  },
  {
   "cell_type": "code",
   "execution_count": null,
   "id": "904b34ab",
   "metadata": {},
   "outputs": [],
   "source": [
    "# create a grid with uniform params"
   ]
  },
  {
   "cell_type": "code",
   "execution_count": null,
   "id": "d1bee3f5",
   "metadata": {},
   "outputs": [],
   "source": [
    "# add a generator and a load\n",
    "add_local_disturbance!(contmod, location, 9.0, 0.02)\n",
    "add_local_disturbance!(contmod, location, 9.0, 0.02)"
   ]
  }
 ],
 "metadata": {
  "kernelspec": {
   "display_name": "Julia 1.6.2",
   "language": "julia",
   "name": "julia-1.6"
  },
  "language_info": {
   "file_extension": ".jl",
   "mimetype": "application/julia",
   "name": "julia",
   "version": "1.6.2"
  }
 },
 "nbformat": 4,
 "nbformat_minor": 5
}

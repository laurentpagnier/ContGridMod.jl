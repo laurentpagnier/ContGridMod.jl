{
 "cells": [
  {
   "cell_type": "code",
   "execution_count": null,
   "id": "b2b10492",
   "metadata": {},
   "outputs": [],
   "source": [
    "# activate and load ContGridMod package\n",
    "using Pkg\n",
    "Pkg.activate(\"..\")\n",
    "using ContGridMod"
   ]
  },
  {
   "cell_type": "code",
   "execution_count": null,
   "id": "76a554e8",
   "metadata": {},
   "outputs": [],
   "source": [
    "# make an example"
   ]
  }
 ],
 "metadata": {
  "kernelspec": {
   "display_name": "Julia 1.6.1",
   "language": "julia",
   "name": "julia-1.6"
  },
  "language_info": {
   "file_extension": ".jl",
   "mimetype": "application/julia",
   "name": "julia",
   "version": "1.6.1"
  }
 },
 "nbformat": 4,
 "nbformat_minor": 5
}

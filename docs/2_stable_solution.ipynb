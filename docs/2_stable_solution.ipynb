{
 "cells": [
  {
   "cell_type": "code",
   "execution_count": null,
   "id": "b2b10492",
   "metadata": {},
   "outputs": [],
   "source": [
    "# load ContGridMod package\n",
    "using ContGridMod"
   ]
  },
  {
   "cell_type": "code",
   "execution_count": null,
   "id": "76a554e8",
   "metadata": {},
   "outputs": [],
   "source": [
    "# load the European border file\n",
    "border, scale_factor = import_border(\"../data/borders/border.json\");"
   ]
  },
  {
   "cell_type": "code",
   "execution_count": null,
   "id": "b5d2d4b5",
   "metadata": {},
   "outputs": [],
   "source": [
    "# create the mesh\n",
    "dx = 0.005\n",
    "mesh = get_mesh(border, dx);"
   ]
  },
  {
   "cell_type": "code",
   "execution_count": null,
   "id": "d1bee3f5",
   "metadata": {},
   "outputs": [],
   "source": [
    "# distribute parameters\n",
    "contmod = get_params(mesh, scale_factor, \"../data/disc/pantagruel.h5\", Niter=10, dmax=0.01, patch=1900.0, bmin=52.0, tau=5.0e-7)"
   ]
  },
  {
   "cell_type": "code",
   "execution_count": null,
   "metadata": {},
   "outputs": [],
   "source": []
  }
 ],
 "metadata": {
  "kernelspec": {
   "display_name": "Julia 1.6.3",
   "language": "julia",
   "name": "julia-1.6"
  },
  "language_info": {
   "file_extension": ".jl",
   "mimetype": "application/julia",
   "name": "julia",
   "version": "1.6.3"
  }
 },
 "nbformat": 4,
 "nbformat_minor": 5
}

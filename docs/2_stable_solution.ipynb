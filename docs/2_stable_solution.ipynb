{
 "cells": [
  {
   "cell_type": "markdown",
   "id": "c45ec759",
   "metadata": {},
   "source": [
    "# Obtain the Stable Solution\n",
    "In this notebook we will recreate a version of Fig. 3 of the paper \"Model Reduction of Swing Equations with Physics Informed PDE\" __[arxiv](https://arxiv.org)__.\n",
    "\n",
    "This will include the following steps:\n",
    "- Load the border file and create the continuous model from the discrete data\n",
    "- Calculate the stable solution\n",
    "- Plot the stable solution\n",
    "- Compare it to the stable solution of the discrete model\n",
    "\n"
   ]
  },
  {
   "cell_type": "code",
   "execution_count": null,
   "id": "b2b10492",
   "metadata": {},
   "outputs": [],
   "source": [
    "# load ContGridMod package\n",
    "using ContGridMod\n",
    "using Plots"
   ]
  },
  {
   "cell_type": "markdown",
   "id": "15c21669",
   "metadata": {},
   "source": [
    "We start by loading the border and creating the mesh on which we run the simulation. The mesh is scaled such that the longest dimension has length 1. To convert from the original coordinates `scale_factor` can be used."
   ]
  },
  {
   "cell_type": "code",
   "execution_count": null,
   "id": "76a554e8",
   "metadata": {},
   "outputs": [],
   "source": [
    "# load the European border file\n",
    "border, scale_factor = import_border(\"../data/borders/border.json\");"
   ]
  },
  {
   "cell_type": "code",
   "execution_count": null,
   "id": "b5d2d4b5",
   "metadata": {},
   "outputs": [],
   "source": [
    "# create the mesh\n",
    "dx = 0.005\n",
    "mesh = get_mesh(border, dx);"
   ]
  },
  {
   "cell_type": "markdown",
   "id": "9532aabe",
   "metadata": {},
   "source": [
    "To create the continuous model we need to disaggregate the values of the discrete model. For this we use artificial diffusion as described in the paper. The parameters to control the diffusion are `Niter`: number of integration steps, `dmax`: maximum distance a point can be from a line in the discrete model to still be consider on-line for the continuous model, `patch`: scaling factor for the values of $b_x$ and $b_y$ to ensure correct dimensionality, `bmin`: minimum amount for $b_x$ and $b_y$; required for numerical stability, `min_factor`: fraction of the maximum amount of inertia, damping and power that is at least distributed at every point to ensure numerical stability"
   ]
  },
  {
   "cell_type": "code",
   "execution_count": null,
   "id": "d1bee3f5",
   "metadata": {},
   "outputs": [],
   "source": [
    "# distribute parameters\n",
    "contmod = get_params(mesh, scale_factor, \"../data/disc/pantagruel.h5\", Niter=10, dmax=2*dx, patch=1900.0, bmin=52.0, tau=5.0e-7);"
   ]
  },
  {
   "cell_type": "markdown",
   "id": "c4777e03",
   "metadata": {},
   "source": [
    "The stable solution can be obtained by one function call. `interval` controls at which steps the current precision is printed. The precision is the difference between two iterations, `Niter` the number of iterations, `tol` the precision at which the loop will terminate if `Niter` has not yet been reached"
   ]
  },
  {
   "cell_type": "code",
   "execution_count": null,
   "id": "de4ddf8d",
   "metadata": {},
   "outputs": [],
   "source": [
    "# compute the stable solution\n",
    "compute_stable_sol!(contmod, interval=Int64(1e4), Niter=Int64(2.5e5), tol=1e-7);"
   ]
  },
  {
   "cell_type": "markdown",
   "id": "539f7f65",
   "metadata": {},
   "source": [
    "The stable solution can easily be plotted using the `hm_plot` command that takes care of cutting of values that are outside of the border."
   ]
  },
  {
   "cell_type": "code",
   "execution_count": null,
   "id": "e5fca9d1",
   "metadata": {},
   "outputs": [],
   "source": [
    "# plot the results\n",
    "hm_plot(contmod, contmod.th, borders=[border])"
   ]
  },
  {
   "cell_type": "markdown",
   "id": "0884fe48",
   "metadata": {},
   "source": [
    "To create a comparison between our continuous results and the discrete results we first load the discrete model and find the theta values of the points of the continuous model that are closest to nodes in the discrete model."
   ]
  },
  {
   "cell_type": "code",
   "execution_count": null,
   "id": "86aa50e2",
   "metadata": {},
   "outputs": [],
   "source": [
    "# load discrete model\n",
    "dm = load_discrete_model(\"../data/disc/pantagruel.h5\", scale_factor);"
   ]
  },
  {
   "cell_type": "code",
   "execution_count": null,
   "id": "88cfdefd",
   "metadata": {},
   "outputs": [],
   "source": [
    "# Get the theta values of the stable solution closest to a node in the discrete model\n",
    "th_disc = get_discrete_values(contmod.coord[contmod.isgrid,:], dm.coord, contmod.th[contmod.isgrid]);"
   ]
  },
  {
   "cell_type": "markdown",
   "id": "a729f7a3",
   "metadata": {},
   "source": [
    "For comparison plot the two results with equal color limits. Discrete results can be plotted using `disc_plot`."
   ]
  },
  {
   "cell_type": "code",
   "execution_count": null,
   "id": "9f1a13ef",
   "metadata": {},
   "outputs": [],
   "source": [
    "clim = extrema([contmod.th; dm.th])\n",
    "plot(hm_plot(contmod, contmod.th, borders=[border],clim=clim), disc_plot(dm.coord, dm.th, borders=[border], clim=clim, markersize=5.0), layout=(2,1), aspect_ratio=:equal, size=(400,600))"
   ]
  },
  {
   "cell_type": "code",
   "execution_count": null,
   "id": "c955f8ec",
   "metadata": {},
   "outputs": [],
   "source": [
    "scatter(dm.th, th_disc, label=:none)\n",
    "plot!([1.1 * minimum(dm.th); 1.1 * maximum(dm.th)], [1.1 * minimum(dm.th); 1.1 * maximum(dm.th)], label=:none, lw=3, color=:red)"
   ]
  },
  {
   "cell_type": "markdown",
   "id": "baae7201",
   "metadata": {},
   "source": [
    "Plotting in Julia feels still half baked. For more complex plots it is easier to just use Matplotlib and python. This can easily be integrated in Julia as shown in the example below."
   ]
  },
  {
   "cell_type": "code",
   "execution_count": null,
   "id": "6fb93f79",
   "metadata": {},
   "outputs": [],
   "source": [
    "import PyPlot\n",
    "using PyCall\n",
    "\n",
    "CMAP = :inferno\n",
    "contcols = fill!(Vector{Float64}(undef, contmod.Ny * contmod.Nx), NaN)\n",
    "contcols[contmod.isinside] = contmod.th[contmod.isinside]\n",
    "thmin = minimum(dm.th)\n",
    "thmax = maximum(dm.th)\n",
    "clim = extrema([dm.th;th_disc])\n",
    "fig = PyPlot.plt.figure(constrained_layout=true, figsize=(8,6))\n",
    "gs = fig.add_gridspec(3,2, height_ratios=[1,1,0.05], width_ratios=[1,1])\n",
    "p1 = fig.add_subplot(gs[1,1], label=\"(a)\")\n",
    "p1.plot(border[:,1], border[:,2], \"k\", zorder=0, lw=2)\n",
    "p1.scatter(dm.coord[:,2], dm.coord[:,1], c=dm.th, cmap=CMAP, zorder=1, vmin=clim[1], vmax=clim[2], s=6)\n",
    "p1.set_aspect(\"equal\")\n",
    "p1.axis(\"off\")\n",
    "p1.text(0.03,0.97, \"(a)\", transform=p1.transAxes)\n",
    "p2 = fig.add_subplot(gs[2,1])\n",
    "p2.scatter(contmod.coord[:,2], contmod.coord[:,1], c=contcols, cmap=CMAP, s=3, vmin=clim[1], vmax=clim[2])\n",
    "p2.plot(border[:,1], border[:,2], \"k\", lw=2)\n",
    "p2.set_aspect(\"equal\")\n",
    "p2.axis(\"off\")\n",
    "p2.text(0.03,0.97, \"(b)\", transform=p2.transAxes)\n",
    "cbarax = fig.add_subplot(gs[3,1])\n",
    "PyPlot.plt.colorbar(p1.collections[1], cax=cbarax.axes, orientation=\"horizontal\", label=\"\\$\\\\theta\\$\")\n",
    "p3 = fig.add_subplot(py\"$(gs)[:,1]\") # Careful, when using PyCall the arrays have to be 0 indexed!\n",
    "p3.scatter(dm.th, th_disc, edgecolors=\"k\")\n",
    "p3.grid(color=\"gray\", linestyle=\"dashed\", lw=0.4)\n",
    "p3.set_axisbelow(true)\n",
    "p3.plot([1.1*thmin, 1.1*thmax], [1.1*thmin, 1.1*thmax], \"r\", lw=3)\n",
    "p3.set_xlim(1.1*thmin, 1.1*thmax)\n",
    "p3.set_xlabel(\"\\$\\\\theta_i^{\\\\rm disc}\\$\")\n",
    "p3.set_ylabel(\"\\$\\\\theta_i^{\\\\rm cont}\\$\")\n",
    "p3.yaxis.tick_right()\n",
    "p3.yaxis.set_label_position(\"right\")\n",
    "p3.text(0.03,0.97, \"(c)\", transform=p3.transAxes);"
   ]
  }
 ],
 "metadata": {
  "kernelspec": {
   "display_name": "Julia 1.6.2",
   "language": "julia",
   "name": "julia-1.6"
  },
  "language_info": {
   "file_extension": ".jl",
   "mimetype": "application/julia",
   "name": "julia",
   "version": "1.6.2"
  }
 },
 "nbformat": 4,
 "nbformat_minor": 5
}

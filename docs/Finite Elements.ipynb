{
 "cells": [
  {
   "cell_type": "code",
   "execution_count": null,
   "metadata": {
    "jukit_cell_id": "yVZG8CRw87"
   },
   "outputs": [],
   "source": [
    "using Revise\n",
    "using ContGridMod\n",
    "using Ferrite\n",
    "using FerriteViz\n",
    "using CairoMakie\n",
    "using SparseArrays\n",
    "using LinearAlgebra\n",
    "using Flux\n",
    "using Random\n",
    "using Plots\n",
    "using Makie\n",
    "using BlockArrays\n",
    "using DifferentialEquations\n",
    "using SciMLSensitivity\n",
    "Makie.inline!(true);"
   ]
  },
  {
   "cell_type": "code",
   "execution_count": null,
   "metadata": {
    "jukit_cell_id": "no1hGIXECd"
   },
   "outputs": [],
   "source": [
    "# Number of training and test set\n",
    "NTRAIN = 48;\n",
    "NTEST = 12;"
   ]
  },
  {
   "cell_type": "code",
   "execution_count": null,
   "metadata": {
    "jukit_cell_id": "MFMXbLoA3B"
   },
   "outputs": [],
   "source": [
    "# Load the grid\n",
    "grid, scale_factor = get_grid(\"../data/borders/euro_border.json\", 0.1, fileout=\"../test/panta.msh\");\n",
    "# Load the discrete model\n",
    "dm = load_discrete_model(\"../data/ml/test_1.h5\", scale_factor);\n",
    "# Load the model, the distribution parameters are only important for the distribution of the power\n",
    "model = get_params(grid, .05, dm, κ=0.02, bfactor=50000., σ=0.01, bmin=1);"
   ]
  },
  {
   "cell_type": "code",
   "execution_count": null,
   "metadata": {
    "jukit_cell_id": "HsHHwlH5fj"
   },
   "outputs": [],
   "source": [
    "# load all discrete models\n",
    "trainingDiscMod = ContGridMod.DiscModel[];\n",
    "testDiscMod = ContGridMod.DiscModel[];\n",
    "for i=1:NTRAIN\n",
    "    push!(trainingDiscMod, load_discrete_model(\n",
    "        \"../data/ml/training_\" * string(i) * \".h5\", scale_factor));\n",
    "end\n",
    "for i=1:NTEST\n",
    "    push!(testDiscMod, load_discrete_model(\n",
    "        \"../data/ml/test_\" * string(i) * \".h5\", scale_factor));\n",
    "end"
   ]
  },
  {
   "cell_type": "code",
   "execution_count": null,
   "metadata": {
    "jukit_cell_id": "Bm5iLn2Jdc"
   },
   "outputs": [],
   "source": [
    "# Make sure that all slack busses are the same\n",
    "# If nothing prints, everything is cool\n",
    "slack = trainingDiscMod[1].id_gen[trainingDiscMod[1].id_slack]\n",
    "for i=1:NTRAIN\n",
    "    if trainingDiscMod[i].id_gen[trainingDiscMod[i].id_slack] != slack\n",
    "        println(i)\n",
    "    end\n",
    "end\n",
    "for i=1:NTEST\n",
    "    if testDiscMod[i].id_gen[testDiscMod[i].id_slack] != slack\n",
    "        println(i)\n",
    "    end\n",
    "end"
   ]
  },
  {
   "cell_type": "code",
   "execution_count": null,
   "metadata": {
    "jukit_cell_id": "9z22fsfFe1"
   },
   "outputs": [],
   "source": [
    "# Set up training and test sets\n",
    "# model.f₀ is the vector obtained from ∫p(x)u(x)dΩ\n",
    "# TODO: At the moment we still need to call stable_sol! for that, but we can also just assemble everything by hand\n",
    "trainingTheta = zeros(size(trainingDiscMod[1].th, 1), NTRAIN);\n",
    "testTheta = zeros(size(testDiscMod[1].th, 1), NTEST);\n",
    "trainingP = zeros(getnnodes(grid), NTRAIN);\n",
    "testP = zeros(getnnodes(grid), NTEST);\n",
    "for i=1:NTRAIN\n",
    "    update_model!(model, :p, trainingDiscMod[i], .05, κ=0.02, bfactor=50000., σ=0.01, bmin=1)\n",
    "    stable_sol!(model)\n",
    "    trainingP[:, i] = model.f₀;\n",
    "    trainingTheta[:, i] = trainingDiscMod[i].th;\n",
    "end\n",
    "for i=1:NTEST\n",
    "    update_model!(model, :p, testDiscMod[i], .05, κ=0.02, bfactor=50000., σ=0.01, bmin=1)\n",
    "    stable_sol!(model)\n",
    "    testP[:, i] = model.f₀;\n",
    "    testTheta[:, i] = testDiscMod[i].th;\n",
    "end\n",
    "# Final update to recover the intial power distribution for later comparisons\n",
    "update_model!(model, :p, dm, .05, κ=0.02, bfactor=50000., σ=0.01, bmin=1)"
   ]
  },
  {
   "cell_type": "code",
   "execution_count": null,
   "metadata": {
    "jukit_cell_id": "8M3A1Pvc2B"
   },
   "outputs": [],
   "source": [
    "# Create matrices to obtain the stiffness matrix using just matrix multiplication and updating the susceptances in the quadrature points.\n",
    "# The size of A is ndofs x 2 * number of total quadpoints, the factor two comes from the x and y components of the gradients\n",
    "A = zeros(ndofs(model.dh₁), 2 * getnquadpoints(model.cellvalues) * size(model.grid.cells,1))\n",
    "# The coordinates of the quadpoints to later create the projection matrix. This is an extremely lazy way of creating the projection matrix and should be easy to improve\n",
    "q_coords = zeros(2 * getnquadpoints(model.cellvalues) * size(model.grid.cells,1), 2)\n",
    "\n",
    "n_basefuncs = getnbasefunctions(model.cellvalues)\n",
    "for (i, cell) in enumerate(CellIterator(model.dh₁))\n",
    "    # upadate the cellvalues struct to contain the current cell\n",
    "    Ferrite.reinit!(model.cellvalues, cell)    \n",
    "    # this tells us the global index of the nodes of the current cell\n",
    "    dofs = celldofs(cell)\n",
    "    for q_point in 1:getnquadpoints(model.cellvalues)\n",
    "        # The global coordinate of the current quad point\n",
    "        x = spatial_coordinate(model.cellvalues, q_point, getcoordinates(cell))\n",
    "        # ωᵢ det(J(x))\n",
    "        dΩ = getdetJdV(model.cellvalues, q_point)\n",
    "        # The index of this quadpoint in our labeling. The length 2 comes again from the x and y components of the gradients and susceptances\n",
    "        ix = 2 * (i - 1) * getnquadpoints(model.cellvalues) + 2 * q_point - 1\n",
    "        q_coords[ix, :] = q_coords[ix+1, :] = x\n",
    "        for j in 1:n_basefuncs\n",
    "            # Finally, do the assembly\n",
    "            ∇φⱼ = shape_gradient(model.cellvalues, q_point, j)\n",
    "            A[dofs[j], ix:ix+1] = ∇φⱼ * sqrt(dΩ)\n",
    "    end\n",
    "end\n",
    "end\n",
    "# Set the row corresponding to the slack node to zero. We can obtain the correct node directly from the ConstraintHandler\n",
    "A[model.ch.prescribed_dofs, :] .= 0\n",
    "A = sparse(A)\n",
    "# Dim is the matrix containing only the one on the diagonal for the slack bus to make sure that the linear equations will have a unique solution\n",
    "dim = zeros(ndofs(model.dh₁), ndofs(model.dh₁))\n",
    "dim[model.ch.prescribed_dofs, model.ch.prescribed_dofs] .= 1\n",
    "dim = sparse(dim);"
   ]
  },
  {
   "cell_type": "code",
   "execution_count": null,
   "metadata": {
    "jukit_cell_id": "GubFCa20Q8"
   },
   "outputs": [],
   "source": [
    "# The values to compare to the ground truth are obtained by interpolating between nodal values.\n",
    "# This can be broken down to matrix multiplication of a projection matrix and the nodal values.\n",
    "# The way it works is simple: We need find the cell in which the point we would like is located.\n",
    "# Then we obtain the local coordiantes x of that point. The interpolated value is then θ₁ * u₁(x) + θ₂ * u₂(x) + θ₃ * u₃(x).\n",
    "# We just assemble a matrix that contains on row i the values of the shape functions needed to interpolate\n",
    "# the point xᵢ at the column that corresponds to their global index.\n",
    "# We basically do the same thing for the quadrature points. \n",
    "func_interpolations = Ferrite.get_func_interpolations(model.dh₁, :u)\n",
    "proj = zeros(size(dm.th, 1), ndofs(model.dh₁))\n",
    "q_proj = zeros(size(q_coords, 1), 2 * ndofs(model.dh₁))\n",
    "# The coordinates of the nodes in our grid. We need that if one of the points we want to interpolate is \n",
    "# outside of our grid so we can find the closest node in the grid\n",
    "grid_coords = [node.x for node in grid.nodes] \n",
    "\n",
    "for i = 1:size(dm.th, 1)\n",
    "    # The PointEvalHandler finds the cell in which the point is located\n",
    "    ph = PointEvalHandler(model.grid, [Ferrite.Vec(dm.coord[i, :]...)], warn=:false)\n",
    "    # If no cell is found (the point is outside the grid), use the closest grid point instead\n",
    "    if ph.cells[1] === nothing\n",
    "        min_ix = argmin([norm(coord .- Ferrite.Vec(dm.coord[i, :]...)) for coord in grid_coords]) \n",
    "        ph = PointEvalHandler(grid, [grid_coords[min_ix]])\n",
    "    end\n",
    "    # Get the local coordinates\n",
    "    pv = Ferrite.PointScalarValuesInternal(ph.local_coords[1], func_interpolations[1])\n",
    "    # The cell degrees of freedom so we know which nodal value to use\n",
    "    cell_dofs = Vector{Int}(undef, ndofs_per_cell(model.dh₁, ph.cells[1]))\n",
    "    Ferrite.celldofs!(cell_dofs, model.dh₁, ph.cells[1])\n",
    "    n_base_funcs = getnbasefunctions(pv)\n",
    "    for j = 1:n_base_funcs\n",
    "        # Finally this uᵢ(x)\n",
    "        proj[i, cell_dofs[j]] = shape_value(pv, 1, j)\n",
    "    end\n",
    "end\n",
    "# Basically the same thing for the quad points but we don't need to check whether a cell has been found\n",
    "for (i, point) in enumerate(eachrow(q_coords))\n",
    "    ph = PointEvalHandler(model.grid, [Ferrite.Vec(point...)])\n",
    "    pv = Ferrite.PointScalarValuesInternal(ph.local_coords[1], func_interpolations[1])\n",
    "    cell_dofs = Vector{Int}(undef, ndofs_per_cell(model.dh₁, ph.cells[1]))\n",
    "    Ferrite.celldofs!(cell_dofs, model.dh₁, ph.cells[1])\n",
    "    n_base_funcs = getnbasefunctions(pv)\n",
    "    for j = 1:n_base_funcs\n",
    "        # Some trickery because we sort our b nodal values as (bx(x1), by(x1), bx(x2), by(x2), etc.)\n",
    "        if mod(i, 2) == 0\n",
    "            q_proj[i, 2 * cell_dofs[j]] = shape_value(pv, 1, j)\n",
    "        else\n",
    "            q_proj[i, 2 * cell_dofs[j] - 1] = shape_value(pv, 1, j)\n",
    "        end\n",
    "    end\n",
    "end\n",
    "q_proj = sparse(q_proj);\n",
    "proj = sparse(proj);"
   ]
  },
  {
   "cell_type": "code",
   "execution_count": null,
   "metadata": {},
   "outputs": [],
   "source": [
    "proj[2345, :]"
   ]
  },
  {
   "cell_type": "code",
   "execution_count": null,
   "metadata": {
    "jukit_cell_id": "TKqbCYU3I5"
   },
   "outputs": [],
   "source": [
    "# Set up the machine learning\n",
    "N = getnnodes(model.grid)\n",
    "opt = ADAM(0.1)\n",
    "# (bx, by, bx, by, etc.)\n",
    "b = 100 * rand(2 * ndofs(model.dh₁)) .+ 0.1\n",
    "param = Flux.params(b);\n",
    "nEpochs = 1000;\n",
    "nBatches = 3;\n",
    "batchSize = Int64(NTRAIN / nBatches);\n",
    "shuffledIx = randperm(NTRAIN);"
   ]
  },
  {
   "cell_type": "code",
   "execution_count": null,
   "metadata": {
    "jukit_cell_id": "2JtYNfmbei"
   },
   "outputs": [],
   "source": [
    "# Actual learning\n",
    "err = zeros(nEpochs * nBatches)\n",
    "for e=1:nEpochs\n",
    "    for batch=1:nBatches\n",
    "        local _err\n",
    "        gs = Flux.gradient(param) do\n",
    "            # Ensure that b is positive\n",
    "            btemp = max.(b, 0.1)\n",
    "            K = sparse(A * diagm(q_proj * btemp) * A' + dim)\n",
    "            θ = proj * (K \\ trainingP[:, shuffledIx[(batch - 1) * batchSize + 1:batch * batchSize]])\n",
    "            # _err = mean(abs2, θ .- trainingTheta[:, shuffledIx[(batch - 1) * batchSize + 1:batch * batchSize]])\n",
    "            _err = Flux.Losses.huber_loss(θ, trainingTheta[:, shuffledIx[(batch - 1) * batchSize + 1:batch * batchSize]], δ=0.1)\n",
    "            return _err\n",
    "        end\n",
    "        if(mod(e,50) == 0 && batch == 1)\n",
    "            println([e _err])\n",
    "        end\n",
    "        err[(e - 1) * nBatches + batch] = _err\n",
    "        Flux.update!(opt, param, gs)\n",
    "    end\n",
    "end\n",
    "b = max.(b, 0.1);"
   ]
  },
  {
   "cell_type": "code",
   "execution_count": null,
   "metadata": {
    "jukit_cell_id": "x80EOc6Dcv"
   },
   "outputs": [],
   "source": [
    "Plots.plot(err)"
   ]
  },
  {
   "cell_type": "code",
   "execution_count": null,
   "metadata": {
    "jukit_cell_id": "ZegDKZ6kCT"
   },
   "outputs": [],
   "source": [
    "# Update the model with the learned susceptances\n",
    "update_model!(model, :bx, b[1:2:end])\n",
    "update_model!(model, :by, b[2:2:end])"
   ]
  },
  {
   "cell_type": "code",
   "execution_count": null,
   "metadata": {
    "jukit_cell_id": "U2ngcbYusw"
   },
   "outputs": [],
   "source": [
    "# Save / Load the learned values\n",
    "using DelimitedFiles\n",
    "# writedlm(\"bxlearned.csv\", b[1:2:end], ',')\n",
    "# writedlm(\"bylearned.csv\", b[2:2:end], ',')\n",
    "bx = readdlm(\"../test/bxlearned.csv\", ',');\n",
    "by = readdlm(\"../test/bylearned.csv\", ',');\n",
    "update_model!(model, :bx, vec(bx))\n",
    "update_model!(model, :by, vec(by))\n",
    "stable_sol!(model)"
   ]
  },
  {
   "cell_type": "code",
   "execution_count": null,
   "metadata": {
    "jukit_cell_id": "nxc99gfybR"
   },
   "outputs": [],
   "source": [
    "model.θ₀_nodal"
   ]
  },
  {
   "cell_type": "code",
   "execution_count": null,
   "metadata": {
    "jukit_cell_id": "KN0FM28iN9"
   },
   "outputs": [],
   "source": []
  },
  {
   "cell_type": "code",
   "execution_count": null,
   "metadata": {
    "jukit_cell_id": "bzSGDQBSZ3"
   },
   "outputs": [],
   "source": [
    "b = Set()\n",
    "a=Vector{Int}()\n",
    "for dof in model.dh₁.cell_dofs\n",
    "    if dof in b\n",
    "        continue\n",
    "    end\n",
    "    push!(a, dof)\n",
    "    push!(b, dof)\n",
    "end"
   ]
  },
  {
   "cell_type": "code",
   "execution_count": null,
   "metadata": {
    "jukit_cell_id": "YT6OOMCMDP"
   },
   "outputs": [],
   "source": [
    "grid_coords = [node.x for node in grid.nodes] \n",
    "x = [grid_coords[i][1] for i=1:654]\n",
    "y = [grid_coords[i][2] for i=1:654]\n",
    "writedlm(\"../../../presentations/phdmeeting/x.csv\", x, ',')\n",
    "writedlm(\"../../../presentations/phdmeeting/y.csv\", y, ',')\n",
    "writedlm(\"../../../presentations/phdmeeting/th.csv\", model.θ₀_nodal, ',')"
   ]
  },
  {
   "cell_type": "code",
   "execution_count": null,
   "metadata": {
    "jukit_cell_id": "dmpLrogLLo"
   },
   "outputs": [],
   "source": [
    "# Plot of the learned xx component of the susceptance tensor\n",
    "# Using the more bare bones solutionplot instead of the plotting utils I wrote for some \n",
    "# Make \"magic\"\n",
    "f = Figure()\n",
    "ax = Axis(f[1, 1], title=L\"$b_x$ Learned\")\n",
    "sp = solutionplot!(model.dh₁, getproperty(model, :bx_nodal), colormap=:inferno)\n",
    "Colorbar(f[1, 2], sp)\n",
    "hidedecorations!(ax)\n",
    "hidespines!(ax)\n",
    "# Makie.save(\"bx.pdf\", f)\n",
    "f"
   ]
  },
  {
   "cell_type": "code",
   "execution_count": null,
   "metadata": {
    "jukit_cell_id": "GW3YIDaxf8"
   },
   "outputs": [],
   "source": [
    "# Plot of the learned yy component of the susceptance tensor\n",
    "f = Figure()\n",
    "ax = Axis(f[1, 1], title=L\"$b_y$ Learned\")\n",
    "sp = solutionplot!(model.dh₁, getproperty(model, :by_nodal), colormap=:inferno)\n",
    "Colorbar(f[1, 2], sp)\n",
    "hidedecorations!(ax)\n",
    "hidespines!(ax)\n",
    "save(\"./by.pdf\", f)\n",
    "f"
   ]
  },
  {
   "cell_type": "code",
   "execution_count": null,
   "metadata": {
    "jukit_cell_id": "N5GKUDUkmv"
   },
   "outputs": [],
   "source": [
    "# Plot of the stable solution with the learned parameters\n",
    "stable_sol!(model)\n",
    "f = Figure()\n",
    "ax = Axis(f[1, 1])\n",
    "sp = solutionplot!(model.dh₁, getproperty(model, :θ₀_nodal), colormap=:inferno)\n",
    "Colorbar(f[1, 2], sp)\n",
    "hidedecorations!(ax)\n",
    "hidespines!(ax)\n",
    "save(\"../../../presentations/phdmeeting/theta0.png\", f)\n",
    "f"
   ]
  },
  {
   "cell_type": "code",
   "execution_count": null,
   "metadata": {
    "jukit_cell_id": "CZqz9U1ZEg"
   },
   "outputs": [],
   "source": [
    "Plots.plot()\n",
    "c = :inferno\n",
    "Plots.scatter!(dm.coord[:,1], dm.coord[:,2], zcolor=dm.th, legend=false, grid=false,\n",
    "msw=0, showaxis=:hide, xaxis=nothing, yaxis=nothing, markersize=6., c=c, cbar=true, margin=5Plots.mm)\n",
    "# Plots.savefig(\"theta0disc.pdf\")"
   ]
  },
  {
   "cell_type": "code",
   "execution_count": null,
   "metadata": {
    "jukit_cell_id": "go8ntP3DcK"
   },
   "outputs": [],
   "source": [
    "# For comparison the stable solution of the discrete model\n",
    "ContGridMod.disc_plot(dm.coord[:,[2,1]], dm.th)\n",
    "# Plots.savefig(\"theta0disc.pdf\")"
   ]
  },
  {
   "cell_type": "code",
   "execution_count": null,
   "metadata": {
    "jukit_cell_id": "cRn6oOQxMB"
   },
   "outputs": [],
   "source": [
    "# Highly inefficent way to calculate the predictions from our newly trained model.\n",
    "# It would be way faster to use the stiffness matrix as in the training for that.\n",
    "# This was just done to make sure that the stiffness matrix I calculated is actually\n",
    "# the same as the Ferrite one. This code can be replaced.\n",
    "coords = [Ferrite.Vec(dm.coord[i, :]...) for i=1:size(dm.coord, 1)]\n",
    "trainingThetaPred = zeros(size(trainingDiscMod[1].th, 1), NTRAIN);\n",
    "testThetaPred = zeros(size(testDiscMod[1].th, 1), NTEST);\n",
    "for i=1:NTRAIN\n",
    "    update_model!(model, :p, trainingDiscMod[i], .05, κ=0.02, bfactor=50000., σ=0.01, bmin=1)\n",
    "    stable_sol!(model)\n",
    "    trainingThetaPred[:, i] = model.θ₀(coords);\n",
    "end\n",
    "for i=1:NTEST\n",
    "    update_model!(model, :p, testDiscMod[i], .05, κ=0.02, bfactor=50000., σ=0.01, bmin=1)\n",
    "    stable_sol!(model)\n",
    "    testThetaPred[:, i] = model.θ₀(coords);\n",
    "end"
   ]
  },
  {
   "cell_type": "code",
   "execution_count": null,
   "metadata": {
    "jukit_cell_id": "86T1X16rFC"
   },
   "outputs": [],
   "source": [
    "# Create a huge plot with all the comparison for the training data.\n",
    "# Acutal plots should be done in Python as its a million times easier ;)\n",
    "trainingPlots = Plots.Plot[]\n",
    "\n",
    "for i=1:NTRAIN\n",
    "    min, max = extrema([trainingTheta[:,i] trainingThetaPred[:,i]])\n",
    "    delta = max - min\n",
    "    pad = 0.05 * delta\n",
    "    min -= pad\n",
    "    max += pad\n",
    "push!(trainingPlots, Plots.scatter(trainingTheta[:,i], trainingThetaPred[:,i], xlims=(min, max), ylims=(min, max), label=\"Training Set \" * string(i)))\n",
    "end\n",
    "\n",
    "Plots.plot(trainingPlots..., layout=(12,4), size=(1500, 3000))"
   ]
  },
  {
   "cell_type": "code",
   "execution_count": null,
   "metadata": {
    "jukit_cell_id": "2BkkhU5EYG"
   },
   "outputs": [],
   "source": [
    "# Plots for the test cases\n",
    "testPlots = Plots.Plot[]\n",
    "\n",
    "for i=1:NTEST\n",
    "    min, max = extrema([testTheta[:,i] testThetaPred[:,i]])\n",
    "    delta = max - min\n",
    "    pad = 0.05 * delta\n",
    "    min -= pad\n",
    "    max += pad\n",
    "push!(testPlots, Plots.scatter(testTheta[:,i], testThetaPred[:,i], xlims=(min, max), ylims=(min, max), label=\"Test Set \" * string(i)))\n",
    "end\n",
    "\n",
    "Plots.plot(testPlots..., layout=(4,3), size=(1125, 1000))"
   ]
  },
  {
   "cell_type": "code",
   "execution_count": null,
   "metadata": {
    "jukit_cell_id": "rFNNxNVKfw"
   },
   "outputs": [],
   "source": [
    "using DelimitedFiles\n",
    "# Save all the predicted and actual data for plotting in a proper language\n",
    "writedlm(\"../test/trainingtheta.csv\", trainingTheta, ',')\n",
    "writedlm(\"../test/trainingthetapred.csv\", trainingThetaPred, ',')\n",
    "writedlm(\"../test/testtheta.csv\", testTheta, ',')\n",
    "writedlm(\"../test/testthetapred.csv\", testThetaPred, ',')"
   ]
  },
  {
   "cell_type": "code",
   "execution_count": null,
   "metadata": {
    "jukit_cell_id": "1DOOFQg4XJ"
   },
   "outputs": [],
   "source": [
    "# Now let's do some dynamical simulations.\n",
    "# First we add a perturbation around a generator in Greece\n",
    "add_local_disturbance!(model, dm.coord[3426,:], -9., 0.05)"
   ]
  },
  {
   "cell_type": "code",
   "execution_count": null,
   "metadata": {
    "jukit_cell_id": "DSd8ZdzhJp"
   },
   "outputs": [],
   "source": [
    "# Calculate the expected frequency and run a numerical simulation\n",
    "println(\"Synchronized freq: \", ContGridMod.integrate(model.dh₁, model.cellvalues, model.fault) / ContGridMod.integrate(model.dh₁, model.cellvalues, model.d))\n",
    "sol = perform_dyn_sim(model, 50.);\n",
    "# The saved solution can be openend with ParaView\n",
    "save_simulation(model, sol, \"fault\")"
   ]
  },
  {
   "cell_type": "code",
   "execution_count": null,
   "metadata": {
    "jukit_cell_id": "Eexh4Fzm2s"
   },
   "outputs": [],
   "source": [
    "# Projection matrix for the omega values onto the discrete coordinates.\n",
    "# Basically the same as before. A little more caution needs to be used however as the\n",
    "# order how the degrees of freedom for the θ and ω fields are stored in the DofHandler\n",
    "# is not straight forward\n",
    "func_interpolations = Ferrite.get_func_interpolations(model.dh₂, :ω)\n",
    "proj_ω = zeros(size(dm.th, 1), ndofs(model.dh₂))\n",
    "\n",
    "for i = 1:size(dm.th, 1)\n",
    "    ph = PointEvalHandler(model.grid, [Ferrite.Vec(dm.coord[i, :]...)], warn=:false)\n",
    "    if ph.cells[1] === nothing\n",
    "        min_ix = argmin([norm(coord .- Ferrite.Vec(dm.coord[i, :]...)) for coord in grid_coords]) \n",
    "        ph = PointEvalHandler(grid, [grid_coords[min_ix]])\n",
    "    end\n",
    "    pv = Ferrite.PointScalarValuesInternal(ph.local_coords[1], func_interpolations[1])\n",
    "    cell_dofs = Vector{Int}(undef, ndofs_per_cell(model.dh₂, ph.cells[1]))\n",
    "    Ferrite.celldofs!(cell_dofs, model.dh₂, ph.cells[1])\n",
    "    n_base_funcs = getnbasefunctions(pv)\n",
    "    dofr = dof_range(model.dh₂, :ω)\n",
    "    for j = 1:n_base_funcs\n",
    "        proj_ω[i, cell_dofs[dofr[j]]] = shape_value(pv, 1, j)\n",
    "    end\n",
    "end\n",
    "proj_ω = sparse(proj_ω);"
   ]
  },
  {
   "cell_type": "code",
   "execution_count": null,
   "metadata": {
    "jukit_cell_id": "vrvi46Fu4J"
   },
   "outputs": [],
   "source": [
    "# Project the omega values\n",
    "omegas_cont = zeros(size(sol.u, 1), 3809)\n",
    "for i=1:size(omegas_cont, 1)\n",
    "    omegas_cont[i, :] = proj_ω * sol.u[i]\n",
    "end"
   ]
  },
  {
   "cell_type": "code",
   "execution_count": null,
   "metadata": {
    "jukit_cell_id": "MbBAuXCTFb"
   },
   "outputs": [],
   "source": [
    "# Discrete dynamics\n",
    "tdisc, vdisc = disc_dynamics(dm, 0., 25., -9.0, faultid=findfirst(dm.id_gen[dm.p_gen .>0] .== 3426), dt=.01);"
   ]
  },
  {
   "cell_type": "code",
   "execution_count": null,
   "metadata": {
    "jukit_cell_id": "WsvJPrRPfA"
   },
   "outputs": [],
   "source": [
    "# Some comparison for a generator in spain\n",
    "Plots.plot(sol.t, omegas_cont[:, 3000])\n",
    "Plots.plot!(tdisc, vdisc[:, 3000])"
   ]
  },
  {
   "cell_type": "code",
   "execution_count": null,
   "metadata": {
    "jukit_cell_id": "jVUq2fMIha"
   },
   "outputs": [],
   "source": [
    "# Now we would like to learn the dynamical parameters. For this we have to factorize\n",
    "# the stiffness matrix. The only part of the stiffness matrix that will change is \n",
    "# the ω-ω part containing d(x). The rest is constant and we can just create it now\n",
    "\n",
    "# This is all pretty standard of how to assemble stuff with Ferrite\n",
    "K_dyn = create_sparsity_pattern(model.dh₂)\n",
    "f_dyn = zeros(ndofs(model.dh₂))\n",
    "n_basefuncs_θ = getnbasefunctions(model.cellvalues)\n",
    "n_basefuncs_ω = getnbasefunctions(model.cellvalues)\n",
    "n_basefuncs = n_basefuncs_θ + n_basefuncs_ω\n",
    "θ▄, ω▄ = 1, 2\n",
    "\n",
    "Kₑ = PseudoBlockArray(zeros(n_basefuncs, n_basefuncs), [n_basefuncs_θ, n_basefuncs_ω], [n_basefuncs_θ, n_basefuncs_ω])\n",
    "fₑ = zeros(n_basefuncs)\n",
    "\n",
    "assembler = start_assemble(K_dyn, f_dyn)\n",
    "\n",
    "for cell in CellIterator(model.dh₂)\n",
    "    fill!(Kₑ, 0)\n",
    "    fₑ .= 0\n",
    "\n",
    "    Ferrite.reinit!(model.cellvalues, cell)\n",
    "\n",
    "    for q_point in 1:getnquadpoints(model.cellvalues)\n",
    "        x = spatial_coordinate(model.cellvalues, q_point, getcoordinates(cell))\n",
    "        b = SparseMatrixCSC(diagm([model.bx(x), model.by(x)]))\n",
    "        dΩ = getdetJdV(model.cellvalues, q_point)\n",
    "        for i in 1:n_basefuncs_θ\n",
    "            φᵢ = shape_value(model.cellvalues, q_point, i)\n",
    "            ∇φᵢ = shape_gradient(model.cellvalues, q_point, i)\n",
    "            for j in 1:n_basefuncs_ω\n",
    "                φⱼ = shape_value(model.cellvalues, q_point, j)\n",
    "                ∇φⱼ = shape_gradient(model.cellvalues, q_point, j)\n",
    "                Kₑ[BlockIndex((θ▄, ω▄), (i, j))] += φᵢ ⋅ φⱼ * dΩ\n",
    "                Kₑ[BlockIndex((ω▄, θ▄), (i, j))] -= ∇φᵢ ⋅ (b * ∇φⱼ) * dΩ\n",
    "                Kₑ[BlockIndex((θ▄, θ▄), (i, j))] = 0\n",
    "                Kₑ[BlockIndex((ω▄, ω▄), (i, j))] = 0\n",
    "            end\n",
    "            fₑ[n_basefuncs_θ+i] += (model.p(x) + model.fault(x)) * φᵢ * dΩ\n",
    "        end\n",
    "    end\n",
    "\n",
    "    assemble!(assembler, celldofs(cell), Kₑ, fₑ)\n",
    "end\n",
    "dropzeros!(K_dyn);"
   ]
  },
  {
   "cell_type": "code",
   "execution_count": null,
   "metadata": {
    "jukit_cell_id": "e6zgXSmfCh"
   },
   "outputs": [],
   "source": [
    "# This is the A matrix for the damping. Everything is the same as for the susceptanes except we only have one value per \n",
    "# quadrature point\n",
    "A_d = zeros(ndofs(model.dh₂), getnquadpoints(model.cellvalues) * size(model.grid.cells,1))\n",
    "q_coords_d = zeros(getnquadpoints(model.cellvalues) * size(model.grid.cells,1), 2)\n",
    "n_basefuncs = getnbasefunctions(model.cellvalues)\n",
    "dofr = dof_range(model.dh₂, :ω)\n",
    "for (i, cell) in enumerate(CellIterator(model.dh₂))\n",
    "    Ferrite.reinit!(model.cellvalues, cell)    \n",
    "    dofs = celldofs(cell)\n",
    "    for q_point in 1:getnquadpoints(model.cellvalues)\n",
    "        x = spatial_coordinate(model.cellvalues, q_point, getcoordinates(cell))\n",
    "        dΩ = getdetJdV(model.cellvalues, q_point)\n",
    "        ix = (i - 1) * getnquadpoints(model.cellvalues) + q_point\n",
    "        q_coords_d[ix, :] = x\n",
    "        for j in 1:n_basefuncs\n",
    "            φⱼ = shape_value(model.cellvalues, q_point, j)\n",
    "            A_d[dofs[dofr[j]], ix] = φⱼ * sqrt(dΩ)\n",
    "    end\n",
    "end\n",
    "end\n",
    "A_d = sparse(A_d);"
   ]
  },
  {
   "cell_type": "code",
   "execution_count": null,
   "metadata": {
    "jukit_cell_id": "a0yZK8v9Lh"
   },
   "outputs": [],
   "source": [
    "# Matrix to project the nodal values of d onto the quadrature points.\n",
    "# Pretty much the same as before, we just have to find the degrees of freedom \n",
    "# that correspond to the ω field in our DofHandler first\n",
    "q_proj_d = zeros(size(q_coords_d, 1), ndofs(model.dh₂)÷2)\n",
    "func_interpolations_d = Ferrite.get_func_interpolations(model.dh₂, :ω)\n",
    "omega_dofs = Set{Int64}()\n",
    "dofr = dof_range(model.dh₂, :ω)\n",
    "for i = 1:size(model.grid.cells, 1)\n",
    "    cell_dofs = Vector{Int}(undef, ndofs_per_cell(model.dh₂, i))\n",
    "    Ferrite.celldofs!(cell_dofs, model.dh₂, i)\n",
    "    push!(omega_dofs, cell_dofs[dofr]...)\n",
    "end\n",
    "odofs_dict = Dict(j => i for (i, j) in enumerate(sort(collect(omega_dofs))))\n",
    "for (i, point) in enumerate(eachrow(q_coords_d))\n",
    "    ph = PointEvalHandler(model.grid, [Ferrite.Vec(point...)])\n",
    "    pv = Ferrite.PointScalarValuesInternal(ph.local_coords[1], func_interpolations_d[1])\n",
    "    cell_dofs = Vector{Int}(undef, ndofs_per_cell(model.dh₂, ph.cells[1]))\n",
    "    Ferrite.celldofs!(cell_dofs, model.dh₂, ph.cells[1])\n",
    "    n_base_funcs = getnbasefunctions(pv)\n",
    "    for j = 1:n_base_funcs\n",
    "        q_proj_d[i, odofs_dict[cell_dofs[dofr[j]]]] = shape_value(pv, 1, j)\n",
    "    end\n",
    "end\n",
    "q_proj_d = sparse(q_proj_d);"
   ]
  },
  {
   "cell_type": "code",
   "execution_count": null,
   "metadata": {
    "jukit_cell_id": "G3ZyZuBEJ2"
   },
   "outputs": [],
   "source": [
    "# So far we keep the mass matrix constant but it should be straight forward to make \n",
    "# M also parameter dependent \n",
    "M = create_sparsity_pattern(model.dh₂)\n",
    "ContGridMod.assemble_M!(M, model)\n",
    "dropzeros!(M);"
   ]
  },
  {
   "cell_type": "code",
   "execution_count": null,
   "metadata": {
    "jukit_cell_id": "B199uPm1p0"
   },
   "outputs": [],
   "source": [
    "# Create intiial conditions\n",
    "ch = ConstraintHandler(model.dh₂)\n",
    "db = Dirichlet(:θ, Set(1 : getnnodes(model.grid)), (x, t) -> model.θ₀(x))\n",
    "add!(ch, db)\n",
    "close!(ch)\n",
    "update!(ch, 0)\n",
    "u₀ = zeros(ndofs(model.dh₂))\n",
    "apply!(u₀, ch);"
   ]
  },
  {
   "cell_type": "code",
   "execution_count": null,
   "metadata": {
    "jukit_cell_id": "9K8zbjZDII"
   },
   "outputs": [],
   "source": [
    "# Functions for our dynamical simulation. The damping is passed as parameter p\n",
    "function dif!(du, u, p, t)\n",
    "    K_d = K_dyn - A_d * p * spdiagm(q_proj_d * model.d_nodal) * A_d'\n",
    "    mul!(du, K_d, u)\n",
    "    du .+= f_dyn\n",
    "end\n",
    "function jac!(J, u, p, t)\n",
    "    K_d = K_dyn - A_d * p * spdiagm(q_proj_d  * model.d_nodal) * A_d'\n",
    "    J[:, :] .= K_d\n",
    "end"
   ]
  },
  {
   "cell_type": "code",
   "execution_count": null,
   "metadata": {
    "jukit_cell_id": "kvfbecjyg9"
   },
   "outputs": [],
   "source": [
    "# Set up the DiffEquation.jl problem\n",
    "jac_sparsity = sparse( K_dyn - A_d * spdiagm(q_proj_d * model.d_nodal) * A_d')\n",
    "rhs = ODEFunction(dif!, mass_matrix=M, jac_prototype=jac_sparsity,jac=jac!)\n",
    "problem = ODEProblem(rhs, u₀, (0, 25), 1);"
   ]
  },
  {
   "cell_type": "code",
   "execution_count": null,
   "metadata": {
    "jukit_cell_id": "s6qAdloPsC"
   },
   "outputs": [],
   "source": [
    "# Try to do some adjoint sensitivity method\n",
    "sol = solve(problem, Trapezoid());"
   ]
  },
  {
   "cell_type": "code",
   "execution_count": null,
   "metadata": {
    "jukit_cell_id": "QcqRIE6mLX"
   },
   "outputs": [],
   "source": [
    "xc = sol.u[end]\n",
    "xd = vdisc[end, :]"
   ]
  },
  {
   "cell_type": "code",
   "execution_count": null,
   "metadata": {
    "jukit_cell_id": "XBarcSvZB1"
   },
   "outputs": [],
   "source": [
    "sum((proj_ω * xc .- xd).^2)"
   ]
  },
  {
   "cell_type": "code",
   "execution_count": null,
   "metadata": {
    "jukit_cell_id": "TuBsVhzcFz"
   },
   "outputs": [],
   "source": [
    "(proj_ω'*(proj_ω * xc.- xd))'"
   ]
  },
  {
   "cell_type": "code",
   "execution_count": null,
   "metadata": {
    "jukit_cell_id": "F7itskq7Cy"
   },
   "outputs": [],
   "source": [
    "td, sold = disc_dynamics(dm, 0., 25., -9.0, faultid=findfirst(dm.id_gen[dm.p_gen .>0] .== 3426), dt=.01);"
   ]
  },
  {
   "cell_type": "code",
   "execution_count": null,
   "metadata": {
    "jukit_cell_id": "6Hxh6LRGzy"
   },
   "outputs": [],
   "source": [
    "using Interpolations"
   ]
  },
  {
   "cell_type": "code",
   "execution_count": null,
   "metadata": {
    "jukit_cell_id": "ARGiBhe2Ms"
   },
   "outputs": [],
   "source": []
  },
  {
   "cell_type": "code",
   "execution_count": null,
   "metadata": {
    "jukit_cell_id": "0OoWy7tqDY"
   },
   "outputs": [],
   "source": [
    "itp_cubic = [interpolate((td, ), sold[:, i], Gridded(Linear())) for i = 1:3809];\n",
    "disc(t) = Vector([i(t) for i in itp_cubic])"
   ]
  },
  {
   "cell_type": "code",
   "execution_count": null,
   "metadata": {
    "jukit_cell_id": "UCVdmc9CxG"
   },
   "outputs": [],
   "source": [
    "function cost(t)\n",
    "    return (sum((proj_ω * sol(t) .- disc(t)).^2))\n",
    "end"
   ]
  },
  {
   "cell_type": "code",
   "execution_count": null,
   "metadata": {
    "jukit_cell_id": "WKiqupJ3W6"
   },
   "outputs": [],
   "source": [
    "cost(0)"
   ]
  },
  {
   "cell_type": "code",
   "execution_count": null,
   "metadata": {
    "jukit_cell_id": "FJ6I6OfLsQ"
   },
   "outputs": [],
   "source": [
    "using QuadGK"
   ]
  },
  {
   "cell_type": "code",
   "execution_count": null,
   "metadata": {
    "jukit_cell_id": "OuCvuIrW28"
   },
   "outputs": [],
   "source": [
    "quadgk(cost, 0, 25, order=7, atol=1e-5, rtol=1e-5)"
   ]
  },
  {
   "cell_type": "code",
   "execution_count": null,
   "metadata": {
    "jukit_cell_id": "ZvvfJ2uudV"
   },
   "outputs": [],
   "source": [
    "function fgrad(t)\n",
    "    proj_ω' * (proj_ω * sol(t) .- disc(t))\n",
    "end"
   ]
  },
  {
   "cell_type": "code",
   "execution_count": null,
   "metadata": {
    "jukit_cell_id": "aR5PATUKRm"
   },
   "outputs": [],
   "source": [
    "function diff_lambda!(du, u, p, t)\n",
    "    K_d = K_dyn - A_d * p * spdiagm(q_proj_d * model.d_nodal) * A_d'\n",
    "    mul!(du, -K_d', u)\n",
    "    du .+= fgrad(t)\n",
    "end\n",
    "function jac_lambda!(J, u, p, t)\n",
    "    K_d = K_dyn - A_d * p * spdiagm(q_proj_d  * model.d_nodal) * A_d'\n",
    "    J[:, :] .= -K_d'\n",
    "end"
   ]
  },
  {
   "cell_type": "code",
   "execution_count": null,
   "metadata": {
    "jukit_cell_id": "WmtbU53Zpv"
   },
   "outputs": [],
   "source": [
    "# Set up the DiffEquation.jl problem\n",
    "jac_sparsity_lambda = sparse( (K_dyn - A_d * spdiagm(q_proj_d * model.d_nodal) * A_d')')\n",
    "rhs_lambda = ODEFunction(diff_lambda!, mass_matrix=M', jac_prototype=jac_sparsity_lambda,jac=jac_lambda!)\n",
    "problem_lambda = ODEProblem(rhs, zeros(size(sol.u[1], 1)), (25, 0));"
   ]
  },
  {
   "cell_type": "code",
   "execution_count": null,
   "metadata": {
    "jukit_cell_id": "HjKCUCgwpr"
   },
   "outputs": [],
   "source": [
    "sol_lambda = solve(problem_lambda, Trapezoid());"
   ]
  },
  {
   "cell_type": "code",
   "execution_count": null,
   "metadata": {
    "jukit_cell_id": "o3Nb5FMRuQ"
   },
   "outputs": [],
   "source": [
    "sol_lambda"
   ]
  },
  {
   "cell_type": "code",
   "execution_count": null,
   "metadata": {
    "jukit_cell_id": "EmFFqRnGSU"
   },
   "outputs": [],
   "source": [
    "N = size(sol.u[1],1)"
   ]
  },
  {
   "cell_type": "code",
   "execution_count": null,
   "metadata": {
    "jukit_cell_id": "jlzgqk6V76"
   },
   "outputs": [],
   "source": [
    "using Tensorial"
   ]
  },
  {
   "cell_type": "code",
   "execution_count": null,
   "metadata": {
    "jukit_cell_id": "q5dkv8ZOTJ"
   },
   "outputs": [],
   "source": [
    "test = zero(Tensorial.Tensor{Tuple{N, N, N}})"
   ]
  },
  {
   "cell_type": "code",
   "execution_count": null,
   "metadata": {
    "jukit_cell_id": "JQsdanlRpN"
   },
   "outputs": [],
   "source": [
    "test ⋅ sol.u[1]"
   ]
  },
  {
   "cell_type": "code",
   "execution_count": null,
   "metadata": {
    "jukit_cell_id": "PDHEbHw16i"
   },
   "outputs": [],
   "source": [
    "test = zeros(N, N, N)"
   ]
  },
  {
   "cell_type": "code",
   "execution_count": null,
   "metadata": {
    "jukit_cell_id": "CnMfU3eiHB"
   },
   "outputs": [],
   "source": [
    "A_d * spdiagm(q_proj_d[:, 1]) * A_d' * sol.u[1]"
   ]
  },
  {
   "cell_type": "code",
   "execution_count": null,
   "metadata": {
    "jukit_cell_id": "36HQR9NNIT"
   },
   "outputs": [],
   "source": []
  }
 ],
 "metadata": {
  "anaconda-cloud": {},
  "kernelspec": {
   "display_name": "Julia 1.9.2",
   "language": "julia",
   "name": "julia-1.9"
  },
  "language_info": {
   "file_extension": ".jl",
   "mimetype": "application/julia",
   "name": "julia",
   "version": "1.9.2"
  }
 },
 "nbformat": 4,
 "nbformat_minor": 4
}

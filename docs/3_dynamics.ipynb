{
 "cells": [
  {
   "cell_type": "code",
   "execution_count": null,
   "id": "b2b10492",
   "metadata": {},
   "outputs": [],
   "source": [
    "# activate and load ContGridMod package\n",
    "using ContGridMod"
   ]
  },
  {
   "cell_type": "code",
   "execution_count": null,
   "id": "02237e51",
   "metadata": {
    "scrolled": true
   },
   "outputs": [],
   "source": [
    "# make an example"
   ]
  }
 ],
 "metadata": {
  "kernelspec": {
   "display_name": "Julia 1.6.2",
   "language": "julia",
   "name": "julia-1.6"
  },
  "language_info": {
   "file_extension": ".jl",
   "mimetype": "application/julia",
   "name": "julia",
   "version": "1.6.2"
  }
 },
 "nbformat": 4,
 "nbformat_minor": 5
}

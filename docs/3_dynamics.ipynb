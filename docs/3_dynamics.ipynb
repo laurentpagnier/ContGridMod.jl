{
 "cells": [
  {
   "cell_type": "code",
   "execution_count": null,
   "id": "b2b10492",
   "metadata": {},
   "outputs": [],
   "source": [
    "# load ContGridMod package\n",
    "using ContGridMod"
   ]
  },
  {
   "cell_type": "code",
   "execution_count": null,
   "id": "02237e51",
   "metadata": {
    "scrolled": true
   },
   "outputs": [],
   "source": [
    "# load the European border file\n",
    "border, scale_factor = import_border(\"../data/borders/border.json\");\n",
    "# create the mesh\n",
    "dx = 0.005\n",
    "mesh = get_mesh(border, dx);\n",
    "# distribute parameters\n",
    "contmod = get_params(mesh, scale_factor, \"../data/disc/pantagruel.h5\", Niter=10, dmax=2*dx, patch=1900.0, bmin=52.0, tau=5.0e-7);\n",
    "# compute the stable solution\n",
    "compute_stable_sol!(contmod, interval=Int64(1e4), Niter=Int64(2.5e5), tol=1e-7);\n",
    "# load the discrete model\n",
    "dm = load_discrete_model(\"../data/disc/pantagruel.h5\", scale_factor);"
   ]
  },
  {
   "cell_type": "code",
   "execution_count": null,
   "id": "37bd2567",
   "metadata": {},
   "outputs": [],
   "source": [
    "add_local_disturbance!(contmod, dm.coord[1,:], -9.0, 0.02);"
   ]
  },
  {
   "cell_type": "code",
   "execution_count": null,
   "id": "ac44044a",
   "metadata": {
    "scrolled": true,
    "tags": []
   },
   "outputs": [],
   "source": [
    "ts, thetas, omegas = perform_dyn_sim(contmod, interval=1,\n",
    "    Ndt=2500, dt=0.01, method=\"crank-nicolson\");"
   ]
  },
  {
   "cell_type": "code",
   "execution_count": null,
   "id": "a5201ca2",
   "metadata": {},
   "outputs": [],
   "source": [
    "time_plot(contmod, ts, omegas, [[-0.5 -0.2];[-0.2 0.0];[0.1 0.1];[0.25 -0.15]], borders=[border], tstart=0.0, tend=15.0)"
   ]
  },
  {
   "cell_type": "code",
   "execution_count": null,
   "id": "0a964d4a-e01c-4fb0-97a6-774bbdea0b2c",
   "metadata": {},
   "outputs": [],
   "source": [
    "tsd, thetasd, omegasd = disc_dynamics(dm, -9.0, coords=[37.90463686184484 22.81282645679302], scale_factor=scale_factor)"
   ]
  },
  {
   "cell_type": "code",
   "execution_count": null,
   "id": "03f7b350-3251-41c0-b509-ff2cb1846bf1",
   "metadata": {},
   "outputs": [],
   "source": []
  }
 ],
 "metadata": {
  "kernelspec": {
   "display_name": "Julia 1.6.3",
   "language": "julia",
   "name": "julia-1.6"
  },
  "language_info": {
   "file_extension": ".jl",
   "mimetype": "application/julia",
   "name": "julia",
   "version": "1.6.3"
  }
 },
 "nbformat": 4,
 "nbformat_minor": 5
}

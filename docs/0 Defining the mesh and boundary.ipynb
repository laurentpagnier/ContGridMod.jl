{
 "cells": [
  {
   "cell_type": "code",
   "execution_count": null,
   "id": "bca09072",
   "metadata": {},
   "outputs": [],
   "source": [
    "using ContGridMod\n",
    "using Plots"
   ]
  },
  {
   "cell_type": "code",
   "execution_count": null,
   "id": "f6325666",
   "metadata": {},
   "outputs": [],
   "source": [
    "# TODO make an example/explanation on the boundary conditions\n",
    "data, ~ = import_json_numerics(\"../data/test/star10.json\")\n",
    "#data, ~ = import_json_numerics(\"../data/test/triangle.json\")\n",
    "border = data[\"border\"];"
   ]
  },
  {
   "cell_type": "code",
   "execution_count": null,
   "id": "79e0d6ac",
   "metadata": {},
   "outputs": [],
   "source": [
    "dx = 0.02\n",
    "mesh = get_mesh(border, dx);"
   ]
  },
  {
   "cell_type": "code",
   "execution_count": null,
   "id": "494997ae",
   "metadata": {},
   "outputs": [],
   "source": [
    "# plot inside and border\n",
    "scatter(mesh.coord[:, 1], mesh.coord[:, 2], label=\"grid nodes\")\n",
    "plot!(border[:, 1], border[:, 2], label=\"border line\", color=:black, linewidth=2.0)\n",
    "plot!(aspect_ratio=:equal)"
   ]
  }
 ],
 "metadata": {
  "kernelspec": {
   "display_name": "Julia 1.6.2",
   "language": "julia",
   "name": "julia-1.6"
  },
  "language_info": {
   "file_extension": ".jl",
   "mimetype": "application/julia",
   "name": "julia",
   "version": "1.6.2"
  }
 },
 "nbformat": 4,
 "nbformat_minor": 5
}

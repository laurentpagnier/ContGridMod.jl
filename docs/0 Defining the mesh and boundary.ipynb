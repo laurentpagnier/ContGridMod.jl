{
 "cells": [
  {
   "cell_type": "code",
   "execution_count": 1,
   "id": "bca09072",
   "metadata": {},
   "outputs": [
    {
     "name": "stderr",
     "output_type": "stream",
     "text": [
      "┌ Info: Precompiling ContGridMod [7b3cbbd9-582b-4f4c-9cc3-fb546f746a98]\n",
      "└ @ Base loading.jl:1342\n"
     ]
    }
   ],
   "source": [
    "using ContGridMod\n",
    "using Plots"
   ]
  },
  {
   "cell_type": "code",
   "execution_count": 2,
   "id": "f6325666",
   "metadata": {},
   "outputs": [],
   "source": [
    "# TODO make an example/explanation on the boundary conditions\n",
    "data, ~ = import_json_numerics(\"../data/test/star10.json\")\n",
    "#data, ~ = import_json_numerics(\"../data/test/triangle.json\")\n",
    "border = data[\"border\"];"
   ]
  },
  {
   "cell_type": "code",
   "execution_count": 3,
   "id": "79e0d6ac",
   "metadata": {},
   "outputs": [
    {
     "ename": "LoadError",
     "evalue": "MethodError: no method matching ContGridMod.Mesh(::Int64, ::Int64, ::Matrix{Float64}, ::Matrix{Float64}, ::Matrix{Int64}, ::BitVector, ::Vector{Float64}, ::Vector{Float64}, ::Float64)\n\u001b[0mClosest candidates are:\n\u001b[0m  ContGridMod.Mesh(::Int64, ::Int64, ::Matrix{Float64}, ::Matrix{Float64}, ::Matrix{Int64}, ::BitVector, ::Vector{Float64}, ::Vector{Float64}, ::Float64, \u001b[91m::Float64\u001b[39m) at /home/laurent/ContGridMod.jl/src/ContGridMod.jl:25\n\u001b[0m  ContGridMod.Mesh(::Any, ::Any, ::Any, ::Any, ::Any, ::Any, ::Any, ::Any, ::Any, \u001b[91m::Any\u001b[39m) at /home/laurent/ContGridMod.jl/src/ContGridMod.jl:25",
     "output_type": "error",
     "traceback": [
      "MethodError: no method matching ContGridMod.Mesh(::Int64, ::Int64, ::Matrix{Float64}, ::Matrix{Float64}, ::Matrix{Int64}, ::BitVector, ::Vector{Float64}, ::Vector{Float64}, ::Float64)\n\u001b[0mClosest candidates are:\n\u001b[0m  ContGridMod.Mesh(::Int64, ::Int64, ::Matrix{Float64}, ::Matrix{Float64}, ::Matrix{Int64}, ::BitVector, ::Vector{Float64}, ::Vector{Float64}, ::Float64, \u001b[91m::Float64\u001b[39m) at /home/laurent/ContGridMod.jl/src/ContGridMod.jl:25\n\u001b[0m  ContGridMod.Mesh(::Any, ::Any, ::Any, ::Any, ::Any, ::Any, ::Any, ::Any, ::Any, \u001b[91m::Any\u001b[39m) at /home/laurent/ContGridMod.jl/src/ContGridMod.jl:25",
      "",
      "Stacktrace:",
      " [1] get_mesh(border::Matrix{Float64}, dx::Float64)",
      "   @ ContGridMod ~/ContGridMod.jl/src/mesh.jl:141",
      " [2] top-level scope",
      "   @ In[3]:2",
      " [3] eval",
      "   @ ./boot.jl:360 [inlined]",
      " [4] include_string(mapexpr::typeof(REPL.softscope), mod::Module, code::String, filename::String)",
      "   @ Base ./loading.jl:1116"
     ]
    }
   ],
   "source": [
    "dx = 0.02\n",
    "mesh = get_mesh(border, dx);"
   ]
  },
  {
   "cell_type": "code",
   "execution_count": null,
   "id": "494997ae",
   "metadata": {},
   "outputs": [],
   "source": [
    "# plot inside and border\n",
    "scatter(mesh.coord[:, 1], mesh.coord[:, 2], label=\"grid nodes\")\n",
    "plot!(border[:, 1], border[:, 2], label=\"border line\", color=:black, linewidth=2.0)\n",
    "plot!(aspect_ratio=:equal)"
   ]
  },
  {
   "cell_type": "code",
   "execution_count": 13,
   "id": "e32bc721",
   "metadata": {},
   "outputs": [
    {
     "data": {
      "text/plain": [
       "get_mesh2 (generic function with 2 methods)"
      ]
     },
     "execution_count": 13,
     "metadata": {},
     "output_type": "execute_result"
    }
   ],
   "source": [
    "function get_mesh2(\n",
    "    filename::String,\n",
    "    dx::Float64,\n",
    ")\n",
    "    border, scale_factor = import_border(filename)\n",
    "    xlim = [minimum(border[:, 1])-2*dx maximum(border[:, 1])+2*dx]\n",
    "    ylim = [minimum(border[:, 2])-2*dx maximum(border[:, 2])+2*dx]\n",
    "    xrange = collect(xlim[1]:dx:xlim[2])\n",
    "    yrange = collect(ylim[1]:dx:ylim[2])\n",
    "\n",
    "    Nx = length(xrange)\n",
    "    Ny = length(yrange)\n",
    "\n",
    "    isborder = falses(Ny, Nx)\n",
    "    isinside = falses(Ny, Nx)\n",
    "    isgrid = falses(Ny, Nx)\n",
    "\n",
    "    # check if inside the shape\n",
    "    for j = 1:Nx\n",
    "        for i = 1:Ny\n",
    "            p = [xrange[j] yrange[i]]\n",
    "            isinside[i, j] = ContGridMod.inPolygon(p, border)[1]\n",
    "        end\n",
    "    end\n",
    "    \n",
    "    # check if alone \n",
    "    for j=2:Nx-1\n",
    "        for i=2:Ny-1\n",
    "            if(isinside[i, j])\n",
    "                if(isinside[i-1, j] + isinside[i+1, j] + isinside[i, j-1] + isinside[i, j+1] == 0)\n",
    "                    isinside[i, j] = false\n",
    "                end\n",
    "            end\n",
    "        end\n",
    "    end\n",
    "    \n",
    "    # add a boundary layer encompassing the inside\n",
    "    for j=2:Nx-1\n",
    "       for i=2:Ny-1\n",
    "            nx = isinside[i, j-1] - isinside[i, j+1]\n",
    "            ny = isinside[i-1, j] - isinside[i+1, j]\n",
    "            if((nx^2 + ny^2) > 0 && isinside[i,j] == false)\n",
    "                isgrid[i, j] = true\n",
    "            end\n",
    "       end\n",
    "    end\n",
    "    \n",
    "    isgrid = isgrid .| isinside\n",
    "    # check if inside and considered as outside. This check isnt able\n",
    "    # to find hole that are bigger than a single point. Som it should\n",
    "    # be improved in the future\n",
    "    for j=2:Nx-1\n",
    "        for i=2:Ny-1\n",
    "            if(.!isgrid[i, j])\n",
    "                if(isgrid[i-1, j] + isgrid[i+1, j] + isgrid[i, j-1] + isgrid[i, j+1] == 4)\n",
    "                    isgrid[i, j] = true\n",
    "                    isinside[i, j] = true\n",
    "                end\n",
    "            end\n",
    "        end\n",
    "    end\n",
    "    \n",
    "    for j=2:Nx-1\n",
    "        for i=2:Ny-1\n",
    "            if(isgrid[i, j])\n",
    "                if(!isgrid[i-1, j] + !isgrid[i+1, j] + !isgrid[i, j-1] + !isgrid[i, j+1] > 2)\n",
    "                    isgrid[i, j] = false\n",
    "                end\n",
    "            end\n",
    "        end\n",
    "    end\n",
    "    \n",
    "    \n",
    "    n = Array{Float64, 2}( reshape([], 0, 4) ) # defined as coordy coordx ny nx\n",
    "    for j=2:Nx-1\n",
    "        for i=2:Ny-1\n",
    "            if(isgrid[i, j])\n",
    "                if(!isgrid[i,j+1] & isgrid[i,j-1])\n",
    "                    nx = 1\n",
    "                elseif(!isgrid[i,j-1] & isgrid[i,j+1])\n",
    "                    nx = -1\n",
    "                else\n",
    "                    nx = 0\n",
    "                end\n",
    "                if(!isgrid[i+1,j] & isgrid[i-1,j])\n",
    "                    ny = 1\n",
    "                elseif(!isgrid[i-1,j] & isgrid[i+1,j])\n",
    "                    ny = -1\n",
    "                else\n",
    "                    ny = 0\n",
    "                end\n",
    "                if((nx^2 + ny^2) > 0)\n",
    "                    isborder[i, j] = true\n",
    "                    n = vcat(n, Array{Int64,2}([i j ny nx]))\n",
    "                end\n",
    "            end\n",
    "        end\n",
    "    end\n",
    "\n",
    "    coord = reshape([],0,2)\n",
    "    for j in 1:Nx\n",
    "        for i in 1:Ny\n",
    "            coord = [coord; reshape([yrange[i] xrange[j]], 1, 2)]\n",
    "        end\n",
    "    end\n",
    "\n",
    "    isinside = isgrid .& .!isborder\n",
    "    \n",
    "    # create incidence matrix\n",
    "    bus_id = Int64.(zeros(0,2))\n",
    "    bus_coord = zeros(0,2)\n",
    "    for j=1:Nx-1\n",
    "        for i=1:Ny-1\n",
    "            if(isgrid[i, j])\n",
    "                bus_id = [bus_id; j i]\n",
    "                bus_coord = [bus_coord; yrange[i] xrange[j]]\n",
    "            end\n",
    "        end\n",
    "    end\n",
    "\n",
    "    incidence_mat = Int64.(zeros(0,2))\n",
    "    line_coord = zeros(0,4)\n",
    "    for j=1:Nx-1\n",
    "        for i=1:Ny-1\n",
    "            if(isgrid[i, j] && isgrid[i, j+1])\n",
    "                id1 = findfirst(all(bus_id .== [j i],dims=2))[1]\n",
    "                id2 = findfirst(all(bus_id .== [j+1 i],dims=2))[1]\n",
    "                incidence_mat = [incidence_mat; id1 id2]\n",
    "                line_coord = [line_coord; [yrange[i] xrange[j] yrange[i] xrange[j+1]]]\n",
    "            end\n",
    "            if(isgrid[i, j] && isgrid[i+1, j])\n",
    "                id1 = findfirst(all(bus_id .== [j i],dims=2))[1]\n",
    "                id2 = findfirst(all(bus_id .== [j i+1],dims=2))[1]\n",
    "                incidence_mat = [incidence_mat; id1 id2]\n",
    "                line_coord = [line_coord; [yrange[i] xrange[j] yrange[i+1] xrange[j]]]\n",
    "            end\n",
    "        end\n",
    "    end\n",
    "    \n",
    "    return mesh = ContGridMod.Mesh(\n",
    "        Nx,\n",
    "        Ny,\n",
    "        Float64.(bus_coord[:,2:-1:1]),\n",
    "        Float64.(line_coord),\n",
    "        incidence_mat,\n",
    "        vec(isgrid),\n",
    "        yrange,\n",
    "        xrange,\n",
    "        dx,\n",
    "        scale_factor,\n",
    "    )\n",
    "end"
   ]
  },
  {
   "cell_type": "code",
   "execution_count": 14,
   "id": "90abc716",
   "metadata": {},
   "outputs": [
    {
     "data": {
      "text/plain": [
       "ContGridMod.Mesh(55, 49, [-7.312585973621235 -22.84142799096309; -7.312585973621235 -22.82142799096309; … ; -6.372585973621234 -22.961427990963088; -6.372585973621234 -22.94142799096309], [-22.84142799096309 -7.312585973621235 -22.84142799096309 -7.292585973621234; -22.84142799096309 -7.312585973621235 -22.82142799096309 -7.312585973621235; … ; -22.98142799096309 -6.372585973621234 -22.961427990963088 -6.372585973621234; -22.961427990963088 -6.372585973621234 -22.94142799096309 -6.372585973621234], [1 4; 1 2; … ; 1075 1076; 1076 1077], Bool[0, 0, 0, 0, 0, 0, 0, 0, 0, 0  …  0, 0, 0, 0, 0, 0, 0, 0, 0, 0], [-23.38142799096309, -23.36142799096309, -23.34142799096309, -23.32142799096309, -23.30142799096309, -23.28142799096309, -23.26142799096309, -23.24142799096309, -23.22142799096309, -23.20142799096309  …  -22.60142799096309, -22.58142799096309, -22.56142799096309, -22.54142799096309, -22.52142799096309, -22.50142799096309, -22.48142799096309, -22.461427990963088, -22.44142799096309, -22.42142799096309], [-7.372585973621234, -7.352585973621235, -7.332585973621234, -7.312585973621235, -7.292585973621234, -7.272585973621235, -7.252585973621234, -7.232585973621235, -7.212585973621234, -7.1925859736212345  …  -6.472585973621234, -6.452585973621234, -6.432585973621234, -6.412585973621234, -6.392585973621234, -6.372585973621234, -6.352585973621235, -6.332585973621234, -6.312585973621234, -6.292585973621234], 0.02, 231.10103478379347)"
      ]
     },
     "execution_count": 14,
     "metadata": {},
     "output_type": "execute_result"
    }
   ],
   "source": [
    "get_mesh2(\"../data/test/star10.json\", dx)"
   ]
  },
  {
   "cell_type": "code",
   "execution_count": 9,
   "id": "ee3f0b80",
   "metadata": {},
   "outputs": [
    {
     "ename": "LoadError",
     "evalue": "UndefVarError: xrange not defined",
     "output_type": "error",
     "traceback": [
      "UndefVarError: xrange not defined",
      "",
      "Stacktrace:",
      " [1] top-level scope",
      "   @ :0",
      " [2] eval",
      "   @ ./boot.jl:360 [inlined]",
      " [3] include_string(mapexpr::typeof(REPL.softscope), mod::Module, code::String, filename::String)",
      "   @ Base ./loading.jl:1116"
     ]
    }
   ],
   "source": [
    "xrange"
   ]
  },
  {
   "cell_type": "code",
   "execution_count": null,
   "id": "0f114669",
   "metadata": {},
   "outputs": [],
   "source": []
  }
 ],
 "metadata": {
  "kernelspec": {
   "display_name": "Julia 1.6.2",
   "language": "julia",
   "name": "julia-1.6"
  },
  "language_info": {
   "file_extension": ".jl",
   "mimetype": "application/julia",
   "name": "julia",
   "version": "1.6.2"
  }
 },
 "nbformat": 4,
 "nbformat_minor": 5
}

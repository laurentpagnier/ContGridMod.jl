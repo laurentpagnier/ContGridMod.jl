{
 "cells": [
  {
   "cell_type": "code",
   "execution_count": null,
   "id": "f121dba8",
   "metadata": {
    "scrolled": true
   },
   "outputs": [],
   "source": [
    "# load libraries and scripts\n",
    "using Statistics\n",
    "using Pkg\n",
    "using HDF5\n",
    "using SparseArrays\n",
    "using LinearAlgebra\n",
    "using Plots\n",
    "using Flux\n",
    "using Random\n",
    "using DelimitedFiles\n",
    "using LaTeXStrings\n",
    "Pkg.activate(\"..\")\n",
    "using ContGridMod"
   ]
  },
  {
   "cell_type": "code",
   "execution_count": null,
   "id": "89e0b36f",
   "metadata": {},
   "outputs": [],
   "source": [
    "# Constants\n",
    "NTRAIN = 48;\n",
    "NTEST = 12;"
   ]
  },
  {
   "cell_type": "code",
   "execution_count": null,
   "id": "62fab2e6",
   "metadata": {
    "scrolled": false
   },
   "outputs": [],
   "source": [
    "# load border and create the mesh\n",
    "border, scaleFactor = import_border(\"../data/borders/euro_border.json\")\n",
    "dx = 0.011\n",
    "mesh = get_mesh(border, dx);"
   ]
  },
  {
   "cell_type": "code",
   "execution_count": null,
   "id": "62b9e1a7",
   "metadata": {},
   "outputs": [],
   "source": [
    "# load all discrete models\n",
    "trainingDiscMod = ContGridMod.DiscModel[]\n",
    "testDiscMod = ContGridMod.DiscModel[]\n",
    "for i=1:NTRAIN\n",
    "    push!(trainingDiscMod, load_discrete_model(\"../data/ml/training_\" * string(i) * \".h5\", scaleFactor))\n",
    "end\n",
    "for i=1:NTEST\n",
    "    push!(testDiscMod, load_discrete_model(\"../data/ml/test_\" * string(i) * \".h5\", scaleFactor))\n",
    "end"
   ]
  },
  {
   "cell_type": "code",
   "execution_count": null,
   "id": "01ef1b8d",
   "metadata": {
    "scrolled": false
   },
   "outputs": [],
   "source": [
    "# Create the continuous model and obtain the adjacency list\n",
    "contmod = get_params(mesh, scaleFactor, \"../data/disc/pantagruel.h5\", Niter=10,\n",
    "    dmax = 2*dx, patch=100.0, tau=5.0e-6);\n",
    "adjList = contmod.mesh.inc_mat;"
   ]
  },
  {
   "cell_type": "code",
   "execution_count": null,
   "id": "a433e2b3",
   "metadata": {},
   "outputs": [],
   "source": [
    "trainingTheta = zeros(size(trainingDiscMod[1].th, 1), NTRAIN)\n",
    "testTheta = zeros(size(testDiscMod[1].th, 1), NTEST)\n",
    "trainingP = zeros(size(contmod.p, 1), NTRAIN)\n",
    "testP = zeros(size(contmod.p, 1), NTEST)\n",
    "for i=1:NTRAIN\n",
    "    update_model!(contmod, trainingDiscMod[i])\n",
    "    trainingP[:, i] = contmod.p\n",
    "    trainingTheta[:, i] = trainingDiscMod[i].th\n",
    "end\n",
    "for i=1:NTEST\n",
    "    update_model!(contmod, testDiscMod[i])\n",
    "    testP[:, i] = contmod.p\n",
    "    testTheta[:, i] = testDiscMod[i].th\n",
    "end"
   ]
  },
  {
   "cell_type": "code",
   "execution_count": null,
   "id": "2412a3bf",
   "metadata": {},
   "outputs": [],
   "source": [
    "# Find the ids of the nodes that map to the discrete nodes. \n",
    "ids = ContGridMod.get_discrete_id(contmod.mesh.coord, trainingDiscMod[1].coord)\n",
    "# Map quantities from the continuous model onto the discrete one\n",
    "contToDisc = sparse(1:length(ids), ids, ones(length(ids)), length(ids), size(contmod.mesh.coord, 1));"
   ]
  },
  {
   "cell_type": "code",
   "execution_count": null,
   "id": "defea79e",
   "metadata": {},
   "outputs": [],
   "source": [
    "# Find slack bus and remove from ids, create map from grounded to full model\n",
    "nNodes = size(contmod.xi, 1);\n",
    "idSlack = find_node(contmod, reshape(trainingDiscMod[1].coord[trainingDiscMod[1].idgen[1], :], 1, 2))[1];\n",
    "idsWoSlack = setdiff(1:nNodes, idSlack);\n",
    "unground = sparse(idsWoSlack, 1:nNodes-1, ones(nNodes-1), nNodes, nNodes-1);"
   ]
  },
  {
   "cell_type": "code",
   "execution_count": null,
   "id": "50dfbdd1",
   "metadata": {},
   "outputs": [],
   "source": [
    "# Create the grounded incidence matrices and ground the power matrices\n",
    "nEdges = size(adjList, 1);\n",
    "incMat = sparse([adjList[:,1]; adjList[:,2]], [1:nEdges; 1:nEdges], [-ones(nEdges); ones(nEdges)]);\n",
    "incMat = incMat[idsWoSlack,:];\n",
    "incMatTrans = SparseMatrixCSC{Float64, Int64}(incMat');\n",
    "trainingPGround = trainingP[idsWoSlack, :];\n",
    "testPGround = testP[idsWoSlack, :];"
   ]
  },
  {
   "cell_type": "code",
   "execution_count": null,
   "id": "805070f0",
   "metadata": {},
   "outputs": [],
   "source": [
    "# Initialize machine learning\n",
    "opt = ADAM(0.1);\n",
    "b = 100 * ones(nEdges);\n",
    "param = Flux.params(b);"
   ]
  },
  {
   "cell_type": "code",
   "execution_count": null,
   "id": "67ddf120",
   "metadata": {},
   "outputs": [],
   "source": [
    "nEpochs = 10000;\n",
    "nBatches = 3;\n",
    "batchSize = Int64(NTRAIN / nBatches);\n",
    "shuffledIx = randperm(NTRAIN);"
   ]
  },
  {
   "cell_type": "code",
   "execution_count": null,
   "id": "e88b73f5",
   "metadata": {},
   "outputs": [],
   "source": [
    "@time begin\n",
    "err = zeros(nEpochs * nBatches)\n",
    "for e=1:nEpochs\n",
    "    for batch=1:nBatches\n",
    "        local _err\n",
    "        gs = gradient(param) do\n",
    "            bTemp = max.(b, 0.1)\n",
    "            lap = incMat * (bTemp .* incMatTrans)\n",
    "            theta = unground * (lap \\ trainingPGround[:,shuffledIx[(batch - 1) * batchSize + 1:batch * batchSize]] * contmod.mesh.dx^2)\n",
    "            _err = mean(abs2, trainingTheta[:,shuffledIx[(batch - 1) * batchSize + 1:batch * batchSize]] - contToDisc * theta)\n",
    "            return _err\n",
    "        end\n",
    "        if(mod(e,50) == 0 && batch == 1)\n",
    "            println([e _err])\n",
    "        end\n",
    "        err[(e - 1) * nBatches + batch] = _err\n",
    "        # push!(err, _err)\n",
    "        Flux.update!(opt, param, gs)\n",
    "    end\n",
    "end\n",
    "end\n",
    "b = max.(b, 0.1);"
   ]
  },
  {
   "cell_type": "code",
   "execution_count": null,
   "id": "8496667b",
   "metadata": {},
   "outputs": [],
   "source": [
    "h5write(\"../data/ml/susceptances.h5\", \"b\", b);"
   ]
  },
  {
   "cell_type": "code",
   "execution_count": null,
   "id": "a5adcbe5",
   "metadata": {},
   "outputs": [],
   "source": [
    "b = h5read(\"../data/ml/susceptances.h5\", \"b\");"
   ]
  },
  {
   "cell_type": "code",
   "execution_count": null,
   "id": "e302367b",
   "metadata": {},
   "outputs": [],
   "source": [
    "# Calculate Errors\n",
    "lap = incMat * (b .* incMatTrans)\n",
    "trainingPredCont = unground * (lap \\ trainingPGround * contmod.mesh.dx^2);\n",
    "testPredCont = unground * (lap \\ testPGround * contmod.mesh.dx^2);\n",
    "trainingPred = contToDisc * unground * (lap \\ trainingPGround * contmod.mesh.dx^2);\n",
    "testPred = contToDisc * unground * (lap \\ testPGround * contmod.mesh.dx^2);\n",
    "trainingError = mean(abs2, trainingTheta - trainingPred);\n",
    "testError = mean(abs2, testTheta - testPred);\n",
    "println(\"Training Error: \", trainingError)\n",
    "println(\"Test Error: \", testError)"
   ]
  },
  {
   "cell_type": "code",
   "execution_count": null,
   "id": "550ceec5",
   "metadata": {},
   "outputs": [],
   "source": [
    "plot(LinRange(1, nEpochs, nEpochs * nBatches), err, yaxis=:log10, label=:none, xlabel=\"Epoch\", ylabel=\"Training Error\")"
   ]
  },
  {
   "cell_type": "code",
   "execution_count": null,
   "id": "6e8ca649",
   "metadata": {},
   "outputs": [],
   "source": [
    "trainingPlots = Plots.Plot[]\n",
    "\n",
    "for i=1:NTRAIN\n",
    "    min, max = extrema([trainingTheta[:,i] trainingPred[:,i]])\n",
    "    delta = max - min\n",
    "    pad = 0.05 * delta\n",
    "    min -= pad\n",
    "    max += pad\n",
    "push!(trainingPlots, scatter(trainingTheta[:,i], trainingPred[:,i], xlims=(min, max), ylims=(min, max), label=\"Training Set \" * string(i)))\n",
    "end\n",
    "\n",
    "plot(trainingPlots..., layout=(12,4), size=(1500, 3000))\n"
   ]
  },
  {
   "cell_type": "code",
   "execution_count": null,
   "id": "439a5549",
   "metadata": {},
   "outputs": [],
   "source": [
    "testPlots = Plots.Plot[]\n",
    "\n",
    "for i=1:NTEST\n",
    "    min, max = extrema([testTheta[:,i] testPred[:,i]])\n",
    "    delta = max - min\n",
    "    pad = 0.05 * delta\n",
    "    min -= pad\n",
    "    max += pad\n",
    "push!(testPlots, scatter(testTheta[:,i], testPred[:,i], xlims=(min, max), ylims=(min, max), label=\"Test Set \" * string(i)))\n",
    "end\n",
    "\n",
    "plot(testPlots..., layout=(4,3), size=(1125, 1000))"
   ]
  },
  {
   "cell_type": "code",
   "execution_count": null,
   "id": "5c5c17b1",
   "metadata": {},
   "outputs": [],
   "source": [
    "writedlm(\"../plotutil/trainingactual.csv\", trainingTheta, ',')\n",
    "writedlm(\"../plotutil/testactual.csv\", testTheta, ',')\n",
    "writedlm(\"../plotutil/trainingprediction.csv\", trainingPred, ',')\n",
    "writedlm(\"../plotutil/testPrediction.csv\", testPred, ',')"
   ]
  },
  {
   "cell_type": "code",
   "execution_count": null,
   "id": "ed8b9842",
   "metadata": {},
   "outputs": [],
   "source": [
    "# Load the country in which each bus is in\n",
    "countries = readdlm(\"../data/ml/countries.csv\", ',');"
   ]
  },
  {
   "cell_type": "code",
   "execution_count": null,
   "id": "04009cff",
   "metadata": {},
   "outputs": [],
   "source": [
    "# Load the German border\n",
    "borderDe = albers_projection(readdlm(\"../data/borders/germany.csv\", ',')/180*π)/scaleFactor;\n",
    "inDe = ContGridMod.inPolygon(contmod.mesh.coord, borderDe);"
   ]
  },
  {
   "cell_type": "code",
   "execution_count": null,
   "id": "b15d408c",
   "metadata": {},
   "outputs": [],
   "source": [
    "# Calculate the power flows into Germany in the discrete model\n",
    "linesDeFirstDisc = Int64[]\n",
    "linesDeSecondDisc = Int64[]\n",
    "for (i, l) in enumerate(eachrow(trainingDiscMod[1].idb))\n",
    "    if countries[l[1]] == \"DE\" && countries[l[2]] != \"DE\"\n",
    "        push!(linesDeFirstDisc, i)\n",
    "    elseif countries[l[2]] == \"DE\" && countries[l[1]] != \"DE\"\n",
    "        push!(linesDeSecondDisc, i)\n",
    "    end\n",
    "end\n",
    "trainingPowerflowDeDisc = zeros(NTRAIN)\n",
    "testPowerflowDeDisc = zeros(NTEST)\n",
    "for l in linesDeFirstDisc\n",
    "    trainingPowerflowDeDisc .-= trainingDiscMod[1].bline[l] * sin.(trainingTheta[trainingDiscMod[1].idb[l, 1], :]-trainingTheta[trainingDiscMod[1].idb[l, 2], :])\n",
    "    testPowerflowDeDisc .-= testDiscMod[1].bline[l] * sin.(testTheta[testDiscMod[1].idb[l, 1], :]-testTheta[testDiscMod[1].idb[l, 2], :])\n",
    "end\n",
    "for l in linesDeSecondDisc\n",
    "    trainingPowerflowDeDisc .+= trainingDiscMod[1].bline[l] * sin.(trainingTheta[trainingDiscMod[1].idb[l, 1], :]-trainingTheta[trainingDiscMod[1].idb[l, 2], :])\n",
    "    testPowerflowDeDisc .+= testDiscMod[1].bline[l] * sin.(testTheta[testDiscMod[1].idb[l, 1], :]-testTheta[testDiscMod[1].idb[l, 2], :])\n",
    "end"
   ]
  },
  {
   "cell_type": "code",
   "execution_count": null,
   "id": "5d7bfa54",
   "metadata": {},
   "outputs": [],
   "source": [
    "# Calculate the power flows into Germany in the continuous model\n",
    "linesDeFirstCont = Int64[]\n",
    "linesDeSecondCont = Int64[]\n",
    "for (i, l) in enumerate(eachrow(adjList))\n",
    "    if inDe[l[1]] && !inDe[l[2]]\n",
    "        push!(linesDeFirstCont, i)\n",
    "    elseif inDe[l[2]] && !inDe[l[1]]\n",
    "        push!(linesDeSecondCont, i)\n",
    "    end\n",
    "end\n",
    "trainingPowerflowDeCont = zeros(NTRAIN)\n",
    "testPowerflowDeCont = zeros(NTEST)\n",
    "for l in linesDeFirstCont\n",
    "    trainingPowerflowDeCont .-= b[l] * sin.(trainingPredCont[adjList[l, 1], :]-trainingPredCont[adjList[l, 2], :])\n",
    "    testPowerflowDeCont .-= b[l] * sin.(testPredCont[adjList[l, 1], :]-testPredCont[adjList[l, 2], :])\n",
    "end\n",
    "for l in linesDeSecondCont\n",
    "    trainingPowerflowDeCont .+= b[l] * sin.(trainingPredCont[adjList[l, 1], :]-trainingPredCont[adjList[l, 2], :])\n",
    "    testPowerflowDeCont .+= b[l] * sin.(testPredCont[adjList[l, 1], :]-testPredCont[adjList[l, 2], :])\n",
    "end"
   ]
  },
  {
   "cell_type": "code",
   "execution_count": null,
   "id": "d3999e50",
   "metadata": {},
   "outputs": [],
   "source": [
    "plot(trainingPowerflowDeDisc/10, label=\"Discrete Model\", title=\"Flows into Germany, Training Set\", xlabel=\"Set\", ylabel=L\"P\\,[\\mathrm{GW}]\")\n",
    "plot!(trainingPowerflowDeCont/10, label=\"Continuous Model\")"
   ]
  },
  {
   "cell_type": "code",
   "execution_count": null,
   "id": "e1daaccf",
   "metadata": {},
   "outputs": [],
   "source": [
    "plot(testPowerflowDeDisc/10, label=\"Discrete Model\", title=\"Flows into Germany, Test Set\", xlabel=\"Set\", ylabel=L\"P\\,[\\mathrm{GW}]\",xticks=[0,2,4,6,8,10,12])\n",
    "plot!(testPowerflowDeCont/10, label=\"Continuous Model\")"
   ]
  },
  {
   "cell_type": "code",
   "execution_count": null,
   "id": "24a748dc",
   "metadata": {},
   "outputs": [],
   "source": [
    "# Load the Italian border\n",
    "borderIt = albers_projection(readdlm(\"../data/borders/italy.csv\", ',')/180*π)/scaleFactor;\n",
    "inIt = ContGridMod.inPolygon(contmod.mesh.coord, borderIt);"
   ]
  },
  {
   "cell_type": "code",
   "execution_count": null,
   "id": "b15d408c",
   "metadata": {},
   "outputs": [],
   "source": [
    "# Calculate the power flows into Germany in the discrete model\n",
    "linesItFirstDisc = Int64[]\n",
    "linesItSecondDisc = Int64[]\n",
    "for (i, l) in enumerate(eachrow(trainingDiscMod[1].idb))\n",
    "    if countries[l[1]] == \"IT\" && countries[l[2]] != \"IT\"\n",
    "        push!(linesItFirstDisc, i)\n",
    "    elseif countries[l[2]] == \"IT\" && countries[l[1]] != \"IT\"\n",
    "        push!(linesItSecondDisc, i)\n",
    "    end\n",
    "end\n",
    "trainingPowerflowItDisc = zeros(NTRAIN)\n",
    "testPowerflowItDisc = zeros(NTEST)\n",
    "for l in linesItFirstDisc\n",
    "    trainingPowerflowItDisc .-= trainingDiscMod[1].bline[l] * sin.(trainingTheta[trainingDiscMod[1].idb[l, 1], :]-trainingTheta[trainingDiscMod[1].idb[l, 2], :])\n",
    "    testPowerflowItDisc .-= testDiscMod[1].bline[l] * sin.(testTheta[testDiscMod[1].idb[l, 1], :]-testTheta[testDiscMod[1].idb[l, 2], :])\n",
    "end\n",
    "for l in linesItSecondDisc\n",
    "    trainingPowerflowItDisc .+= trainingDiscMod[1].bline[l] * sin.(trainingTheta[trainingDiscMod[1].idb[l, 1], :]-trainingTheta[trainingDiscMod[1].idb[l, 2], :])\n",
    "    testPowerflowItDisc .+= testDiscMod[1].bline[l] * sin.(testTheta[testDiscMod[1].idb[l, 1], :]-testTheta[testDiscMod[1].idb[l, 2], :])\n",
    "end"
   ]
  },
  {
   "cell_type": "code",
   "execution_count": null,
   "id": "5d7bfa54",
   "metadata": {},
   "outputs": [],
   "source": [
    "# Calculate the power flows into Germany in the continuous model\n",
    "linesItFirstCont = Int64[]\n",
    "linesItSecondCont = Int64[]\n",
    "for (i, l) in enumerate(eachrow(adjList))\n",
    "    if inIt[l[1]] && !inIt[l[2]]\n",
    "        push!(linesItFirstCont, i)\n",
    "    elseif inIt[l[2]] && !inIt[l[1]]\n",
    "        push!(linesItSecondCont, i)\n",
    "    end\n",
    "end\n",
    "trainingPowerflowItCont = zeros(NTRAIN)\n",
    "testPowerflowItCont = zeros(NTEST)\n",
    "for l in linesItFirstCont\n",
    "    trainingPowerflowItCont .-= b[l] * sin.(trainingPredCont[adjList[l, 1], :]-trainingPredCont[adjList[l, 2], :])\n",
    "    testPowerflowItCont .-= b[l] * sin.(testPredCont[adjList[l, 1], :]-testPredCont[adjList[l, 2], :])\n",
    "end\n",
    "for l in linesItSecondCont\n",
    "    trainingPowerflowItCont .+= b[l] * sin.(trainingPredCont[adjList[l, 1], :]-trainingPredCont[adjList[l, 2], :])\n",
    "    testPowerflowItCont .+= b[l] * sin.(testPredCont[adjList[l, 1], :]-testPredCont[adjList[l, 2], :])\n",
    "end"
   ]
  },
  {
   "cell_type": "code",
   "execution_count": null,
   "id": "e687fc6e",
   "metadata": {},
   "outputs": [],
   "source": [
    "plot(trainingPowerflowItDisc/10, label=\"Discrete Model\", title=\"Flows into Italy, Training Set\", xlabel=\"Set\", ylabel=L\"P\\,[\\mathrm{GW}]\")\n",
    "plot!(trainingPowerflowItCont/10, label=\"Continuous Model\")"
   ]
  },
  {
   "cell_type": "code",
   "execution_count": null,
   "id": "ff21cdcf",
   "metadata": {},
   "outputs": [],
   "source": [
    "plot(testPowerflowItDisc/10, label=\"Discrete Model\", title=\"Flows into Italy, Test Set\", xlabel=\"Set\", ylabel=L\"P\\,[\\mathrm{GW}]\", xticks=[0,2,4,6,8,10,12])\n",
    "plot!(testPowerflowItCont/10, label=\"Continuous Model\")"
   ]
  },
  {
   "cell_type": "code",
   "execution_count": null,
   "metadata": {},
   "outputs": [],
   "source": [
    "writedlm(\"../plotutil/powerflowsde.csv\", [trainingPowerflowDeDisc trainingPowerflowDeCont; testPowerflowDeDisc testPowerflowDeCont], ',')\n",
    "writedlm(\"../plotutil/powerflowsit.csv\", [trainingPowerflowItDisc trainingPowerflowItCont; testPowerflowItDisc testPowerflowItCont], ',')"
   ]
  },
  {
   "cell_type": "code",
   "execution_count": null,
   "metadata": {},
   "outputs": [],
   "source": []
  }
 ],
 "metadata": {
  "kernelspec": {
   "display_name": "Julia 1.7.3",
   "language": "julia",
   "name": "julia-1.7"
  },
  "language_info": {
   "file_extension": ".jl",
   "mimetype": "application/julia",
   "name": "julia",
   "version": "1.7.3"
  }
 },
 "nbformat": 4,
 "nbformat_minor": 5
}

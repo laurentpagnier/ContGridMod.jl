{
 "cells": [
  {
   "cell_type": "code",
   "execution_count": null,
   "id": "b2b10492",
   "metadata": {
    "scrolled": true
   },
   "outputs": [],
   "source": [
    "# load ContGridMod package\n",
    "using Pkg\n",
    "Pkg.activate(\"..\")\n",
    "using ContGridMod"
   ]
  },
  {
   "cell_type": "code",
   "execution_count": null,
   "id": "02237e51",
   "metadata": {
    "scrolled": false
   },
   "outputs": [],
   "source": [
    "# load the European border file\n",
    "border, scale_factor = import_border(\"../data/borders/euro_border.json\")\n",
    "\n",
    "# create the mesh\n",
    "dx = 0.011\n",
    "mesh = get_lattice_mesh(\"../data/borders/euro_border.json\", dx)\n",
    "\n",
    "# distribute parameters\n",
    "contmod = get_params(mesh, \"../data/disc/pantagruel.h5\",\n",
    "    Niter=20, dmax = 2*dx, patch=100.0, tau=5.0e-6)\n",
    "\n",
    "# compute the stable solution\n",
    "compute_stable_sol!(contmod)"
   ]
  },
  {
   "cell_type": "code",
   "execution_count": null,
   "id": "9306bf94",
   "metadata": {},
   "outputs": [],
   "source": [
    "# plotting the solution\n",
    "hm_plot(contmod, \"th\")"
   ]
  },
  {
   "cell_type": "code",
   "execution_count": null,
   "id": "868d19b4",
   "metadata": {},
   "outputs": [],
   "source": []
  }
 ],
 "metadata": {
  "kernelspec": {
   "display_name": "Julia 1.7.3",
   "language": "julia",
   "name": "julia-1.7"
  },
  "language_info": {
   "file_extension": ".jl",
   "mimetype": "application/julia",
   "name": "julia",
   "version": "1.7.3"
  }
 },
 "nbformat": 4,
 "nbformat_minor": 5
}

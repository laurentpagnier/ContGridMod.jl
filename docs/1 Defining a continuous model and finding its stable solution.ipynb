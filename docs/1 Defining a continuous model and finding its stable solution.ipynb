{
 "cells": [
  {
   "cell_type": "code",
   "execution_count": null,
   "id": "b2b10492",
   "metadata": {
    "scrolled": true
   },
   "outputs": [],
   "source": [
    "# load ContGridMod package\n",
    "include(\"../src/ContGridMod.jl\")\n",
    "using .ContGridMod"
   ]
  },
  {
   "cell_type": "code",
   "execution_count": null,
   "id": "02237e51",
   "metadata": {
    "scrolled": false
   },
   "outputs": [],
   "source": [
    "# create the mesh \n",
    "mesh = get_triangulated_mesh(\"../data/borders/euro_border.json\",\n",
    "    max_area = 0.0005)\n",
    "\n",
    "# distribute parameters\n",
    "contmod = get_params(mesh, \"../data/ml/training_1.h5\")\n",
    "\n",
    "# compute the stable solution\n",
    "compute_stable_sol!(contmod)"
   ]
  },
  {
   "cell_type": "code",
   "execution_count": null,
   "id": "9306bf94",
   "metadata": {},
   "outputs": [],
   "source": [
    "# plot the solution\n",
    "hm_plot(contmod, :th)"
   ]
  }
 ],
 "metadata": {
  "kernelspec": {
   "display_name": "Julia 1.7.3",
   "language": "julia",
   "name": "julia-1.7"
  },
  "language_info": {
   "file_extension": ".jl",
   "mimetype": "application/julia",
   "name": "julia",
   "version": "1.8.0"
  }
 },
 "nbformat": 4,
 "nbformat_minor": 5
}

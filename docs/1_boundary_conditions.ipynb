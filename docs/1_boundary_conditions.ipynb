{
 "cells": [
  {
   "cell_type": "code",
   "execution_count": null,
   "id": "bca09072",
   "metadata": {},
   "outputs": [],
   "source": [
    "# activate and load ContGridMod package\n",
    "using Pkg\n",
    "Pkg.activate(\"..\")\n",
    "using ContGridMod"
   ]
  },
  {
   "cell_type": "code",
   "execution_count": null,
   "id": "f6325666",
   "metadata": {},
   "outputs": [],
   "source": [
    "# TODO make an example/explanation on the boundary conditions"
   ]
  }
 ],
 "metadata": {
  "kernelspec": {
   "display_name": "Julia 1.6.1",
   "language": "julia",
   "name": "julia-1.6"
  },
  "language_info": {
   "file_extension": ".jl",
   "mimetype": "application/julia",
   "name": "julia",
   "version": "1.6.1"
  }
 },
 "nbformat": 4,
 "nbformat_minor": 5
}

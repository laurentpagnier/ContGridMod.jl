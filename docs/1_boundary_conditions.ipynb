{
 "cells": [
  {
   "cell_type": "code",
   "execution_count": 8,
   "id": "bca09072",
   "metadata": {},
   "outputs": [],
   "source": [
    "using ContGridMod"
   ]
  },
  {
   "cell_type": "code",
   "execution_count": 7,
   "id": "f6325666",
   "metadata": {},
   "outputs": [
    {
     "name": "stdout",
     "output_type": "stream",
     "text": [
      "border\n"
     ]
    },
    {
     "ename": "LoadError",
     "evalue": "MethodError: no method matching getindex(::Tuple{Dict{String, Matrix{Float64}}, Vector{String}}, ::String)\n\u001b[0mClosest candidates are:\n\u001b[0m  getindex(::Tuple, \u001b[91m::Int64\u001b[39m) at tuple.jl:29\n\u001b[0m  getindex(::Tuple, \u001b[91m::Real\u001b[39m) at tuple.jl:30\n\u001b[0m  getindex(::Tuple, \u001b[91m::Colon\u001b[39m) at tuple.jl:33\n\u001b[0m  ...",
     "output_type": "error",
     "traceback": [
      "MethodError: no method matching getindex(::Tuple{Dict{String, Matrix{Float64}}, Vector{String}}, ::String)\n\u001b[0mClosest candidates are:\n\u001b[0m  getindex(::Tuple, \u001b[91m::Int64\u001b[39m) at tuple.jl:29\n\u001b[0m  getindex(::Tuple, \u001b[91m::Real\u001b[39m) at tuple.jl:30\n\u001b[0m  getindex(::Tuple, \u001b[91m::Colon\u001b[39m) at tuple.jl:33\n\u001b[0m  ...",
      "",
      "Stacktrace:",
      " [1] top-level scope",
      "   @ In[7]:3",
      " [2] eval",
      "   @ ./boot.jl:360 [inlined]",
      " [3] include_string(mapexpr::typeof(REPL.softscope), mod::Module, code::String, filename::String)",
      "   @ Base ./loading.jl:1116"
     ]
    }
   ],
   "source": [
    "# TODO make an example/explanation on the boundary conditions\n",
    "data = ContGridMod.import_json_numerics(\"../data/test/star10.json\")\n",
    "border = data[\"border\"]"
   ]
  },
  {
   "cell_type": "code",
   "execution_count": null,
   "id": "04d9b14a",
   "metadata": {},
   "outputs": [],
   "source": []
  }
 ],
 "metadata": {
  "kernelspec": {
   "display_name": "Julia 1.6.2",
   "language": "julia",
   "name": "julia-1.6"
  },
  "language_info": {
   "file_extension": ".jl",
   "mimetype": "application/julia",
   "name": "julia",
   "version": "1.6.2"
  }
 },
 "nbformat": 4,
 "nbformat_minor": 5
}

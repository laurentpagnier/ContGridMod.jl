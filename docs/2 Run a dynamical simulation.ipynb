{
 "cells": [
  {
   "cell_type": "code",
   "execution_count": null,
   "id": "b2b10492",
   "metadata": {
    "scrolled": true
   },
   "outputs": [],
   "source": [
    "# load ContGridMod package\n",
    "using Pkg\n",
    "Pkg.activate(\"..\")\n",
    "using ContGridMod\n",
    "using Plots"
   ]
  },
  {
   "cell_type": "code",
   "execution_count": null,
   "id": "02237e51",
   "metadata": {
    "scrolled": false
   },
   "outputs": [],
   "source": [
    "# create the mesh\n",
    "dx = 0.011;\n",
    "mesh = get_lattice_mesh(\"../data/borders/euro_border.json\", dx)\n",
    "\n",
    "# load the discrete model\n",
    "dm = load_discrete_model(\"../data/ml/training_2.h5\", mesh.scale_factor)\n",
    "\n",
    "# distribute parameters\n",
    "contmod = get_params(mesh, \"../data/ml/training_2.h5\", Niter=10,\n",
    "    dmax = 2*dx, patch=100.0, tau=5.0e-6);\n",
    "\n",
    "# update the model with values from the discrete model\n",
    "update_model!(contmod, \"../data/ml/susceptances.h5\")\n",
    "\n",
    "# compute the stable solution\n",
    "compute_stable_sol!(contmod);"
   ]
  },
  {
   "cell_type": "code",
   "execution_count": null,
   "id": "37bd2567",
   "metadata": {},
   "outputs": [],
   "source": [
    "# add a 900MW loss at the location of the first generator\n",
    "# add_local_disturbance!(contmod, dm.coord[1,:], -9.0, 0.02);\n",
    "\n",
    "# or alternatively at a given coordinate (p.s. don't uncomment both or you will get two faults)\n",
    "add_local_disturbance!(contmod, dm.coord[1,:], -9.0, 0.02);\n",
    "# gps_coord = [39.214297918336996, -1.0546984597003388]\n",
    "# ContGridMod.add_local_disturbance_with_gps!(contmod, gps_coord, -9.0, 0.02);"
   ]
  },
  {
   "cell_type": "code",
   "execution_count": null,
   "id": "ac44044a",
   "metadata": {
    "scrolled": true
   },
   "outputs": [],
   "source": [
    "# integrate the system dynamics\n",
    "ts, thetas, omegas = perform_dyn_sim(contmod, interval = 1,\n",
    "    Ndt = 2500, dt = 0.01, method = \"crank-nicolson\");"
   ]
  },
  {
   "cell_type": "code",
   "execution_count": null,
   "id": "ef85f84c",
   "metadata": {},
   "outputs": [],
   "source": [
    "# print the theoretical post-fault frequency\n",
    "omega_pf = sum(contmod.dp) / sum(contmod.d)\n",
    "println(\"post-fault frequency: $omega_pf\")"
   ]
  },
  {
   "cell_type": "code",
   "execution_count": null,
   "id": "a5201ca2",
   "metadata": {},
   "outputs": [],
   "source": [
    "# plot the evolution the frequency at different locations\n",
    "# To add a gps coordinate:\n",
    "# 1) go to maps.google.com\n",
    "# 2) left-click at the selected location (do it multiple times if nothing happens or try to zoom out)\n",
    "# 3) right-click on token that appeared, then click on lat-lon coords to copy them\n",
    "\n",
    "plot_coord = [37.51944333869843 14.103063062652804;\n",
    "47.614422136153 6.456579347156401;\n",
    "39.631982868867446 -4.963330785436443;\n",
    "44.76193867093294 23.361757829639277]\n",
    "\n",
    "time_plot(contmod, ts, omegas, plot_coord, borders=[mesh.border])"
   ]
  },
  {
   "cell_type": "code",
   "execution_count": null,
   "id": "14fd0c36",
   "metadata": {},
   "outputs": [],
   "source": [
    "ts, omegas = disc_dynamics(dm, 0.0, 25.0, -9.0; faultid=1, dt=1e-2);"
   ]
  },
  {
   "cell_type": "code",
   "execution_count": null,
   "id": "05b24ccf",
   "metadata": {},
   "outputs": [],
   "source": [
    "plot_coord_proj = albers_projection(plot_coord ./ (180 / pi) );\n",
    "plot_coord_proj ./= contmod.mesh.scale_factor;\n",
    "disc_ids = ContGridMod.get_discrete_id(dm.coord[dm.id_gen[dm.p_gen .> 0], :], plot_coord_proj);"
   ]
  },
  {
   "cell_type": "code",
   "execution_count": null,
   "id": "9d6cbdc3",
   "metadata": {},
   "outputs": [],
   "source": [
    "plot(ts, omegas[:, dm.id_gen[disc_ids]], legend=false)"
   ]
  }
 ],
 "metadata": {
  "kernelspec": {
   "display_name": "Julia 1.9.0",
   "language": "julia",
   "name": "julia-1.9"
  },
  "language_info": {
   "file_extension": ".jl",
   "mimetype": "application/julia",
   "name": "julia",
   "version": "1.8.3"
  }
 },
 "nbformat": 4,
 "nbformat_minor": 5
}

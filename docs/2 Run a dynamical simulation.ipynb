{
 "cells": [
  {
   "cell_type": "code",
   "execution_count": null,
   "id": "b2b10492",
   "metadata": {
    "scrolled": true
   },
   "outputs": [],
   "source": [
    "# load ContGridMod package\n",
    "include(\"../src/ContGridMod.jl\")\n",
    "using .ContGridMod"
   ]
  },
  {
   "cell_type": "code",
   "execution_count": null,
   "id": "02237e51",
   "metadata": {
    "scrolled": false
   },
   "outputs": [],
   "source": [
    "# create the mesh \n",
    "mesh = get_triangulated_mesh(\"../data/borders/euro_border.json\",\n",
    "    max_area = 0.0005)\n",
    "\n",
    "# distribute parameters\n",
    "contmod = get_params(mesh, \"../data/ml/training_1.h5\")\n",
    "\n",
    "# compute the stable solution\n",
    "compute_stable_sol!(contmod)"
   ]
  },
  {
   "cell_type": "code",
   "execution_count": null,
   "id": "37bd2567",
   "metadata": {},
   "outputs": [],
   "source": [
    "# add a 900MW loss at the location of the first generator\n",
    "# add_local_disturbance!(contmod, dm.coord[1,:], -9.0, 0.02);\n",
    "\n",
    "# or alternatively at a given coordinate (p.s. don't uncomment both or you will get two faults)\n",
    "# add_local_disturbance!(contmod, dm.coord[1,:], -9.0, 0.02);\n",
    "#gps_coord = (39.214297918336996, -1.0546984597003388)\n",
    "gps_coord = (38.27918066102791, 23.32963826930361)\n",
    "add_local_disturbance_with_gps!(contmod, gps_coord, -9.0)"
   ]
  },
  {
   "cell_type": "code",
   "execution_count": null,
   "id": "ac44044a",
   "metadata": {
    "scrolled": true
   },
   "outputs": [],
   "source": [
    "# integrate the system dynamics\n",
    "ts, omegas = solve_dynamics(contmod, (0, 20));"
   ]
  },
  {
   "cell_type": "code",
   "execution_count": null,
   "id": "ef85f84c",
   "metadata": {},
   "outputs": [],
   "source": [
    "# print the theoretical post-fault frequency\n",
    "omega_pf = sum(contmod.dp) / sum(contmod.d)\n",
    "println(\"post-fault frequency: $omega_pf\")"
   ]
  },
  {
   "cell_type": "code",
   "execution_count": null,
   "id": "a5201ca2",
   "metadata": {},
   "outputs": [],
   "source": [
    "# plot the evolution the frequency at different locations\n",
    "# To add a gps coordinate:\n",
    "# 1) go to maps.google.com\n",
    "# 2) left-click at the selected location (do it multiple times if nothing happens or try to zoom out)\n",
    "# 3) right-click on token that appeared, then click on lat-lon coords to copy them\n",
    "\n",
    "plot_coord = [(37.51944333869843, 14.103063062652804),\n",
    "    (47.614422136153, 6.456579347156401),\n",
    "    (39.631982868867446, -4.963330785436443),\n",
    "    (44.76193867093294, 23.361757829639277),\n",
    "    (41.81005047511525, 22.60224468590213),\n",
    "]\n",
    "\n",
    "time_plot(contmod, ts, omegas, plot_coord)"
   ]
  },
  {
   "cell_type": "code",
   "execution_count": null,
   "id": "a68d73dc",
   "metadata": {},
   "outputs": [],
   "source": []
  }
 ],
 "metadata": {
  "kernelspec": {
   "display_name": "Julia 1.8.0",
   "language": "julia",
   "name": "julia-1.8"
  },
  "language_info": {
   "file_extension": ".jl",
   "mimetype": "application/julia",
   "name": "julia",
   "version": "1.8.0"
  }
 },
 "nbformat": 4,
 "nbformat_minor": 5
}

{
 "cells": [
  {
   "cell_type": "code",
   "execution_count": null,
   "id": "b2b10492",
   "metadata": {
    "scrolled": true
   },
   "outputs": [],
   "source": [
    "# load ContGridMod package\n",
    "using Pkg\n",
    "Pkg.activate(\"..\")\n",
    "using ContGridMod\n",
    "using Plots\n",
    "using HDF5"
   ]
  },
  {
   "cell_type": "code",
   "execution_count": null,
   "id": "02237e51",
   "metadata": {
    "scrolled": false
   },
   "outputs": [],
   "source": [
    "# load the European border file\n",
    "border, scaleFactor = import_border(\"../data/borders/euro_border.json\");\n",
    "\n",
    "# load the discrete model\n",
    "dm = load_discrete_model(\"../data/ml/training_1.h5\", scaleFactor);\n",
    "\n",
    "# create the mesh\n",
    "dx = 0.011;\n",
    "mesh = get_mesh(border, dx);\n",
    "\n",
    "# distribute parameters\n",
    "contmod = get_params(mesh, scaleFactor, \"../data/ml/training_1.h5\", Niter=10,\n",
    "    dmax = 2*dx, patch=100.0, tau=5.0e-6);\n",
    "\n",
    "b = h5read(\"../data/ml/susceptances.h5\", \"b\");\n",
    "update_susceptance!(contmod, b);\n",
    "# compute the stable solution\n",
    "compute_stable_sol!(contmod);"
   ]
  },
  {
   "cell_type": "code",
   "execution_count": null,
   "id": "37bd2567",
   "metadata": {},
   "outputs": [],
   "source": [
    "# add a 900MW loss at the location of the first generator\n",
    "# add_local_disturbance!(contmod, dm.coord[1,:], -9.0, 0.02);\n",
    "\n",
    "# or alternatively at a given coordinate (p.s. don't uncomment both or you will get two faults)\n",
    "# add_local_disturbance!(contmod, dm.coord[1,:], -9.0, 0.02);\n",
    "gps_coord = [39.214297918336996, -1.0546984597003388]\n",
    "ContGridMod.add_local_disturbance_with_gps!(contmod, gps_coord, -9.0, 0.02);"
   ]
  },
  {
   "cell_type": "code",
   "execution_count": null,
   "id": "ac44044a",
   "metadata": {
    "scrolled": true
   },
   "outputs": [],
   "source": [
    "# integrate the system dynamics\n",
    "ts, thetas, omegas = perform_dyn_sim(contmod, interval = 1,\n",
    "    Ndt = 5000, dt = 0.01, method = \"crank-nicolson\");"
   ]
  },
  {
   "cell_type": "code",
   "execution_count": null,
   "id": "ef85f84c",
   "metadata": {},
   "outputs": [],
   "source": [
    "# print the theoretical post-fault frequency\n",
    "omega_pf = sum(contmod.p) / sum(contmod.d)\n",
    "println(\"post-fault frequency: $omega_pf\")"
   ]
  },
  {
   "cell_type": "code",
   "execution_count": null,
   "id": "a5201ca2",
   "metadata": {},
   "outputs": [],
   "source": [
    "# plot the evolution the frequency at different locations\n",
    "# To add a gps coordinate:\n",
    "# 1) go to maps.google.com\n",
    "# 2) left-click at the selected location (do it multiple times if nothing happens or try to zoom out)\n",
    "# 3) right-click on token that appeared, then click on lat-lon coords to copy them\n",
    "\n",
    "plot_coord = [37.51944333869843 14.103063062652804;\n",
    "47.614422136153 6.456579347156401;\n",
    "39.631982868867446 -4.963330785436443;\n",
    "44.76193867093294 23.361757829639277]\n",
    "\n",
    "time_plot(contmod, ts, omegas, plot_coord, borders=[border])"
   ]
  }
 ],
 "metadata": {
  "kernelspec": {
   "display_name": "Julia 1.6.2",
   "language": "julia",
   "name": "julia-1.6"
  },
  "language_info": {
   "file_extension": ".jl",
   "mimetype": "application/julia",
   "name": "julia",
   "version": "1.6.2"
  }
 },
 "nbformat": 4,
 "nbformat_minor": 5
}

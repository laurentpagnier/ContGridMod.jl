{
 "cells": [
  {
   "cell_type": "code",
   "execution_count": 1,
   "id": "bca09072",
   "metadata": {},
   "outputs": [],
   "source": [
    "using ContGridMod\n",
    "using Plots"
   ]
  },
  {
   "cell_type": "code",
   "execution_count": 2,
   "id": "f6325666",
   "metadata": {},
   "outputs": [
    {
     "name": "stdout",
     "output_type": "stream",
     "text": [
      "border\n",
      "border\n"
     ]
    },
    {
     "data": {
      "text/plain": [
       "4×2 Matrix{Float64}:\n",
       "  0.0  -0.866025\n",
       "  1.0   0.866025\n",
       " -1.0   0.866025\n",
       "  0.0  -0.866025"
      ]
     },
     "execution_count": 2,
     "metadata": {},
     "output_type": "execute_result"
    }
   ],
   "source": [
    "# TODO make an example/explanation on the boundary conditions\n",
    "data, ~ = import_json_numerics(\"../data/test/star10.json\")\n",
    "data, ~ = import_json_numerics(\"../data/test/triangle.json\")\n",
    "border = data[\"border\"]"
   ]
  },
  {
   "cell_type": "code",
   "execution_count": 3,
   "id": "79e0d6ac",
   "metadata": {},
   "outputs": [],
   "source": [
    "dx = 0.02\n",
    "mesh = get_mesh(border, dx);"
   ]
  },
  {
   "cell_type": "code",
   "execution_count": null,
   "id": "494997ae",
   "metadata": {},
   "outputs": [],
   "source": [
    "# plot inside and border\n",
    "scatter(mesh.coord[mesh.isgrid, 2], mesh.coord[mesh.isgrid, 1], label=\"grid\")\n",
    "scatter!(mesh.coord[mesh.isborder, 2], mesh.coord[mesh.isborder, 1], label=\"border layer\")\n",
    "plot!(border[:, 1], border[:, 2], label=\"border line\", color=:black, linewidth=2.0)\n",
    "plot!(aspect_ratio=:equal)\n",
    "# plot!(xlim=(x1,x2), ylim=(y1,y2)) # zoom somewhere"
   ]
  },
  {
   "cell_type": "code",
   "execution_count": null,
   "id": "0000e6aa",
   "metadata": {},
   "outputs": [],
   "source": []
  }
 ],
 "metadata": {
  "kernelspec": {
   "display_name": "Julia 1.6.2",
   "language": "julia",
   "name": "julia-1.6"
  },
  "language_info": {
   "file_extension": ".jl",
   "mimetype": "application/julia",
   "name": "julia",
   "version": "1.6.2"
  }
 },
 "nbformat": 4,
 "nbformat_minor": 5
}

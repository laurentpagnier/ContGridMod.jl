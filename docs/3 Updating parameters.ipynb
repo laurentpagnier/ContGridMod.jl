{
 "cells": [
  {
   "cell_type": "code",
   "execution_count": 1,
   "metadata": {},
   "outputs": [
    {
     "name": "stderr",
     "output_type": "stream",
     "text": [
      "\u001b[32m\u001b[1m  Activating\u001b[22m\u001b[39m project at `~/Documents/ContGridMod.jl`\n",
      "┌ Info: Precompiling ContGridMod [7b3cbbd9-582b-4f4c-9cc3-fb546f746a98]\n",
      "└ @ Base loading.jl:1423\n"
     ]
    }
   ],
   "source": [
    "using Pkg\n",
    "Pkg.activate(\"..\")\n",
    "using ContGridMod\n",
    "using Plots"
   ]
  },
  {
   "cell_type": "code",
   "execution_count": 2,
   "metadata": {},
   "outputs": [],
   "source": [
    "# Load the European border file\n",
    "border, scale_factor = import_border(\"../data/borders/euro_border.json\");\n"
   ]
  },
  {
   "cell_type": "code",
   "execution_count": 3,
   "metadata": {},
   "outputs": [],
   "source": [
    "# Load all discrete models\n",
    "dms = ContGridMod.DiscModel[]\n",
    "for i=1:24\n",
    "    push!(dms, load_discrete_model(\"../data/training/pantagruel_scenario_\" * string(i) * \".h5\", scale_factor))\n",
    "end"
   ]
  },
  {
   "cell_type": "code",
   "execution_count": 4,
   "metadata": {},
   "outputs": [
    {
     "name": "stdout",
     "output_type": "stream",
     "text": [
      "  1.477797 seconds (3.88 M allocations: 3.923 GiB, 12.76% gc time, 50.28% compilation time)\n",
      "  0.413910 seconds (365.26 k allocations: 249.246 MiB, 2.37% gc time, 51.11% compilation time)\n"
     ]
    }
   ],
   "source": [
    "# Create the mesh\n",
    "dx = 0.011\n",
    "mesh = get_mesh(border, dx)\n",
    "\n",
    "# Create continuous model\n",
    "contmod = get_params(mesh, scale_factor, \"../data/disc/pantagruel.h5\",\n",
    "    Niter=20, dmax = 2*dx, patch=100.0, tau=5.0e-6);"
   ]
  },
  {
   "cell_type": "code",
   "execution_count": 5,
   "metadata": {},
   "outputs": [
    {
     "name": "stdout",
     "output_type": "stream",
     "text": [
      "  0.152774 seconds (5.80 k allocations: 183.920 MiB, 0.80% gc time)\n",
      "  0.156347 seconds (5.82 k allocations: 183.921 MiB, 1.83% gc time)\n",
      "  0.151959 seconds (5.86 k allocations: 183.921 MiB, 1.33% gc time)\n",
      "  0.151184 seconds (5.80 k allocations: 183.920 MiB, 1.65% gc time)\n",
      "  0.152875 seconds (5.89 k allocations: 183.922 MiB, 1.30% gc time)\n",
      "  0.152592 seconds (5.89 k allocations: 183.922 MiB, 1.32% gc time)\n",
      "  0.150984 seconds (5.86 k allocations: 183.921 MiB, 1.33% gc time)\n",
      "  0.150409 seconds (5.84 k allocations: 183.921 MiB, 1.40% gc time)\n",
      "  0.151578 seconds (5.85 k allocations: 183.921 MiB, 1.32% gc time)\n",
      "  0.150210 seconds (5.76 k allocations: 183.920 MiB, 0.83% gc time)\n",
      "  0.150476 seconds (5.79 k allocations: 183.920 MiB, 1.59% gc time)\n",
      "  0.152674 seconds (5.82 k allocations: 183.921 MiB, 1.47% gc time)\n",
      "  0.154099 seconds (5.85 k allocations: 183.921 MiB, 1.43% gc time)\n",
      "  0.150966 seconds (5.80 k allocations: 183.920 MiB, 1.64% gc time)\n",
      "  0.151784 seconds (5.87 k allocations: 183.921 MiB, 1.50% gc time)\n",
      "  0.153481 seconds (5.80 k allocations: 183.920 MiB, 1.54% gc time)\n",
      "  0.151727 seconds (5.88 k allocations: 183.922 MiB, 1.27% gc time)\n",
      "  0.154815 seconds (5.87 k allocations: 183.922 MiB, 1.33% gc time)\n",
      "  0.152722 seconds (5.83 k allocations: 183.921 MiB, 1.53% gc time)\n",
      "  0.152128 seconds (5.82 k allocations: 183.921 MiB, 1.56% gc time)\n",
      "  0.150657 seconds (5.79 k allocations: 183.920 MiB, 0.76% gc time)\n",
      "  0.149459 seconds (5.80 k allocations: 183.920 MiB, 1.10% gc time)\n",
      "  0.150621 seconds (5.79 k allocations: 183.920 MiB, 0.84% gc time)\n",
      "  0.151682 seconds (5.80 k allocations: 183.920 MiB, 0.74% gc time)\n"
     ]
    }
   ],
   "source": [
    "# Update parameters and plot power, damping, and inertia\n",
    "for i=1:24\n",
    "    update_model!(contmod, dms[i])\n",
    "    hm_plot(contmod, \"m\", border=border)\n",
    "    savefig(\"../figures/inertia/inertia\" * string(i) * \".png\")\n",
    "    hm_plot(contmod, \"d\", border=border)\n",
    "    savefig(\"../figures/damping/damping\" * string(i) * \".png\")\n",
    "    hm_plot(contmod, \"p\", border=border)\n",
    "    savefig(\"../figures/power/power\" * string(i) * \".png\")\n",
    "end"
   ]
  },
  {
   "cell_type": "code",
   "execution_count": null,
   "metadata": {},
   "outputs": [],
   "source": []
  }
 ],
 "metadata": {
  "interpreter": {
   "hash": "ff9f91961afe4d3928f19b75fedd365dfc21b2ab1f81a84b42e6fc3eab122030"
  },
  "kernelspec": {
   "display_name": "Julia 1.7.2",
   "language": "julia",
   "name": "julia-1.7"
  },
  "language_info": {
   "file_extension": ".jl",
   "mimetype": "application/julia",
   "name": "julia",
   "version": "1.7.3"
  },
  "orig_nbformat": 4
 },
 "nbformat": 4,
 "nbformat_minor": 2
}

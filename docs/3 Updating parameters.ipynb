{
 "cells": [
  {
   "cell_type": "code",
   "execution_count": null,
   "metadata": {},
   "outputs": [],
   "source": [
    "using Pkg\n",
    "Pkg.activate(\"..\")\n",
    "using ContGridMod\n",
    "using Plots"
   ]
  },
  {
   "cell_type": "code",
   "execution_count": null,
   "metadata": {},
   "outputs": [],
   "source": [
    "# Load the European border file\n",
    "border, scale_factor = import_border(\"../data/borders/euro_border.json\");\n"
   ]
  },
  {
   "cell_type": "code",
   "execution_count": null,
   "metadata": {},
   "outputs": [],
   "source": [
    "# Load all discrete models\n",
    "dms = ContGridMod.DiscModel[]\n",
    "for i=1:24\n",
    "    push!(dms, load_discrete_model(\"../data/training/pantagruel_scenario_\" * string(i) * \".h5\", scale_factor))\n",
    "end"
   ]
  },
  {
   "cell_type": "code",
   "execution_count": null,
   "metadata": {},
   "outputs": [],
   "source": [
    "# Create the mesh\n",
    "dx = 0.011\n",
    "mesh = get_mesh(border, dx)\n",
    "\n",
    "# Create continuous model\n",
    "contmod = get_params(mesh, scale_factor, \"../data/disc/pantagruel.h5\",\n",
    "    Niter=20, dmax = 2*dx, patch=100.0, tau=5.0e-6);"
   ]
  },
  {
   "cell_type": "code",
   "execution_count": null,
   "metadata": {},
   "outputs": [],
   "source": [
    "# Update parameters and plot power, damping, and inertia\n",
    "for i=1:24\n",
    "    update_model!(contmod, dms[i])\n",
    "    hm_plot(contmod, \"m\", border=border)\n",
    "    savefig(\"../figures/inertia/inertia\" * string(i) * \".png\")\n",
    "    hm_plot(contmod, \"d\", border=border)\n",
    "    savefig(\"../figures/damping/damping\" * string(i) * \".png\")\n",
    "    hm_plot(contmod, \"p\", border=border)\n",
    "    savefig(\"../figures/power/power\" * string(i) * \".png\")\n",
    "end"
   ]
  },
  {
   "cell_type": "code",
   "execution_count": null,
   "metadata": {},
   "outputs": [],
   "source": []
  }
 ],
 "metadata": {
  "interpreter": {
   "hash": "ff9f91961afe4d3928f19b75fedd365dfc21b2ab1f81a84b42e6fc3eab122030"
  },
  "kernelspec": {
   "display_name": "Julia 1.7.2",
   "language": "julia",
   "name": "julia-1.7"
  },
  "language_info": {
   "file_extension": ".jl",
   "mimetype": "application/julia",
   "name": "julia",
   "version": "1.7.3"
  },
  "orig_nbformat": 4
 },
 "nbformat": 4,
 "nbformat_minor": 2
}

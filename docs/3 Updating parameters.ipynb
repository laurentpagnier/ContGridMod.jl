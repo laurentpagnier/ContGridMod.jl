{
 "cells": [
  {
   "cell_type": "code",
   "execution_count": null,
   "metadata": {},
   "outputs": [],
   "source": [
    "using Pkg\n",
    "Pkg.activate(\"..\")\n",
    "using ContGridMod\n",
    "using Plots"
   ]
  },
  {
   "cell_type": "code",
   "execution_count": null,
   "metadata": {
    "lines_to_next_cell": 2
   },
   "outputs": [],
   "source": [
    "# Load the European border file\n",
    "border, scale_factor = import_border(\"../data/borders/euro_border.json\");"
   ]
  },
  {
   "cell_type": "code",
   "execution_count": null,
   "metadata": {},
   "outputs": [],
   "source": [
    "# Load all discrete models\n",
    "dms = ContGridMod.DiscModel[]\n",
    "for i=1:24\n",
    "    push!(dms, load_discrete_model(\"../data/ml/training_\" * string(i) * \".h5\", scale_factor))\n",
    "end"
   ]
  },
  {
   "cell_type": "code",
   "execution_count": null,
   "metadata": {},
   "outputs": [],
   "source": [
    "# Create the mesh\n",
    "dx = 0.011\n",
    "mesh = get_mesh(border, dx)\n",
    "\n",
    "# Create continuous model\n",
    "contmod = get_params(mesh, scale_factor, \"../data/disc/pantagruel.h5\",\n",
    "    Niter=20, dmax = 2*dx, patch=100.0, tau=5.0e-6);"
   ]
  },
  {
   "cell_type": "code",
   "execution_count": null,
   "metadata": {},
   "outputs": [],
   "source": [
    "thstable = zeros(3809, 24);\n",
    "ms = zeros(size(contmod.m, 1), 24);\n",
    "ds = zeros(size(contmod.d, 1), 24);\n",
    "ps = zeros(size(contmod.p, 1), 24);"
   ]
  },
  {
   "cell_type": "code",
   "execution_count": null,
   "metadata": {},
   "outputs": [],
   "source": [
    "for i=1:24\n",
    "    update_model!(contmod, dms[i])\n",
    "    ms[:, i] = contmod.m\n",
    "    ds[:, i] = contmod.d\n",
    "    ps[:, i] = contmod.p\n",
    "    thstable[:, i] = dms[i].th\n",
    "end"
   ]
  },
  {
   "cell_type": "code",
   "execution_count": null,
   "metadata": {},
   "outputs": [],
   "source": []
  }
 ],
 "metadata": {
  "interpreter": {
   "hash": "ff9f91961afe4d3928f19b75fedd365dfc21b2ab1f81a84b42e6fc3eab122030"
  },
  "kernelspec": {
   "display_name": "Julia 1.7.2",
   "language": "julia",
   "name": "julia-1.7"
  },
  "language_info": {
   "file_extension": ".jl",
   "mimetype": "application/julia",
   "name": "julia",
   "version": "1.7.3"
  }
 },
 "nbformat": 4,
 "nbformat_minor": 2
}

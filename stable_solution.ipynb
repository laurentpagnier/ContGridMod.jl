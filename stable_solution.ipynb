{
 "cells": [
  {
   "cell_type": "code",
   "execution_count": null,
   "id": "8245a023",
   "metadata": {},
   "outputs": [],
   "source": [
    "import JSON\n",
    "using Plots\n",
    "using HDF5\n",
    "include(\"tools.jl\")\n",
    "include(\"get_grid.jl\")\n",
    "include(\"get_params.jl\")"
   ]
  },
  {
   "cell_type": "code",
   "execution_count": null,
   "id": "d672c3f6",
   "metadata": {},
   "outputs": [],
   "source": [
    "border = import_border(\"data/border.json\")\n",
    "dx = 20\n",
    "Nx, Ny, xrange, yrange, isgrid, isborder, n = get_grid(border, Float64(dx))\n",
    "\n",
    "x = repeat(reshape(xrange,1,Nx),Ny,1)\n",
    "y = repeat(reshape(yrange,Ny,1),1,Nx)\n",
    "x_for_bx = repeat(reshape(xrange,1,Nx),Ny,1) .- dx/2\n",
    "y_for_bx = repeat(reshape(yrange,Ny,1),1,Nx)\n",
    "x_for_by = repeat(reshape(xrange,1,Nx),Ny,1)\n",
    "y_for_by = repeat(reshape(yrange,Ny,1),1,Nx) .+ dx/2;\n"
   ]
  },
  {
   "cell_type": "code",
   "execution_count": null,
   "id": "6238d1b6",
   "metadata": {},
   "outputs": [],
   "source": [
    "recompute_param = true\n",
    "sigma_l = 100.\n",
    "if(recompute_param)\n",
    "    bx, by, p, m, d = get_params(isborder, sigma_l, \"data/pantagruel.h5\", \"grid_params_20_100.h5\")\n",
    "else\n",
    "    bx, by, p, m, d = get_params(\"grid_params_20.h5\")\n",
    "end\n"
   ]
  },
  {
   "cell_type": "code",
   "execution_count": null,
   "id": "b037a662",
   "metadata": {},
   "outputs": [],
   "source": [
    "interval = 200\n",
    "Niter = 20000\n",
    "th = zeros(Ny, Nx)\n",
    "\n",
    "@time begin\n",
    "    for k in 1:Niter\n",
    "        dth = 0\n",
    "        for i in 2:Ny-1\n",
    "            for j in 2:Nx-1\n",
    "                if(isgrid[i,j])\n",
    "                    temp = th[i,j]\n",
    "                    bij = (by[i-1,j] + by[i,j] + bx[i,j] + bx[i,j+1])\n",
    "                    (by[i,j] * th[i+1,j] + by[i-1,j] * th[i-1,j] +\n",
    "                        bx[i,j+1] * th[i,j+1] + bx[i,j] * th[i,j-1])\n",
    "                    th[i,j] = (by[i,j] * th[i+1,j] + by[i-1,j] * th[i-1,j] + \n",
    "                        bx[i,j+1] * th[i,j+1] + bx[i,j] * th[i,j-1] + dx^2*p[i,j]) / bij\n",
    "                    dth = max(abs(th[i,j] - temp), dth)\n",
    "                end\n",
    "            end\n",
    "        end   \n",
    "        if(mod(k,interval) == 0)\n",
    "            println([k, dth])\n",
    "        end\n",
    "    end\n",
    "end\n"
   ]
  },
  {
   "cell_type": "code",
   "execution_count": null,
   "id": "51e7a3dd",
   "metadata": {},
   "outputs": [],
   "source": [
    "#contour(1:Nx,1:Ny,th, fill=true,levels=-2:0.2:1.6, title=\"Continuous\", colorbar_title = \"θ(x,t)\")\n",
    "do_plot(isgrid, th)\n",
    "#do_plot(isgrid, bx)\n"
   ]
  },
  {
   "cell_type": "code",
   "execution_count": null,
   "id": "a99200fe",
   "metadata": {},
   "outputs": [],
   "source": []
  }
 ],
 "metadata": {
  "kernelspec": {
   "display_name": "Julia 1.6.2",
   "language": "julia",
   "name": "julia-1.6"
  },
  "language_info": {
   "file_extension": ".jl",
   "mimetype": "application/julia",
   "name": "julia",
   "version": "1.6.2"
  }
 },
 "nbformat": 4,
 "nbformat_minor": 5
}

{
 "cells": [
  {
   "cell_type": "code",
   "execution_count": 1,
   "id": "f27ec492",
   "metadata": {},
   "outputs": [
    {
     "data": {
      "text/plain": [
       "vectorize (generic function with 1 method)"
      ]
     },
     "execution_count": 1,
     "metadata": {},
     "output_type": "execute_result"
    }
   ],
   "source": [
    "# load libraries and scripts\n",
    "using Trapz\n",
    "#using Statistics\n",
    "include(\"../scripts/plotting.jl\")\n",
    "include(\"../scripts/tools.jl\")\n",
    "include(\"../scripts/get_grid.jl\")\n",
    "include(\"../scripts/get_params.jl\")\n",
    "include(\"../scripts/disturbances.jl\")\n",
    "include(\"../scripts/stable.jl\")\n",
    "include(\"../scripts/dynamics.jl\")"
   ]
  },
  {
   "cell_type": "code",
   "execution_count": 2,
   "id": "dba273d3",
   "metadata": {},
   "outputs": [],
   "source": [
    "#load borders\n",
    "border, scale_factor = import_border(\"../data/borders/border.json\");"
   ]
  },
  {
   "cell_type": "code",
   "execution_count": 4,
   "id": "d8d24b1c",
   "metadata": {},
   "outputs": [],
   "source": [
    "dx = 0.01\n",
    "Nx, Ny, xrange, yrange, isinside, isborder, n, isgrid = get_grid(border, Float64(dx));"
   ]
  },
  {
   "cell_type": "code",
   "execution_count": 7,
   "id": "edab308a",
   "metadata": {},
   "outputs": [
    {
     "ename": "LoadError",
     "evalue": "UndefVarError: grid_coord not defined",
     "output_type": "error",
     "traceback": [
      "UndefVarError: grid_coord not defined",
      "",
      "Stacktrace:",
      " [1] top-level scope",
      "   @ In[7]:1",
      " [2] eval",
      "   @ ./boot.jl:360 [inlined]",
      " [3] include_string(mapexpr::typeof(REPL.softscope), mod::Module, code::String, filename::String)",
      "   @ Base ./loading.jl:1116"
     ]
    }
   ],
   "source": [
    "get_params_diff_fast(isinside, n, dx, grid_coord, \"../data/disc/pantagruel.h5\", \"../numerics/temp.h5\", def_val = 1E-2,\n",
    "    dmax = 100.0, Niter = 5000, tau = 0.001, patch = 0.001, min_factor = 0.1, bmin = 1.0)"
   ]
  },
  {
   "cell_type": "code",
   "execution_count": null,
   "id": "a5bb683a",
   "metadata": {},
   "outputs": [],
   "source": []
  }
 ],
 "metadata": {
  "kernelspec": {
   "display_name": "Julia 1.6.2",
   "language": "julia",
   "name": "julia-1.6"
  },
  "language_info": {
   "file_extension": ".jl",
   "mimetype": "application/julia",
   "name": "julia",
   "version": "1.6.2"
  }
 },
 "nbformat": 4,
 "nbformat_minor": 5
}

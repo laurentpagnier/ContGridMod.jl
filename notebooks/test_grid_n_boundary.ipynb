{
 "cells": [
  {
   "cell_type": "code",
   "execution_count": null,
   "id": "edba760d",
   "metadata": {},
   "outputs": [],
   "source": [
    "# load libraries and scripts\n",
    "import JSON\n",
    "using Plots\n",
    "using HDF5\n",
    "using Trapz\n",
    "include(\"../scripts/tools.jl\")\n",
    "include(\"../scripts/get_grid.jl\")\n",
    "include(\"../scripts/get_params.jl\")"
   ]
  },
  {
   "cell_type": "code",
   "execution_count": null,
   "id": "a44b4fa8",
   "metadata": {},
   "outputs": [],
   "source": [
    "#load borders\n",
    "border = import_border(\"../data/border.json\")\n",
    "\n",
    "# create the lattice grid\n",
    "dx = 10\n",
    "Nx, Ny, xrange, yrange, isinside, isborder, n = get_grid(border, Float64(dx))\n",
    "\n",
    "# define x and y coordinate for plotting\n",
    "x = repeat(reshape(1:Nx,1,Nx), Ny, 1)\n",
    "y = repeat(reshape(1:Ny,Ny,1), 1, Nx);\n",
    "xrange = 1:Nx\n",
    "yrange = 1:Ny\n",
    "#x = repeat(reshape(xrange,1,Nx), Ny, 1)\n",
    "#y = repeat(reshape(yrange,Ny,1), 1, Nx);"
   ]
  },
  {
   "cell_type": "code",
   "execution_count": null,
   "id": "f8ec52f9",
   "metadata": {},
   "outputs": [],
   "source": [
    "# plot the grid\n",
    "scatter(x[isinside], y[isinside], marker = (:circle, 2), label=\"inside\")\n",
    "scatter!(x[isborder], y[isborder], marker = (:circle, 2), label=\"border\")\n",
    "quiver!(vec(xrange[Int64.(n[:,2])]), vec(yrange[Int64.(n[:,1])]),\n",
    "    quiver=(40*vec(n[:,4]), 40*vec(n[:,3])), linewidth=0.5)\n",
    "savefig(\"map.pdf\")"
   ]
  },
  {
   "cell_type": "code",
   "execution_count": null,
   "id": "be90adae",
   "metadata": {},
   "outputs": [],
   "source": [
    "# if grid params exist then plot bx and by\n",
    "if(isfile(\"../numerics/grid_params_\" * string(dx) * \".h5\"))\n",
    "    bx, by, p, m, d = get_params(isinside, \"../numerics/grid_params_\" * string(dx) * \".h5\")\n",
    "    x_for_bx = repeat(reshape(xrange,1,Nx),Ny,1) .- dx/2\n",
    "    y_for_bx = repeat(reshape(yrange,Ny,1),1,Nx)\n",
    "    x_for_by = repeat(reshape(xrange,1,Nx),Ny,1)\n",
    "    y_for_by = repeat(reshape(yrange,Ny,1),1,Nx) .+ dx/2;\n",
    "    scatter(x[isinside], y[isinside], markershape=:circle, markersize=2, markerstrokewidth=0.2, label=\"nodes\")\n",
    "    id = findall(bx .> 0)\n",
    "    scatter!(x_for_bx[id], y_for_bx[id], markershape=:circle, markersize=2, markerstrokewidth=0.2, label=\"bx\")\n",
    "    id = findall(by .> 0)\n",
    "    scatter!(x_for_by[id], y_for_by[id], markershape=:circle, markersize=2, markerstrokewidth=0.2, label=\"by\")\n",
    "    savefig(\"susceptance.pdf\")\n",
    "end"
   ]
  },
  {
   "cell_type": "code",
   "execution_count": null,
   "id": "d9199ace",
   "metadata": {},
   "outputs": [],
   "source": []
  }
 ],
 "metadata": {
  "kernelspec": {
   "display_name": "Julia 1.6.1",
   "language": "julia",
   "name": "julia-1.6"
  },
  "language_info": {
   "file_extension": ".jl",
   "mimetype": "application/julia",
   "name": "julia",
   "version": "1.6.1"
  }
 },
 "nbformat": 4,
 "nbformat_minor": 5
}

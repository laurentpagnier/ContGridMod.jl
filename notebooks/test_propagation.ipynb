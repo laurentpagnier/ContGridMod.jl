{
 "cells": [
  {
   "cell_type": "code",
   "execution_count": null,
   "id": "4ced5118",
   "metadata": {},
   "outputs": [],
   "source": [
    "# load libraries and scripts\n",
    "import JSON\n",
    "using Plots\n",
    "using HDF5\n",
    "using Trapz\n",
    "include(\"../scripts/tools.jl\")\n",
    "include(\"../scripts/get_grid.jl\")\n",
    "include(\"../scripts/get_params.jl\")\n",
    "include(\"../scripts/disturbances.jl\")"
   ]
  },
  {
   "cell_type": "code",
   "execution_count": null,
   "id": "0b7de196",
   "metadata": {
    "scrolled": true
   },
   "outputs": [],
   "source": [
    "#load borders\n",
    "border = import_border(\"../data/border.json\")\n",
    "\n",
    "# create the lattice grid\n",
    "dx = 20\n",
    "Nx, Ny, xrange, yrange, isinside, isborder, n = get_grid(border, Float64(dx))\n",
    "\n",
    "# define x and y coordinate for plotting\n",
    "x = repeat(reshape(xrange,1,Nx), Ny, 1)\n",
    "y = repeat(reshape(yrange,Ny,1), 1, Nx);"
   ]
  },
  {
   "cell_type": "code",
   "execution_count": null,
   "id": "4d655d3a",
   "metadata": {},
   "outputs": [],
   "source": [
    "# compute or load grid parameters\n",
    "recompute_param = false\n",
    "sigma = 100.\n",
    "if(recompute_param || isfile(\"../numerics/grid_params_\" * string(dx) * \".h5\"))\n",
    "    bx, by, p, m, d = get_params(isinside, isborder, sigma, Float64(dx), yrange, xrange, \"../data/pantagruel.h5\",\n",
    "        \"../numerics/grid_params_\" * string(dx) * \".h5\")\n",
    "else\n",
    "    bx, by, p, m, d = get_params(isinside, \"../numerics/grid_params_\" * string(dx) * \".h5\")\n",
    "end"
   ]
  },
  {
   "cell_type": "code",
   "execution_count": null,
   "id": "697af355",
   "metadata": {},
   "outputs": [],
   "source": [
    "# define a disturbance\n",
    "# dP = -9.0\n",
    "dP = 0.0\n",
    "sigma = 50.0\n",
    "location = [-1500., -900.]\n",
    "dp = local_disturbance(isinside, xrange, yrange, location, dP, sigma)\n",
    "println(trapz((yrange, xrange), dp))\n",
    "do_plot(isinside, dp)"
   ]
  },
  {
   "cell_type": "code",
   "execution_count": null,
   "id": "b3828487",
   "metadata": {},
   "outputs": [],
   "source": [
    "# perform a dynamical simulation\n",
    "interval = 200\n",
    "dt = 0.0001\n",
    "Ndt = 100000\n",
    "\n",
    "# println(maximum(u)*dt^2/dx^2)\n",
    "\n",
    "gamma = 100 * d ./ m\n",
    "# m = m ./10\n",
    "# d = d ./10\n",
    "\n",
    "omegas = zeros(Ny,Nx,1 + Int64(ceil(Ndt/interval)))\n",
    "thetas = zeros(Ny,Nx,1 + Int64(ceil(Ndt/interval)))\n",
    "th_new = zeros(Ny,Nx)\n",
    "reset = true\n",
    "data = h5read(\"../numerics/stable_\" * string(dx) * \".h5\", \"/\")\n",
    "if(reset)\n",
    "    th_old = copy(data[\"th\"])\n",
    "    th = copy(data[\"th\"])\n",
    "    omegas[:,:,1] = zeros(size(th))\n",
    "    thetas[:,:,1] = copy(th)  \n",
    "else\n",
    "    omegas[:,:,1] = (th - th_old) / dt\n",
    "    thetas[:,:,1] = copy(th)   \n",
    "end\n",
    "\n",
    "ts = zeros(1 + Int64(ceil(Ndt/interval)))\n",
    "chi = 1 .+ gamma*dt/2\n",
    "\n",
    "@time begin\n",
    "    for t in 1:Ndt\n",
    "        Threads.@threads for i in 2:Ny-1\n",
    "            Threads.@threads for j in 2:Nx-1\n",
    "                if(isinside[i,j])\n",
    "                    bij = (by[i-1,j] + by[i,j] + bx[i,j] + bx[i,j+1])\n",
    "                    th_new[i,j] = (2 - bij / m[i,j] * dt^2 / dx^2) / chi[i,j] * th[i,j] + \n",
    "                        (gamma[i,j] * dt/2 - 1) /chi[i,j] * th_old[i,j] + \n",
    "                        dt^2 / dx^2 / chi[i,j] / m[i,j] * \n",
    "                        (by[i,j] * th[i+1,j] + by[i-1,j] * th[i-1,j] +\n",
    "                        bx[i,j+1] * th[i,j+1] + bx[i,j] * th[i,j-1]) +\n",
    "                        dt^2 / chi[i,j] / m[i,j] * (p[i,j] + dp[i,j])\n",
    "                end\n",
    "            end\n",
    "        end   \n",
    "\n",
    "        # impose boundary condition\n",
    "        Threads.@threads for k in 1:size(n,1)\n",
    "            i = Int64(n[k,1])\n",
    "            j = Int64(n[k,2])\n",
    "            nx = n[k,4]\n",
    "            ny = n[k,3]\n",
    "            if(nx == 1)\n",
    "                th_new[i,j] = th_new[i,j-2]\n",
    "            elseif(nx == -1)\n",
    "                th_new[i,j] = th_new[i,j+2]\n",
    "            end\n",
    "            if(ny == 1)\n",
    "                th_new[i,j] = th_new[i-2,j]\n",
    "            elseif(ny == -1)\n",
    "                th_new[i,j] = th_new[i+2,j]\n",
    "            end\n",
    "        end\n",
    "        \n",
    "        if(mod(t,interval) == 0)\n",
    "            println(\"NIter: \", t)\n",
    "            omegas[:,:,Int64(t/interval) + 1] = (th_new-th) / dt\n",
    "            thetas[:,:,Int64(t/interval) + 1] = th_new\n",
    "            ts[Int64(t/interval) + 1] = t*dt\n",
    "        end\n",
    "        th_old = copy(th)\n",
    "        th = copy(th_new)\n",
    "    end\n",
    "end"
   ]
  },
  {
   "cell_type": "code",
   "execution_count": null,
   "id": "fdff15ff",
   "metadata": {},
   "outputs": [],
   "source": [
    "@gif for i=1:size(omegas,3)\n",
    "    do_plot(isinside, omegas[:,:,i])\n",
    "    #contour(omegas[:,:,i],fill=true,levels= -2:0.1:2)\n",
    "    #contour(omegas[:,:,i],fill=true)\n",
    "end"
   ]
  },
  {
   "cell_type": "code",
   "execution_count": null,
   "id": "a260076f",
   "metadata": {},
   "outputs": [],
   "source": [
    "start=1\n",
    "plot(omegas[20,20,start:end])\n",
    "plot!(omegas[60,80,start:end])\n",
    "plot!(omegas[10,100,start:end])\n",
    "plot!(omegas[24,121,start:end])"
   ]
  },
  {
   "cell_type": "code",
   "execution_count": null,
   "id": "5568248f",
   "metadata": {},
   "outputs": [],
   "source": [
    "do_plot(isinside, th)"
   ]
  },
  {
   "cell_type": "code",
   "execution_count": null,
   "id": "c168524a",
   "metadata": {},
   "outputs": [],
   "source": []
  }
 ],
 "metadata": {
  "kernelspec": {
   "display_name": "Julia 1.6.2",
   "language": "julia",
   "name": "julia-1.6"
  },
  "language_info": {
   "file_extension": ".jl",
   "mimetype": "application/julia",
   "name": "julia",
   "version": "1.6.2"
  }
 },
 "nbformat": 4,
 "nbformat_minor": 5
}

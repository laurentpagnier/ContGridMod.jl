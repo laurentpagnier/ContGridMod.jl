{
 "cells": [
  {
   "cell_type": "code",
   "execution_count": null,
   "id": "4ced5118",
   "metadata": {
    "scrolled": true
   },
   "outputs": [],
   "source": [
    "# load libraries and scripts\n",
    "import JSON\n",
    "using Plots\n",
    "using HDF5\n",
    "using Trapz\n",
    "include(\"../scripts/tools.jl\")\n",
    "include(\"../scripts/get_grid.jl\")\n",
    "include(\"../scripts/get_params.jl\")\n",
    "include(\"../scripts/disturbances.jl\")\n",
    "include(\"../scripts/stable.jl\")\n",
    "include(\"../scripts/dynamics.jl\")"
   ]
  },
  {
   "cell_type": "code",
   "execution_count": null,
   "id": "0b7de196",
   "metadata": {
    "scrolled": true
   },
   "outputs": [],
   "source": [
    "#load borders\n",
    "border = import_border(\"../data/borders/border.json\")\n",
    "\n",
    "# create the lattice grid\n",
    "dx = 20\n",
    "Nx, Ny, xrange, yrange, isinside, isborder, n = get_grid(border, Float64(dx))\n",
    "\n",
    "# define x and y coordinate for plotting\n",
    "x = repeat(reshape(xrange,1,Nx), Ny, 1)\n",
    "y = repeat(reshape(yrange,Ny,1), 1, Nx);"
   ]
  },
  {
   "cell_type": "code",
   "execution_count": null,
   "id": "4d655d3a",
   "metadata": {},
   "outputs": [],
   "source": [
    "# compute or load grid parameters\n",
    "recompute_param = true\n",
    "if(recompute_param || isfile(\"../numerics/grid_params_\" * string(dx) * \".h5\"))\n",
    "    bx, by, p, m, d = get_params_diff(isinside, n, Float64(dx), yrange, xrange, \"../data/disc/pantagruel.h5\",\n",
    "        \"../numerics/grid_params_\" * string(dx) * \".h5\", Niter = 10000, dmax = 10.0, patch=0.003, bmin=0.01)\n",
    "    #bx, by, p, m, d = get_params(isinside, isborder, Float64(dx), yrange, xrange, \"../data/pantagruel.h5\",\n",
    "    #    \"../numerics/grid_params_\" * string(dx) * \".h5\")\n",
    "else\n",
    "    bx, by, p, m, d = get_params(isinside, \"../numerics/grid_params_\" * string(dx) * \".h5\")\n",
    "end"
   ]
  },
  {
   "cell_type": "code",
   "execution_count": null,
   "id": "5011c99b",
   "metadata": {},
   "outputs": [],
   "source": [
    "# compute, iteratively, the stable solution\n",
    "th0, ths = compute_stable_sol(isinside, n, bx, by, p, Niter = 20000, interval = 1000);"
   ]
  },
  {
   "cell_type": "code",
   "execution_count": null,
   "id": "697af355",
   "metadata": {},
   "outputs": [],
   "source": [
    "# define a disturbance\n",
    "# dP = -9.0\n",
    "dP = 0.0\n",
    "sigma = 50.0\n",
    "location = [-1500., -900.]\n",
    "dp = local_disturbance(isinside, xrange, yrange, location, dP, sigma)\n",
    "println(trapz((yrange, xrange), dp))\n",
    "ctr_plot(isinside, dp)"
   ]
  },
  {
   "cell_type": "code",
   "execution_count": null,
   "id": "33917dd0",
   "metadata": {
    "scrolled": true
   },
   "outputs": [],
   "source": [
    "# perform a dynamical simulation\n",
    "ts, thetas, omegas = perform_dyn_sim(isinside, n, bx, by, p+dp, m, d, th0, interval = 1000, Ndt = Int64(2E5), dt = 0.0001);"
   ]
  },
  {
   "cell_type": "code",
   "execution_count": null,
   "id": "74b8a55b",
   "metadata": {},
   "outputs": [],
   "source": [
    "# plotting the frequency at different locations\n",
    "coord = [0 -250; 0.0 0.0; -500 500; 500. 500.; -1500.0 -1000.0; 750.0 -1000]\n",
    "time_plot(ts, omegas, coord, tstart = 0.0, tend = 5.0, borders = [border])"
   ]
  },
  {
   "cell_type": "code",
   "execution_count": null,
   "id": "cc1fb452",
   "metadata": {},
   "outputs": [],
   "source": [
    "# evolution of the frequency\n",
    "ctr_movie(ts, omegas, tstart = 0.0, tend = 50.0)"
   ]
  },
  {
   "cell_type": "code",
   "execution_count": null,
   "id": "688e57b8",
   "metadata": {},
   "outputs": [],
   "source": [
    "sum(p[isinside .| isborder])"
   ]
  },
  {
   "cell_type": "code",
   "execution_count": null,
   "id": "41c53726",
   "metadata": {},
   "outputs": [],
   "source": []
  }
 ],
 "metadata": {
  "kernelspec": {
   "display_name": "Julia 1.6.1",
   "language": "julia",
   "name": "julia-1.6"
  },
  "language_info": {
   "file_extension": ".jl",
   "mimetype": "application/julia",
   "name": "julia",
   "version": "1.6.1"
  }
 },
 "nbformat": 4,
 "nbformat_minor": 5
}

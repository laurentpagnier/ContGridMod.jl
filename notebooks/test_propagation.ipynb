{
 "cells": [
  {
   "cell_type": "code",
   "execution_count": null,
   "id": "4ced5118",
   "metadata": {
    "scrolled": true
   },
   "outputs": [],
   "source": [
    "# load libraries and scripts\n",
    "import JSON\n",
    "using Plots\n",
    "using HDF5\n",
    "using Trapz\n",
    "include(\"../scripts/tools.jl\")\n",
    "include(\"../scripts/get_grid.jl\")\n",
    "include(\"../scripts/get_params.jl\")\n",
    "include(\"../scripts/disturbances.jl\")\n",
    "include(\"../scripts/stable.jl\")\n",
    "include(\"../scripts/dynamics.jl\")"
   ]
  },
  {
   "cell_type": "code",
   "execution_count": null,
   "id": "0b7de196",
   "metadata": {
    "scrolled": true
   },
   "outputs": [],
   "source": [
    "#load borders\n",
    "border = import_border(\"../data/border.json\")\n",
    "\n",
    "# create the lattice grid\n",
    "dx = 20\n",
    "Nx, Ny, xrange, yrange, isinside, isborder, n = get_grid(border, Float64(dx))\n",
    "\n",
    "# define x and y coordinate for plotting\n",
    "x = repeat(reshape(xrange,1,Nx), Ny, 1)\n",
    "y = repeat(reshape(yrange,Ny,1), 1, Nx);"
   ]
  },
  {
   "cell_type": "code",
   "execution_count": null,
   "id": "4d655d3a",
   "metadata": {},
   "outputs": [],
   "source": [
    "# compute or load grid parameters\n",
    "recompute_param = true\n",
    "if(recompute_param || isfile(\"../numerics/grid_params_\" * string(dx) * \".h5\"))\n",
    "    #bx, by, p, m, d = get_params_diff(isinside, isborder, Float64(dx), yrange, xrange, \"../data/pantagruel.h5\",\n",
    "    #    \"../numerics/grid_params_\" * string(dx) * \".h5\", Niter=5000, dmax = 10.0, patch=0.002, bmin=0.01)\n",
    "    bx, by, p, m, d = get_params(isinside, isborder, Float64(dx), yrange, xrange, \"../data/pantagruel.h5\",\n",
    "        \"../numerics/grid_params_\" * string(dx) * \".h5\")\n",
    "else\n",
    "    bx, by, p, m, d = get_params(isinside, \"../numerics/grid_params_\" * string(dx) * \".h5\")\n",
    "end"
   ]
  },
  {
   "cell_type": "code",
   "execution_count": null,
   "id": "697af355",
   "metadata": {},
   "outputs": [],
   "source": [
    "# define a disturbance\n",
    "# dP = -9.0\n",
    "dP = 0.0\n",
    "sigma = 50.0\n",
    "location = [-1500., -900.]\n",
    "dp = local_disturbance(isinside, xrange, yrange, location, dP, sigma)\n",
    "println(trapz((yrange, xrange), dp))\n",
    "ctr_plot(isinside, dp)"
   ]
  },
  {
   "cell_type": "code",
   "execution_count": null,
   "id": "5011c99b",
   "metadata": {},
   "outputs": [],
   "source": [
    "# compute, iteratively, the stable solution\n",
    "th0 = compute_stable_sol(isinside, n, bx, by, p);"
   ]
  },
  {
   "cell_type": "code",
   "execution_count": null,
   "id": "33917dd0",
   "metadata": {
    "scrolled": true
   },
   "outputs": [],
   "source": [
    "# perform a dynamical simulation\n",
    "thetas, omegas = perform_dyn_sim(isinside, n, bx, by, p, m, d, th0, dt=0.000001, Ndt=100, interval=10)"
   ]
  },
  {
   "cell_type": "code",
   "execution_count": null,
   "id": "74b8a55b",
   "metadata": {},
   "outputs": [],
   "source": [
    "contour(omegas[:,:,2], fill=true)\n",
    "maximum(omegas[:,:,8])"
   ]
  },
  {
   "cell_type": "code",
   "execution_count": null,
   "id": "f5cfaa2f",
   "metadata": {},
   "outputs": [],
   "source": [
    "maximum(bx)"
   ]
  },
  {
   "cell_type": "code",
   "execution_count": 1,
   "id": "24c9b43e",
   "metadata": {},
   "outputs": [
    {
     "ename": "LoadError",
     "evalue": "UndefVarError: yrange not defined",
     "output_type": "error",
     "traceback": [
      "UndefVarError: yrange not defined",
      "",
      "Stacktrace:",
      " [1] top-level scope",
      "   @ In[1]:1",
      " [2] eval",
      "   @ ./boot.jl:360 [inlined]",
      " [3] include_string(mapexpr::typeof(REPL.softscope), mod::Module, code::String, filename::String)",
      "   @ Base ./loading.jl:1116"
     ]
    }
   ],
   "source": []
  },
  {
   "cell_type": "code",
   "execution_count": null,
   "id": "82c9edb9",
   "metadata": {},
   "outputs": [],
   "source": []
  }
 ],
 "metadata": {
  "kernelspec": {
   "display_name": "Julia 1.6.2",
   "language": "julia",
   "name": "julia-1.6"
  },
  "language_info": {
   "file_extension": ".jl",
   "mimetype": "application/julia",
   "name": "julia",
   "version": "1.6.2"
  }
 },
 "nbformat": 4,
 "nbformat_minor": 5
}

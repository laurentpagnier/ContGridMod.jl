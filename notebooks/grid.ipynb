{
 "cells": [
  {
   "cell_type": "code",
   "execution_count": null,
   "id": "b2b10492",
   "metadata": {},
   "outputs": [],
   "source": [
    "# load libraries and scripts\n",
    "include(\"../scripts/tools.jl\")\n",
    "include(\"../scripts/plotting.jl\")\n",
    "include(\"../scripts/get_grid.jl\")\n",
    "include(\"../scripts/get_params.jl\")\n",
    "include(\"../scripts/stable.jl\")\n",
    "include(\"../scripts/dynamics.jl\")\n",
    "include(\"../scripts/disturbances.jl\");\n",
    "include(\"../scripts/ps_analysis.jl\");"
   ]
  },
  {
   "cell_type": "code",
   "execution_count": null,
   "id": "02237e51",
   "metadata": {
    "scrolled": true
   },
   "outputs": [],
   "source": [
    "#load borders\n",
    "border, scale_factor = import_border(\"../data/borders/border.json\")\n",
    "\n",
    "dx = 0.01\n",
    "Nx, Ny, coord, isinside, isborder, isgrid, n = get_grid(border, dx);"
   ]
  },
  {
   "cell_type": "code",
   "execution_count": null,
   "id": "10424f3d",
   "metadata": {
    "scrolled": false
   },
   "outputs": [],
   "source": [
    "scatter(coord[isgrid,2], coord[isgrid,1], xlim=(0.0, .25),ylim=(-0.3,-0.1))\n",
    "scatter!(coord[isborder,2], coord[isborder,1], xlim=(0.0, .25),ylim=(-0.3,-0.1))"
   ]
  },
  {
   "cell_type": "code",
   "execution_count": null,
   "id": "9999b784",
   "metadata": {},
   "outputs": [],
   "source": []
  }
 ],
 "metadata": {
  "kernelspec": {
   "display_name": "Julia 1.6.1",
   "language": "julia",
   "name": "julia-1.6"
  },
  "language_info": {
   "file_extension": ".jl",
   "mimetype": "application/julia",
   "name": "julia",
   "version": "1.6.1"
  }
 },
 "nbformat": 4,
 "nbformat_minor": 5
}

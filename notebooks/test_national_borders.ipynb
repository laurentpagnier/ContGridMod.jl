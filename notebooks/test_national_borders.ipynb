{
 "cells": [
  {
   "cell_type": "code",
   "execution_count": null,
   "id": "57454cee",
   "metadata": {},
   "outputs": [],
   "source": [
    "using Plots\n",
    "using JSON\n",
    "include(\"../scripts/tools.jl\")\n",
    "data, keys = import_json_numerics(\"../data/national_borders.json\")"
   ]
  },
  {
   "cell_type": "code",
   "execution_count": null,
   "id": "8eddbb8f",
   "metadata": {
    "scrolled": true
   },
   "outputs": [],
   "source": [
    "plot()\n",
    "for k in keys\n",
    "    #println(k)\n",
    "    plot!(data[k][:,1],data[k][:,2])\n",
    "end\n",
    "current()"
   ]
  },
  {
   "cell_type": "code",
   "execution_count": null,
   "id": "e049a22e",
   "metadata": {},
   "outputs": [],
   "source": []
  }
 ],
 "metadata": {
  "kernelspec": {
   "display_name": "Julia 1.6.2",
   "language": "julia",
   "name": "julia-1.6"
  },
  "language_info": {
   "file_extension": ".jl",
   "mimetype": "application/julia",
   "name": "julia",
   "version": "1.6.2"
  }
 },
 "nbformat": 4,
 "nbformat_minor": 5
}

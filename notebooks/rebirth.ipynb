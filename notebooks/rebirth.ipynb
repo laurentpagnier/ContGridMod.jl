{
 "cells": [
  {
   "cell_type": "code",
   "execution_count": null,
   "id": "b2b10492",
   "metadata": {},
   "outputs": [],
   "source": [
    "# load libraries and scripts\n",
    "include(\"../scripts/tools.jl\")\n",
    "include(\"../scripts/plotting.jl\")\n",
    "include(\"../scripts/get_grid.jl\")\n",
    "include(\"../scripts/get_params.jl\")\n",
    "include(\"../scripts/stable.jl\")\n",
    "include(\"../scripts/dynamics.jl\")\n",
    "include(\"../scripts/disturbances.jl\");"
   ]
  },
  {
   "cell_type": "code",
   "execution_count": null,
   "id": "02237e51",
   "metadata": {
    "scrolled": true
   },
   "outputs": [],
   "source": [
    "#load borders\n",
    "border, scale_factor = import_border(\"../data/borders/border.json\")\n",
    "\n",
    "dx = 0.01\n",
    "Nx, Ny, coord, isinside, isborder, isgrid, n = get_grid(border, dx);"
   ]
  },
  {
   "cell_type": "code",
   "execution_count": null,
   "id": "10424f3d",
   "metadata": {
    "scrolled": false
   },
   "outputs": [],
   "source": [
    "# compute or load grid parameters\n",
    "minv, gamma, p, xi, bx, by, m, d = get_params_diff_fast(isinside, isgrid, n, Ny, Nx, Float64(dx), coord,\n",
    "    scale_factor, \"../data/disc/pantagruel.h5\",\n",
    "    \"../numerics/grid_params_\" * string(dx) * \".h5\",\n",
    "    Niter=30, dmax = 0.01, patch=20.0, bmin=50.0, tau=0.00001);"
   ]
  },
  {
   "cell_type": "code",
   "execution_count": null,
   "id": "7050424e",
   "metadata": {},
   "outputs": [],
   "source": [
    "th0 = compute_stable_sol(isinside, n, bx, by, p, interval = 1000, Niter = 40000, tol = 1e-7);"
   ]
  },
  {
   "cell_type": "code",
   "execution_count": null,
   "id": "75d216ab",
   "metadata": {},
   "outputs": [],
   "source": [
    "#heatmap(reshape(th0,Ny,Nx))\n",
    "#println(size(p))"
   ]
  },
  {
   "cell_type": "code",
   "execution_count": null,
   "id": "65674205",
   "metadata": {},
   "outputs": [],
   "source": [
    "# add a disturbance\n",
    "dp = local_disturbance(coord[isgrid,:], [-0.2; -0.5], -10.0, 0.1, dx)"
   ]
  },
  {
   "cell_type": "code",
   "execution_count": null,
   "id": "4721e0d8",
   "metadata": {
    "scrolled": true
   },
   "outputs": [],
   "source": [
    "ts, thetas, omegas = perform_dyn_sim(isgrid, xi, p+dp, minv, gamma, th0, interval=10, Ndt=5000, dt=0.01, method=\"crank-nicolson\")"
   ]
  },
  {
   "cell_type": "code",
   "execution_count": null,
   "id": "20c2200b",
   "metadata": {},
   "outputs": [],
   "source": [
    "c = [500 -250; 0.0 0.0; -500 500; 500. 500.; -1500.0 -1000.0; 750.0 -1000; -1000 -400] / scale_factor\n",
    "time_plot(ts, omegas, coord[isgrid,:], c, tstart = 0.0, tend = 50.0, borders = [border])"
   ]
  },
  {
   "cell_type": "code",
   "execution_count": null,
   "id": "d7a9a47a",
   "metadata": {},
   "outputs": [],
   "source": [
    "(sum(dp)/sum(d)+0.168294674687655) / 0.168294674687655"
   ]
  },
  {
   "cell_type": "code",
   "execution_count": null,
   "id": "ff4ff0fe",
   "metadata": {},
   "outputs": [],
   "source": [
    "hm_movie(isgrid, Ny, Nx, ts, omegas, tstart=0.0, tend=20.0, interval = 1)"
   ]
  },
  {
   "cell_type": "code",
   "execution_count": null,
   "id": "76a8d8c7",
   "metadata": {},
   "outputs": [],
   "source": []
  },
  {
   "cell_type": "code",
   "execution_count": null,
   "id": "01ba513e",
   "metadata": {},
   "outputs": [],
   "source": []
  }
 ],
 "metadata": {
  "kernelspec": {
   "display_name": "Julia 1.6.1",
   "language": "julia",
   "name": "julia-1.6"
  },
  "language_info": {
   "file_extension": ".jl",
   "mimetype": "application/julia",
   "name": "julia",
   "version": "1.6.1"
  }
 },
 "nbformat": 4,
 "nbformat_minor": 5
}

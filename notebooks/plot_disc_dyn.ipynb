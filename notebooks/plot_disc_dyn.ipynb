{
 "cells": [
  {
   "cell_type": "code",
   "execution_count": null,
   "id": "fc82f52a",
   "metadata": {},
   "outputs": [],
   "source": [
    "# load libraries and scripts\n",
    "include(\"../scripts/tools.jl\")\n",
    "include(\"../scripts/get_grid.jl\")\n",
    "include(\"../scripts/get_params.jl\")\n",
    "include(\"../scripts/stable.jl\")\n",
    "include(\"../scripts/dynamics.jl\")\n",
    "include(\"../scripts/disturbances.jl\")\n",
    "include(\"../scripts/plotting.jl\")\n",
    "include(\"../scripts/ps_analysis.jl\");\n",
    "include(\"../scripts/disc_solvers.jl\");\n",
    "using HDF5"
   ]
  },
  {
   "cell_type": "code",
   "execution_count": null,
   "id": "05bfde7a",
   "metadata": {},
   "outputs": [],
   "source": [
    "dm = load_discrete_model(\"../data/disc/pantagruel.h5\", 1.0);\n",
    "gps_coord = [38.27656890118348 -4.965603742225435; 47.97737126959275 6.3032033856999234; 39.74292378550017 21.948260020339305]\n",
    "id, id2 = find_gen(dm, gps_coord, 0.0, scale_factor=1.0)"
   ]
  },
  {
   "cell_type": "code",
   "execution_count": null,
   "id": "5fa299fc",
   "metadata": {},
   "outputs": [],
   "source": [
    "data = h5read(\"../numerics/disc_results.h5\",\"/\")"
   ]
  },
  {
   "cell_type": "code",
   "execution_count": null,
   "id": "4b08b2f2",
   "metadata": {},
   "outputs": [],
   "source": [
    "plot(data[\"omegas\"][id2,:]')"
   ]
  },
  {
   "cell_type": "code",
   "execution_count": null,
   "id": "80fb76ff",
   "metadata": {},
   "outputs": [],
   "source": [
    "size(data[\"omegas\"])"
   ]
  },
  {
   "cell_type": "code",
   "execution_count": null,
   "id": "65cae5f8",
   "metadata": {},
   "outputs": [],
   "source": []
  }
 ],
 "metadata": {
  "kernelspec": {
   "display_name": "Julia 1.6.2",
   "language": "julia",
   "name": "julia-1.6"
  },
  "language_info": {
   "file_extension": ".jl",
   "mimetype": "application/julia",
   "name": "julia",
   "version": "1.6.2"
  }
 },
 "nbformat": 4,
 "nbformat_minor": 5
}

{
 "cells": [
  {
   "cell_type": "code",
   "execution_count": 1,
   "id": "fc82f52a",
   "metadata": {},
   "outputs": [],
   "source": [
    "# load libraries and scripts\n",
    "include(\"../scripts/tools.jl\")\n",
    "include(\"../scripts/get_grid.jl\")\n",
    "include(\"../scripts/get_params.jl\")\n",
    "include(\"../scripts/stable.jl\")\n",
    "include(\"../scripts/dynamics.jl\")\n",
    "include(\"../scripts/disturbances.jl\")\n",
    "include(\"../scripts/plotting.jl\")\n",
    "include(\"../scripts/ps_analysis.jl\");\n",
    "include(\"../scripts/disc_solvers.jl\");\n",
    "using HDF5"
   ]
  },
  {
   "cell_type": "code",
   "execution_count": 2,
   "id": "05bfde7a",
   "metadata": {},
   "outputs": [
    {
     "data": {
      "text/plain": [
       "([616, 392, 5], [555, 339, 2])"
      ]
     },
     "execution_count": 2,
     "metadata": {},
     "output_type": "execute_result"
    }
   ],
   "source": [
    "dm = load_discrete_model(\"../data/disc/pantagruel.h5\", 1.0);\n",
    "gps_coord = [38.27656890118348 -4.965603742225435; 47.97737126959275 6.3032033856999234; 39.74292378550017 21.948260020339305]\n",
    "id, id2 = find_gen(dm, gps_coord, 0.0, scale_factor=1.0)"
   ]
  },
  {
   "cell_type": "code",
   "execution_count": 3,
   "id": "5fa299fc",
   "metadata": {},
   "outputs": [
    {
     "ename": "LoadError",
     "evalue": "unable to determine if ../numerics/disc_results.h5 is accessible in the HDF5 format (file may not exist)",
     "output_type": "error",
     "traceback": [
      "unable to determine if ../numerics/disc_results.h5 is accessible in the HDF5 format (file may not exist)",
      "",
      "Stacktrace:",
      " [1] error(s::String)",
      "   @ Base ./error.jl:33",
      " [2] h5open(filename::String, mode::String; swmr::Bool, pv::Base.Iterators.Pairs{Union{}, Union{}, Tuple{}, NamedTuple{(), Tuple{}}})",
      "   @ HDF5 ~/.julia/packages/HDF5/0iEnL/src/HDF5.jl:430",
      " [3] h5open",
      "   @ ~/.julia/packages/HDF5/0iEnL/src/HDF5.jl:412 [inlined]",
      " [4] h5read(filename::String, name::String; pv::Base.Iterators.Pairs{Union{}, Union{}, Tuple{}, NamedTuple{(), Tuple{}}})",
      "   @ HDF5 ~/.julia/packages/HDF5/0iEnL/src/HDF5.jl:489",
      " [5] h5read(filename::String, name::String)",
      "   @ HDF5 ~/.julia/packages/HDF5/0iEnL/src/HDF5.jl:488",
      " [6] top-level scope",
      "   @ In[3]:1",
      " [7] eval",
      "   @ ./boot.jl:360 [inlined]",
      " [8] include_string(mapexpr::typeof(REPL.softscope), mod::Module, code::String, filename::String)",
      "   @ Base ./loading.jl:1116"
     ]
    }
   ],
   "source": [
    "data = h5read(\"../numerics/disc_results.h5\",\"/\")"
   ]
  },
  {
   "cell_type": "code",
   "execution_count": 4,
   "id": "4b08b2f2",
   "metadata": {},
   "outputs": [
    {
     "ename": "LoadError",
     "evalue": "UndefVarError: data not defined",
     "output_type": "error",
     "traceback": [
      "UndefVarError: data not defined",
      "",
      "Stacktrace:",
      " [1] top-level scope",
      "   @ In[4]:1",
      " [2] eval",
      "   @ ./boot.jl:360 [inlined]",
      " [3] include_string(mapexpr::typeof(REPL.softscope), mod::Module, code::String, filename::String)",
      "   @ Base ./loading.jl:1116"
     ]
    }
   ],
   "source": [
    "plot(data[\"omegas\"][id2,:]')"
   ]
  },
  {
   "cell_type": "code",
   "execution_count": null,
   "id": "80fb76ff",
   "metadata": {},
   "outputs": [],
   "source": [
    "size(data[\"omegas\"])"
   ]
  },
  {
   "cell_type": "code",
   "execution_count": null,
   "id": "65cae5f8",
   "metadata": {},
   "outputs": [],
   "source": []
  }
 ],
 "metadata": {
  "kernelspec": {
   "display_name": "Julia 1.6.2",
   "language": "julia",
   "name": "julia-1.6"
  },
  "language_info": {
   "file_extension": ".jl",
   "mimetype": "application/julia",
   "name": "julia",
   "version": "1.6.2"
  }
 },
 "nbformat": 4,
 "nbformat_minor": 5
}

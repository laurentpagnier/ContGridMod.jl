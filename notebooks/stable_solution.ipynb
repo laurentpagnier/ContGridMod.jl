{
 "cells": [
  {
   "cell_type": "code",
   "execution_count": null,
   "id": "b2b10492",
   "metadata": {},
   "outputs": [],
   "source": [
    "# load libraries and scripts\n",
    "include(\"../scripts/tools.jl\")\n",
    "include(\"../scripts/get_grid.jl\")\n",
    "include(\"../scripts/get_params.jl\")\n",
    "include(\"../scripts/stable.jl\")\n",
    "include(\"../scripts/dynamics.jl\")\n",
    "include(\"../scripts/disturbances.jl\")\n",
    "include(\"../scripts/plotting.jl\")\n",
    "include(\"../scripts/ps_analysis.jl\");"
   ]
  },
  {
   "cell_type": "code",
   "execution_count": null,
   "id": "02237e51",
   "metadata": {
    "scrolled": true
   },
   "outputs": [],
   "source": [
    "#load borders\n",
    "border, scale_factor = import_border(\"../data/borders/border.json\")\n",
    "\n",
    "dx = 0.005\n",
    "grid = get_grid(border, dx);"
   ]
  },
  {
   "cell_type": "code",
   "execution_count": null,
   "id": "08689078",
   "metadata": {},
   "outputs": [],
   "source": [
    "#scatter(grid.coord[grid.isgrid,2],grid.coord[grid.isgrid,1])\n",
    "#scatter!(grid.coord[grid.isborder,2],grid.coord[grid.isborder,1])"
   ]
  },
  {
   "cell_type": "code",
   "execution_count": null,
   "id": "10424f3d",
   "metadata": {
    "scrolled": false
   },
   "outputs": [],
   "source": [
    "# compute or load grid parameters\n",
    "contmod = get_params(grid, scale_factor, \"../data/disc/pantagruel.h5\", Niter=10,\n",
    "    dmax = 2*dx, patch=4000.0, bmin=0.0, tau=0.00001);"
   ]
  },
  {
   "cell_type": "code",
   "execution_count": null,
   "id": "96aaebc2",
   "metadata": {},
   "outputs": [],
   "source": [
    "heatmap(reshape(contmod.bx, contmod.Ny, contmod.Nx))"
   ]
  },
  {
   "cell_type": "code",
   "execution_count": null,
   "id": "7050424e",
   "metadata": {
    "scrolled": true
   },
   "outputs": [],
   "source": [
    "compute_stable_sol!(contmod, interval = 10000, Niter = 60000, tol = 1e-7);"
   ]
  },
  {
   "cell_type": "code",
   "execution_count": null,
   "id": "492e2f39",
   "metadata": {},
   "outputs": [],
   "source": [
    "dm = load_discrete_model(\"../data/disc/pantagruel.h5\", scale_factor)\n",
    "#th = set_ref_phase!(contmod, vec(dm.coord[1,:]), th_ref = 0.0)\n",
    "th_disc = get_discrete_values(contmod.coord[contmod.isgrid,:], dm.coord, contmod.th[contmod.isgrid]);"
   ]
  },
  {
   "cell_type": "code",
   "execution_count": null,
   "id": "7ab06d94",
   "metadata": {},
   "outputs": [],
   "source": [
    "scatter(dm.th, th_disc)\n",
    "th_min = minimum(dm.th)\n",
    "th_max = maximum(dm.th)\n",
    "plot!([th_min; th_max], [th_min; th_max], xlabel=\"\\$\\\\theta_i^{\\\\rm ref}\\$\",\n",
    "    ylabel=\"\\$\\\\theta_i\\$\",color=:red, lw = 2, legend=false, size=(400,400), xlim=(-1.6,1.6), ylim=(-1.6, 1.6))\n",
    "savefig(\"../numerics/theta_ref_vs_cont.pdf\")"
   ]
  },
  {
   "cell_type": "code",
   "execution_count": null,
   "id": "07ee21af",
   "metadata": {},
   "outputs": [],
   "source": [
    "#thr = get_cont_values(isgrid, coord[isgrid,:], coord_disc, th_ref);"
   ]
  },
  {
   "cell_type": "code",
   "execution_count": null,
   "id": "dc143263",
   "metadata": {},
   "outputs": [],
   "source": [
    "#heatmap(reshape(abs.(thr-th), Ny, Nx))"
   ]
  },
  {
   "cell_type": "code",
   "execution_count": null,
   "id": "ba81f731",
   "metadata": {},
   "outputs": [],
   "source": [
    "disc_plot(dm.coord, dm.th, borders=[border])\n",
    "savefig(\"../numerics/disc_th.pdf\")\n",
    "#plot!(colorbar=true)\n",
    "#plot!(clims=(0.0,1.0), c=:viridis, colorbar_title=\"cbar\", grid=false)"
   ]
  },
  {
   "cell_type": "code",
   "execution_count": null,
   "id": "4b1f726d",
   "metadata": {},
   "outputs": [],
   "source": [
    "hm_plot(contmod, contmod.th, cb_title = \"\\$\\\\theta(x)\\$\", borders=[border])\n",
    "#hm_plot(contmod, contmod.th, cb_title = \"\\$\\\\theta(x)\\$\")\n",
    "savefig(\"../numerics/cont_theta.svg\")\n",
    "#plot!(clims=(0.0,1.0), c=:viridis, colorbar_title=\"cbar\", grid=false)"
   ]
  },
  {
   "cell_type": "code",
   "execution_count": null,
   "id": "68297fb3",
   "metadata": {},
   "outputs": [],
   "source": [
    "add_local_disturbance!(contmod, [-0.35; 0.24], -10.0, 0.02, dx);"
   ]
  },
  {
   "cell_type": "code",
   "execution_count": null,
   "id": "ec4556af",
   "metadata": {},
   "outputs": [],
   "source": [
    "ts, thetas, omegas = perform_dyn_sim(contmod, interval=100,\n",
    "    Ndt=5000, dt=0.01, method=\"crank-nicolson\");"
   ]
  },
  {
   "cell_type": "code",
   "execution_count": null,
   "id": "b74a3966",
   "metadata": {},
   "outputs": [],
   "source": [
    "sum(contmod.p)"
   ]
  },
  {
   "cell_type": "code",
   "execution_count": null,
   "id": "19013199",
   "metadata": {},
   "outputs": [],
   "source": [
    "#hm_movie(contmod, ts, omegas, tstart = 0.0, tend = 20.0, interval = 1)\n",
    "c = [500 -250; 0.0 0.0; -500 500; 500. 500.; -1500.0 -1000.0; 750.0 -1000; -1000 -400] / scale_factor\n",
    "time_plot(contmod, ts, omegas, c, borders = [border], tstart = 0.0, tend = 50.0)"
   ]
  },
  {
   "cell_type": "code",
   "execution_count": null,
   "id": "32e309ab",
   "metadata": {},
   "outputs": [],
   "source": [
    "hm_plot(contmod, contmod.th, cb_title = \"\\$\\\\theta(x)\\$\", borders=[border])"
   ]
  },
  {
   "cell_type": "code",
   "execution_count": null,
   "id": "3cd6cf14",
   "metadata": {},
   "outputs": [],
   "source": [
    "println(size(thetas))\n",
    "println(sum(contmod.isgrid))\n",
    "println(size(contmod.th))"
   ]
  },
  {
   "cell_type": "code",
   "execution_count": null,
   "id": "76fb6479",
   "metadata": {},
   "outputs": [],
   "source": [
    "temp = zeros(size(contmod.th))\n",
    "temp[contmod.isgrid] = thetas[:,end]\n",
    "\n",
    "hm_plot(contmod, abs.(contmod.th-temp), cb_title = \"\\$\\\\theta(x)\\$\", borders=[border])"
   ]
  },
  {
   "cell_type": "code",
   "execution_count": null,
   "id": "8e725bbb",
   "metadata": {},
   "outputs": [],
   "source": []
  }
 ],
 "metadata": {
  "kernelspec": {
   "display_name": "Julia 1.6.2",
   "language": "julia",
   "name": "julia-1.6"
  },
  "language_info": {
   "file_extension": ".jl",
   "mimetype": "application/julia",
   "name": "julia",
   "version": "1.6.2"
  }
 },
 "nbformat": 4,
 "nbformat_minor": 5
}

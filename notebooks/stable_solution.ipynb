{
 "cells": [
  {
   "cell_type": "code",
   "execution_count": null,
   "id": "b2b10492",
   "metadata": {},
   "outputs": [],
   "source": [
    "import JSON\n",
    "using Plots\n",
    "using HDF5\n",
    "using Trapz\n",
    "include(\"../scripts/tools.jl\")\n",
    "include(\"../scripts/get_grid.jl\")\n",
    "include(\"../scripts/get_params.jl\")"
   ]
  },
  {
   "cell_type": "code",
   "execution_count": null,
   "id": "02237e51",
   "metadata": {},
   "outputs": [],
   "source": [
    "border = import_border(\"../data/border.json\")\n",
    "dx = 60\n",
    "Nx, Ny, xrange, yrange, isinside, isborder, n = get_grid(border, Float64(dx))\n",
    "\n",
    "x = repeat(reshape(xrange,1,Nx),Ny,1)\n",
    "y = repeat(reshape(yrange,Ny,1),1,Nx)\n",
    "x_for_bx = repeat(reshape(xrange,1,Nx),Ny,1) .- dx/2\n",
    "y_for_bx = repeat(reshape(yrange,Ny,1),1,Nx)\n",
    "x_for_by = repeat(reshape(xrange,1,Nx),Ny,1)\n",
    "y_for_by = repeat(reshape(yrange,Ny,1),1,Nx) .+ dx/2;\n",
    "\n"
   ]
  },
  {
   "cell_type": "code",
   "execution_count": null,
   "id": "10424f3d",
   "metadata": {},
   "outputs": [],
   "source": [
    "recompute_param = true\n",
    "sigma = 100.\n",
    "if(recompute_param)\n",
    "    bx, by, p, m, d = get_params(isinside, isborder, sigma, Float64(dx), \"../data/pantagruel.h5\",\n",
    "        \"../numerics/grid_params_\" * string(dx) * \".h5\")\n",
    "else\n",
    "    bx, by, p, m, d = get_params(isinside, \"../numerics/grid_params_\" * string(dx) * \".h5\")\n",
    "end\n",
    "trapz((yrange, xrange), bx)"
   ]
  },
  {
   "cell_type": "code",
   "execution_count": null,
   "id": "26df8b6c",
   "metadata": {},
   "outputs": [],
   "source": [
    "contour(d, fill=true)"
   ]
  },
  {
   "cell_type": "code",
   "execution_count": null,
   "id": "d3d0346c",
   "metadata": {},
   "outputs": [],
   "source": [
    "interval = 100\n",
    "Niter = 5000\n",
    "th = zeros(Ny, Nx)\n",
    "\n",
    "\n",
    "@time begin\n",
    "    for k in 1:Niter\n",
    "        if(mod(k,interval) == 0)\n",
    "            temp = copy(th)\n",
    "        end\n",
    "        Threads.@threads for i in 2:Ny-1\n",
    "            Threads.@threads for j in 2:Nx-1\n",
    "                if(isinside[i,j] | isborder[i,j])\n",
    "                    bij = (by[i-1,j] + by[i,j] + bx[i,j] + bx[i,j+1])\n",
    "                    th[i,j] = (by[i,j] * th[i+1,j] + by[i-1,j] * th[i-1,j] + \n",
    "                        bx[i,j+1] * th[i,j+1] + bx[i,j] * th[i,j-1] + dx^2*p[i,j]) / bij\n",
    "                    \n",
    "                    Threads.@threads for k in 1:size(n,1)\n",
    "                    #for k in 1:size(n,1)\n",
    "                        i = Int64(n[k,1])\n",
    "                        j = Int64(n[k,2])\n",
    "                        nx = n[k,4]\n",
    "                        ny = n[k,3]\n",
    "                        if(nx == 1)\n",
    "                            th0[i,j] = th0[i,j-2]\n",
    "                        else(nx == -1)\n",
    "                            th0[i,j] = th0[i,j+2]\n",
    "                        end\n",
    "                        if(ny == 1)\n",
    "                            th0[i,j] = th0[i-2,j]\n",
    "                        else(ny == -1)\n",
    "                            th0[i,j] = th0[i+2,j]\n",
    "                        end\n",
    "                    end            \n",
    "                    \n",
    "                end\n",
    "            end\n",
    "        end   \n",
    "        if(mod(k,interval) == 0)\n",
    "            println([k maximum(abs.(th-temp))])\n",
    "        end\n",
    "\n",
    "    end\n",
    "end\n"
   ]
  },
  {
   "cell_type": "code",
   "execution_count": null,
   "id": "c81caa69",
   "metadata": {
    "scrolled": true
   },
   "outputs": [],
   "source": [
    "println(maximum(th))\n",
    "println(minimum(th))\n",
    "do_plot(isinside, th)\n",
    "#do_plot(isgrid, p)\n",
    "#contour(bx, fill=true)"
   ]
  },
  {
   "cell_type": "code",
   "execution_count": null,
   "id": "cfd2c4d0",
   "metadata": {},
   "outputs": [],
   "source": [
    "fid = h5open(\"../numerics/stable_\" * string(dx) * \".h5\", \"w\")\n",
    "write(fid, \"th\", th)\n",
    "close(fid)"
   ]
  },
  {
   "cell_type": "code",
   "execution_count": null,
   "id": "716fa7ce",
   "metadata": {},
   "outputs": [],
   "source": []
  },
  {
   "cell_type": "code",
   "execution_count": null,
   "id": "5df508b1",
   "metadata": {},
   "outputs": [],
   "source": []
  }
 ],
 "metadata": {
  "kernelspec": {
   "display_name": "Julia 1.6.2",
   "language": "julia",
   "name": "julia-1.6"
  },
  "language_info": {
   "file_extension": ".jl",
   "mimetype": "application/julia",
   "name": "julia",
   "version": "1.6.2"
  }
 },
 "nbformat": 4,
 "nbformat_minor": 5
}

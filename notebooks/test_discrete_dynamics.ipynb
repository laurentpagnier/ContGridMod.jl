{
 "cells": [
  {
   "cell_type": "code",
   "execution_count": null,
   "id": "e34c2f95",
   "metadata": {
    "scrolled": false
   },
   "outputs": [],
   "source": [
    "include(\"../scripts/tools.jl\");\n",
    "include(\"../scripts/get_grid.jl\");\n",
    "include(\"../scripts/get_params.jl\");\n",
    "include(\"../scripts/disc_solvers.jl\");"
   ]
  },
  {
   "cell_type": "code",
   "execution_count": null,
   "id": "b0205859",
   "metadata": {},
   "outputs": [],
   "source": [
    "dm = load_discrete_model(\"../data/disc/pantagruel.h5\", 1.0);"
   ]
  },
  {
   "cell_type": "code",
   "execution_count": null,
   "id": "45872d89",
   "metadata": {},
   "outputs": [],
   "source": [
    "gps_coord = [38.27656890118348 -4.965603742225435; 47.97737126959275 6.3032033856999234; 39.74292378550017 21.948260020339305]\n",
    "coord = alberts_projection(gps_coord[:,[2;1]] ./ (180 / pi) )\n",
    "id = find_gen(dm, gps_coord, 9.0, scale_factor=1.0)\n",
    "scatter(dm.coord[dm.idgen,2], dm.coord[dm.idgen,1])\n",
    "scatter!(dm.coord[dm.idgen[id],2], dm.coord[dm.idgen[id],1])"
   ]
  },
  {
   "cell_type": "code",
   "execution_count": null,
   "id": "725abcc7",
   "metadata": {},
   "outputs": [],
   "source": [
    "Nbus = length(dm.load)\n",
    "is_producing = dm.gen .> 0\n",
    "id_gen = dm.idgen[is_producing]\n",
    "id_load = setdiff(1:Nbus, id_gen)\n",
    "#is_producing = data[\"gen\"][:,2] .> 0\n",
    "#id_gen = Int64.(data[\"gen\"][is_producing, 1])\n",
    "#id_load = setdiff(1:length(l), id_gen)\n",
    "ng = length(id_gen)\n",
    "nl = length(id_load)\n",
    "\n",
    "#println(size(dm.idb))\n",
    "\n",
    "g = zeros(Nbus)\n",
    "g[dm.idgen] .= dm.gen\n",
    "p = -dm.load + g\n",
    "p .-= sum(p) / Nbus\n",
    "\n",
    "og = zeros(ng)\n",
    "\n",
    "edges = Int64.(zeros(size(dm.idb)))\n",
    "line_start = dm.idb[:, 1]\n",
    "line_end = dm.idb[:, 2]\n",
    "# bus reordering: generator buses first \n",
    "for i in 1:ng\n",
    "    edges[line_start .== id_gen[i], 1] .= i\n",
    "    edges[line_end .== id_gen[i], 2] .= i\n",
    "end\n",
    "for i in 1:nl\n",
    "    edges[line_start .== id_load[i], 1] .= i + ng\n",
    "    edges[line_end .== id_load[i], 2] .= i + ng\n",
    "end\n",
    "nline = size(dm.idb,1)\n",
    "id = edges\n",
    "inc = sparse([id[:,1]; id[:,2]], [1:nline; 1:nline], [-ones(nline);ones(nline)])\n",
    "\n",
    "# set initial conditions\n",
    "og = zeros(ng)\n",
    "thg = dm.th[id_gen]\n",
    "thl = dm.th[id_load]\n",
    "mg = dm.mg[is_producing]\n",
    "dg = dm.dg[is_producing]\n",
    "#dload = vec(data[\"load_freq_coef\"])\n",
    "dg += dm.load[id_gen]\n",
    "dl = dm.load[id_load]\n",
    "pg = p[id_gen]\n",
    "pl = p[id_load]\n",
    "p = [pg; pl];"
   ]
  },
  {
   "cell_type": "code",
   "execution_count": null,
   "id": "84fc71d0",
   "metadata": {
    "scrolled": true
   },
   "outputs": [],
   "source": [
    "# get the stable solution\n",
    "b2 = - im .* dm.bline\n",
    "Ybus = conj(inc * sparse(1:nline, 1:nline, b2) * inc')\n",
    "q = zeros(nb);\n",
    "V = ones(nb);\n",
    "theta = zeros(nb);\n",
    "\n",
    "V, theta, iter = NRsolver(Ybus, V, theta, -p, q, Array{Int64,1}([]), 9, tol = 1E-30, maxiter = 10)\n",
    "thg = theta[1:ng]\n",
    "thl = theta[ng+1:end];\n",
    "og = zeros(ng);"
   ]
  },
  {
   "cell_type": "code",
   "execution_count": null,
   "id": "790b977c",
   "metadata": {
    "scrolled": false
   },
   "outputs": [],
   "source": [
    "dt = 1e-3\n",
    "Ndt = 5e4\n",
    "interval = 50\n",
    "ts = zeros(Int64.(floor(Ndt / interval))+1)\n",
    "omegas = zeros(ng, Int64.(floor(Ndt / interval))+1)\n",
    "k = 1\n",
    "dp = zeros(ng)\n",
    "dp[1] = -9.0\n",
    "for i in 1:Ndt\n",
    "    y = radau5(og, thg, thl, mg, dg, dl, pg+dp, pl, inc, dm.bline, dt, maxiter = 14, tol = 1E-6)\n",
    "    if(mod(i, interval) == 0)\n",
    "        println(i, \" / \", Ndt, \" (\", floor(100*i/Ndt), \"%)\")\n",
    "            omegas[:, k] = y[1 : ng]\n",
    "            ts[k] = i*dt\n",
    "            k += 1\n",
    "        end\n",
    "    og = y[1:ng]\n",
    "    thg = y[ng + 1 : 2 * ng]\n",
    "    thl = y[2 * ng + 1 : end]\n",
    "end\n",
    "    "
   ]
  },
  {
   "cell_type": "code",
   "execution_count": null,
   "id": "4c1bb9af",
   "metadata": {},
   "outputs": [],
   "source": [
    "fid = h5open(\"../numerics/disc_results.h5\", \"w\")\n",
    "write(fid, \"ts\", ts)\n",
    "write(fid, \"omegas\", omegas)\n",
    "close(fid)"
   ]
  }
 ],
 "metadata": {
  "kernelspec": {
   "display_name": "Julia 1.6.1",
   "language": "julia",
   "name": "julia-1.6"
  },
  "language_info": {
   "file_extension": ".jl",
   "mimetype": "application/julia",
   "name": "julia",
   "version": "1.6.1"
  }
 },
 "nbformat": 4,
 "nbformat_minor": 5
}

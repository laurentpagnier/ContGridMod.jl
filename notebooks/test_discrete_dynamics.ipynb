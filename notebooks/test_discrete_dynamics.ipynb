{
 "cells": [
  {
   "cell_type": "code",
   "execution_count": null,
   "id": "e34c2f95",
   "metadata": {
    "scrolled": true
   },
   "outputs": [],
   "source": [
    "using LinearAlgebra\n",
    "using SparseArrays\n",
    "using HDF5\n",
    "using IterativeSolvers\n",
    "using Plots\n",
    "include(\"../scripts/disc_solvers.jl\")"
   ]
  },
  {
   "cell_type": "code",
   "execution_count": null,
   "id": "b0205859",
   "metadata": {},
   "outputs": [],
   "source": [
    "data = h5read(\"../data/disc/pantagruel.h5\",\"/\");"
   ]
  },
  {
   "cell_type": "code",
   "execution_count": null,
   "id": "725abcc7",
   "metadata": {},
   "outputs": [],
   "source": [
    "id = Int64.(data[\"branch\"][:,1:2])\n",
    "b = 1.0 ./ data[\"branch\"][:,4]\n",
    "nline = length(b)\n",
    "\n",
    "\n",
    "l = data[\"bus\"][:,3] / 100.0\n",
    "nb = length(l)\n",
    "\n",
    "is_producing = data[\"gen\"][:,2] .> 0\n",
    "id_gen = Int64.(data[\"gen\"][is_producing, 1])\n",
    "id_load = setdiff(1:length(l), id_gen)\n",
    "ng = length(id_gen)\n",
    "nl = length(id_load)\n",
    "\n",
    "g = zeros(nb)\n",
    "g[id_gen] = data[\"gen\"][is_producing,2] / 100.0\n",
    "p = - l + g\n",
    "p .-= sum(p) / nb\n",
    "\n",
    "og = zeros(ng)\n",
    "\n",
    "edges = Int64.(zeros(nline, 2))\n",
    "line_start = data[\"branch\"][:, 1]\n",
    "line_end = data[\"branch\"][:, 2]\n",
    "# bus reordering: generator buses first \n",
    "for i in 1:ng\n",
    "    edges[line_start .== id_gen[i], 1] .= i\n",
    "    edges[line_end .== id_gen[i], 2] .= i\n",
    "end\n",
    "for i in 1:nl\n",
    "    edges[line_start .== id_load[i], 1] .= i + ng\n",
    "    edges[line_end .== id_load[i], 2] .= i + ng\n",
    "end\n",
    "\n",
    "id = edges\n",
    "inc = sparse([id[:,1]; id[:,2]], [1:nline; 1:nline], [-ones(nline);ones(nline)])\n",
    "\n",
    "# set initial conditions\n",
    "og = zeros(ng)\n",
    "thg = vec(data[\"bus\"][id_gen, 9] / 180.0 * pi)\n",
    "thl = vec(data[\"bus\"][id_load, 9] / 180.0 * pi)\n",
    "mg = vec(data[\"gen_inertia\"])\n",
    "dg = vec(data[\"gen_prim_ctrl\"])\n",
    "dload = vec(data[\"load_freq_coef\"])\n",
    "dg += dload[id_gen]\n",
    "dl = dload[id_load]\n",
    "pg = p[id_gen]\n",
    "pl = p[id_load];"
   ]
  },
  {
   "cell_type": "code",
   "execution_count": null,
   "id": "84fc71d0",
   "metadata": {
    "scrolled": true
   },
   "outputs": [],
   "source": [
    "# get the stable solution\n",
    "b2 = - im ./ data[\"branch\"][:, 4]\n",
    "Ybus = conj(inc * sparse(1:nline, 1:nline, b2) * inc')\n",
    "q = zeros(nb);\n",
    "V = ones(nb);\n",
    "theta = zeros(nb);\n",
    "include(\"../scripts/disc_solvers.jl\")\n",
    "V, theta, iter = NRsolver(Ybus, V, theta, -p, q, Array{Int64,1}([]), 9, tol = 1E-3, maxiter = 10);"
   ]
  },
  {
   "cell_type": "code",
   "execution_count": null,
   "id": "790b977c",
   "metadata": {
    "scrolled": false
   },
   "outputs": [],
   "source": [
    "include(\"../scripts/disc_solvers.jl\")\n",
    "dt = 5E-3\n",
    "Ndt = 2E2\n",
    "interval = 1\n",
    "omega_t = zeros(ng, Int64.(floor(Ndt / interval)))\n",
    "k = 1\n",
    "dp = zeros(ng)\n",
    "dp[1] = -9.0\n",
    "for i in 1:Ndt\n",
    "    y = radau5(og, thg, thl, mg, dg, dl, pg+dp, pl, inc, b, dt, maxiter = 14, tol = 1E-6)\n",
    "    if(mod(i, interval) == 0)\n",
    "        println(i, \" / \", Ndt, \" (\", floor(100*i/Ndt), \"%)\")\n",
    "            omega_t[:, k] = y[1 : ng]\n",
    "            k += 1\n",
    "        end\n",
    "    og = y[1:ng]\n",
    "    thg = y[ng + 1 : 2 * ng]\n",
    "    thl = y[2 * ng + 1 : end]\n",
    "end\n",
    "    "
   ]
  },
  {
   "cell_type": "code",
   "execution_count": null,
   "id": "dc49ec4d",
   "metadata": {},
   "outputs": [],
   "source": [
    "plot(omega_t[1:10:end,:]')"
   ]
  },
  {
   "cell_type": "code",
   "execution_count": null,
   "id": "4c1bb9af",
   "metadata": {},
   "outputs": [],
   "source": []
  },
  {
   "cell_type": "code",
   "execution_count": null,
   "id": "df0c88d4",
   "metadata": {},
   "outputs": [],
   "source": []
  }
 ],
 "metadata": {
  "kernelspec": {
   "display_name": "Julia 1.6.1",
   "language": "julia",
   "name": "julia-1.6"
  },
  "language_info": {
   "file_extension": ".jl",
   "mimetype": "application/julia",
   "name": "julia",
   "version": "1.6.1"
  }
 },
 "nbformat": 4,
 "nbformat_minor": 5
}

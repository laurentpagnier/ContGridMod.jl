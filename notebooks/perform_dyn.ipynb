{
 "cells": [
  {
   "cell_type": "code",
   "execution_count": null,
   "id": "b2b10492",
   "metadata": {},
   "outputs": [],
   "source": [
    "# load libraries and scripts\n",
    "include(\"../scripts/tools.jl\")\n",
    "include(\"../scripts/plotting.jl\")\n",
    "include(\"../scripts/get_grid.jl\")\n",
    "include(\"../scripts/get_params.jl\")\n",
    "include(\"../scripts/stable.jl\")\n",
    "include(\"../scripts/dynamics.jl\")\n",
    "include(\"../scripts/disturbances.jl\");\n",
    "include(\"../scripts/ps_analysis.jl\");"
   ]
  },
  {
   "cell_type": "code",
   "execution_count": null,
   "id": "02237e51",
   "metadata": {
    "scrolled": true
   },
   "outputs": [],
   "source": [
    "#load borders\n",
    "border, scale_factor = import_border(\"../data/borders/border.json\")\n",
    "\n",
    "dx = 0.005\n",
    "Nx, Ny, coord, isinside, isborder, isgrid, n = get_grid(border, dx);"
   ]
  },
  {
   "cell_type": "code",
   "execution_count": null,
   "id": "10424f3d",
   "metadata": {
    "scrolled": false
   },
   "outputs": [],
   "source": [
    "# compute or load grid parameters\n",
    "minv, gamma, p, xi, bx, by, m, d = get_params(isinside, isgrid, n, Ny, Nx, Float64(dx), coord,\n",
    "    scale_factor, \"../data/disc/pantagruel.h5\",\n",
    "    \"../numerics/grid_params_\" * string(dx) * \".h5\",\n",
    "    Niter=10, dmax = 2*dx, patch=4000.0, bmin=0.0, tau=0.00001);"
   ]
  },
  {
   "cell_type": "code",
   "execution_count": null,
   "id": "7050424e",
   "metadata": {
    "scrolled": true
   },
   "outputs": [],
   "source": [
    "th0 = compute_stable_sol(isinside, n, bx, by, p, interval = 10000, Niter = 60000, tol = 1e-7);"
   ]
  },
  {
   "cell_type": "code",
   "execution_count": null,
   "id": "492e2f39",
   "metadata": {},
   "outputs": [],
   "source": [
    "gen, dem, bline, idb, idgen, coord_disc, mg, dg, dl, th_ref = load_discrete_model(\"../data/disc/pantagruel.h5\", scale_factor)"
   ]
  },
  {
   "cell_type": "code",
   "execution_count": null,
   "id": "7ab06d94",
   "metadata": {},
   "outputs": [],
   "source": [
    "# add a disturbance\n",
    "#dp = local_disturbance(coord[isgrid,:], [-0.2; -0.5], -10.0, 0.1, dx)\n",
    "add_local_disturbance!(contmod, [-0.35; 0.24], -10.0, 0.02, dx)"
   ]
  },
  {
   "cell_type": "code",
   "execution_count": null,
   "id": "07ee21af",
   "metadata": {},
   "outputs": [],
   "source": [
    "#temp = zeros(size(isgrid))\n",
    "#temp[isgrid] = dp\n",
    "#heatmap(reshape(temp,Ny,Nx))"
   ]
  },
  {
   "cell_type": "code",
   "execution_count": null,
   "id": "2e5e0437",
   "metadata": {},
   "outputs": [],
   "source": [
    "ts, ~, omegas = perform_dyn_sim(isgrid, xi, p+dp, minv, gamma, th0, interval=10,\n",
    "    Ndt=5000, dt=0.01, method=\"crank-nicolson\");"
   ]
  },
  {
   "cell_type": "code",
   "execution_count": null,
   "id": "1044aee3",
   "metadata": {},
   "outputs": [],
   "source": [
    "c = [500 -250; 0.0 0.0; -500 500; 500. 500.; -1500.0 -1000.0; 750.0 -1000; -1000 -400] / scale_factor\n",
    "time_plot(ts, omegas, coord[isgrid,:], c, borders = [border], tstart = 0.0, tend = 50.0)"
   ]
  },
  {
   "cell_type": "code",
   "execution_count": null,
   "id": "b9b4f7ba",
   "metadata": {},
   "outputs": [],
   "source": [
    "data = h5read(\"../numerics/disc_results.h5\",\"/\");\n",
    "o = data[\"omegas\"];\n",
    "t = data[\"ts\"];\n",
    "println(size(t))\n",
    "println(size(o))\n",
    "reshape(t,prod(size(o)),1)\n",
    "t[1:size(o,2)]"
   ]
  },
  {
   "cell_type": "code",
   "execution_count": null,
   "id": "4016b0be",
   "metadata": {},
   "outputs": [],
   "source": [
    "#c = [500 -250; 0.0 0.0; -500 500; 500. 500.; -1500.0 -1000.0; 750.0 -1000; -1000 -400] / scale_factor\n",
    "c = [-.30 -.25; 0.0 0.0; -.5 -.30; .25 .15]\n",
    "\n",
    "cmp_plot( coord[isgrid,:], omegas, ts, coord_disc[idgen[gen .> 0.0],:], o[:,1:end-1], t[1:size(o,2)-1],\n",
    "    c, tstart=0.0, tend=20.0)\n",
    "current()"
   ]
  },
  {
   "cell_type": "code",
   "execution_count": null,
   "id": "9cdfa4af",
   "metadata": {},
   "outputs": [],
   "source": []
  }
 ],
 "metadata": {
  "kernelspec": {
   "display_name": "Julia 1.6.1",
   "language": "julia",
   "name": "julia-1.6"
  },
  "language_info": {
   "file_extension": ".jl",
   "mimetype": "application/julia",
   "name": "julia",
   "version": "1.6.1"
  }
 },
 "nbformat": 4,
 "nbformat_minor": 5
}

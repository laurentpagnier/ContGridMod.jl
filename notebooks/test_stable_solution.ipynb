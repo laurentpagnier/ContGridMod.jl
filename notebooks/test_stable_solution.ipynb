{
 "cells": [
  {
   "cell_type": "code",
   "execution_count": null,
   "id": "b2b10492",
   "metadata": {},
   "outputs": [],
   "source": [
    "# load libraries and scripts\n",
    "import JSON\n",
    "using Plots\n",
    "using HDF5\n",
    "using Trapz\n",
    "using Statistics\n",
    "using CairoMakie\n",
    "using SparseArrays\n",
    "include(\"../scripts/tools.jl\")\n",
    "include(\"../scripts/get_grid.jl\")\n",
    "include(\"../scripts/get_params.jl\")\n",
    "include(\"../scripts/stable.jl\")\n",
    "include(\"../scripts/dynamics.jl\")"
   ]
  },
  {
   "cell_type": "code",
   "execution_count": null,
   "id": "02237e51",
   "metadata": {},
   "outputs": [],
   "source": [
    "#load borders\n",
    "border = import_border(\"../data/borders/border.json\")\n",
    "border = border\n",
    "# create the lattice grid\n",
    "dx = 20 \n",
    "Nx, Ny, xrange, yrange, isinside, isborder, n = get_grid(border, Float64(dx))\n",
    "isgrid = isinside .| isborder\n",
    "# define x and y coordinate for plotting\n",
    "x = repeat(reshape(xrange,1,Nx), Ny, 1)\n",
    "y = repeat(reshape(yrange,Ny,1), 1, Nx);\n"
   ]
  },
  {
   "cell_type": "code",
   "execution_count": null,
   "id": "10424f3d",
   "metadata": {
    "scrolled": true
   },
   "outputs": [],
   "source": [
    "# compute or load grid parameters\n",
    "recompute_param = true\n",
    "if(recompute_param || isfile(\"../numerics/grid_params_\" * string(dx) * \".h5\"))\n",
    "    bx, by, p, m, d = get_params_diff(isinside, n, Float64(dx), yrange, xrange, \"../data/disc/pantagruel.h5\",\n",
    "        \"../numerics/grid_params_\" * string(dx) * \".h5\", Niter = 1000, dmax = 10.0, patch=0.005, bmin=0.01)\n",
    "    #bx, by, p, m, d = get_params(isinside, isborder, n, Float64(dx), yrange, xrange, \"../data/pantagruel.h5\",\n",
    "    #    \"../numerics/grid_params_\" * string(dx) * \".h5\", bmin=0.1, sigma=0.1)\n",
    "else\n",
    "    bx, by, p, m, d = get_params(isinside, \"../numerics/grid_params_\" * string(dx) * \".h5\")\n",
    "end"
   ]
  },
  {
   "cell_type": "code",
   "execution_count": null,
   "id": "55df8e34",
   "metadata": {},
   "outputs": [],
   "source": [
    "\n",
    "Plots.contour(m,fill=true)\n",
    "# Plots.contour(d,fill=true)\n",
    "#minimum(bx[bx.>0])\n",
    "#println(sum(p[isborder]))"
   ]
  },
  {
   "cell_type": "code",
   "execution_count": null,
   "id": "33fd4efc",
   "metadata": {},
   "outputs": [],
   "source": [
    "# compute, iteratively, the stable solution\n",
    "th, ths = compute_stable_sol(isinside, n, bx, by, p, Niter = 20000, interval = 1000);"
   ]
  },
  {
   "cell_type": "code",
   "execution_count": null,
   "id": "0c505335",
   "metadata": {},
   "outputs": [],
   "source": [
    "hm_plot(isinside, xrange, yrange, th)"
   ]
  },
  {
   "cell_type": "code",
   "execution_count": null,
   "id": "fe369c1c",
   "metadata": {},
   "outputs": [],
   "source": [
    "# save the result\n",
    "fid = h5open(\"../numerics/stable_\" * string(dx) * \".h5\", \"w\")\n",
    "write(fid, \"th\", th)\n",
    "close(fid)"
   ]
  },
  {
   "cell_type": "code",
   "execution_count": null,
   "id": "7d07f673",
   "metadata": {},
   "outputs": [],
   "source": [
    "gen, dem, bline, idb, idgen, coord, mg, dg, dl, th_ref = load_discrete_model(\"../data/disc/pantagruel.h5\");"
   ]
  },
  {
   "cell_type": "code",
   "execution_count": null,
   "id": "f1982a9b",
   "metadata": {},
   "outputs": [],
   "source": [
    "th2 = set_ref_phase(isinside, yrange, xrange, th, [750.0; -1000.0], th_ref = 0.0)\n",
    "th_cont = get_discrete_values(isinside, yrange, xrange, th, coord);"
   ]
  },
  {
   "cell_type": "code",
   "execution_count": null,
   "id": "ef6a03d8",
   "metadata": {},
   "outputs": [],
   "source": [
    "Plots.plot(th_ref, label=\"th_disc\")\n",
    "Plots.plot!(th_cont, label=\"th_cont\")\n",
    "savefig(\"theta.pdf\")"
   ]
  },
  {
   "cell_type": "code",
   "execution_count": null,
   "id": "47ec804b",
   "metadata": {},
   "outputs": [],
   "source": [
    "fx, fy = power_flow(isinside, th, bx, by, Float64(dx))\n",
    "hm_plot(isgrid, xrange, yrange, th)"
   ]
  },
  {
   "cell_type": "code",
   "execution_count": null,
   "id": "c431a611",
   "metadata": {},
   "outputs": [],
   "source": [
    "# plot the \n",
    "f = Figure(resolution = (800, 800))\n",
    "Axis(f[1, 1])\n",
    "Makie.arrows!(x[isgrid], y[isgrid], -fx[isgrid], -fy[isgrid], linewidth = 0.5, arrowsize = 1.8, lengthscale = 100)\n",
    "save(\"flows.pdf\",f)"
   ]
  },
  {
   "cell_type": "code",
   "execution_count": null,
   "id": "18540415",
   "metadata": {},
   "outputs": [],
   "source": []
  }
 ],
 "metadata": {
  "kernelspec": {
   "display_name": "Julia 1.6.2",
   "language": "julia",
   "name": "julia-1.6"
  },
  "language_info": {
   "file_extension": ".jl",
   "mimetype": "application/julia",
   "name": "julia",
   "version": "1.6.2"
  }
 },
 "nbformat": 4,
 "nbformat_minor": 5
}

{
 "cells": [
  {
   "cell_type": "code",
   "execution_count": null,
   "id": "b2b10492",
   "metadata": {},
   "outputs": [],
   "source": [
    "# load libraries and scripts\n",
    "import JSON\n",
    "using Plots\n",
    "using HDF5\n",
    "using Trapz\n",
    "include(\"../scripts/tools.jl\")\n",
    "include(\"../scripts/get_grid.jl\")\n",
    "include(\"../scripts/get_params.jl\")"
   ]
  },
  {
   "cell_type": "code",
   "execution_count": null,
   "id": "02237e51",
   "metadata": {},
   "outputs": [],
   "source": [
    "#load borders\n",
    "border = import_border(\"../data/border.json\")\n",
    "\n",
    "# create the lattice grid\n",
    "dx = 20\n",
    "Nx, Ny, xrange, yrange, isinside, isborder, n = get_grid(border, Float64(dx))\n",
    "\n",
    "# define x and y coordinate for plotting\n",
    "x = repeat(reshape(xrange,1,Nx), Ny, 1)\n",
    "y = repeat(reshape(yrange,Ny,1), 1, Nx);"
   ]
  },
  {
   "cell_type": "code",
   "execution_count": null,
   "id": "10424f3d",
   "metadata": {},
   "outputs": [],
   "source": [
    "# compute or load grid parameters\n",
    "recompute_param = true\n",
    "sigma = 50.\n",
    "if(recompute_param || isfile(\"../numerics/grid_params_\" * string(dx) * \".h5\"))\n",
    "    bx, by, p, m, d = get_params(isinside, isborder, sigma, Float64(dx), yrange, xrange, \"../data/pantagruel.h5\",\n",
    "        \"../numerics/grid_params_\" * string(dx) * \".h5\")\n",
    "else\n",
    "    bx, by, p, m, d = get_params(isinside, \"../numerics/grid_params_\" * string(dx) * \".h5\")\n",
    "end"
   ]
  },
  {
   "cell_type": "code",
   "execution_count": null,
   "id": "5d822b13",
   "metadata": {},
   "outputs": [],
   "source": [
    "trapz((yrange,xrange), m)"
   ]
  },
  {
   "cell_type": "code",
   "execution_count": null,
   "id": "26df8b6c",
   "metadata": {},
   "outputs": [],
   "source": [
    "# plot some physical quantities\n",
    "plot(do_plot(isinside, p), do_plot(isinside, m), do_plot(isinside, d), layout=(3,1), size=(500,900))\n"
   ]
  },
  {
   "cell_type": "code",
   "execution_count": null,
   "id": "6e965865",
   "metadata": {},
   "outputs": [],
   "source": [
    "println(minimum(m[isinside]))\n",
    "println(minimum(d[isinside]))"
   ]
  },
  {
   "cell_type": "code",
   "execution_count": null,
   "id": "d3d0346c",
   "metadata": {},
   "outputs": [],
   "source": [
    "# compute, iteratively, the stable solution\n",
    "interval = 1000\n",
    "Niter = 40000\n",
    "th = zeros(Ny, Nx)\n",
    "\n",
    "@time begin\n",
    "    for k in 1:Niter\n",
    "        if(mod(k,interval) == 0)\n",
    "            temp = copy(th)\n",
    "        end\n",
    "        Threads.@threads for i in 2:Ny-1\n",
    "            Threads.@threads for j in 2:Nx-1\n",
    "                if(isinside[i,j])\n",
    "                    bij = (by[i-1,j] + by[i,j] + bx[i,j] + bx[i,j+1])\n",
    "                    th[i,j] = (by[i,j] * th[i+1,j] + by[i-1,j] * th[i-1,j] + \n",
    "                        bx[i,j+1] * th[i,j+1] + bx[i,j] * th[i,j-1] + dx^2*p[i,j]) / bij\n",
    "                end\n",
    "            end\n",
    "        end\n",
    "        Threads.@threads for k in 1:size(n,1)\n",
    "            i = Int64(n[k,1])\n",
    "            j = Int64(n[k,2])\n",
    "            nx = n[k,4]\n",
    "            ny = n[k,3]\n",
    "            if(nx == 1)\n",
    "                th[i,j] = th[i,j-2]\n",
    "            elseif(nx == -1)\n",
    "                th[i,j] = th[i,j+2]\n",
    "            end\n",
    "            if(ny == 1)\n",
    "                th[i,j] = th[i-2,j]\n",
    "            elseif(ny == -1)\n",
    "                th[i,j] = th[i+2,j]\n",
    "            end\n",
    "        end  \n",
    "        if(mod(k,interval) == 0)\n",
    "            println([k maximum(abs.(th-temp))])\n",
    "        end\n",
    "\n",
    "    end\n",
    "end\n"
   ]
  },
  {
   "cell_type": "code",
   "execution_count": null,
   "id": "c81caa69",
   "metadata": {
    "scrolled": true
   },
   "outputs": [],
   "source": [
    "# plot the result\n",
    "do_plot(isinside, th)"
   ]
  },
  {
   "cell_type": "code",
   "execution_count": null,
   "id": "cfd2c4d0",
   "metadata": {},
   "outputs": [],
   "source": [
    "# save the result\n",
    "fid = h5open(\"../numerics/stable_\" * string(dx) * \".h5\", \"w\")\n",
    "write(fid, \"th\", th)\n",
    "close(fid)"
   ]
  },
  {
   "cell_type": "code",
   "execution_count": null,
   "id": "738e0977",
   "metadata": {},
   "outputs": [],
   "source": []
  }
 ],
 "metadata": {
  "kernelspec": {
   "display_name": "Julia 1.6.2",
   "language": "julia",
   "name": "julia-1.6"
  },
  "language_info": {
   "file_extension": ".jl",
   "mimetype": "application/julia",
   "name": "julia",
   "version": "1.6.2"
  }
 },
 "nbformat": 4,
 "nbformat_minor": 5
}

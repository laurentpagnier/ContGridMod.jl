{
 "cells": [
  {
   "cell_type": "code",
   "execution_count": null,
   "id": "b2b10492",
   "metadata": {},
   "outputs": [],
   "source": [
    "# load libraries and scripts\n",
    "import JSON\n",
    "using Plots\n",
    "using HDF5\n",
    "using Trapz\n",
    "using Statistics\n",
    "include(\"../scripts/tools.jl\")\n",
    "include(\"../scripts/new_get_grid.jl\")\n",
    "include(\"../scripts/get_params.jl\")\n",
    "include(\"../scripts/stable.jl\")\n",
    "include(\"../scripts/dynamics.jl\")"
   ]
  },
  {
   "cell_type": "code",
   "execution_count": null,
   "id": "02237e51",
   "metadata": {},
   "outputs": [],
   "source": [
    "#load borders\n",
    "border = import_border(\"../data/border.json\")\n",
    "border = border\n",
    "# create the lattice grid\n",
    "dx = 20 \n",
    "Nx, Ny, xrange, yrange, isinside, isborder, n = get_grid(border, Float64(dx))\n",
    "isgrid = isinside .| isborder\n",
    "# define x and y coordinate for plotting\n",
    "x = repeat(reshape(xrange,1,Nx), Ny, 1)\n",
    "y = repeat(reshape(yrange,Ny,1), 1, Nx);"
   ]
  },
  {
   "cell_type": "code",
   "execution_count": null,
   "id": "10424f3d",
   "metadata": {
    "scrolled": true
   },
   "outputs": [],
   "source": [
    "# compute or load grid parameters\n",
    "recompute_param = true\n",
    "if(recompute_param || isfile(\"../numerics/grid_params_\" * string(dx) * \".h5\"))\n",
    "    #bx, by, p, m, d = get_params_diff(isinside, isborder, Float64(dx), yrange, xrange, \"../data/pantagruel.h5\",\n",
    "    #    \"../numerics/grid_params_\" * string(dx) * \".h5\", Niter=5000, dmax = 10.0, patch=0.002, bmin=0.01)\n",
    "    bx, by, p, m, d = get_params(isinside, isborder, n, Float64(dx), yrange, xrange, \"../data/pantagruel.h5\",\n",
    "        \"../numerics/grid_params_\" * string(dx) * \".h5\", bmin=0.1, sigma=0.1)\n",
    "else\n",
    "    bx, by, p, m, d = get_params(isinside, \"../numerics/grid_params_\" * string(dx) * \".h5\")\n",
    "end"
   ]
  },
  {
   "cell_type": "code",
   "execution_count": null,
   "id": "b0d8f8ae",
   "metadata": {},
   "outputs": [],
   "source": [
    "# if grid params exist then plot bx and by\n",
    "if(isfile(\"../numerics/grid_params_\" * string(dx) * \".h5\"))\n",
    "    bx, by, p, m, d = get_params(isinside, \"../numerics/grid_params_\" * string(dx) * \".h5\")\n",
    "    x_for_bx = repeat(reshape(xrange,1,Nx),Ny,1) .+ dx/2\n",
    "    y_for_bx = repeat(reshape(yrange,Ny,1),1,Nx)\n",
    "    x_for_by = repeat(reshape(xrange,1,Nx),Ny,1)\n",
    "    y_for_by = repeat(reshape(yrange,Ny,1),1,Nx) .+ dx/2;\n",
    "    scatter(x[isgrid], y[isgrid], markershape=:circle, markersize=2, markerstrokewidth=0.2, label=\"nodes\")\n",
    "    id = findall(bx .> 0)\n",
    "    scatter!(x_for_bx[id], y_for_bx[id], markershape=:circle, markersize=2, markerstrokewidth=0.2, label=\"bx\")\n",
    "    id = findall(by .> 0)\n",
    "    scatter!(x_for_by[id], y_for_by[id], markershape=:circle, markersize=2, markerstrokewidth=0.2, label=\"by\")\n",
    "    savefig(\"susceptance.pdf\")\n",
    "end"
   ]
  },
  {
   "cell_type": "code",
   "execution_count": null,
   "id": "55df8e34",
   "metadata": {},
   "outputs": [],
   "source": [
    "\n",
    "contour(m,fill=true)\n",
    "contour(d,fill=true)\n",
    "minimum(bx[bx.>0])\n",
    "#println(sum(p[isborder]))"
   ]
  },
  {
   "cell_type": "code",
   "execution_count": null,
   "id": "33fd4efc",
   "metadata": {},
   "outputs": [],
   "source": [
    "# compute, iteratively, the stable solution\n",
    "#bx .= max.(bx, 5)\n",
    "#by .= max.(by, 5)\n",
    "\n",
    "#bx = 50*ones(Ny, Nx)\n",
    "#by = 50*ones(Ny, Nx)\n",
    "th, ths = compute_stable_sol(isinside, n, bx, by, p, Niter = 10000, interval = 1000);"
   ]
  },
  {
   "cell_type": "code",
   "execution_count": null,
   "id": "7289ffc6",
   "metadata": {},
   "outputs": [],
   "source": [
    "contour(th)\n",
    "sum(p[isborder])"
   ]
  },
  {
   "cell_type": "code",
   "execution_count": null,
   "id": "9ba3fe09",
   "metadata": {},
   "outputs": [],
   "source": [
    "m = max.(m , 10) \n",
    "d = max.(d , 10)\n",
    "thetas, omegas = perform_dyn_sim(isinside, n, bx, by, p, m, d, th,Ndt = 1000, interval=100, dt =1E-7)"
   ]
  },
  {
   "cell_type": "code",
   "execution_count": null,
   "id": "3c2fc675",
   "metadata": {},
   "outputs": [],
   "source": [
    "contour(d./m, fill=true)\n"
   ]
  },
  {
   "cell_type": "code",
   "execution_count": null,
   "id": "fe369c1c",
   "metadata": {},
   "outputs": [],
   "source": [
    "# save the result\n",
    "fid = h5open(\"../numerics/stable_\" * string(dx) * \".h5\", \"w\")\n",
    "write(fid, \"th\", th)\n",
    "close(fid)"
   ]
  },
  {
   "cell_type": "code",
   "execution_count": null,
   "id": "d3d0346c",
   "metadata": {
    "scrolled": true
   },
   "outputs": [],
   "source": [
    "# plot the result\n",
    "@gif for i in 1:size(omegas,3)\n",
    "    #hm_plot(isinside .| isborder, xrange, yrange, ths[:,:,i])\n",
    "    println(maximum(abs.(omegas[:,:,i])))\n",
    "    #ctr_plot(isinside .| isborder, omegas[:,:,i])\n",
    "    #hm_plot(isinside .| isborder, ths[:,:,i], xlim=(90.0,110.0),ylim=(45.,60.))\n",
    "end\n"
   ]
  },
  {
   "cell_type": "code",
   "execution_count": null,
   "id": "36088818",
   "metadata": {},
   "outputs": [],
   "source": [
    "coord = [argmax(abs.(th[:,:]))[1], argmax(abs.(th[:,:]))[2]]"
   ]
  },
  {
   "cell_type": "code",
   "execution_count": null,
   "id": "a5451a7d",
   "metadata": {},
   "outputs": [],
   "source": [
    "bx[coord[1]+3:-1:coord[1]-3,coord[2]-3:coord[2]+3]"
   ]
  },
  {
   "cell_type": "code",
   "execution_count": null,
   "id": "cdd6a867",
   "metadata": {},
   "outputs": [],
   "source": [
    "by[coord[1]+3:-1:coord[1]-3,coord[2]-3:coord[2]+3]"
   ]
  },
  {
   "cell_type": "code",
   "execution_count": null,
   "id": "9003b359",
   "metadata": {},
   "outputs": [],
   "source": [
    "p[coord[1]+3:-1:coord[1]-3,coord[2]-3:coord[2]+3]"
   ]
  },
  {
   "cell_type": "code",
   "execution_count": null,
   "id": "77e438bb",
   "metadata": {},
   "outputs": [],
   "source": [
    "th[coord[1]+3:-1:coord[1]-3,coord[2]-3:coord[2]+3]"
   ]
  },
  {
   "cell_type": "code",
   "execution_count": null,
   "id": "08e98b49",
   "metadata": {},
   "outputs": [],
   "source": [
    "m[coord[1]+3:-1:coord[1]-3,coord[2]-3:coord[2]+3]"
   ]
  },
  {
   "cell_type": "code",
   "execution_count": null,
   "id": "e06b7171",
   "metadata": {},
   "outputs": [],
   "source": [
    "isgrid[coord[1]+3:-1:coord[1]-3,coord[2]-3:coord[2]+3]"
   ]
  },
  {
   "cell_type": "code",
   "execution_count": null,
   "id": "90a56d5a",
   "metadata": {},
   "outputs": [],
   "source": [
    "isinside[coord[1]+3:-1:coord[1]-3,coord[2]-3:coord[2]+3]"
   ]
  },
  {
   "cell_type": "code",
   "execution_count": null,
   "id": "ca174078",
   "metadata": {},
   "outputs": [],
   "source": [
    "isborder[coord[1]+5:-1:coord[1]-3,coord[2]-5:coord[2]+3]"
   ]
  },
  {
   "cell_type": "code",
   "execution_count": null,
   "id": "3cf5326c",
   "metadata": {},
   "outputs": [],
   "source": [
    "for k in 1:size(n,1)\n",
    "    \n",
    "    i = Int64(n[k,1])\n",
    "    j = Int64(n[k,2])\n",
    "    if( (coord[1]-2 <= i) && (i <= coord[1]+2) && (coord[2]-2 <= j) && (j <= coord[2]+2) )       \n",
    "        nx = n[k,4]\n",
    "        ny = n[k,3]\n",
    "        bij = (1 + ny) * by[i-1, j] + (1 - ny) * by[i, j] +\n",
    "            (1 + nx) * bx[i, j-1] + (1 - nx) * bx[i, j]\n",
    "\n",
    "        thij = (\n",
    "            (1 + ny) * by[i-1, j] * th[i-1, j] +\n",
    "            (1 - ny) * by[i, j] * th[i+1, j] + \n",
    "            (1 + nx) * bx[i, j-1] * th[i, j-1] +\n",
    "            (1 - nx) * bx[i, j] * th[i,j+1] +\n",
    "            dx^2 * p[i, j]\n",
    "            ) / bij\n",
    "        println([i j nx ny bij thij])\n",
    "    end\n",
    "end"
   ]
  },
  {
   "cell_type": "code",
   "execution_count": null,
   "id": "23afe7ad",
   "metadata": {},
   "outputs": [],
   "source": []
  },
  {
   "cell_type": "code",
   "execution_count": null,
   "id": "9c3bc2fb",
   "metadata": {},
   "outputs": [],
   "source": []
  },
  {
   "cell_type": "code",
   "execution_count": null,
   "id": "0d534e24",
   "metadata": {},
   "outputs": [],
   "source": []
  },
  {
   "cell_type": "code",
   "execution_count": null,
   "id": "34e37e15",
   "metadata": {},
   "outputs": [],
   "source": []
  },
  {
   "cell_type": "code",
   "execution_count": null,
   "id": "295a6e1b",
   "metadata": {},
   "outputs": [],
   "source": []
  }
 ],
 "metadata": {
  "kernelspec": {
   "display_name": "Julia 1.6.2",
   "language": "julia",
   "name": "julia-1.6"
  },
  "language_info": {
   "file_extension": ".jl",
   "mimetype": "application/julia",
   "name": "julia",
   "version": "1.6.2"
  }
 },
 "nbformat": 4,
 "nbformat_minor": 5
}

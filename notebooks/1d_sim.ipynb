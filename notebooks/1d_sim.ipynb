{
 "cells": [
  {
   "cell_type": "code",
   "execution_count": 59,
   "id": "1e2ad7aa",
   "metadata": {},
   "outputs": [
    {
     "data": {
      "text/plain": [
       "perform_dyn_sim (generic function with 1 method)"
      ]
     },
     "execution_count": 59,
     "metadata": {},
     "output_type": "execute_result"
    }
   ],
   "source": [
    "using Plots\n",
    "using SparseArrays\n",
    "#using LinearAlgebra\n",
    "include(\"../scripts/1d_dynamics.jl\")"
   ]
  },
  {
   "cell_type": "code",
   "execution_count": 66,
   "id": "57761cd3",
   "metadata": {
    "scrolled": false
   },
   "outputs": [
    {
     "name": "stdout",
     "output_type": "stream",
     "text": [
      "(11,)\n",
      "(11,)\n"
     ]
    },
    {
     "data": {
      "image/svg+xml": [
       "<?xml version=\"1.0\" encoding=\"utf-8\"?>\n",
       "<svg xmlns=\"http://www.w3.org/2000/svg\" xmlns:xlink=\"http://www.w3.org/1999/xlink\" width=\"600\" height=\"400\" viewBox=\"0 0 2400 1600\">\n",
       "<defs>\n",
       "  <clipPath id=\"clip980\">\n",
       "    <rect x=\"0\" y=\"0\" width=\"2400\" height=\"1600\"/>\n",
       "  </clipPath>\n",
       "</defs>\n",
       "<path clip-path=\"url(#clip980)\" d=\"\n",
       "M0 1600 L2400 1600 L2400 0 L0 0  Z\n",
       "  \" fill=\"#ffffff\" fill-rule=\"evenodd\" fill-opacity=\"1\"/>\n",
       "<defs>\n",
       "  <clipPath id=\"clip981\">\n",
       "    <rect x=\"480\" y=\"0\" width=\"1681\" height=\"1600\"/>\n",
       "  </clipPath>\n",
       "</defs>\n",
       "<path clip-path=\"url(#clip980)\" d=\"\n",
       "M186.274 1486.45 L2352.76 1486.45 L2352.76 47.2441 L186.274 47.2441  Z\n",
       "  \" fill=\"#ffffff\" fill-rule=\"evenodd\" fill-opacity=\"1\"/>\n",
       "<defs>\n",
       "  <clipPath id=\"clip982\">\n",
       "    <rect x=\"186\" y=\"47\" width=\"2167\" height=\"1440\"/>\n",
       "  </clipPath>\n",
       "</defs>\n",
       "<polyline clip-path=\"url(#clip982)\" style=\"stroke:#000000; stroke-linecap:butt; stroke-linejoin:round; stroke-width:2; stroke-opacity:0.1; fill:none\" points=\"\n",
       "  451.975,1486.45 451.975,47.2441 \n",
       "  \"/>\n",
       "<polyline clip-path=\"url(#clip982)\" style=\"stroke:#000000; stroke-linecap:butt; stroke-linejoin:round; stroke-width:2; stroke-opacity:0.1; fill:none\" points=\"\n",
       "  860.745,1486.45 860.745,47.2441 \n",
       "  \"/>\n",
       "<polyline clip-path=\"url(#clip982)\" style=\"stroke:#000000; stroke-linecap:butt; stroke-linejoin:round; stroke-width:2; stroke-opacity:0.1; fill:none\" points=\"\n",
       "  1269.51,1486.45 1269.51,47.2441 \n",
       "  \"/>\n",
       "<polyline clip-path=\"url(#clip982)\" style=\"stroke:#000000; stroke-linecap:butt; stroke-linejoin:round; stroke-width:2; stroke-opacity:0.1; fill:none\" points=\"\n",
       "  1678.29,1486.45 1678.29,47.2441 \n",
       "  \"/>\n",
       "<polyline clip-path=\"url(#clip982)\" style=\"stroke:#000000; stroke-linecap:butt; stroke-linejoin:round; stroke-width:2; stroke-opacity:0.1; fill:none\" points=\"\n",
       "  2087.06,1486.45 2087.06,47.2441 \n",
       "  \"/>\n",
       "<polyline clip-path=\"url(#clip980)\" style=\"stroke:#000000; stroke-linecap:butt; stroke-linejoin:round; stroke-width:4; stroke-opacity:1; fill:none\" points=\"\n",
       "  186.274,1486.45 2352.76,1486.45 \n",
       "  \"/>\n",
       "<polyline clip-path=\"url(#clip980)\" style=\"stroke:#000000; stroke-linecap:butt; stroke-linejoin:round; stroke-width:4; stroke-opacity:1; fill:none\" points=\"\n",
       "  451.975,1486.45 451.975,1467.55 \n",
       "  \"/>\n",
       "<polyline clip-path=\"url(#clip980)\" style=\"stroke:#000000; stroke-linecap:butt; stroke-linejoin:round; stroke-width:4; stroke-opacity:1; fill:none\" points=\"\n",
       "  860.745,1486.45 860.745,1467.55 \n",
       "  \"/>\n",
       "<polyline clip-path=\"url(#clip980)\" style=\"stroke:#000000; stroke-linecap:butt; stroke-linejoin:round; stroke-width:4; stroke-opacity:1; fill:none\" points=\"\n",
       "  1269.51,1486.45 1269.51,1467.55 \n",
       "  \"/>\n",
       "<polyline clip-path=\"url(#clip980)\" style=\"stroke:#000000; stroke-linecap:butt; stroke-linejoin:round; stroke-width:4; stroke-opacity:1; fill:none\" points=\"\n",
       "  1678.29,1486.45 1678.29,1467.55 \n",
       "  \"/>\n",
       "<polyline clip-path=\"url(#clip980)\" style=\"stroke:#000000; stroke-linecap:butt; stroke-linejoin:round; stroke-width:4; stroke-opacity:1; fill:none\" points=\"\n",
       "  2087.06,1486.45 2087.06,1467.55 \n",
       "  \"/>\n",
       "<path clip-path=\"url(#clip980)\" d=\"M446.627 1543.18 L462.947 1543.18 L462.947 1547.12 L441.002 1547.12 L441.002 1543.18 Q443.664 1540.43 448.248 1535.8 Q452.854 1531.15 454.035 1529.81 Q456.28 1527.28 457.16 1525.55 Q458.063 1523.79 458.063 1522.1 Q458.063 1519.34 456.118 1517.61 Q454.197 1515.87 451.095 1515.87 Q448.896 1515.87 446.442 1516.63 Q444.012 1517.4 441.234 1518.95 L441.234 1514.23 Q444.058 1513.09 446.512 1512.51 Q448.965 1511.93 451.002 1511.93 Q456.373 1511.93 459.567 1514.62 Q462.762 1517.31 462.762 1521.8 Q462.762 1523.93 461.951 1525.85 Q461.164 1527.74 459.058 1530.34 Q458.479 1531.01 455.377 1534.23 Q452.276 1537.42 446.627 1543.18 Z\" fill=\"#000000\" fill-rule=\"evenodd\" fill-opacity=\"1\" /><path clip-path=\"url(#clip980)\" d=\"M863.754 1516.63 L851.949 1535.08 L863.754 1535.08 L863.754 1516.63 M862.527 1512.56 L868.407 1512.56 L868.407 1535.08 L873.337 1535.08 L873.337 1538.97 L868.407 1538.97 L868.407 1547.12 L863.754 1547.12 L863.754 1538.97 L848.152 1538.97 L848.152 1534.46 L862.527 1512.56 Z\" fill=\"#000000\" fill-rule=\"evenodd\" fill-opacity=\"1\" /><path clip-path=\"url(#clip980)\" d=\"M1269.92 1527.98 Q1266.77 1527.98 1264.92 1530.13 Q1263.09 1532.28 1263.09 1536.03 Q1263.09 1539.76 1264.92 1541.93 Q1266.77 1544.09 1269.92 1544.09 Q1273.07 1544.09 1274.9 1541.93 Q1276.75 1539.76 1276.75 1536.03 Q1276.75 1532.28 1274.9 1530.13 Q1273.07 1527.98 1269.92 1527.98 M1279.2 1513.32 L1279.2 1517.58 Q1277.44 1516.75 1275.64 1516.31 Q1273.86 1515.87 1272.1 1515.87 Q1267.47 1515.87 1265.01 1519 Q1262.58 1522.12 1262.23 1528.44 Q1263.6 1526.43 1265.66 1525.36 Q1267.72 1524.27 1270.2 1524.27 Q1275.41 1524.27 1278.42 1527.44 Q1281.45 1530.59 1281.45 1536.03 Q1281.45 1541.36 1278.3 1544.57 Q1275.15 1547.79 1269.92 1547.79 Q1263.92 1547.79 1260.75 1543.21 Q1257.58 1538.6 1257.58 1529.87 Q1257.58 1521.68 1261.47 1516.82 Q1265.36 1511.93 1271.91 1511.93 Q1273.67 1511.93 1275.45 1512.28 Q1277.26 1512.63 1279.2 1513.32 Z\" fill=\"#000000\" fill-rule=\"evenodd\" fill-opacity=\"1\" /><path clip-path=\"url(#clip980)\" d=\"M1678.29 1530.71 Q1674.95 1530.71 1673.03 1532.49 Q1671.13 1534.27 1671.13 1537.4 Q1671.13 1540.52 1673.03 1542.31 Q1674.95 1544.09 1678.29 1544.09 Q1681.62 1544.09 1683.54 1542.31 Q1685.46 1540.5 1685.46 1537.4 Q1685.46 1534.27 1683.54 1532.49 Q1681.64 1530.71 1678.29 1530.71 M1673.61 1528.72 Q1670.6 1527.98 1668.91 1525.92 Q1667.24 1523.86 1667.24 1520.89 Q1667.24 1516.75 1670.18 1514.34 Q1673.15 1511.93 1678.29 1511.93 Q1683.45 1511.93 1686.39 1514.34 Q1689.33 1516.75 1689.33 1520.89 Q1689.33 1523.86 1687.64 1525.92 Q1685.97 1527.98 1682.98 1528.72 Q1686.36 1529.5 1688.24 1531.8 Q1690.14 1534.09 1690.14 1537.4 Q1690.14 1542.42 1687.06 1545.11 Q1684 1547.79 1678.29 1547.79 Q1672.57 1547.79 1669.49 1545.11 Q1666.43 1542.42 1666.43 1537.4 Q1666.43 1534.09 1668.33 1531.8 Q1670.23 1529.5 1673.61 1528.72 M1671.9 1521.33 Q1671.9 1524.02 1673.56 1525.52 Q1675.25 1527.03 1678.29 1527.03 Q1681.29 1527.03 1682.98 1525.52 Q1684.7 1524.02 1684.7 1521.33 Q1684.7 1518.65 1682.98 1517.14 Q1681.29 1515.64 1678.29 1515.64 Q1675.25 1515.64 1673.56 1517.14 Q1671.9 1518.65 1671.9 1521.33 Z\" fill=\"#000000\" fill-rule=\"evenodd\" fill-opacity=\"1\" /><path clip-path=\"url(#clip980)\" d=\"M2061.74 1543.18 L2069.38 1543.18 L2069.38 1516.82 L2061.07 1518.49 L2061.07 1514.23 L2069.34 1512.56 L2074.01 1512.56 L2074.01 1543.18 L2081.65 1543.18 L2081.65 1547.12 L2061.74 1547.12 L2061.74 1543.18 Z\" fill=\"#000000\" fill-rule=\"evenodd\" fill-opacity=\"1\" /><path clip-path=\"url(#clip980)\" d=\"M2101.09 1515.64 Q2097.48 1515.64 2095.65 1519.2 Q2093.85 1522.75 2093.85 1529.87 Q2093.85 1536.98 2095.65 1540.55 Q2097.48 1544.09 2101.09 1544.09 Q2104.73 1544.09 2106.53 1540.55 Q2108.36 1536.98 2108.36 1529.87 Q2108.36 1522.75 2106.53 1519.2 Q2104.73 1515.64 2101.09 1515.64 M2101.09 1511.93 Q2106.9 1511.93 2109.96 1516.54 Q2113.04 1521.12 2113.04 1529.87 Q2113.04 1538.6 2109.96 1543.21 Q2106.9 1547.79 2101.09 1547.79 Q2095.28 1547.79 2092.21 1543.21 Q2089.15 1538.6 2089.15 1529.87 Q2089.15 1521.12 2092.21 1516.54 Q2095.28 1511.93 2101.09 1511.93 Z\" fill=\"#000000\" fill-rule=\"evenodd\" fill-opacity=\"1\" /><polyline clip-path=\"url(#clip982)\" style=\"stroke:#000000; stroke-linecap:butt; stroke-linejoin:round; stroke-width:2; stroke-opacity:0.1; fill:none\" points=\"\n",
       "  186.274,1445.72 2352.76,1445.72 \n",
       "  \"/>\n",
       "<polyline clip-path=\"url(#clip982)\" style=\"stroke:#000000; stroke-linecap:butt; stroke-linejoin:round; stroke-width:2; stroke-opacity:0.1; fill:none\" points=\"\n",
       "  186.274,1105.38 2352.76,1105.38 \n",
       "  \"/>\n",
       "<polyline clip-path=\"url(#clip982)\" style=\"stroke:#000000; stroke-linecap:butt; stroke-linejoin:round; stroke-width:2; stroke-opacity:0.1; fill:none\" points=\"\n",
       "  186.274,765.049 2352.76,765.049 \n",
       "  \"/>\n",
       "<polyline clip-path=\"url(#clip982)\" style=\"stroke:#000000; stroke-linecap:butt; stroke-linejoin:round; stroke-width:2; stroke-opacity:0.1; fill:none\" points=\"\n",
       "  186.274,424.713 2352.76,424.713 \n",
       "  \"/>\n",
       "<polyline clip-path=\"url(#clip982)\" style=\"stroke:#000000; stroke-linecap:butt; stroke-linejoin:round; stroke-width:2; stroke-opacity:0.1; fill:none\" points=\"\n",
       "  186.274,84.3765 2352.76,84.3765 \n",
       "  \"/>\n",
       "<polyline clip-path=\"url(#clip980)\" style=\"stroke:#000000; stroke-linecap:butt; stroke-linejoin:round; stroke-width:4; stroke-opacity:1; fill:none\" points=\"\n",
       "  186.274,1486.45 186.274,47.2441 \n",
       "  \"/>\n",
       "<polyline clip-path=\"url(#clip980)\" style=\"stroke:#000000; stroke-linecap:butt; stroke-linejoin:round; stroke-width:4; stroke-opacity:1; fill:none\" points=\"\n",
       "  186.274,1445.72 205.172,1445.72 \n",
       "  \"/>\n",
       "<polyline clip-path=\"url(#clip980)\" style=\"stroke:#000000; stroke-linecap:butt; stroke-linejoin:round; stroke-width:4; stroke-opacity:1; fill:none\" points=\"\n",
       "  186.274,1105.38 205.172,1105.38 \n",
       "  \"/>\n",
       "<polyline clip-path=\"url(#clip980)\" style=\"stroke:#000000; stroke-linecap:butt; stroke-linejoin:round; stroke-width:4; stroke-opacity:1; fill:none\" points=\"\n",
       "  186.274,765.049 205.172,765.049 \n",
       "  \"/>\n",
       "<polyline clip-path=\"url(#clip980)\" style=\"stroke:#000000; stroke-linecap:butt; stroke-linejoin:round; stroke-width:4; stroke-opacity:1; fill:none\" points=\"\n",
       "  186.274,424.713 205.172,424.713 \n",
       "  \"/>\n",
       "<polyline clip-path=\"url(#clip980)\" style=\"stroke:#000000; stroke-linecap:butt; stroke-linejoin:round; stroke-width:4; stroke-opacity:1; fill:none\" points=\"\n",
       "  186.274,84.3765 205.172,84.3765 \n",
       "  \"/>\n",
       "<path clip-path=\"url(#clip980)\" d=\"M62.9365 1431.52 Q59.3254 1431.52 57.4967 1435.08 Q55.6912 1438.63 55.6912 1445.76 Q55.6912 1452.86 57.4967 1456.43 Q59.3254 1459.97 62.9365 1459.97 Q66.5707 1459.97 68.3763 1456.43 Q70.205 1452.86 70.205 1445.76 Q70.205 1438.63 68.3763 1435.08 Q66.5707 1431.52 62.9365 1431.52 M62.9365 1427.82 Q68.7467 1427.82 71.8022 1432.42 Q74.8809 1437.01 74.8809 1445.76 Q74.8809 1454.48 71.8022 1459.09 Q68.7467 1463.67 62.9365 1463.67 Q57.1264 1463.67 54.0477 1459.09 Q50.9921 1454.48 50.9921 1445.76 Q50.9921 1437.01 54.0477 1432.42 Q57.1264 1427.82 62.9365 1427.82 Z\" fill=\"#000000\" fill-rule=\"evenodd\" fill-opacity=\"1\" /><path clip-path=\"url(#clip980)\" d=\"M83.0984 1457.12 L87.9827 1457.12 L87.9827 1463 L83.0984 1463 L83.0984 1457.12 Z\" fill=\"#000000\" fill-rule=\"evenodd\" fill-opacity=\"1\" /><path clip-path=\"url(#clip980)\" d=\"M108.168 1431.52 Q104.557 1431.52 102.728 1435.08 Q100.922 1438.63 100.922 1445.76 Q100.922 1452.86 102.728 1456.43 Q104.557 1459.97 108.168 1459.97 Q111.802 1459.97 113.608 1456.43 Q115.436 1452.86 115.436 1445.76 Q115.436 1438.63 113.608 1435.08 Q111.802 1431.52 108.168 1431.52 M108.168 1427.82 Q113.978 1427.82 117.033 1432.42 Q120.112 1437.01 120.112 1445.76 Q120.112 1454.48 117.033 1459.09 Q113.978 1463.67 108.168 1463.67 Q102.358 1463.67 99.2789 1459.09 Q96.2234 1454.48 96.2234 1445.76 Q96.2234 1437.01 99.2789 1432.42 Q102.358 1427.82 108.168 1427.82 Z\" fill=\"#000000\" fill-rule=\"evenodd\" fill-opacity=\"1\" /><path clip-path=\"url(#clip980)\" d=\"M138.33 1431.52 Q134.719 1431.52 132.89 1435.08 Q131.084 1438.63 131.084 1445.76 Q131.084 1452.86 132.89 1456.43 Q134.719 1459.97 138.33 1459.97 Q141.964 1459.97 143.769 1456.43 Q145.598 1452.86 145.598 1445.76 Q145.598 1438.63 143.769 1435.08 Q141.964 1431.52 138.33 1431.52 M138.33 1427.82 Q144.14 1427.82 147.195 1432.42 Q150.274 1437.01 150.274 1445.76 Q150.274 1454.48 147.195 1459.09 Q144.14 1463.67 138.33 1463.67 Q132.519 1463.67 129.441 1459.09 Q126.385 1454.48 126.385 1445.76 Q126.385 1437.01 129.441 1432.42 Q132.519 1427.82 138.33 1427.82 Z\" fill=\"#000000\" fill-rule=\"evenodd\" fill-opacity=\"1\" /><path clip-path=\"url(#clip980)\" d=\"M63.9319 1091.18 Q60.3208 1091.18 58.4921 1094.75 Q56.6865 1098.29 56.6865 1105.42 Q56.6865 1112.53 58.4921 1116.09 Q60.3208 1119.63 63.9319 1119.63 Q67.5661 1119.63 69.3717 1116.09 Q71.2004 1112.53 71.2004 1105.42 Q71.2004 1098.29 69.3717 1094.75 Q67.5661 1091.18 63.9319 1091.18 M63.9319 1087.48 Q69.742 1087.48 72.7976 1092.09 Q75.8763 1096.67 75.8763 1105.42 Q75.8763 1114.15 72.7976 1118.75 Q69.742 1123.34 63.9319 1123.34 Q58.1217 1123.34 55.043 1118.75 Q51.9875 1114.15 51.9875 1105.42 Q51.9875 1096.67 55.043 1092.09 Q58.1217 1087.48 63.9319 1087.48 Z\" fill=\"#000000\" fill-rule=\"evenodd\" fill-opacity=\"1\" /><path clip-path=\"url(#clip980)\" d=\"M84.0938 1116.79 L88.978 1116.79 L88.978 1122.66 L84.0938 1122.66 L84.0938 1116.79 Z\" fill=\"#000000\" fill-rule=\"evenodd\" fill-opacity=\"1\" /><path clip-path=\"url(#clip980)\" d=\"M109.163 1091.18 Q105.552 1091.18 103.723 1094.75 Q101.918 1098.29 101.918 1105.42 Q101.918 1112.53 103.723 1116.09 Q105.552 1119.63 109.163 1119.63 Q112.797 1119.63 114.603 1116.09 Q116.432 1112.53 116.432 1105.42 Q116.432 1098.29 114.603 1094.75 Q112.797 1091.18 109.163 1091.18 M109.163 1087.48 Q114.973 1087.48 118.029 1092.09 Q121.107 1096.67 121.107 1105.42 Q121.107 1114.15 118.029 1118.75 Q114.973 1123.34 109.163 1123.34 Q103.353 1123.34 100.274 1118.75 Q97.2187 1114.15 97.2187 1105.42 Q97.2187 1096.67 100.274 1092.09 Q103.353 1087.48 109.163 1087.48 Z\" fill=\"#000000\" fill-rule=\"evenodd\" fill-opacity=\"1\" /><path clip-path=\"url(#clip980)\" d=\"M129.371 1088.1 L147.728 1088.1 L147.728 1092.04 L133.654 1092.04 L133.654 1100.51 Q134.672 1100.16 135.691 1100 Q136.709 1099.82 137.728 1099.82 Q143.515 1099.82 146.894 1102.99 Q150.274 1106.16 150.274 1111.58 Q150.274 1117.16 146.802 1120.26 Q143.33 1123.34 137.01 1123.34 Q134.834 1123.34 132.566 1122.97 Q130.32 1122.6 127.913 1121.85 L127.913 1117.16 Q129.996 1118.29 132.219 1118.85 Q134.441 1119.4 136.918 1119.4 Q140.922 1119.4 143.26 1117.29 Q145.598 1115.19 145.598 1111.58 Q145.598 1107.97 143.26 1105.86 Q140.922 1103.75 136.918 1103.75 Q135.043 1103.75 133.168 1104.17 Q131.316 1104.59 129.371 1105.47 L129.371 1088.1 Z\" fill=\"#000000\" fill-rule=\"evenodd\" fill-opacity=\"1\" /><path clip-path=\"url(#clip980)\" d=\"M62.9365 750.847 Q59.3254 750.847 57.4967 754.412 Q55.6912 757.954 55.6912 765.083 Q55.6912 772.19 57.4967 775.755 Q59.3254 779.296 62.9365 779.296 Q66.5707 779.296 68.3763 775.755 Q70.205 772.19 70.205 765.083 Q70.205 757.954 68.3763 754.412 Q66.5707 750.847 62.9365 750.847 M62.9365 747.144 Q68.7467 747.144 71.8022 751.75 Q74.8809 756.333 74.8809 765.083 Q74.8809 773.81 71.8022 778.417 Q68.7467 783 62.9365 783 Q57.1264 783 54.0477 778.417 Q50.9921 773.81 50.9921 765.083 Q50.9921 756.333 54.0477 751.75 Q57.1264 747.144 62.9365 747.144 Z\" fill=\"#000000\" fill-rule=\"evenodd\" fill-opacity=\"1\" /><path clip-path=\"url(#clip980)\" d=\"M83.0984 776.449 L87.9827 776.449 L87.9827 782.329 L83.0984 782.329 L83.0984 776.449 Z\" fill=\"#000000\" fill-rule=\"evenodd\" fill-opacity=\"1\" /><path clip-path=\"url(#clip980)\" d=\"M98.978 778.393 L106.617 778.393 L106.617 752.028 L98.3067 753.695 L98.3067 749.435 L106.571 747.769 L111.246 747.769 L111.246 778.393 L118.885 778.393 L118.885 782.329 L98.978 782.329 L98.978 778.393 Z\" fill=\"#000000\" fill-rule=\"evenodd\" fill-opacity=\"1\" /><path clip-path=\"url(#clip980)\" d=\"M138.33 750.847 Q134.719 750.847 132.89 754.412 Q131.084 757.954 131.084 765.083 Q131.084 772.19 132.89 775.755 Q134.719 779.296 138.33 779.296 Q141.964 779.296 143.769 775.755 Q145.598 772.19 145.598 765.083 Q145.598 757.954 143.769 754.412 Q141.964 750.847 138.33 750.847 M138.33 747.144 Q144.14 747.144 147.195 751.75 Q150.274 756.333 150.274 765.083 Q150.274 773.81 147.195 778.417 Q144.14 783 138.33 783 Q132.519 783 129.441 778.417 Q126.385 773.81 126.385 765.083 Q126.385 756.333 129.441 751.75 Q132.519 747.144 138.33 747.144 Z\" fill=\"#000000\" fill-rule=\"evenodd\" fill-opacity=\"1\" /><path clip-path=\"url(#clip980)\" d=\"M63.9319 410.511 Q60.3208 410.511 58.4921 414.076 Q56.6865 417.618 56.6865 424.747 Q56.6865 431.854 58.4921 435.419 Q60.3208 438.96 63.9319 438.96 Q67.5661 438.96 69.3717 435.419 Q71.2004 431.854 71.2004 424.747 Q71.2004 417.618 69.3717 414.076 Q67.5661 410.511 63.9319 410.511 M63.9319 406.808 Q69.742 406.808 72.7976 411.414 Q75.8763 415.997 75.8763 424.747 Q75.8763 433.474 72.7976 438.081 Q69.742 442.664 63.9319 442.664 Q58.1217 442.664 55.043 438.081 Q51.9875 433.474 51.9875 424.747 Q51.9875 415.997 55.043 411.414 Q58.1217 406.808 63.9319 406.808 Z\" fill=\"#000000\" fill-rule=\"evenodd\" fill-opacity=\"1\" /><path clip-path=\"url(#clip980)\" d=\"M84.0938 436.113 L88.978 436.113 L88.978 441.993 L84.0938 441.993 L84.0938 436.113 Z\" fill=\"#000000\" fill-rule=\"evenodd\" fill-opacity=\"1\" /><path clip-path=\"url(#clip980)\" d=\"M99.9733 438.057 L107.612 438.057 L107.612 411.692 L99.3021 413.358 L99.3021 409.099 L107.566 407.433 L112.242 407.433 L112.242 438.057 L119.881 438.057 L119.881 441.993 L99.9733 441.993 L99.9733 438.057 Z\" fill=\"#000000\" fill-rule=\"evenodd\" fill-opacity=\"1\" /><path clip-path=\"url(#clip980)\" d=\"M129.371 407.433 L147.728 407.433 L147.728 411.368 L133.654 411.368 L133.654 419.84 Q134.672 419.493 135.691 419.331 Q136.709 419.145 137.728 419.145 Q143.515 419.145 146.894 422.317 Q150.274 425.488 150.274 430.905 Q150.274 436.483 146.802 439.585 Q143.33 442.664 137.01 442.664 Q134.834 442.664 132.566 442.293 Q130.32 441.923 127.913 441.182 L127.913 436.483 Q129.996 437.618 132.219 438.173 Q134.441 438.729 136.918 438.729 Q140.922 438.729 143.26 436.622 Q145.598 434.516 145.598 430.905 Q145.598 427.294 143.26 425.187 Q140.922 423.081 136.918 423.081 Q135.043 423.081 133.168 423.497 Q131.316 423.914 129.371 424.794 L129.371 407.433 Z\" fill=\"#000000\" fill-rule=\"evenodd\" fill-opacity=\"1\" /><path clip-path=\"url(#clip980)\" d=\"M62.9365 70.1752 Q59.3254 70.1752 57.4967 73.74 Q55.6912 77.2816 55.6912 84.4112 Q55.6912 91.5176 57.4967 95.0824 Q59.3254 98.6241 62.9365 98.6241 Q66.5707 98.6241 68.3763 95.0824 Q70.205 91.5176 70.205 84.4112 Q70.205 77.2816 68.3763 73.74 Q66.5707 70.1752 62.9365 70.1752 M62.9365 66.4715 Q68.7467 66.4715 71.8022 71.0779 Q74.8809 75.6612 74.8809 84.4112 Q74.8809 93.138 71.8022 97.7445 Q68.7467 102.328 62.9365 102.328 Q57.1264 102.328 54.0477 97.7445 Q50.9921 93.138 50.9921 84.4112 Q50.9921 75.6612 54.0477 71.0779 Q57.1264 66.4715 62.9365 66.4715 Z\" fill=\"#000000\" fill-rule=\"evenodd\" fill-opacity=\"1\" /><path clip-path=\"url(#clip980)\" d=\"M83.0984 95.7769 L87.9827 95.7769 L87.9827 101.656 L83.0984 101.656 L83.0984 95.7769 Z\" fill=\"#000000\" fill-rule=\"evenodd\" fill-opacity=\"1\" /><path clip-path=\"url(#clip980)\" d=\"M102.196 97.7213 L118.515 97.7213 L118.515 101.656 L96.5706 101.656 L96.5706 97.7213 Q99.2326 94.9667 103.816 90.3371 Q108.422 85.6843 109.603 84.3418 Q111.848 81.8186 112.728 80.0825 Q113.631 78.3233 113.631 76.6335 Q113.631 73.8788 111.686 72.1427 Q109.765 70.4066 106.663 70.4066 Q104.464 70.4066 102.01 71.1705 Q99.5798 71.9344 96.8021 73.4853 L96.8021 68.7631 Q99.6261 67.6289 102.08 67.0502 Q104.534 66.4715 106.571 66.4715 Q111.941 66.4715 115.135 69.1566 Q118.33 71.8418 118.33 76.3325 Q118.33 78.4622 117.52 80.3834 Q116.733 82.2816 114.626 84.8742 Q114.047 85.5455 110.946 88.763 Q107.844 91.9575 102.196 97.7213 Z\" fill=\"#000000\" fill-rule=\"evenodd\" fill-opacity=\"1\" /><path clip-path=\"url(#clip980)\" d=\"M138.33 70.1752 Q134.719 70.1752 132.89 73.74 Q131.084 77.2816 131.084 84.4112 Q131.084 91.5176 132.89 95.0824 Q134.719 98.6241 138.33 98.6241 Q141.964 98.6241 143.769 95.0824 Q145.598 91.5176 145.598 84.4112 Q145.598 77.2816 143.769 73.74 Q141.964 70.1752 138.33 70.1752 M138.33 66.4715 Q144.14 66.4715 147.195 71.0779 Q150.274 75.6612 150.274 84.4112 Q150.274 93.138 147.195 97.7445 Q144.14 102.328 138.33 102.328 Q132.519 102.328 129.441 97.7445 Q126.385 93.138 126.385 84.4112 Q126.385 75.6612 129.441 71.0779 Q132.519 66.4715 138.33 66.4715 Z\" fill=\"#000000\" fill-rule=\"evenodd\" fill-opacity=\"1\" /><polyline clip-path=\"url(#clip982)\" style=\"stroke:#009af9; stroke-linecap:butt; stroke-linejoin:round; stroke-width:4; stroke-opacity:1; fill:none\" points=\"\n",
       "  247.59,1445.72 451.975,1445.27 656.36,1430.64 860.745,1261.97 1065.13,622.207 1269.51,87.9763 1473.9,622.207 1678.29,1261.97 1882.67,1430.64 2087.06,1445.27 \n",
       "  2291.44,1445.72 \n",
       "  \"/>\n",
       "<path clip-path=\"url(#clip980)\" d=\"\n",
       "M1987.39 198.898 L2280.54 198.898 L2280.54 95.2176 L1987.39 95.2176  Z\n",
       "  \" fill=\"#ffffff\" fill-rule=\"evenodd\" fill-opacity=\"1\"/>\n",
       "<polyline clip-path=\"url(#clip980)\" style=\"stroke:#000000; stroke-linecap:butt; stroke-linejoin:round; stroke-width:4; stroke-opacity:1; fill:none\" points=\"\n",
       "  1987.39,198.898 2280.54,198.898 2280.54,95.2176 1987.39,95.2176 1987.39,198.898 \n",
       "  \"/>\n",
       "<polyline clip-path=\"url(#clip980)\" style=\"stroke:#009af9; stroke-linecap:butt; stroke-linejoin:round; stroke-width:4; stroke-opacity:1; fill:none\" points=\"\n",
       "  2011.46,147.058 2155.89,147.058 \n",
       "  \"/>\n",
       "<path clip-path=\"url(#clip980)\" d=\"M2193.81 166.745 Q2192 171.375 2190.29 172.787 Q2188.58 174.199 2185.71 174.199 L2182.3 174.199 L2182.3 170.634 L2184.8 170.634 Q2186.56 170.634 2187.53 169.8 Q2188.51 168.967 2189.69 165.865 L2190.45 163.921 L2179.97 138.412 L2184.48 138.412 L2192.58 158.689 L2200.68 138.412 L2205.2 138.412 L2193.81 166.745 Z\" fill=\"#000000\" fill-rule=\"evenodd\" fill-opacity=\"1\" /><path clip-path=\"url(#clip980)\" d=\"M2212.49 160.402 L2220.13 160.402 L2220.13 134.037 L2211.82 135.703 L2211.82 131.444 L2220.08 129.778 L2224.76 129.778 L2224.76 160.402 L2232.4 160.402 L2232.4 164.338 L2212.49 164.338 L2212.49 160.402 Z\" fill=\"#000000\" fill-rule=\"evenodd\" fill-opacity=\"1\" /></svg>\n"
      ]
     },
     "execution_count": 66,
     "metadata": {},
     "output_type": "execute_result"
    }
   ],
   "source": [
    "dx = 0.1\n",
    "L = 1\n",
    "dt = 0.0001\n",
    "Ndt = 700000\n",
    "interval = 10000\n",
    "N = Int64(ceil(L / dx)) + 1\n",
    "th0 = zeros(N)\n",
    "xrange = 0:dx:dx*(N-1)\n",
    "println(size(xrange))\n",
    "println(size(th0))\n",
    "m = 0.1*ones(N)\n",
    "b = 1*ones(N)\n",
    "d = 0.5 * m\n",
    "mu = 0.5\n",
    "sigma = 0.1\n",
    "dp = 0.05\n",
    "p = dp .* exp.(-(xrange .- mu).^2/2/sigma^2) / sigma / sqrt(2 * pi)\n",
    "plot(p)\n",
    "#mu = 7.5\n",
    "#dp = -0.1\n",
    "#p += dp .* exp.(-(xrange .- mu).^2/2/sigma^2) / sigma / sqrt(2 * pi)\n",
    "#mu = 0.5\n",
    "#sigma = 1\n",
    "#b += 20 .* exp.(-(xrange .- mu).^2/2/sigma^2) / sigma / sqrt(2 * pi)\n",
    "o_ref = sum(p)/sum(d)\n",
    "plot(p)"
   ]
  },
  {
   "cell_type": "code",
   "execution_count": 68,
   "id": "6b9d2ae5",
   "metadata": {},
   "outputs": [
    {
     "name": "stdout",
     "output_type": "stream",
     "text": [
      "0.049999999659026545\n",
      "third order\n",
      "NIter: 10000\n",
      "NIter: 20000\n",
      "NIter: 30000\n",
      "NIter: 40000\n",
      "NIter: 50000\n",
      "NIter: 60000\n",
      "NIter: 70000\n",
      "NIter: 80000\n",
      "NIter: 90000\n",
      "NIter: 100000\n",
      "NIter: 110000\n",
      "NIter: 120000\n",
      "NIter: 130000\n",
      "NIter: 140000\n",
      "NIter: 150000\n",
      "NIter: 160000\n",
      "NIter: 170000\n",
      "NIter: 180000\n",
      "NIter: 190000\n",
      "NIter: 200000\n",
      "NIter: 210000\n",
      "NIter: 220000\n",
      "NIter: 230000\n",
      "NIter: 240000\n",
      "NIter: 250000\n",
      "NIter: 260000\n",
      "NIter: 270000\n",
      "NIter: 280000\n",
      "NIter: 290000\n",
      "NIter: 300000\n",
      "NIter: 310000\n",
      "NIter: 320000\n",
      "NIter: 330000\n",
      "NIter: 340000\n",
      "NIter: 350000\n",
      "NIter: 360000\n",
      "NIter: 370000\n",
      "NIter: 380000\n",
      "NIter: 390000\n",
      "NIter: 400000\n",
      "NIter: 410000\n",
      "NIter: 420000\n",
      "NIter: 430000\n",
      "NIter: 440000\n",
      "NIter: 450000\n",
      "NIter: 460000\n",
      "NIter: 470000\n",
      "NIter: 480000\n",
      "NIter: 490000\n",
      "NIter: 500000\n",
      "NIter: 510000\n",
      "NIter: 520000\n",
      "NIter: 530000\n",
      "NIter: 540000\n",
      "NIter: 550000\n",
      "NIter: 560000\n",
      "NIter: 570000\n",
      "NIter: 580000\n",
      "NIter: 590000\n",
      "NIter: 600000\n",
      "NIter: 610000\n",
      "NIter: 620000\n",
      "NIter: 630000\n",
      "NIter: 640000\n",
      "NIter: 650000\n",
      "NIter: 660000\n",
      "NIter: 670000\n",
      "NIter: 680000\n",
      "NIter: 690000\n",
      "NIter: 700000\n",
      "  2.647642 seconds (16.11 M allocations: 1.408 GiB, 7.31% gc time)\n"
     ]
    },
    {
     "data": {
      "text/plain": [
       "1.1000012538156885"
      ]
     },
     "execution_count": 68,
     "metadata": {},
     "output_type": "execute_result"
    }
   ],
   "source": [
    "\n",
    "ts, thetas, omegas = perform_dyn_sim(b, p, m, d, th0, interval = interval, Ndt = Ndt, dt = dt, boundary = \"third\")\n",
    "sum(omegas[:,end])/N / o_ref"
   ]
  },
  {
   "cell_type": "code",
   "execution_count": 57,
   "id": "e9478745",
   "metadata": {
    "scrolled": true
   },
   "outputs": [
    {
     "name": "stderr",
     "output_type": "stream",
     "text": [
      "┌ Info: Saved animation to \n",
      "│   fn = /home/laurent/ContGridMod/notebooks/tmp.gif\n",
      "└ @ Plots /home/laurent/.julia/packages/Plots/Awg62/src/animation.jl:104\n"
     ]
    },
    {
     "data": {
      "text/html": [
       "<img src=\"data:image/gif;base64,R0lGODlhWAKQAfcBAACb+gD/AAEBAQOc+gUFBQZytAee+ggICAhOeglHbQlcjgozTQpSfwplnAqf+guf+gwMDAxnoAyG0QyZ7w0VGg0oOA1qow5Wgw5gkg5jlw8PDw9fkA9ilBBbihCh+hFVfxFZhhGi+hISEhMTExMdIxNQdhRLbRSj+hVJaBWj+RZEYBcXFxc+VxdAWhek+hg6Txk1Rxml+ho5TBqb6xsbGxspMRswOxsxPxul+x0eHh0kKR4oLx6FxR6m+yAgICAhIiCEwSCm+SGo+yIiIiKo+ySBuiWAuCWp+ygoKCqr+iqr+y2p9S4uLi+t+zExMTMzMzOv+zSu+DWc3DY2NjZ0mjaw+zo6Ojuy+zyz+z1vjj2v9D2z+z2z+z8/Pz+c1T+z+0Cd1kJCQkO1+0S2+0W2+0a2+0dHR0m2+Em3+km3+0xMTExkc023+E25+1BQUFG7/FNTU1VVVVW8/Fe7+Ve9/FhYWFpaWlq+/F1dXV2//GBgYGHB/GNjY2PA+WWdv2bD/GdnZ2fD/GjE/GrB9mrF/GzF/G1tbW3G/HDH/HDH/HNzc3XI/HZ2dnfK/HjK/HmdtHrK/Ht7e33M/IDN/YGBgYHO/YWFhYXP/YeHh4iIiIjQ/YmeqorR/YuLi47R+4+Pj5HU/ZLU/ZPQ9pTV/ZWVlZjW/ZnX/Zqamp3S8p6enp7Z/Z7Z/Z+fn5/Y+6GhoaHa/aOjo6Pb/aSkpKTb/aampqbP6aenp6nd/and/aqqqqre/aurq6ze/a/g/bCwsLPh/bTe97W1tbjj/rnR37q6urvk/r3l/r+/v8Ln/sXFxcXa5sXo/sbS2cnJycnp/Mrk9Mrq/szMzMzr/s7Ozs/s/tLi7dPu/tTU1NjY2Njv/tra2tzc3N3d3d3y/t/y/uHh4eHz/uHz/uPu9eP0/uTt8uT0/uXl5eb1/+jo6On2/+n2/+rq6uv3/+zx9ez4/+3t7e74/+/v7/D5//Ly8vPz8/P6//T09PX19fb29vf7//r6+vr9//z8/Pz9/v7//////yH/C05FVFNDQVBFMi4wAwEAAAAh+QQFBQABACwAAAAAWAKQAYcAm/oA/wABAQEDnPoFBQUGcrQHnvoICAgITnoJR20JXI4KM00KUn8KZZwKn/oLn/oMDAwMZ6AMhtEMme8NFRoNKDgNaqMOVoMOYJIOY5cPDw8PX5APYpQQW4oQofoRVX8RWYYRovoSEhITExMTHSMTUHYUS20Uo/oVSWgVo/kWRGAXFxcXPlcXQFoXpPoYOk8ZNUcZpfoaOUwam+sbGxsbKTEbMDsbMT8bpfsdHh4dJCkeKC8ehcUepvsgICAgISIghMEgpvkhqPsiIiIiqPskgbolgLglqfsoKCgqq/oqq/stqfUuLi4vrfsxMTEzMzMzr/s0rvg1nNw2NjY2dJo2sPs6Ojo7svs8s/s9b449r/Q9s/s9s/s/Pz8/nNU/s/tAndZCQkJDtftEtvtFtvtGtvtHR0dJtvhJt/pJt/tMTExMZHNNt/hNuftQUFBRu/xTU1NVVVVVvPxXu/lXvfxYWFhaWlpavvxdXV1dv/xgYGBhwfxjY2NjwPllnb9mw/xnZ2dnw/xoxPxqwfZqxfxsxfxtbW1txvxwx/xwx/xzc3N1yPx2dnZ3yvx4yvx5nbR6yvx7e3t9zPyAzf2BgYGBzv2FhYWFz/2Hh4eIiIiI0P2JnqqK0f2Li4uO0fuPj4+R1P2S1P2T0PaU1f2VlZWY1v2Z1/2ampqd0vKenp6e2f2e2f2fn5+f2PuhoaGh2v2jo6Oj2/2kpKSk2/2mpqamz+mnp6ep3f2p3f2qqqqq3v2rq6us3v2v4P2wsLCz4f203ve1tbW44/650d+6urq75P695f6/v7/C5/7FxcXF2ubF6P7G0tnJycnJ6fzK5PTK6v7MzMzM6/7Ozs7P7P7S4u3T7v7U1NTY2NjY7/7a2trc3Nzd3d3d8v7f8v7h4eHh8/7h8/7j7vXj9P7k7fLk9P7l5eXm9f/o6Ojp9v/p9v/q6urr9//s8fXs+P/t7e3u+P/v7+/w+f/y8vLz8/Pz+v/09PT19fX29vb3+//6+vr6/f/8/Pz8/f7+//////8I/wD/CRxIsKDBgwgTKlzIsKHDhxAjSpxIsaLFixgzatzIsaPHjyBDihxJsqTJkyhTqlzJsqXLlzBjypxJs6bNmzhz6tzJs6fPn0CDCh1KtKjRo0iTKl3KtKnTp1CjSp1KtarVq1izat3KtavXr2DDih1LtqzZs2jTql3Ltq3bt3Djyt06jV9Du3MV+uuXV2E/f30T4g18cLBREe8aziNc+B5jg/cMP/63eDLBykcRK7Y8kJ9jzv8ig6Y8mjRSzQwxW/Y8WjRo1ZZhE0W9UDZj1qBdc7bNmHdQ2gp998XNWXfs0sJ/Ak+YfC5xy8YnN587nedyhNXhPp8c/XF2uN9zXv8/GL7t9sfdeyNPOt5gebbnGacn/J5t/ZrtC95PG5/w/MD7pRWgTPldNlp/gf3X14BnMQhTgQM5SBaCfSmYl4QYpRLHhhx26OGHIIYo4ogkguiKaZklltqBnxUnmXcz1WHILrnUaOONOOao44489ujjjYbggeJhKtbGYmsvqidTHbQc5YqQGLYEoUBRhkVhXhZSF2OTRj05ZFFTfvnYlXNlKVeVFTHpJJTsFRnckbklSd+Wa4o5VJhofkWmXGbGledEanbJ5mluMgeni6P9KVGgRXmp6El4HgqdnADSKaidQkUK2p5x9QmepTT1c0wnjJjDkKNtbrZpi5MmCupM9jD/wQcB05w6aIqqcsYpXJ6+9ShEjLLkyjoDuYLOQAfUuhCqhOa6GqvcUbrgqyvhYYlA14yAD7LKKsQsriuuiqSrS3Ip0DljpKvuuuy26667aRiUzA98AcIIQcnaiulvhWInabTkxhRsPsUUbPDBCCessMLGHOQEMfRooA2+3Sb0LZHOTrbrW7269etDwbJEChynmAEYt/p+TJKmukKLnrQXUrvSPCIgkUtB+S57K8bhtjzuazKvZMgK+gzUxQ8C0DAEsRbvDGa/5P37csAwhcwSH5Gc/E88XHPNV9P7AsXysz/vFjRK2nyigakTXfx0xmO6LB/MWpb7UjKRNFOR27NB/+2e1HNT/ZLVQfF9p9/6Ae4f3Wee/ZPhmSJuoLhxCu4S4UBBzi/ct8m9uOUtYf64031zTtjGbnXclsoNie6T5mJLHqHiCTLu50yR/PDE7rz37vvvwAcv/PDE++6DHmErJzuVtFdo+6cy4RPN9NRXb/312Gev/fbcY08s6yKNrbHntYOuJLhGUo4o0OZv3jPZlbMvP8/p+xy/2e3HbnpgqLelun3radb7xle24+RPefsbDvmcd8CYCbB+8Fsf/ub3tgHGrYDSCSD63qS+VlEwgw/koP0kaMAPHi6BeekfW/63FvBdxYUgEd8F71fCCdJPhBH0oA1rWEEIEpCGIDRh5P9Q6JwFYul5vtKgSYiBBzwkQ2sC+UYm7MAHXwyEFozIIiUSIsPOYRBGDeRIMjSQilNooGL/iAQgaEGKFZBCIHVwQyYy8QkuLi95Rfzi+XY4kjhQAjCMQB5BtPYJK8DxjQvp4umMWCYkekyJJPEBMQTiCyQkhBFwgKMZDPEJ3yiSf4zkkyNXB8mRHCAaAkmGCBAyDQgoqxOdIIUZhhAPhEDACmHI5THowcte9hIdvgymMIdJzGIa85jITKYyl4nMeKyDmdCMpjSnSc1lriMe1cymNrfJTWECs5vgDKc4kfnNZH7NIhpIhkCOQYODaIMG5hpIP5xACigORAO+IIY+mRb/tQ4CTIhzOgkTbCGQVEzBINzIQSoQUodIIOSTCtRjQAH6EUqY4R/9CEMnBAKLY31jCIgUSD+O9Y9vjMCKB4FoCkPZqVECMIwbiYcTnMAEK1SGAMf4x6yGwNMu+EMfB3iCFSBgCDsSUS4qXAsL1QLDqriwH9GYxjnRUbR7dI1rArlHNJLBz5TesalTSapaliqgUp7Qgl4EIhgpikC0LlKilYLpTlSaR7XukYelcyso4TotueqErkhlKa9c2kKzDlGvEbXrRPl4Vh/OkIRBZOxhHZtWyK5Vsu6j7FsVG1e2+gSwcRFrWsiKFrBOxbQcAa12BMsxwjLVsJnF4Q8te9fI//ZQto/VIV4ve1tD+XNqnq3bBn07Qt3a9riNxW1ljctb5E5WuZul7WJ3+1zi5vCfmO3sDa07W+bWtrnJ5W5usUvd6eZVs3vlbF+Da52vNu+Ifk1iCMW7XPI617zh9ddvA8fe281Xv8W1L3i/W10AXxe42V3vdg3cXQETGL8F7meAEVxe7faWweOl8H0tfF7ople6HB5wbOkbXe9C+MT6Q+xK+erA/v7Vvfv9nIvlO1wM11fDIg5xhP8W4/LN+JH/lfCB+ZvgFi9YyA3G8YN1PGIbl9jBKFbwhZGcYSJXWModJvGHTczkLrcVvYkFMZZz/GUPh5nLY15ymbV8Zih72f/IU+bxhK284TQ3mco3pjOZ4ZxlJ2/ZzXZ+c09U+xbRooW0DYJtisG8YvXyec+DhvGcZVxk4R5ZzkOm9JUfHRJ+fEINfJhYQZKhCFDrTSD4oIQaDNHVghDaLYY+C6LNgtqogM8STAgGJVZgj4LAwRLBwMQBTo0HMxBDDwd9qKQz7eNKN84k/FhBTv8xhYUiBA4ORQcBTMWPETzRq0cNLWtT59qyxtci3BBA0f6hCEAgxB9PeCMxhjAQNdQR3Cquq5g5HWUxamAgmHADQj6BBMe4Itn/0MO9DnLLXIbhGPOIuMQlbo6JW/ziGM+4xjfO8Y57/OMg77gzQ07ykpv85Cj/B/k1U87ylrv85RevOMxnTvOad1zmHi/3P65BgIFEQkgGoQUNRL0LJgzEjwjBpz6J0erJTbrZm7b0SN4hALbhIWsF2cUKrjGQZmgAL1NghbLDvVoWS73OHTHDFtEhglqh4xSACcYKUCnPH9yslX57tXnG7T+dJ/rcFrkGDaawAkWkUgACQQIBRMB4d/8jGCOwgghCahC9w4fvK/Q7rRX9EXxMwxwn40ctt3bVXguEHtFoOkEsv5ZYm2XWZak1VGSfEdarxfVlgT1ZaO8U3l/E9vzBvFI1H3vOf3bZSdazmvm9aDM3et9nh3R7yV5o4Y+V+Ls3fqSpD2vrjxb7Y/E9/1PEXxHgowX3ZNF9+LU//XwH1uzP/vFNzH8W9I9F/WIhv1L0PxH6m8X+YoF/YcF/SEGAEeF/ZQGAYSGAYGGARuGAD4GAE+J9hwZ++cd+c4V8VaZpaBd9O5Y4PcZA8vdSNYZnT6Zk/eaBd4ZpyceB0udfJciCGwh1HRh/lwaCTyeCzgaDN+h0zKaDUWeDcYaDPwhfI1hYQSaDeeaCy6eCzcdmz4dmzBdoa+ZnbYaCgiaEfWaCf4aFVDiFx8d9ewd/PBiEGSiGl0eG0HOENCGBY6GAYMGAXwGBREGHDeGGYgGHXyGHXmGHQuGHiaSBS0iDL7iGPTg7IWiEO2iIQ+iDLf9IiE2ohfnFhVeofCkoiR/oiDMIhDVYhluohCdoiVnoiZMIil0oil/ohFVIiVEIaGCoimHofuKmhjS2iOIhiKHIhJdIipmIiDmoiGbIiJ9IhI/IiYVYi43oi0XYSIBHgofIPInIjGxobjFIjJsIjJ0ojKVojYNojJHIiyvIjbkIibuojb0Ijb8ojbYIZNWoid2IjcfIjs+IR+/naLB4j+3HaPomhfgIjk9oha3oha+IiSGxC2qgBsFgT/iwC4wACNsiEKcACBKpCPY0EHhoJRQoaxY4gBiYEccgAr6wC+lUENgQBoAgAKP3D3VgB6dwCicydrJYdvZIkKOYEW5wLWn/ZAcHYQ4oORB1QHkwqY/1CH00mYobkQPHEHeWZBA8mZJ10AV1QAkkhW9COYsz6Y9GqRG0kkqrxJQ9KRCkcAq0EAcr4DcQwAQz9TDFVE7j1JZu2U3O9JZyOZfUdE10eZd4SU55uZd86UtseUznVH7q9A/EkAM7+ZWDNAX3ZhAacAzUk5KmWIm6WJPIOBJOAAsQaUheCZk+6VBU6Xz76Ir9aI4gkQldwA/6YAX19A+fwDb/0JQiJWrXoAHBEJSgOZT8WJQDqRH0EAZD4ANm8JA4hVEioAECoAEr8A/6oAE/wAQQsEW2CYWhKZCjWZkkwQ3cQBAPiRD8wA3XsJ2fKZ24/ymaulmdOHGRYKGHXsGHXQGIQOGeRhWT1UeL8hiMt4iGrZeRr7eRDdiR9ymf3UefpNSM+IGLpziZWUma/8iK04mKu6mgqxiZAemg5jmg7aiMxQiP3wihsViVMkmUWPmg/+mh83mVHFqhNoGeeqKfucefc+if52mgkkmOlFmfw+iO4+iN5Wid50iPVgmiJ1qe+XibP5qbIYqiBYqft8ei6eeifQij8yejE4qgImqj24ijB0qjCcqj4YilM6qjNWqh8wifPaGeXcGeXEGmPaGmlSelDUqlSPpaSSiOWQqmW2qlPcqmOmGmXIGmW6GnOgGoFumm40mdQnqkQyqeRUqeiP/aqC+mpMEnoM5onzEKqefHpPfnpO0JpSlKqItqqI7KpQsqoW+qpVUqpsmIjssoSgQqpxeqqhmqjpSKqjeKodcoq9koqhFKp1+qoTuKp11qq++Iq/FIq1cqrDnqq2E6qbUKq7fKqtNYWqkCoGNoorp6qp1qqfWHqQGoqWnKqUlKrWlorcC6rOFKogFKrsa6oSNKpB9qpEEaqpUqrvkpqUgYrTGhol7Bp1vhp1ohqDgBsP+gr13Br1rhr1khsDYhsATLFQabFQiLFQpbEwzrqe/KqPGase2qqBcLqhpbrrvqpVNqqnFKjWP6XsTKriDboe5aokB6rSUbEfpACVYAB2j/VFKkwAcLJxDxYAhWoAffEJ/oWq0vu7IxCxGRMAXN8AkjABu5UAdx4AQEAQdwEA2KwASBuXoW67LwCrOHihH64G0C0QVAKRC0ILUCYQ4EQCz9IG0VObBbm65Fu66/WhHbIAB40ZAHcbYDEQxIcDJusFHhCZClaqfYeq8kMUYAJ3BBh7b/wAoIp3C2hJYzRQwah3M2l7maC3Mjt7me+7knt3KgO7qky3GYW7qom7qnu3E6x3Mn83N767hFd3TQyZiOOT2cKbKFq6x3SrceEQ8EELQq6ZkFwbcCEQ0asG5O8JJtqq3/x60L6K1/Cq4ToQb38g0awHXmgAkEYbz/4A9I/7BQY5S7AtGwW/GwWBGxL0S9EqENSIAEGoCTyYB4/3AMAnC/AnBR9UsDSDACsiC0LSu3XWu0X5sR/cAN36EP3LBA5qsV6HsV6msVE0sTFeu8CQi9cSi9/8q+BBK3RDvAvtu72UqvS2qvrrqOUWrBE2jCJjurIzy04zq3zFqsLxzAH4yxXiuvKUzCkaquM6yyOwzD9erDiOvC52rDMQzCP1y3NcyxXIvDBKzDTUy4hUqhBRzFj8rDl8rC0tqqM9HAWfHAVhHBTsXB+erBSQzFIXy4bYjGQyzDRZyr8yrEJUzEJ2zEbazCb4jBe6jBCWvGD+LGdQzHdyzHQYzEb6zEcf9Mw0fsxAKsxktsrnmsxdvKxX+Hr4Gsx3nIx+vpxxILyC8BxlghxlVBxlQxwTNRwZT8vJa8eV7cwZqMka1cfK98xrGcnpx8pp68vrWcyat8wbOcfb0cyoLcw4TcwoY8xQxaxXB6xWu8fb+8wnaMzIw8yXRszIpcyNX8xcW8xdPcxZhMzLe8osG8fsPsEqJ8FaRMFaZ8WqCMzt1cyd98ySiszKTKzCTrzJEcsshap7zLxtScpygLrfW8yAIdjQSNxwEdrM46rAmdzAbN0D7asVYsxRE9qrw6soZ7tK78qhP9xB6bwx97yI58wyGNxSK9sVT8qRU90vvMsiWdxif9zPr/3MgrTdHNbNHafNDp+NDbDM4ni9Atdc7m7NGoHBPrPBXtLBVHHRMulApWYAXxNBDRoAZPwAgP+QkcIkiDu8wsndMufdEeIXfHQAwjMG0RMgKfcA1hQJEqyQc1glJdfc9fnc86vdAfoQaZIBCUkEkEcQqaOQ0asC0/yRDpbBVJLRVLbWvvzBA0MG1+C0WGUFTfSwBcVwdTsEnZGZ03DdItndIofRFb+Q+KO7W1K23/4Aq7EAyAIAKuWRAQkAM+MNvBsJZ9edt4GZe4vdtvaZe8/dvi9JfAPdzZJNzFlLUTIbaE6QMFobMoQxBWILiVFw3YucAxnciQLNYAHRFPIHb//0AKXVAQfZ22BFAocUC8rhbPrDzPHV3QE/EJU6AP+OAEp8DXQbsNEIAN/8AIaoBRp5YMEIDW6T3O+5rLfbrLEtzYC4EPcDACI2AH65ZOgPEJIuADTDAx/EADGkADIrCYzRvNe1zOF0jUDfEO5Itqr701Kf7h1+zNxwzUCg3LIL7JIs6RJL4Sh10ViR0Viz17Co7j6g3M7E3L4QzPBF6wBt6vCF7GN64SOU4VOw4VPf4UTQ0Tqtzi8vzi9BzjtjzjsjzkwlzkUhLk0qzl7c3lvozl623mRO7e3HzkDpvkB7vkp/zjTk7mIQ7mRe3mMq7mQs7mYc7nXe7nZZ7NeC3CNv/t1Tht12G90xJd5S4R5U8x5b1n5ynx5GEl5xBL5+7c5JeO5zSu5yMu5iyB6VIh6U5B6U0B6S5x5Yg8yIYO4xBtza+Ozdnt6JL85l6OyzXen56OEqYeFajeFKo+fpYO7KD+5YC+52guzrtOzqJu46QO5HB+vpqevpzO1McOKcnO69Hu69N+59XuwNcOwdnO2L/O7eMexuU+xufu4+luEsEOFcPOFMW+FKzeEq5+3bB+64e+3YNe6y4e61s+67pO6Hm+7KMu6Gku8FlO8Gdu8H3u8GsO8W3e7Eb+7AXe6y8a7yUx709R70tx7/u37fLe7dCu8NLO8M6O8KGu8uDO8hn/7/LKbvGBjvFjvu6j3O6l/O5UbvIfj/Ib/+0dH+6frvPqzPPs7POV7vErI/RIzvFP6vQjAfJOIfJKQfJJke8sse+d/cgz/dIc3fIU/+c2z+wSH/D8buthr91jP/NlX+j+Lus/rfZfb9KfHdo0fYYLwQ9cBxrxILyc8Q0nHhjXwPRMoQ9/bxL4oAhIEAaDWRCQ6wSLuQ54gARuoN+cbRDf0E6gkQo6CRp24N2cQQOgxxnY8LcnoQhhoA2soAGFcgxnHQ05sAsCoQZ4wA2UMATIXb7L0/mjAfqjMfqjYfpv2xepf/wegQ8aQHdh4OH/cN4C8Qlh8A/ccACJ4Q85UJtz/00QwP/5oc8ZxA8axo/6ql8S2iAAX8MIfFAQSIBSyZCcfjsQgbv5BfH9nCH8ok/6llH+APFP4ECCBQ0eRJhQ4UKGDR0+HIgNiT+IFQsm0zAQk5uCI44JvEaAH6spA/UoQsiEwEoCK3y8hPkyBwUQNW3exJlT506ePX3+BBpUaM4LDIYeRZpU6VKhDC4whRpV6tScCKhexZr154UEMb1+vWaxYEiK/yLpKTgkmMBmIv75QjIQjiWE347dPXaN216+ff3+BRxY8GDChQ0fRpxY8WLGjR0/hhxZ8mTKlS1fxpw5sD6xBOcR4CYQDqWCZj5RhOXk3zQI+AQyodVZ9mzatf9t38adW/du3r19/wYeXPjw2nAM+cMGYdu/b4wEukJCD5+VT6+rE9Ngj/h27t29fwcfXvx48uW5f3uyQgMptm7/8eOjQUQc1/+iDaGxwpd5/v39/wcwQAEHJJC2eDhDCB/tCoqHnwIfhDBCCSeksEILL8QwQw035LBDD8sjZogDrAjtQ+C0UUOEA8II6x9ahoBxiBa5seKAIYgxMbf7Ytzvn3nggGCFUwYKxocVv8kRNzNiHIIPgZCI0TmBIhFBA0AcTFI2WtxAgq6BfDEyDHMEwscOCEaoTiBikBhRmwztEcEXfhgJI8veoknlHXwMiesfUtTgC8EwGOHHFw3osZP/tmSG4AvRfwxxA59pNAgrHgiI0ccQNRKlzZxt9hpiyH8IaGavdQQC05x4nGCP04pSSUUNlARa51J+AIFDIEq6sEebEZL55x4RduEnki7KsjA1geIBzVXetBHANVLqKIgbAuIRyAlXnBUrmT4H6kcDYP85yU8rBEKHAHS4lS2aA7AddV2C1PDSlSfYhYiPWf/5pM5/zCHgnX9oWOtRQFxkgqJ5DnDzwkjwGOgHHPG97RPV/BRhBSfSJMaHgfCIhOKHkjmABiQiuecfdASYR6BOOFLkYIFWGFfkhwBBSyACXrIDyX+Q6DGajGxeSN+BDDFkIA2awUcAcyg6pU5KqBVI/y0MDZH5HyZsIXq2aERoBqRo1glGyH9ySVggpJHt+iBzklmnGSaSvkaAfgQ65dxyqw6G7bYPwkeEj1A1R5s6mHBwhWMoghbLvwsyWiA7IikrB2LMEQBeW5j4RxEns4UFQ0rsGMiHiR9/6Br9DuqkzmNo+JgSv1EviJgV/lknc4EyydXzgX6lHSFYhpj9HgLCArq94AmK/NHjBNIgmqZ9JsUMf6Ye6MbZI9yconcI8Hl5hbChgeuD+v2XgFO1Nl/82m/vxyPJKT+lpPTXd1+gLjAB/Ph/RsPbudzXPFIIkBvv+scPegSIpO2iT8wqkYXwMYJUzMMQZshfQraxAkVEw/+DrrHFNd5hu1NQRA2AmIcrRlAf9wUjGu+IhhOeR6d3HAMCbpqHBmwxDz3kKoP/sFb4rhGMdXDDDoj7RzBocA1zICEV4jNHNNyAh2isKx4a2MU88EC6f1hiCnETwTT+gQ8hWdB6GUrGFEbghjH90CDBeEIc4zimSCBBBBsbiDncMIIp1Mx9qWDCCE6WsjHyYQVIyMVAjvGEEcABf/lLRdb+0QwrrOAHeAjfJ3xAA8qJjxRyfMK2/kEMJ4wgDgL7R6YOyYqBNEONamijG2U5S1rW0pa3xGUudblLXvbSl78EZjCFOUxiFtOYx0RmMpW5TGY205nPhGY0pTlNalbTmtccxGY2tblNbnbTm98EZzjFOU5yltOc50RnOgkUEAAh+QQFBQABACw9AHMBAAIBAAAINAA1+BhIsKDBgwgTKlzIsKHDhxAPrhjxI6LFixgzanw4gsbGjyBDijyoIcfIkyhTMsyhISAAIfkEBQUAAQAsVwKPAQEAAQAACAQAAwQEACH5BAUFAAEALDwAPwECAjUAAAj/AAOIg0KwYBUyY8a8kUPnz59GkDR5MjWrVzFo1rzB8xego8ePIEOKHEmypMmTKFOqXMmypcuXMGPKnEmzps2bOHO69NdOms+fy4oJ7aVrlilTmi41QvTnzpsxVZT0CAHgQQwlVco0bKSp1C1h0rrB00m2rNmzaNOqXcu2rdu3LeuVy7ZM2C2kjQLJIQNFiAcAIY5USXPnkCRQsX45y8aOI9zHkCNLnky5suXLKP25y+bs1yxQkw7dSVPlyAkAHohkpSMIEidVvIxRE4u5tu3buHPr3s3WXTdowmaNuoRoz5svUHr89dCjyRbCgRpdCqVKV7Fl1rq5y+eYt/fv4MOL/x+vVp43asg8l9IEqdAeOVCVEAnhALULIk2gjEkjJ88fRI1MItFRuujyi1DQ+NTNgunAA4885EUo4YQUVngZPOd0Q400xfzCSyymgKLJJEsF8occcrSRUBUEHUEEES6EEMJfANTogYwh3Pfii/kVRNAWCQUZJH8oFmkkQw4lqeSSSQLYyJNQRilllBFpYuWVWGappZWcHOXll2CG6aUorRRo5plopmnmgUK16eabcAr105x01ulTdgvmqaeeDTrop5/cWSjooN/9mc6e1tSJTJwdqnnmXWJGaoonW1aapVJTZqrpk4sw6emnDvWRx5GklnqkikKmquqqPrbqaqvy7f8o66ww4mirjPXVqCtgturII0FVBIniHQ4h4oiAXc2iizDGSJPNOBASKu201FYrqD9/YqjnhtI402aBRpnCyYiNDNLUXsgdgcNyOChxBWGGgTJLMdacs4+1+Oar774WyjOONcv8EgtohdwhRhMxGOBCE2n8MYkqxWSTD78UV2zxxZj5cw41v5giyR5iEGEADl/soQkv1tyL8cost+xyTv6AY4wpi7xxhANKyDFJL9287PPPQAc90j7W3AJJG+uK4Ugv5Qjt9NNQW5yOMJW0cUIPd5RiTXdRd+311xNmo8oeMNJhijdgp6322rqN80oeLhyBSDEqs2333Xi35Q81l1z/EQIdt0Sb9+CEF15TOqqk4UEbs9Rj+OOQR36SPLEofscv/Uiu+eaRu1PKFS4skg3XnJduutrZQIIDFrFMfPrrsEe9Ty9phI527Ljn7nM3i5wgBzK6By+8xfWUIhgvpA+v/PLX9nLFEarskzzz1FcfHjJl9DCK69Z37z1v0CA9St3fl2++ZdKk0YMqmZ/v/vuPLfOFEr3Ab//9agnTxBXL4O///zfxRyx6IIeeAfCACGxJPi5xgkY4LoEQjCBJzrEHHLxiehLMIAKhUYUrSEODIIygP1ThAkIILoQo9B88BBGDWaTwhf6Dhn66gUEY2rB6+/DECS5Bvhv60HrgSEMTiqDxwyJ2bxYxWMQDjcjE4bEjD0QwRhOnKLxf9IAQS6SiFk8njz0IQYpbDKPphHHFLIrxjI/rIhGAh8Y2Pu4XOEAE99xIx7u5gw5KIGId92i3W7hAEj3koyCjdo40QMEag0yk10xxAlDUUJGQZFk3sCCGYQTgH5HM5Mv6oYkUlACTmgwly2BgAR0EBAAh+QQFBQABACw8ADMBAgJBAAAI/wADkPtD8M+iRpU0lYrVyxg1cPUCSJxIsaLFixgzatzIsaPHjyBDihxJsqTJkyhTqlzJsqXLlxLblTJFk5MmSY0C5XnzpUkPBw56VHkjqNIrY932+YPJtKnTp1CjSp1KtarVqxnzeVv2axSkPF+IGOjxZY8mXtb2YV3Ltq3bt3Djyp27sZ83Y6YWvTniQMkbSbqy9aNLuLDhw4gTK5ba7lmrRWyCOIjSR9SzdvMWa97MubPnz1jlIQuVR8mDKoReZVsKurXr17Bju86HDBQdISHSVDKWT7bv38CDC496rteiK6cR9XI3vLnz59CjS6R9KY2HJoR4sZPOvbv374f7Sf/z1MaDkkPLwatfz759U/GcrENZJCyi+/v48+vHuA9ZpS8PfFHJMmrtZ+CBCJo0zz8MNujggxBGKFU9wizShAdthJJNghx26OFE/ywY4YgkljgiS+ncskcPOOwxSzofxijjjB2ZaKOEIGVTyhshNIHIL/bRKOSQRFp045EMWtQPNJcA+MUkyBRY5JRUVhkAkiTmUyEUHqTBiTT+/GPlmGRaeaM7vBSiRAhvgGJNmFjaWOacdN53ziyBHHFCm9T0E2eJ/Nzz56CEFmrooQ3eww+ijDY6aJ113imIEl1egkxvKDmq6aac2qhop6CGyqmIOEIqHTu9IFKFA1Ugwks5pg7/6SiphcbqG3VtuICDHJwgI4+twHp0aLCgdTMLIsgpkQcovhLrLEhxPqvZPtSoQghyRMhRSS/dsCbttxvdCG5i/WRzCyRtCHHaHpz08oy348ZbkYnyHiaPM6osgoZYR7yBSCnCJFXvwFeSSHBh+VjTCyd/iCHEWF/kIYkpwlgDz8HgnoixYft0Y8wrk+yRBqUOHLEFHYdUokovy2TD3MamagwzYvlkg8wtoECyRxtXHOHBACccUUUadAjSiCajxMJLMdBY0407Qc4co8xSb7YPO9ksI8wspWjSiCA7jVGFEkSE8AAABoSAAxFKQHHFGGPIIQcdBR3UyNGa5M0JTXzT/8SLLoAHLjjgvRRj+OGIJ6644n8Prksrtzgu+eSUVx740osXs4w0nHOeTTeglwPP6FLKCmHVzeUDzzjdWCPNMob/fQvfNuXtyN2NLFLQ7nL37rvvb8At/PDElzE8GcaPkTwZv/c+xxvNRy/99NT7TvzwV0ChvfZHEOE9DiGEPwAAADwQvhBENOH2GG3IsccfjUii0CtLQ5NNOVGDVyrqqMPrWT2jA53rYPcLXajCFJqYRE7CVoUjxMABQBNaGvKAiEqMghfIyMavoLM//nmwO/tIR9Z+EQtQSOIPb8ACpcZyhTccghOxQIY3Sieb033whvjRyjJ4AYpF3AELPTAADv+wILFXIANGsLEhDpeon32AAxmvkEQequCCB0BhDpK4BTUw9ZkHMfGLCJIHNFABCTkooWR/CcxgOKNEMLqxidnghSTeQITT/KEUzuBiYjr4xj7epx7LGMUeoOCAJvzBFNSgYWG86MdG7icf0ijFHkyzhUXw4hyIYaQjN5mfehijOicQQh5K8aZFOoiTqMyPP7Khij0cIQRt8IQ01iiXU6bylvg5hy4KcSEvQYOWb7ElLofZHnf04hBraoOb/IcVTRLzmepJ0R+O4II7qAIcbnEmNLfpHW+ogg4uOAIherHBZgqTm+jkjj+owQkyPGALA2KmVM6ZznpGJx/FsFAI5GD/CmxWRZv2DKhz0hGLPITzEECiCj0FytDhrJMTYniAGDQBpnkutKEY/U0+foEIJVTzFZh8CkAzSlLfjMMUdDiBEhAhjHzIcyUXLalMYeMPJjnpEs4AZktiOtOetoZCiGgCm0ZhjZfw1KdI/Uw6ZvEHIcTAmt3YaYOSSlXZdEMVecBBD/Kgiqim5KhVDetmsmGKO2g1D6ZYzUnAKta2KoaVeRDCnjxBIJKw1a14RUw5bkGIJgQIEr/YTkjumtfCFkYewphEGTxwhDyMQhqKxAhhDUtZuvjDGq00DRYQcYtuhWuqlQ1tZzypiTf04ARlgEQvxiFZ0Ir2tZw5xy8mkYYYP7ggDZLohT9B5FrY+lYz4+iFJGp7AjI04haraRA2AvDS3zq3MLKtBB3feQhVDEMHz81uZ3bQgg9YIAIK8EFAAAAh+QQFBQABACw9ADMBAQJBAAAI/wDn/RtIsKDBAAgTKlzIsKHDhxAjSpxIsaLFixgzatzIsaPHjyBDihxJsmQAgQZTqlRpsqXLlzBjypxJs6bNmzgdrtyZs6fPn0CDCh1KtCjEnQeNKl3KtKnTp1Bj0ptKtSrVqFizat3KtStOpP+8ih1LtqzZsUjPql3Ltq3bmDzfyp1Lt67duHbz6t3L9ynevoADCx788i/hw4gTK35oeLHjx5D1roxMubJltpMva97MGWrmzqBDi/76ebTp06hDNk7NurVrnaVfy57NejXt27g1287Nu7fi3b6DC+ebdrjx43uLI1/OHDPY5tCji0XK715Y6diz+yVYPbb27+B9gu9NGr68eZrjvZ9fz/5j+vcD28ufXxG+/fv487+/x0+////k0SdgYQAWaKBK/B2o4ILpDejgXWgxyNKDFD4IYIUYWmhfhhwOiBRK8XUoonwDgTjhiCiaN16KLJb3XIswZqdcjDQ2N2ONOA53Y4489gZcj0C69mOQRJ6mXpFIonZkkkyCNmSTUFK2ZJRUSnlilVhW9mSWXAY2ZZdgevllmGTeNWaZaMp1ZppsOpdSm3DmtWacdHq1ZZ14ZnVnnnw6tWefgBq1Y6CE+jlooYgK+meijNp0aKOQivdopJTWtBM2SPhT6aY5+eCpDzloEEBAAAAh+QQFBQABACxXAo8BAQABAAAIBAADBAQAIfkEBQUAAQAsPQByAQACAgAACLoAawAYSLCgwYMIEypEOCCEw4cQHwohQrHiESgYMVYZw3FMGzkg8/z5I6hRI0eaNHkyZWoWr1/FkEmz1u0cvH0BcurcybOnz59AgwodSrSo0aNIkypdyrSp06dQc+aDR7Wq1atYs16tF7Wr16A/dogdS3asjRtn096QwZbtixZwW6hAQddEiRIfQOjlwCGDhb+AAwfm8OGr4cOIEytezLixUBQb+EqOILiy5cuYM2sWHEGy58+eO1xIEBAAIfkEBQUAAQAsPQBZAQACGwAACP8AyckZSLDgnj8I/xBqxBCSpoemIurS9auYMWnSunWDJy+Ax48gQ4ocSbKkyZMoU6pcybKly5cwY8qcSbOmzZs4c+osSY7XxJ9AVUWMOOqhpksMGwVCOLDNmC9QoBAREsIDAAMhehyBsqWMnD2FGmkaFavXxW7s9u1cy7at27dw48qdS7eu3ZP54IHLJg2ZMF2qQmlqJCjPG6hETgx4gEPJlzZ7EFUadasYtXH57mrezLmz58+gQ4tOWW+cNWS9VHmCJIjOlyY4DDzoASVNHkScXv2SNk7t6N/AgwsfTry43HrenP16xQnRnjRQYhg44fgO7lfCrKUzzr279+/gw3P/ZmfN2CxQi/KQUeLCAI4qbwhVUvXL2jl/4vPr38+///594yzTyyiSPNdEe++9UcglqmTHjn8QRijhhBTCBaCAo0CyRxlKnGBAD1e8cQiD9d1X4Ykopqjiivl4swwvoWiYxoEGxADFGXtIEoouyGTT0YpABinkkMTtU44zvLRSySFybKGEB+41YRsiDPayTDbuEKnlllx2eZM9I+UzjjTCqLbIHm1ccUQIAJxwxBW2HTIJKLH8gow14Pzo5Z589ulnSP6kk80yy4EiySF5tIGFEj1Y5UEPSlxBxleHiBWKKRQVIw013ZQDT2Z/hirqqBTqZc0yf6kCymCF/CFHGmRA/9EEETiEYAAAD4SAAxFKRDXGGG0MlNAiDE1iVClDxQJURcU0W8wyGEWLkUbUVssOPNhmq+2npHbr7bcv1QPPON1Yg1Gzvfg0FCcPTZKUIAnlUVAav9ZbRVT4RkXEvvzye0IIAAcscAgOAGDwwQgbPMDADAvRL79b5QvFFfX+WlAeCYXFkFGjRHTLLb00C4001nQzDjz1gKvyyiyP1M+2MHtTLbV8SSvNMs42C1QsQwn2UFKEIESHHG/8eq8StIbwwFW6EgFFFWO8QccfiDhUyiu8aJrNOSm37PXXYK+VF7k3F9PLLaZ4glRhRUNxhAsODHCC02LI8ccil5RyizHUgP/TddiABy54TPuw0400xehiCieNuPoaDg5EOcYdh1RSCi896jn45px3HuY41AhzniR/vKEmlD1UAZkkntzS49+exy674GJC84sqlQxy2BEPPHDEFnTgFosx1sAz+/HIg4sfSPVkg8wt6OUhxpMOEIFF8JwM72Py3HffbT6D3uJJel8o0fsRX1jnySyZe+/++3s2j0wsniByR/kPOHAEFnJUTp805fAN/AZIQBWB70Uxeg4UYkOdL9ChcqPAXDbSsbwCWvCC/iEPMmYRCkkE4g2LOkGbIgUZvJmiMhmBRwUxyMIWGidQzksNJxzhKjFAgSoAeFQTtpCGOwSiEZcAhSqbdCEMaHUjHZpzCw3+wcQmOvGJUIyiFKdIxSpa8YpYhKILt9iWLP4jAN6gBjJ+MYtSaAISh9iDHMhwhRu6wCpY0crEgPUVqjVCEprghMd0EbJiOGNTGjkZt4Tjg0Ia8pCITKQiF8nIRiqSi5A8iSMnSclK+kAHO7DBDWTwghaoAAUlKMEHQNABDmTAIxZIpSpXyUoLNIADHEBAQAAAIfkEBQUAAQAsPQBZAQECHAAACP8A5/0bSLCgwYMIE/4LwLChw4cQI0qcSLGixYsYM2rcyLGjx48gQ4ocSbKkyZMoKQpUyLKly5cDU8qcSbOmzZs4c+rcybOnRZhADfocSrSo0aNIkypdijEoS6ZQo0qdSrWq1Z1OhV7dyrWr169gi2YlGLas2bNo06Idu1Ct27dw48q9ybbt3Lt48+rV65LfPYR7AwseTPjqQL9jCytezLixyXsR6x50TLmy5csSJQPFzLmz57uaQ4t2+rm06dMeR6sOeo/f6tcwUcueTTsz7Nuaa+vezZsm7oK9gxv1B6+48eLsuilfzrxbNmnQo0ufHn1ZsevYs2vfzr2YsFu6wov/H0++vHnzsUypX89evahS7ePLb19Kk/37+PPr389//6VGAAYo4IAEFjhgAABK0p9+oLQniimqkPcLdsZER81y7hTXj3BnyQMPON1QIw0y3oGniimj2CcJgIT88Ucecsjxxhg0YgHFjU0QoSMRLoTgYwgeACDkkAD8aGQIJ+yoJBFHNKnEjVBGeWMVVFIJRRVY0KjlllxymcYYX5YxhphiphHjmWimqWaad8jRJh1y0AEnnHm4aOeddvaB554utujnH4IA6qIgBhZqKICOQNKIoos22ogjAEKy4KSU3lfJoQIigqeee6T5JY1iQJmjjif4OICQPvZAxJNVgOnmH4g0/6KJJ6bM0ksx0FjjDTwbcrjRPvCM8xyJuqTHyX+H/EHHjF9AoQQRpZ7qQQiqNgFFlmbKsUcghABYiX2jqBdLeLxgh4yFzJ1jHDvi+OruQwet5BJFxAXrnDTOlJgeKJo4oukdMzrbQwgDOODCEa3K8ccil4wyizDQdCPPZfW4c68xxejyiimaTNJIIJ2W0ewRAw8wQAg4HAHFFmPIUecikjZ4S7nnZtNNOvDs8+7OSdnFEFsk1XNONtBkbAonkAhCRxlQCOHBAC4o8cUbgkgSii7IZOOOUu1s1wsv4s2yHr8dAxgojMxCkePADgDwQAirQvFFGS4vrGApEQpTYTbj5PbM89+CAY3SPudYg8wto0xCiBxbKOGBAT1UQXUlqvxCTTo8MUNjGWWQQUYbaNJhZ6yNTAKuKa/ocmuFF4IDTz7+AC57b3XJlA84y/RSiiR7pNHECQYIgcUdi4DSizSYz6788lXldlI+3SAzCyeHvAEF8EeMscckryDjjc7Mhy/+UqONlE82wpgiSR5b9BD8F3tUEgsy5cQ+/v34i4VbRvt0Y4wqkrjDFWJgACWkgRCe6IU16pG/BjpQf785SD6s8QtQIKINSjDYFe4gie4xYwg+e6AIR+gTH5jwhChMoQpXaMIasMAEG7CADC/wAxLa8IZu2UYAAgIAIfkEBQUAAQAsPQBpAQECDAAACNcAAwgcSLCgwYMIEypcyLChw4cP/0mcSLGixYsYM2rcyLGjx4/3+H0cSbKkyZMo56GUCLGly5cwY8qcSXPhypP87t3cybOnz38hfwodShSjyqIkaypdyrTpQKRQ/+V0SrWq1atYs2q1GbXi1q8zu3IES7as2bNo06oV6HMtwaNiTbqdS7eu3bt4la4sey1q3r+AAwseTJih3MKIEytezLgx2ZKOI0ueTLly46SWM2vezLlz1ZGeQ4seTXq0R2xI/JVezbq168A+YsvOocHH69u4c+smyy1AQAAh+QQFBQABACxXAo8BAQABAAAIBAADBAQAIfkEBQUAAQAsPQBwAQACBQAACP8AAwgcSLCgwYMIEypcyLChw4cQI0qcOHEfPHjnunWzJk0asmLFevHSNcuUSU6aUkJqxPLQn5cv78iZSbPmTB5SbNrMA/PlIpaNJKXUFMqkqZG8QBbrSE3juYv+KEqdSrWq1atYs2rdyrWr14PyLrLT2I1ax4/FfunSFcskKJUsX+6Z2WbMGChQmhAh4iJECAAABviNsVcJ3i9228y8AxORI5aXhoIyanLW2su6eom8nMXPSMyY21JGmbISUJd/5s60ezfv3hh+ARvw24OIYShixiiW8xJRI0gpix7V9QskNGnWNI67uO+r8+fQu+oYSr269evYs2vfzr27d+orgYr/Hw800EsvRXr+kWnzDWvWVfDiPbKXiBC/fgcABuDB74n6TeCFRWKL9QZZSiapslZxS0nTVDdPwRNVdBQ+lM9F4GzUkTFp6XKLW5pc0lJqM6VBRmt6EYGDXwYA5sBgex0h3xcnkkETYzD9BFR1whn1CmYooHKLUkSC1NGRSB6ZDVlMNskkOxdFKeWUVF5UT4VVUcDBllx26eWXYIYp5phklmnmlxhgwMEGG3CgJgcdgCDnnHTWCUIJeJaQQJ54moDCn4CiwEILhBIqw6GH3nCDDYvu4OgOP2Ap6aSUHqSDozUoegOihbYAqAl81ullBBaUauqpDTRw6qqsturqq7DGHyrrrKxmcOatG8x5QQKV9urrr8AGK2yv22wz7LFUBQQAIfkEBQUAAQAsPQBrAQACCgAACP8AyfHSRbCgwYMIEypcyLChQmHFIkqcSLGixWXSMmrcmNFat48gP44TB69kyXwBUqpcybKly5cwY8qcSbOmzZs4c+rcybOnz59AgwYlJ6eo0aNIkypdyrSpU6ZlxkidSrWq1atVoGjdylWrEiJgw4KN4SGEWbMGAKhVa+BsCBxiuYqRWsbonj9/CjVqBEmTJk+mTL0iCNFYxmzdwJXsJ7Sx48eQI0ueTLmy5cuYK+czCa9cyI3GIgorqCrwKL+X9iIK9CdP0ahitB4h0sPsAABtT4DV+oXMGzl3ETWapAmUYF2/imFEnA4e48zQo0ufTr269evYNcNj9zFj6F66SoP/0jSpEaLWctqMuQJFiRAXIW6XJXIEShUybYD/WdRIEydTqujSi3LSIOaOPNklqOCCDDbo4IMQyuNON9lIs0wxv4RnCieaOLLIH3ukN0ZWs4XgAW5vEdEEFGLUBQQYhzRyiSalmCJgMcgU2I078EDo449ABinkkD39Y+SRSCap5JJM/rOZZ9RIY8xoWfjBCSeQNMJaAG+MgQUUs51wYlsuEKEEFF+MUdQfhAxXnCmz6AJRRokFUA+ReOap557SNennn4AGKuigSdrBCqH7wHNON9ZIWQwvt5hyWnmH/HGHHFFpRVsAD6hU5plXjJGGHHewyZdfgd1yS3I5SvNRc/Io0cnnrJLRQOituOaq666DpmIHr8AG6yetPO0TQDoUWoihLrNIqklqH/5BhxxpjLGFpkTA94BanQYA1plQhDpGfnLkgVcgezVSiV80BgbnQLrwMpFhG3kEkg3KdMPZvv4I6+8/Q2rgw8AEF2zwwQgnrPDCDDfs8MMQH7zCCD9EbDGxGP+kww473GADDDLIwEILLaiAAgomlKAyCCxvwMHLFsQs88wzyxSBTxm8rPPOPPfsM88dsCz00EQXbfTRQ8tgMcM5aJDx01BH/TQ33EiNXUAAACH5BAUFAAEALD0AawEAAgkAAAj/AOf9G0iwoMGDCBMqXMiwocOHEA/yu3cwgMWLGDNq3Mixo8ePIEOKHEmypMmTKFOqXMmypUuXAiPKnEmzps2HE2/qdPiyp8+fQIMKHUq0qNGjSIvuXMqUYNKnUKNKnUq1qtWrRptqHYi1q9evYMOKHUt2K0I7rCCSXcu2rdu3bOXBmwuPXbe7eK1J28tXmrFigAMH7qWrsOHDhmeZWsy4sePHj6kEKAW5smXIAS7zQsxZmODAxvryxXvXG925cFOrXp00nzt44+5S24sMMGFdrxaD0qTpUqPfgv782SOneJoxyKEoh0KkOZEYIaKHAECdugfpIU44d65kuXcxyMOn/yEzpsyb4ujR35FDp/0d4fDjy4dPSHj9P/f/FAETP1Cg+QAGKF8AAv6R3oFyBCBHGeE1KIZ3y21HhBDYTVfdANj1wN1yX4SnHnyL/DYJb5wwZphnxbwwDDTW3DXOXPWwJmNb/pwWm2x8DVbYLYxxwtskvyEiHHFyvIHcFsop0RwO0RlAnQPR4dBcE8p1OEYbxeUh3CG/QcKbJqMspophvwTWF2nnnObPjF6Z1VCNdIGTF1+1AbaZLpkt5qMmQDaCyH8GGoecBEtAoSQRTIbwQHXSaUhEd1BUEd55cry35W+NVPIlKI3dqUuZgSEjWoukdcPOaaexidULG3DgKgcRWG4g66y01mprrRm42gEIIHxQwq8oBMtCCyzIIAMMNtxgww476EBDAD6oKu1aPlRr7bXYZqvtttxeC0EO3f7A7A7J2gCDsS+0oG6wKJjwawkf8ArCBhc1cOu9+Oarr6y5vurvvwADjIG8BBN8QQIBAQAh+QQFBQABACyCAHABuwEEAAAIjgADCBxIsKDBgwgTKlzIsKHDhP8iSpxIsaLFixgzaqxoh9XGjyBDitz4sKTJkyhTqlzJsqXLhiNjypxJsybGjjZz6tzJ8x8Nc/4svhxKtCjKnjNT2UFK06jTp1CjEmSa8WdQqlgzSjXpo6vXr2DDih1LtqzXFQF+bF3Ltq3btys1LDRLt67du3jz5s2hISAAIfkEBQUAAQAsVwKPAQEAAQAACAQAAwQEACH5BAUFAAEALD0AcQEAAgQAAAj/AAMIHEiwoMGDCBMqXMiwocOHEBvug0exIrxz3TJqzGhNmsePH5cVG0my5EhhulKqXMmypSpTMGPKnEmzps2aVPyUusmT5quWQIOu7GWyKMllIJNKo7axqUWL/SJKnUq1qtWrUnM03cq1K9eOSsMqRWbUJEqhNkdpWstWk6RGcOMi+kO3bh45ePOWGcOX7xcogKHMkKCEiGHDOEIoXuwAgOPHBhZLdnH48BEiTQIHrgIYS9/PadKMKUM6r+nTd+TcoSOHNR06e+rKnk27tu3bf4qAwc179t3TwIMDb/O5ePErmpNDaVK5uWTJAx4/fvA8hJDmSpJXIcO3wBY0qGcXpYoLd1JbTZxozmr5q6gxsda8jntKHx7W+wEoWNjPv7///wAGKOCABBYYYAQcJKggBx2A4OCDH5Qg4YQmoGDhhS1kqCELMnQoAwww3HCDDSOOuMOJKOqA34ostujiizA6pAOKKJJo4w0weNjhCxou0IIKF1powoQSfvCggx0smKCBTDbpJIFKRinllBwceUECMWap5X3bdLnll2CGKeaYZJZpplUBAQAh+QQFBQABACw9AHEBAAIEAAAI/wBrhBhIsKDBgwgTKlzIsKHDhw9PEJlIccaEIBQzaiRyBIrHjyBBihlDsqTJNnJSqlS5J9CflzAFNZpJs5EkTThzahplqqfPWLqCCv1VrKjRZdKSKu3GtCk4eFCj1vtHtapVO6ysat3KtavXr2DDig0boKzZs2jTql3Ltq3bt3Djyp1LN23Uu3jz6t3Lt6/fv4ADC4bKrmnTTWsMK1acTanjx0mNGZ1stBcvoZh1qfLJuZTOnJVq0iQEE2aelSnTmCRZJSSUjT0OPgBAu7YBghMmhOihsWPIK6vHpEEdIE/pl4tEN6r0eSfnnqoyByVKuRgyyEmzLTbszu++sVxpmJzzB768+fNf66qHq8GH+/fw48ufT7++/fv48+vfL3/FCP3rBSjggALqsMOBJOhQgw023NBggzJEKOELLVRooQooZKihCSV06CEIIIYIwgYclGhiBBakqOKKLLbo4oswxigjixGYyIECGNio4442psUjBx2IKOSQRBZpJAgy8KekkjloQOCTUEb5JDdUSmnllVhmqeWWXHbp5ZfqBQQAIfkEBQUAAQAsPQBxAcwBAwAACKwAafwbSLCgwYMIEypcyLChw4cQD6ayE7GixYsYMxoMwLGjx48gQ4ocSbKkyZMoU6pcybKly48CNcqcSbOmwYk2c+ocuA+ez59Ag/5M162o0aNIka7ZlLSpU6TjhEoVWm9nzpdYs2rdyrWr168cf4B9uQOEWQ5o06pdG8GC27dw48qdS7du3QZt7erdy/ctyrWAA6c1a7aFj8OIEytezLixhhyNI0ueTLky5YAAACH5BAUFAAEALPIAcgGmAAIAAAg7AAMIHEiwoMGDBv8pXMiwocOHEBnaYRWxosWLDRFq3MixoI+PIEOKHEmypMmTKEuOoJGypcuXMGOCDAgAIfkEBQUAAQAsVwKPAQEAAQAACAQAAwQEACH5BAUFAAEALD0AcgEAAgIAAAiXAHNIG0iwoMGDCKUhK8awocOHECNKnNhQl8WLGDNq3Mix40U/WXh5HEmypMmTKFOmzOJHpMqXMGPKxNiL4kQWtWzq3DnRWMKfB6l1G0q0qNFu7OApXcp0ab4AUKNKnUp1KgULWLNq3cq1q9evYMOKHUu2LNcIDcyqXcu2rduyDSK8nUu3rl2uce/q3as3Aoe/gAP/BZEgIAAh+QQFBQABACw9AHIB/wECAAAIrgB1aBpIsKDBgpxMKVzIsKHDhxAjSnylS1eAixgzatzIUVixjyBDigz5KICxkR+XSVvJsqXLlzBjypxJk6a1bjhz6tzJs2c3azHXPKJWs6jRmDd9Kl3KtKnTne7gSZ0KT0c1qlizZt33r6vXr2DDih1LtqzZs/84ql17kYPbt3Djws3Atq7du3jz6t3Lt6/fv4ADCx5MuLDhw4QbyF3MuLHjxxw2gJhMubLlyhcCAgAh+QQFBQABACw9AHIBAAICAAAIbwBp/BtIsKDBgwgTKlzIsKHDhxAPprITsaLFixgzQrTDSqPHjyBDHqRhzl/GAChTqlzJsqXLlzBjypxJU4OPmzhz6tzJs6fPn0CDCh1KdOeKET+KKl3KtKnToSNoPJ1KtarVnRpyXN3KtSvQHBoCAgAh+QQFBQABACzRAXMBbAABAAAIFgBLgBhIsKDBgwgTKlzIsKHDhxcSBAQAIfkEBQUAAQAsPQBzAacBAQAACD4AKXAYSLCgwYMIEypcyLChw4cFQUicSLGijQAYM2rcyLGjx48gQ4ocSbKkyZMoU6pcybIlRh8wY8qcGfNHQAAh+QQFBQABACw9AHIB7AECAAAIdABzdBtIsKDBgwgTFoTHsKHDhxAjSpxIsaJFiPICaNzIsaPHjyBDihxJsqTJkyhTqlzJsqXLlzBjykRpoabNmzhz6tzJs6fPn0CDCs0ZocHQo0iTKl0qtEEEplCjSp2a06nUBhyyat3KtavXr2DDih2bdUNAACH5BAUFAAEALD0AcgH3AQIAAAhkAGn8G0iwoMGDCBMqXMiwocOHEA0GmEixosWLGDNq3Mixo8ePIEOKHEmypMmTKFOqXMmSg8uXMGPKnEmzps2bOHPq3CkTgwKeQIMKHUp0pwIMRZMqXYozAsuJEYA+nYryZoeAAAAh+QQFBQABACw9AHMBAAIBAAAINAA1+BhIsKDBgwgTKlzIsKHDhxAPrhjxI6LFixgzanw4gsbGjyBDijyoIcfIkyhTMsyhISAAIfkEBQUAAQAsIAJzAR0AAQAACA4ATYAYSLCgwYMGLyQICAAh+QQFBQABACw9AHMB5AEBAAAIPgApcBhIsKDBgwgTKlzIsKHDhxAPYlAQsaLFixgzNuwAAgSDCx1DihxJsqTJkyhTqlzJsmVJBC5jypxJE2VAACH5BAUFAAEALDkBcwEFAQIAAAhHADkIVIBBoMGDCBMqXMiwocOHEA9uCECxosWLGDNq3Mixo8ePIENmbOGjpMmTKFOqLJmjQg6RMGPKnEmzps2bOHPq3LYtQEAAIfkEBQUAAQAsPQBzAQECAgAACGsANfgYSLCgwYMIEypcyJAgDBAQI0qcSLGixYsYQVxgYDGAx48gQ4ocSbKkyZMoU6pcybKly5cwQXKYSbOmzZs4ayrAkLMnhw0xgwotmbGoxQsJfAxdyrSp06dQo0qdSrWq1atYs4rkxi1AQAAh+QQFBQABACyDAHMBugEBAAAIMAB9CBxIsKDBgwgTKhS4YsSPhRAjSpxIsaLFhCNoXNzIsaNHjhpyfBxJsqTHHBoCAgAh+QQFBQABACxXAo8BAQABAAAIBAADBAQAIfkEBQUAAQAsPQBzAQACAQAACEEAKYAYSLCgwYMIEypcyLChw4cQD15gELGiRYUdOGjcyLGjx48gQ4oUqQDDyJMoU2rscLGlS4cIXsqcSbOmxAQBAQAh+QQFBQABACw+AHMB/wEBAAAIVQA5CBxIsKDBgwgTKlzIsKHDhwYxKIBIsaLCABgzatzIsaPHABtAiBxJsqRJkwwunFzJsqXLlR9jypxJs2ZHGD5y6tzJs6fPn0CDCh1KtKhRnTkqBAQAIfkEBQUAAQAsPQBzAQACAQAACEoANfgYSLCgwYMIEypcyLChw4cQD64Y8SOixYYtQGjcyLGjx48gQ34MQLKkyZMoU6pcybKly5cwY7q8aFBDjoEyc+rcybPnSw0BAQAh+QQFBQABACzsAHMBuQABAAAIHAB9CBxIsKDBgwgTKlzIUOAIGg0jSpxIsaLCgAAAIfkEBQUAAQAsVwKPAQEAAQAACAQAAwQEACH5BAUFAAEALD0AcwEAAgEAAAgyACmAGEiwoMGDCBMqXMiwocOHEA9eYBCxosWLGDNCZHBBo8ePIEMeRCCypMmTDS8kCAgAIfkEBQUAAQAsVwKPAQEAAQAACAQAAwQEACH5BAUFAAEALD0AcwEAAgEAAAg0ADX4GEiwoMGDCBMqXMiwocOHEA+uGPEjosWLGDNqfDiCxsaPIEOKPKghx8iTKFMyzKEhIAAh+QQFBQABACzZAXMBZAABAAAIFgBlgBhIsKDBgwgTKlzIsKHDgxcSBAQAIfkEBQUAAQAsPQBzAcEBAQAACDwAKYAYSLCgwYMIEypcyLChw4cOTfwIQLGixYsYM2rcyLGjx48gQ4ocSbKkyZMoU4b0wbKly5cwY8qEERAAIfkEBQUAAQAstABzAUoBAQAACCcAQQgcKPACA4IIEypcyLChw4cQI0p8yODCxIsYM2rcKBEBx48aAwIAIfkEBQUAAQAsVwKPAQEAAQAACAQAAwQEACH5BAUFAAEALD0AcwEBAgEAAAg1ADX4GEiwoMGDCBMqXMiwocOHEA+uGPEjosWLGDNqfDiCxsaPIEOKPKghx8iTKFMyzEHiR0AAIfkEBQUAAQAs1AFzAWoAAQAACBcAUYAYSLCgwYMIEypcyLChQ4YXEvgICAAh+QQFBQABACw9AHMBmAEBAAAIMwApgBhIsKDBgwgTKlzIsKHDhxAPXmAQsaLFixgzMoTxI4DHjyBDigzwQqPJkygdIjgZEAAh+QQFBQABACw4AXMBGQABAAAIDgBBCATB4MLAgwgTgggIACH5BAUFAAEALD0AcwFAAAEAAAgRADX4GEiwoMGDCBMqXIgQRUAAIfkEBQUAAQAsfABzAcEBAQAACDAAfQgcSLCgwYMIEypMuGLEj4UQI0qcSLGixYQjaFzcyLGjR44acnwcSbKkxxwUAgIAIfkEBQUAAQAsOgJzAQMAAQAACAYAQVxIEBAAIfkEBQUAAQAsPQBzAf0BAQAACDAAKYAYSLCgwYMIEypcyLChw4cQD15gELGixYsYM0JkcEGjx48gQx5EILKkyZMMAwIAIfkEBQUAAQAsrgFzAXUAAQAACBkATfgYSLAgQQ05DCpcyLChw4cQI0o0qCMgACH5BAUFAAEALD0AcwH8AQEAAAhFADX4GEiwoMGDCBMqXMiwocOHEA+uGPEjosWBNwJo3Mixo8ePIEOKHEmypMmTKFOqXFkShMuXMGEi+MGyps2bJi8WbBEQACH5BAUFAAEALOIAcwFaAQEAAAg0AH0IHEiwoMGDCBMqXMiQ4QgaDSNKnEixosWIGnIE2Mixo8ePIEOKHEmypMmTKDcKfAEiIAAh+QQFBQABACw6AnMBAgABAAAIBQB96AgIACH5BAUFAAEALD0AcwH/AQEAAAgxACmAGEiwoMGDCBMqXMiwocOHEA9eYBCxosWLGDNCZHBBo8ePIEMeRCCypMmTDS8EBAAh+QQFBQABACxXAo8BAQABAAAIBAADBAQAIfkEBQUAAQAsPQBzAfIBAQAACDIANfgYSLCgwYMIEypcyLChw4cQD64Y8SOixYsYM2p8OILGxo8gQ4o8qCHHyJMoT7YICAAh+QQFBQABACzVAXMBWgABAAAIEwB3gBhIsKDBgwgTKlzIsCHDgAAAIfkEBQUAAQAsPQBzAdMBAQAACD4AKYAYSLCgwYMIEypcyLChw4cOZQSYSLGixYsYM2rcyLGjx48gQ4ocSbKkyZMoO/pYybKly5cwY8qcyVJHQAAh+QQFBQABACy0AHMBXAEBAAAIKABBCBwo8AIDgggTKlzIsKHDhxAjSnzI4MLEixgzatwoEQHHjyAjBgQAIfkEBQUAAQAsVwKPAQEAAQAACAQAAwQEACH5BAUFAAEALD0AcwHUAQEAAAgxADX4GEiwoMGDCBMqXMiwocOHEA+uGPEjosWLGDNqfDiCxsaPIEOKPKghx8iTI3UEBAAh+QQFBQABACx+AXMBkwABAAAIGQA/gBhIsKDBgwgTKlx4EAHDhxAjSpxIMCAAIfkEBQUAAQAsPQBzAUIBAQAACCYAKYAYSLCgwYMIEypcyLChw4cQD15gELGixYsYM0JkcEGjR4wBAQAh+QQFBQABACxXAo8BAQABAAAIBAADBAQAOw==\" />"
      ],
      "text/plain": [
       "Plots.AnimatedGif(\"/home/laurent/ContGridMod/notebooks/tmp.gif\")"
      ]
     },
     "execution_count": 57,
     "metadata": {},
     "output_type": "execute_result"
    }
   ],
   "source": [
    "@gif for i=1:size(omegas,2)\n",
    "    #plot(thetas[:,i] .- sum(thetas[:,i])/N, ylim=(-0.1,0.1))\n",
    "    plot(omegas[:,i], ylim=(0.0,0.3))\n",
    "end\n"
   ]
  },
  {
   "cell_type": "code",
   "execution_count": 58,
   "id": "85ce1f45",
   "metadata": {},
   "outputs": [
    {
     "data": {
      "image/svg+xml": [
       "<?xml version=\"1.0\" encoding=\"utf-8\"?>\n",
       "<svg xmlns=\"http://www.w3.org/2000/svg\" xmlns:xlink=\"http://www.w3.org/1999/xlink\" width=\"600\" height=\"400\" viewBox=\"0 0 2400 1600\">\n",
       "<defs>\n",
       "  <clipPath id=\"clip860\">\n",
       "    <rect x=\"0\" y=\"0\" width=\"2400\" height=\"1600\"/>\n",
       "  </clipPath>\n",
       "</defs>\n",
       "<path clip-path=\"url(#clip860)\" d=\"\n",
       "M0 1600 L2400 1600 L2400 0 L0 0  Z\n",
       "  \" fill=\"#ffffff\" fill-rule=\"evenodd\" fill-opacity=\"1\"/>\n",
       "<defs>\n",
       "  <clipPath id=\"clip861\">\n",
       "    <rect x=\"480\" y=\"0\" width=\"1681\" height=\"1600\"/>\n",
       "  </clipPath>\n",
       "</defs>\n",
       "<path clip-path=\"url(#clip860)\" d=\"\n",
       "M224.098 1486.45 L2352.76 1486.45 L2352.76 47.2441 L224.098 47.2441  Z\n",
       "  \" fill=\"#ffffff\" fill-rule=\"evenodd\" fill-opacity=\"1\"/>\n",
       "<defs>\n",
       "  <clipPath id=\"clip862\">\n",
       "    <rect x=\"224\" y=\"47\" width=\"2130\" height=\"1440\"/>\n",
       "  </clipPath>\n",
       "</defs>\n",
       "<polyline clip-path=\"url(#clip862)\" style=\"stroke:#000000; stroke-linecap:butt; stroke-linejoin:round; stroke-width:2; stroke-opacity:0.1; fill:none\" points=\"\n",
       "  255.655,1486.45 255.655,47.2441 \n",
       "  \"/>\n",
       "<polyline clip-path=\"url(#clip862)\" style=\"stroke:#000000; stroke-linecap:butt; stroke-linejoin:round; stroke-width:2; stroke-opacity:0.1; fill:none\" points=\"\n",
       "  829.417,1486.45 829.417,47.2441 \n",
       "  \"/>\n",
       "<polyline clip-path=\"url(#clip862)\" style=\"stroke:#000000; stroke-linecap:butt; stroke-linejoin:round; stroke-width:2; stroke-opacity:0.1; fill:none\" points=\"\n",
       "  1403.18,1486.45 1403.18,47.2441 \n",
       "  \"/>\n",
       "<polyline clip-path=\"url(#clip862)\" style=\"stroke:#000000; stroke-linecap:butt; stroke-linejoin:round; stroke-width:2; stroke-opacity:0.1; fill:none\" points=\"\n",
       "  1976.94,1486.45 1976.94,47.2441 \n",
       "  \"/>\n",
       "<polyline clip-path=\"url(#clip860)\" style=\"stroke:#000000; stroke-linecap:butt; stroke-linejoin:round; stroke-width:4; stroke-opacity:1; fill:none\" points=\"\n",
       "  224.098,1486.45 2352.76,1486.45 \n",
       "  \"/>\n",
       "<polyline clip-path=\"url(#clip860)\" style=\"stroke:#000000; stroke-linecap:butt; stroke-linejoin:round; stroke-width:4; stroke-opacity:1; fill:none\" points=\"\n",
       "  255.655,1486.45 255.655,1467.55 \n",
       "  \"/>\n",
       "<polyline clip-path=\"url(#clip860)\" style=\"stroke:#000000; stroke-linecap:butt; stroke-linejoin:round; stroke-width:4; stroke-opacity:1; fill:none\" points=\"\n",
       "  829.417,1486.45 829.417,1467.55 \n",
       "  \"/>\n",
       "<polyline clip-path=\"url(#clip860)\" style=\"stroke:#000000; stroke-linecap:butt; stroke-linejoin:round; stroke-width:4; stroke-opacity:1; fill:none\" points=\"\n",
       "  1403.18,1486.45 1403.18,1467.55 \n",
       "  \"/>\n",
       "<polyline clip-path=\"url(#clip860)\" style=\"stroke:#000000; stroke-linecap:butt; stroke-linejoin:round; stroke-width:4; stroke-opacity:1; fill:none\" points=\"\n",
       "  1976.94,1486.45 1976.94,1467.55 \n",
       "  \"/>\n",
       "<path clip-path=\"url(#clip860)\" d=\"M255.655 1515.64 Q252.044 1515.64 250.215 1519.2 Q248.409 1522.75 248.409 1529.87 Q248.409 1536.98 250.215 1540.55 Q252.044 1544.09 255.655 1544.09 Q259.289 1544.09 261.095 1540.55 Q262.923 1536.98 262.923 1529.87 Q262.923 1522.75 261.095 1519.2 Q259.289 1515.64 255.655 1515.64 M255.655 1511.93 Q261.465 1511.93 264.52 1516.54 Q267.599 1521.12 267.599 1529.87 Q267.599 1538.6 264.52 1543.21 Q261.465 1547.79 255.655 1547.79 Q249.845 1547.79 246.766 1543.21 Q243.71 1538.6 243.71 1529.87 Q243.71 1521.12 246.766 1516.54 Q249.845 1511.93 255.655 1511.93 Z\" fill=\"#000000\" fill-rule=\"evenodd\" fill-opacity=\"1\" /><path clip-path=\"url(#clip860)\" d=\"M808.19 1543.18 L824.51 1543.18 L824.51 1547.12 L802.565 1547.12 L802.565 1543.18 Q805.227 1540.43 809.811 1535.8 Q814.417 1531.15 815.598 1529.81 Q817.843 1527.28 818.723 1525.55 Q819.625 1523.79 819.625 1522.1 Q819.625 1519.34 817.681 1517.61 Q815.76 1515.87 812.658 1515.87 Q810.459 1515.87 808.005 1516.63 Q805.575 1517.4 802.797 1518.95 L802.797 1514.23 Q805.621 1513.09 808.075 1512.51 Q810.528 1511.93 812.565 1511.93 Q817.936 1511.93 821.13 1514.62 Q824.325 1517.31 824.325 1521.8 Q824.325 1523.93 823.514 1525.85 Q822.727 1527.74 820.621 1530.34 Q820.042 1531.01 816.94 1534.23 Q813.838 1537.42 808.19 1543.18 Z\" fill=\"#000000\" fill-rule=\"evenodd\" fill-opacity=\"1\" /><path clip-path=\"url(#clip860)\" d=\"M844.324 1515.64 Q840.713 1515.64 838.885 1519.2 Q837.079 1522.75 837.079 1529.87 Q837.079 1536.98 838.885 1540.55 Q840.713 1544.09 844.324 1544.09 Q847.959 1544.09 849.764 1540.55 Q851.593 1536.98 851.593 1529.87 Q851.593 1522.75 849.764 1519.2 Q847.959 1515.64 844.324 1515.64 M844.324 1511.93 Q850.135 1511.93 853.19 1516.54 Q856.269 1521.12 856.269 1529.87 Q856.269 1538.6 853.19 1543.21 Q850.135 1547.79 844.324 1547.79 Q838.514 1547.79 835.436 1543.21 Q832.38 1538.6 832.38 1529.87 Q832.38 1521.12 835.436 1516.54 Q838.514 1511.93 844.324 1511.93 Z\" fill=\"#000000\" fill-rule=\"evenodd\" fill-opacity=\"1\" /><path clip-path=\"url(#clip860)\" d=\"M1391.35 1516.63 L1379.55 1535.08 L1391.35 1535.08 L1391.35 1516.63 M1390.12 1512.56 L1396 1512.56 L1396 1535.08 L1400.93 1535.08 L1400.93 1538.97 L1396 1538.97 L1396 1547.12 L1391.35 1547.12 L1391.35 1538.97 L1375.75 1538.97 L1375.75 1534.46 L1390.12 1512.56 Z\" fill=\"#000000\" fill-rule=\"evenodd\" fill-opacity=\"1\" /><path clip-path=\"url(#clip860)\" d=\"M1418.67 1515.64 Q1415.05 1515.64 1413.23 1519.2 Q1411.42 1522.75 1411.42 1529.87 Q1411.42 1536.98 1413.23 1540.55 Q1415.05 1544.09 1418.67 1544.09 Q1422.3 1544.09 1424.11 1540.55 Q1425.93 1536.98 1425.93 1529.87 Q1425.93 1522.75 1424.11 1519.2 Q1422.3 1515.64 1418.67 1515.64 M1418.67 1511.93 Q1424.48 1511.93 1427.53 1516.54 Q1430.61 1521.12 1430.61 1529.87 Q1430.61 1538.6 1427.53 1543.21 Q1424.48 1547.79 1418.67 1547.79 Q1412.86 1547.79 1409.78 1543.21 Q1406.72 1538.6 1406.72 1529.87 Q1406.72 1521.12 1409.78 1516.54 Q1412.86 1511.93 1418.67 1511.93 Z\" fill=\"#000000\" fill-rule=\"evenodd\" fill-opacity=\"1\" /><path clip-path=\"url(#clip860)\" d=\"M1962.35 1527.98 Q1959.2 1527.98 1957.35 1530.13 Q1955.52 1532.28 1955.52 1536.03 Q1955.52 1539.76 1957.35 1541.93 Q1959.2 1544.09 1962.35 1544.09 Q1965.49 1544.09 1967.32 1541.93 Q1969.18 1539.76 1969.18 1536.03 Q1969.18 1532.28 1967.32 1530.13 Q1965.49 1527.98 1962.35 1527.98 M1971.63 1513.32 L1971.63 1517.58 Q1969.87 1516.75 1968.06 1516.31 Q1966.28 1515.87 1964.52 1515.87 Q1959.89 1515.87 1957.44 1519 Q1955.01 1522.12 1954.66 1528.44 Q1956.03 1526.43 1958.09 1525.36 Q1960.15 1524.27 1962.62 1524.27 Q1967.83 1524.27 1970.84 1527.44 Q1973.87 1530.59 1973.87 1536.03 Q1973.87 1541.36 1970.73 1544.57 Q1967.58 1547.79 1962.35 1547.79 Q1956.35 1547.79 1953.18 1543.21 Q1950.01 1538.6 1950.01 1529.87 Q1950.01 1521.68 1953.9 1516.82 Q1957.79 1511.93 1964.34 1511.93 Q1966.1 1511.93 1967.88 1512.28 Q1969.68 1512.63 1971.63 1513.32 Z\" fill=\"#000000\" fill-rule=\"evenodd\" fill-opacity=\"1\" /><path clip-path=\"url(#clip860)\" d=\"M1991.93 1515.64 Q1988.32 1515.64 1986.49 1519.2 Q1984.68 1522.75 1984.68 1529.87 Q1984.68 1536.98 1986.49 1540.55 Q1988.32 1544.09 1991.93 1544.09 Q1995.56 1544.09 1997.37 1540.55 Q1999.2 1536.98 1999.2 1529.87 Q1999.2 1522.75 1997.37 1519.2 Q1995.56 1515.64 1991.93 1515.64 M1991.93 1511.93 Q1997.74 1511.93 2000.8 1516.54 Q2003.87 1521.12 2003.87 1529.87 Q2003.87 1538.6 2000.8 1543.21 Q1997.74 1547.79 1991.93 1547.79 Q1986.12 1547.79 1983.04 1543.21 Q1979.99 1538.6 1979.99 1529.87 Q1979.99 1521.12 1983.04 1516.54 Q1986.12 1511.93 1991.93 1511.93 Z\" fill=\"#000000\" fill-rule=\"evenodd\" fill-opacity=\"1\" /><polyline clip-path=\"url(#clip862)\" style=\"stroke:#000000; stroke-linecap:butt; stroke-linejoin:round; stroke-width:2; stroke-opacity:0.1; fill:none\" points=\"\n",
       "  224.098,1265.56 2352.76,1265.56 \n",
       "  \"/>\n",
       "<polyline clip-path=\"url(#clip862)\" style=\"stroke:#000000; stroke-linecap:butt; stroke-linejoin:round; stroke-width:2; stroke-opacity:0.1; fill:none\" points=\"\n",
       "  224.098,881.065 2352.76,881.065 \n",
       "  \"/>\n",
       "<polyline clip-path=\"url(#clip862)\" style=\"stroke:#000000; stroke-linecap:butt; stroke-linejoin:round; stroke-width:2; stroke-opacity:0.1; fill:none\" points=\"\n",
       "  224.098,496.573 2352.76,496.573 \n",
       "  \"/>\n",
       "<polyline clip-path=\"url(#clip862)\" style=\"stroke:#000000; stroke-linecap:butt; stroke-linejoin:round; stroke-width:2; stroke-opacity:0.1; fill:none\" points=\"\n",
       "  224.098,112.081 2352.76,112.081 \n",
       "  \"/>\n",
       "<polyline clip-path=\"url(#clip860)\" style=\"stroke:#000000; stroke-linecap:butt; stroke-linejoin:round; stroke-width:4; stroke-opacity:1; fill:none\" points=\"\n",
       "  224.098,1486.45 224.098,47.2441 \n",
       "  \"/>\n",
       "<polyline clip-path=\"url(#clip860)\" style=\"stroke:#000000; stroke-linecap:butt; stroke-linejoin:round; stroke-width:4; stroke-opacity:1; fill:none\" points=\"\n",
       "  224.098,1265.56 242.996,1265.56 \n",
       "  \"/>\n",
       "<polyline clip-path=\"url(#clip860)\" style=\"stroke:#000000; stroke-linecap:butt; stroke-linejoin:round; stroke-width:4; stroke-opacity:1; fill:none\" points=\"\n",
       "  224.098,881.065 242.996,881.065 \n",
       "  \"/>\n",
       "<polyline clip-path=\"url(#clip860)\" style=\"stroke:#000000; stroke-linecap:butt; stroke-linejoin:round; stroke-width:4; stroke-opacity:1; fill:none\" points=\"\n",
       "  224.098,496.573 242.996,496.573 \n",
       "  \"/>\n",
       "<polyline clip-path=\"url(#clip860)\" style=\"stroke:#000000; stroke-linecap:butt; stroke-linejoin:round; stroke-width:4; stroke-opacity:1; fill:none\" points=\"\n",
       "  224.098,112.081 242.996,112.081 \n",
       "  \"/>\n",
       "<path clip-path=\"url(#clip860)\" d=\"M50.9921 1266.01 L80.6679 1266.01 L80.6679 1269.94 L50.9921 1269.94 L50.9921 1266.01 Z\" fill=\"#000000\" fill-rule=\"evenodd\" fill-opacity=\"1\" /><path clip-path=\"url(#clip860)\" d=\"M100.76 1251.36 Q97.1493 1251.36 95.3206 1254.92 Q93.515 1258.46 93.515 1265.59 Q93.515 1272.7 95.3206 1276.26 Q97.1493 1279.8 100.76 1279.8 Q104.395 1279.8 106.2 1276.26 Q108.029 1272.7 108.029 1265.59 Q108.029 1258.46 106.2 1254.92 Q104.395 1251.36 100.76 1251.36 M100.76 1247.65 Q106.571 1247.65 109.626 1252.26 Q112.705 1256.84 112.705 1265.59 Q112.705 1274.32 109.626 1278.92 Q106.571 1283.51 100.76 1283.51 Q94.9502 1283.51 91.8715 1278.92 Q88.816 1274.32 88.816 1265.59 Q88.816 1256.84 91.8715 1252.26 Q94.9502 1247.65 100.76 1247.65 Z\" fill=\"#000000\" fill-rule=\"evenodd\" fill-opacity=\"1\" /><path clip-path=\"url(#clip860)\" d=\"M120.922 1276.96 L125.807 1276.96 L125.807 1282.84 L120.922 1282.84 L120.922 1276.96 Z\" fill=\"#000000\" fill-rule=\"evenodd\" fill-opacity=\"1\" /><path clip-path=\"url(#clip860)\" d=\"M136.802 1278.9 L144.441 1278.9 L144.441 1252.54 L136.131 1254.2 L136.131 1249.94 L144.394 1248.28 L149.07 1248.28 L149.07 1278.9 L156.709 1278.9 L156.709 1282.84 L136.802 1282.84 L136.802 1278.9 Z\" fill=\"#000000\" fill-rule=\"evenodd\" fill-opacity=\"1\" /><path clip-path=\"url(#clip860)\" d=\"M176.153 1251.36 Q172.542 1251.36 170.714 1254.92 Q168.908 1258.46 168.908 1265.59 Q168.908 1272.7 170.714 1276.26 Q172.542 1279.8 176.153 1279.8 Q179.788 1279.8 181.593 1276.26 Q183.422 1272.7 183.422 1265.59 Q183.422 1258.46 181.593 1254.92 Q179.788 1251.36 176.153 1251.36 M176.153 1247.65 Q181.964 1247.65 185.019 1252.26 Q188.098 1256.84 188.098 1265.59 Q188.098 1274.32 185.019 1278.92 Q181.964 1283.51 176.153 1283.51 Q170.343 1283.51 167.265 1278.92 Q164.209 1274.32 164.209 1265.59 Q164.209 1256.84 167.265 1252.26 Q170.343 1247.65 176.153 1247.65 Z\" fill=\"#000000\" fill-rule=\"evenodd\" fill-opacity=\"1\" /><path clip-path=\"url(#clip860)\" d=\"M51.9875 881.516 L81.6633 881.516 L81.6633 885.451 L51.9875 885.451 L51.9875 881.516 Z\" fill=\"#000000\" fill-rule=\"evenodd\" fill-opacity=\"1\" /><path clip-path=\"url(#clip860)\" d=\"M101.756 866.863 Q98.1447 866.863 96.316 870.428 Q94.5104 873.97 94.5104 881.099 Q94.5104 888.206 96.316 891.771 Q98.1447 895.312 101.756 895.312 Q105.39 895.312 107.196 891.771 Q109.024 888.206 109.024 881.099 Q109.024 873.97 107.196 870.428 Q105.39 866.863 101.756 866.863 M101.756 863.16 Q107.566 863.16 110.621 867.766 Q113.7 872.349 113.7 881.099 Q113.7 889.826 110.621 894.433 Q107.566 899.016 101.756 899.016 Q95.9456 899.016 92.8669 894.433 Q89.8114 889.826 89.8114 881.099 Q89.8114 872.349 92.8669 867.766 Q95.9456 863.16 101.756 863.16 Z\" fill=\"#000000\" fill-rule=\"evenodd\" fill-opacity=\"1\" /><path clip-path=\"url(#clip860)\" d=\"M121.918 892.465 L126.802 892.465 L126.802 898.345 L121.918 898.345 L121.918 892.465 Z\" fill=\"#000000\" fill-rule=\"evenodd\" fill-opacity=\"1\" /><path clip-path=\"url(#clip860)\" d=\"M146.987 866.863 Q143.376 866.863 141.547 870.428 Q139.742 873.97 139.742 881.099 Q139.742 888.206 141.547 891.771 Q143.376 895.312 146.987 895.312 Q150.621 895.312 152.427 891.771 Q154.255 888.206 154.255 881.099 Q154.255 873.97 152.427 870.428 Q150.621 866.863 146.987 866.863 M146.987 863.16 Q152.797 863.16 155.853 867.766 Q158.931 872.349 158.931 881.099 Q158.931 889.826 155.853 894.433 Q152.797 899.016 146.987 899.016 Q141.177 899.016 138.098 894.433 Q135.043 889.826 135.043 881.099 Q135.043 872.349 138.098 867.766 Q141.177 863.16 146.987 863.16 Z\" fill=\"#000000\" fill-rule=\"evenodd\" fill-opacity=\"1\" /><path clip-path=\"url(#clip860)\" d=\"M167.195 863.785 L185.552 863.785 L185.552 867.72 L171.478 867.72 L171.478 876.192 Q172.496 875.845 173.515 875.683 Q174.533 875.498 175.552 875.498 Q181.339 875.498 184.718 878.669 Q188.098 881.84 188.098 887.257 Q188.098 892.835 184.626 895.937 Q181.153 899.016 174.834 899.016 Q172.658 899.016 170.39 898.646 Q168.144 898.275 165.737 897.535 L165.737 892.835 Q167.82 893.97 170.042 894.525 Q172.265 895.081 174.741 895.081 Q178.746 895.081 181.084 892.974 Q183.422 890.868 183.422 887.257 Q183.422 883.646 181.084 881.539 Q178.746 879.433 174.741 879.433 Q172.866 879.433 170.991 879.849 Q169.14 880.266 167.195 881.146 L167.195 863.785 Z\" fill=\"#000000\" fill-rule=\"evenodd\" fill-opacity=\"1\" /><path clip-path=\"url(#clip860)\" d=\"M100.76 482.372 Q97.1493 482.372 95.3206 485.936 Q93.515 489.478 93.515 496.608 Q93.515 503.714 95.3206 507.279 Q97.1493 510.821 100.76 510.821 Q104.395 510.821 106.2 507.279 Q108.029 503.714 108.029 496.608 Q108.029 489.478 106.2 485.936 Q104.395 482.372 100.76 482.372 M100.76 478.668 Q106.571 478.668 109.626 483.274 Q112.705 487.858 112.705 496.608 Q112.705 505.334 109.626 509.941 Q106.571 514.524 100.76 514.524 Q94.9502 514.524 91.8715 509.941 Q88.816 505.334 88.816 496.608 Q88.816 487.858 91.8715 483.274 Q94.9502 478.668 100.76 478.668 Z\" fill=\"#000000\" fill-rule=\"evenodd\" fill-opacity=\"1\" /><path clip-path=\"url(#clip860)\" d=\"M120.922 507.973 L125.807 507.973 L125.807 513.853 L120.922 513.853 L120.922 507.973 Z\" fill=\"#000000\" fill-rule=\"evenodd\" fill-opacity=\"1\" /><path clip-path=\"url(#clip860)\" d=\"M145.992 482.372 Q142.381 482.372 140.552 485.936 Q138.746 489.478 138.746 496.608 Q138.746 503.714 140.552 507.279 Q142.381 510.821 145.992 510.821 Q149.626 510.821 151.431 507.279 Q153.26 503.714 153.26 496.608 Q153.26 489.478 151.431 485.936 Q149.626 482.372 145.992 482.372 M145.992 478.668 Q151.802 478.668 154.857 483.274 Q157.936 487.858 157.936 496.608 Q157.936 505.334 154.857 509.941 Q151.802 514.524 145.992 514.524 Q140.181 514.524 137.103 509.941 Q134.047 505.334 134.047 496.608 Q134.047 487.858 137.103 483.274 Q140.181 478.668 145.992 478.668 Z\" fill=\"#000000\" fill-rule=\"evenodd\" fill-opacity=\"1\" /><path clip-path=\"url(#clip860)\" d=\"M176.153 482.372 Q172.542 482.372 170.714 485.936 Q168.908 489.478 168.908 496.608 Q168.908 503.714 170.714 507.279 Q172.542 510.821 176.153 510.821 Q179.788 510.821 181.593 507.279 Q183.422 503.714 183.422 496.608 Q183.422 489.478 181.593 485.936 Q179.788 482.372 176.153 482.372 M176.153 478.668 Q181.964 478.668 185.019 483.274 Q188.098 487.858 188.098 496.608 Q188.098 505.334 185.019 509.941 Q181.964 514.524 176.153 514.524 Q170.343 514.524 167.265 509.941 Q164.209 505.334 164.209 496.608 Q164.209 487.858 167.265 483.274 Q170.343 478.668 176.153 478.668 Z\" fill=\"#000000\" fill-rule=\"evenodd\" fill-opacity=\"1\" /><path clip-path=\"url(#clip860)\" d=\"M101.756 97.8799 Q98.1447 97.8799 96.316 101.445 Q94.5104 104.986 94.5104 112.116 Q94.5104 119.222 96.316 122.787 Q98.1447 126.329 101.756 126.329 Q105.39 126.329 107.196 122.787 Q109.024 119.222 109.024 112.116 Q109.024 104.986 107.196 101.445 Q105.39 97.8799 101.756 97.8799 M101.756 94.1762 Q107.566 94.1762 110.621 98.7827 Q113.7 103.366 113.7 112.116 Q113.7 120.843 110.621 125.449 Q107.566 130.032 101.756 130.032 Q95.9456 130.032 92.8669 125.449 Q89.8114 120.843 89.8114 112.116 Q89.8114 103.366 92.8669 98.7827 Q95.9456 94.1762 101.756 94.1762 Z\" fill=\"#000000\" fill-rule=\"evenodd\" fill-opacity=\"1\" /><path clip-path=\"url(#clip860)\" d=\"M121.918 123.482 L126.802 123.482 L126.802 129.361 L121.918 129.361 L121.918 123.482 Z\" fill=\"#000000\" fill-rule=\"evenodd\" fill-opacity=\"1\" /><path clip-path=\"url(#clip860)\" d=\"M146.987 97.8799 Q143.376 97.8799 141.547 101.445 Q139.742 104.986 139.742 112.116 Q139.742 119.222 141.547 122.787 Q143.376 126.329 146.987 126.329 Q150.621 126.329 152.427 122.787 Q154.255 119.222 154.255 112.116 Q154.255 104.986 152.427 101.445 Q150.621 97.8799 146.987 97.8799 M146.987 94.1762 Q152.797 94.1762 155.853 98.7827 Q158.931 103.366 158.931 112.116 Q158.931 120.843 155.853 125.449 Q152.797 130.032 146.987 130.032 Q141.177 130.032 138.098 125.449 Q135.043 120.843 135.043 112.116 Q135.043 103.366 138.098 98.7827 Q141.177 94.1762 146.987 94.1762 Z\" fill=\"#000000\" fill-rule=\"evenodd\" fill-opacity=\"1\" /><path clip-path=\"url(#clip860)\" d=\"M167.195 94.8012 L185.552 94.8012 L185.552 98.7364 L171.478 98.7364 L171.478 107.209 Q172.496 106.861 173.515 106.699 Q174.533 106.514 175.552 106.514 Q181.339 106.514 184.718 109.685 Q188.098 112.857 188.098 118.273 Q188.098 123.852 184.626 126.954 Q181.153 130.032 174.834 130.032 Q172.658 130.032 170.39 129.662 Q168.144 129.292 165.737 128.551 L165.737 123.852 Q167.82 124.986 170.042 125.542 Q172.265 126.097 174.741 126.097 Q178.746 126.097 181.084 123.991 Q183.422 121.884 183.422 118.273 Q183.422 114.662 181.084 112.556 Q178.746 110.449 174.741 110.449 Q172.866 110.449 170.991 110.866 Q169.14 111.283 167.195 112.162 L167.195 94.8012 Z\" fill=\"#000000\" fill-rule=\"evenodd\" fill-opacity=\"1\" /><polyline clip-path=\"url(#clip862)\" style=\"stroke:#009af9; stroke-linecap:butt; stroke-linejoin:round; stroke-width:4; stroke-opacity:1; fill:none\" points=\"\n",
       "  284.343,496.573 313.031,1445.72 341.719,517.688 370.407,163.593 399.095,87.9763 427.783,505.643 456.472,767.481 485.16,489.28 513.848,331.186 542.536,462.047 \n",
       "  571.224,514.495 599.912,572.076 628.6,492.985 657.288,448.937 685.977,498.86 714.665,520.926 743.353,512.608 772.041,495.005 800.729,483.364 829.417,497.565 \n",
       "  858.105,505.057 886.793,496.707 915.481,494.485 944.17,493.058 972.858,496.925 1001.55,498.914 1030.23,496.335 1058.92,495.132 1087.61,496.105 1116.3,496.724 \n",
       "  1144.99,497.203 1173.67,496.493 1202.36,496.152 1231.05,496.615 1259.74,496.749 1288.43,496.724 1317.12,496.547 1345.8,496.46 1374.49,496.59 1403.18,496.649 \n",
       "  1431.87,496.578 1460.56,496.559 1489.24,496.544 1517.93,496.578 1546.62,496.593 1575.31,496.569 1604,496.561 1632.68,496.568 1661.37,496.575 1690.06,496.578 \n",
       "  1718.75,496.572 1747.44,496.569 1776.12,496.573 1804.81,496.574 1833.5,496.574 1862.19,496.573 1890.88,496.572 1919.57,496.573 1948.25,496.574 1976.94,496.573 \n",
       "  2005.63,496.573 2034.32,496.573 2063.01,496.573 2091.69,496.573 2120.38,496.573 2149.07,496.573 2177.76,496.573 2206.45,496.573 2235.13,496.573 2263.82,496.573 \n",
       "  2292.51,496.573 \n",
       "  \"/>\n",
       "<path clip-path=\"url(#clip860)\" d=\"\n",
       "M1992.85 198.898 L2281.8 198.898 L2281.8 95.2176 L1992.85 95.2176  Z\n",
       "  \" fill=\"#ffffff\" fill-rule=\"evenodd\" fill-opacity=\"1\"/>\n",
       "<polyline clip-path=\"url(#clip860)\" style=\"stroke:#000000; stroke-linecap:butt; stroke-linejoin:round; stroke-width:4; stroke-opacity:1; fill:none\" points=\"\n",
       "  1992.85,198.898 2281.8,198.898 2281.8,95.2176 1992.85,95.2176 1992.85,198.898 \n",
       "  \"/>\n",
       "<polyline clip-path=\"url(#clip860)\" style=\"stroke:#009af9; stroke-linecap:butt; stroke-linejoin:round; stroke-width:4; stroke-opacity:1; fill:none\" points=\"\n",
       "  2016.5,147.058 2158.42,147.058 \n",
       "  \"/>\n",
       "<path clip-path=\"url(#clip860)\" d=\"M2195.91 166.745 Q2194.1 171.375 2192.39 172.787 Q2190.68 174.199 2187.81 174.199 L2184.4 174.199 L2184.4 170.634 L2186.9 170.634 Q2188.66 170.634 2189.64 169.8 Q2190.61 168.967 2191.79 165.865 L2192.55 163.921 L2182.07 138.412 L2186.58 138.412 L2194.68 158.689 L2202.78 138.412 L2207.3 138.412 L2195.91 166.745 Z\" fill=\"#000000\" fill-rule=\"evenodd\" fill-opacity=\"1\" /><path clip-path=\"url(#clip860)\" d=\"M2214.59 160.402 L2222.23 160.402 L2222.23 134.037 L2213.92 135.703 L2213.92 131.444 L2222.18 129.778 L2226.86 129.778 L2226.86 160.402 L2234.5 160.402 L2234.5 164.338 L2214.59 164.338 L2214.59 160.402 Z\" fill=\"#000000\" fill-rule=\"evenodd\" fill-opacity=\"1\" /></svg>\n"
      ]
     },
     "execution_count": 58,
     "metadata": {},
     "output_type": "execute_result"
    }
   ],
   "source": [
    "plot(omegas[1,:])\n",
    "#plot!(omegas[30,:])\n",
    "#plot!(omegas[70,:])\n"
   ]
  },
  {
   "cell_type": "code",
   "execution_count": 15,
   "id": "1909c04a",
   "metadata": {},
   "outputs": [
    {
     "data": {
      "image/svg+xml": [
       "<?xml version=\"1.0\" encoding=\"utf-8\"?>\n",
       "<svg xmlns=\"http://www.w3.org/2000/svg\" xmlns:xlink=\"http://www.w3.org/1999/xlink\" width=\"600\" height=\"400\" viewBox=\"0 0 2400 1600\">\n",
       "<defs>\n",
       "  <clipPath id=\"clip590\">\n",
       "    <rect x=\"0\" y=\"0\" width=\"2400\" height=\"1600\"/>\n",
       "  </clipPath>\n",
       "</defs>\n",
       "<path clip-path=\"url(#clip590)\" d=\"\n",
       "M0 1600 L2400 1600 L2400 0 L0 0  Z\n",
       "  \" fill=\"#ffffff\" fill-rule=\"evenodd\" fill-opacity=\"1\"/>\n",
       "<defs>\n",
       "  <clipPath id=\"clip591\">\n",
       "    <rect x=\"480\" y=\"0\" width=\"1681\" height=\"1600\"/>\n",
       "  </clipPath>\n",
       "</defs>\n",
       "<path clip-path=\"url(#clip590)\" d=\"\n",
       "M148.705 1486.45 L2352.76 1486.45 L2352.76 47.2441 L148.705 47.2441  Z\n",
       "  \" fill=\"#ffffff\" fill-rule=\"evenodd\" fill-opacity=\"1\"/>\n",
       "<defs>\n",
       "  <clipPath id=\"clip592\">\n",
       "    <rect x=\"148\" y=\"47\" width=\"2205\" height=\"1440\"/>\n",
       "  </clipPath>\n",
       "</defs>\n",
       "<polyline clip-path=\"url(#clip592)\" style=\"stroke:#000000; stroke-linecap:butt; stroke-linejoin:round; stroke-width:2; stroke-opacity:0.1; fill:none\" points=\"\n",
       "  211.084,1486.45 211.084,47.2441 \n",
       "  \"/>\n",
       "<polyline clip-path=\"url(#clip592)\" style=\"stroke:#000000; stroke-linecap:butt; stroke-linejoin:round; stroke-width:2; stroke-opacity:0.1; fill:none\" points=\"\n",
       "  626.942,1486.45 626.942,47.2441 \n",
       "  \"/>\n",
       "<polyline clip-path=\"url(#clip592)\" style=\"stroke:#000000; stroke-linecap:butt; stroke-linejoin:round; stroke-width:2; stroke-opacity:0.1; fill:none\" points=\"\n",
       "  1042.8,1486.45 1042.8,47.2441 \n",
       "  \"/>\n",
       "<polyline clip-path=\"url(#clip592)\" style=\"stroke:#000000; stroke-linecap:butt; stroke-linejoin:round; stroke-width:2; stroke-opacity:0.1; fill:none\" points=\"\n",
       "  1458.66,1486.45 1458.66,47.2441 \n",
       "  \"/>\n",
       "<polyline clip-path=\"url(#clip592)\" style=\"stroke:#000000; stroke-linecap:butt; stroke-linejoin:round; stroke-width:2; stroke-opacity:0.1; fill:none\" points=\"\n",
       "  1874.52,1486.45 1874.52,47.2441 \n",
       "  \"/>\n",
       "<polyline clip-path=\"url(#clip592)\" style=\"stroke:#000000; stroke-linecap:butt; stroke-linejoin:round; stroke-width:2; stroke-opacity:0.1; fill:none\" points=\"\n",
       "  2290.38,1486.45 2290.38,47.2441 \n",
       "  \"/>\n",
       "<polyline clip-path=\"url(#clip590)\" style=\"stroke:#000000; stroke-linecap:butt; stroke-linejoin:round; stroke-width:4; stroke-opacity:1; fill:none\" points=\"\n",
       "  148.705,1486.45 2352.76,1486.45 \n",
       "  \"/>\n",
       "<polyline clip-path=\"url(#clip590)\" style=\"stroke:#000000; stroke-linecap:butt; stroke-linejoin:round; stroke-width:4; stroke-opacity:1; fill:none\" points=\"\n",
       "  211.084,1486.45 211.084,1467.55 \n",
       "  \"/>\n",
       "<polyline clip-path=\"url(#clip590)\" style=\"stroke:#000000; stroke-linecap:butt; stroke-linejoin:round; stroke-width:4; stroke-opacity:1; fill:none\" points=\"\n",
       "  626.942,1486.45 626.942,1467.55 \n",
       "  \"/>\n",
       "<polyline clip-path=\"url(#clip590)\" style=\"stroke:#000000; stroke-linecap:butt; stroke-linejoin:round; stroke-width:4; stroke-opacity:1; fill:none\" points=\"\n",
       "  1042.8,1486.45 1042.8,1467.55 \n",
       "  \"/>\n",
       "<polyline clip-path=\"url(#clip590)\" style=\"stroke:#000000; stroke-linecap:butt; stroke-linejoin:round; stroke-width:4; stroke-opacity:1; fill:none\" points=\"\n",
       "  1458.66,1486.45 1458.66,1467.55 \n",
       "  \"/>\n",
       "<polyline clip-path=\"url(#clip590)\" style=\"stroke:#000000; stroke-linecap:butt; stroke-linejoin:round; stroke-width:4; stroke-opacity:1; fill:none\" points=\"\n",
       "  1874.52,1486.45 1874.52,1467.55 \n",
       "  \"/>\n",
       "<polyline clip-path=\"url(#clip590)\" style=\"stroke:#000000; stroke-linecap:butt; stroke-linejoin:round; stroke-width:4; stroke-opacity:1; fill:none\" points=\"\n",
       "  2290.38,1486.45 2290.38,1467.55 \n",
       "  \"/>\n",
       "<path clip-path=\"url(#clip590)\" d=\"M201.466 1543.18 L209.104 1543.18 L209.104 1516.82 L200.794 1518.49 L200.794 1514.23 L209.058 1512.56 L213.734 1512.56 L213.734 1543.18 L221.373 1543.18 L221.373 1547.12 L201.466 1547.12 L201.466 1543.18 Z\" fill=\"#000000\" fill-rule=\"evenodd\" fill-opacity=\"1\" /><path clip-path=\"url(#clip590)\" d=\"M621.595 1543.18 L637.914 1543.18 L637.914 1547.12 L615.97 1547.12 L615.97 1543.18 Q618.632 1540.43 623.215 1535.8 Q627.822 1531.15 629.002 1529.81 Q631.248 1527.28 632.127 1525.55 Q633.03 1523.79 633.03 1522.1 Q633.03 1519.34 631.086 1517.61 Q629.164 1515.87 626.063 1515.87 Q623.864 1515.87 621.41 1516.63 Q618.979 1517.4 616.202 1518.95 L616.202 1514.23 Q619.026 1513.09 621.479 1512.51 Q623.933 1511.93 625.97 1511.93 Q631.34 1511.93 634.535 1514.62 Q637.729 1517.31 637.729 1521.8 Q637.729 1523.93 636.919 1525.85 Q636.132 1527.74 634.026 1530.34 Q633.447 1531.01 630.345 1534.23 Q627.243 1537.42 621.595 1543.18 Z\" fill=\"#000000\" fill-rule=\"evenodd\" fill-opacity=\"1\" /><path clip-path=\"url(#clip590)\" d=\"M1047.05 1528.49 Q1050.41 1529.2 1052.28 1531.47 Q1054.18 1533.74 1054.18 1537.07 Q1054.18 1542.19 1050.66 1544.99 Q1047.14 1547.79 1040.66 1547.79 Q1038.48 1547.79 1036.17 1547.35 Q1033.88 1546.93 1031.42 1546.08 L1031.42 1541.56 Q1033.37 1542.7 1035.68 1543.28 Q1038 1543.86 1040.52 1543.86 Q1044.92 1543.86 1047.21 1542.12 Q1049.53 1540.38 1049.53 1537.07 Q1049.53 1534.02 1047.37 1532.31 Q1045.24 1530.57 1041.42 1530.57 L1037.4 1530.57 L1037.4 1526.73 L1041.61 1526.73 Q1045.06 1526.73 1046.89 1525.36 Q1048.72 1523.97 1048.72 1521.38 Q1048.72 1518.72 1046.82 1517.31 Q1044.94 1515.87 1041.42 1515.87 Q1039.5 1515.87 1037.3 1516.29 Q1035.1 1516.7 1032.47 1517.58 L1032.47 1513.42 Q1035.13 1512.68 1037.44 1512.31 Q1039.78 1511.93 1041.84 1511.93 Q1047.16 1511.93 1050.27 1514.37 Q1053.37 1516.77 1053.37 1520.89 Q1053.37 1523.76 1051.72 1525.75 Q1050.08 1527.72 1047.05 1528.49 Z\" fill=\"#000000\" fill-rule=\"evenodd\" fill-opacity=\"1\" /><path clip-path=\"url(#clip590)\" d=\"M1461.67 1516.63 L1449.86 1535.08 L1461.67 1535.08 L1461.67 1516.63 M1460.44 1512.56 L1466.32 1512.56 L1466.32 1535.08 L1471.25 1535.08 L1471.25 1538.97 L1466.32 1538.97 L1466.32 1547.12 L1461.67 1547.12 L1461.67 1538.97 L1446.07 1538.97 L1446.07 1534.46 L1460.44 1512.56 Z\" fill=\"#000000\" fill-rule=\"evenodd\" fill-opacity=\"1\" /><path clip-path=\"url(#clip590)\" d=\"M1864.8 1512.56 L1883.15 1512.56 L1883.15 1516.5 L1869.08 1516.5 L1869.08 1524.97 Q1870.1 1524.62 1871.12 1524.46 Q1872.13 1524.27 1873.15 1524.27 Q1878.94 1524.27 1882.32 1527.44 Q1885.7 1530.62 1885.7 1536.03 Q1885.7 1541.61 1882.23 1544.71 Q1878.75 1547.79 1872.44 1547.79 Q1870.26 1547.79 1867.99 1547.42 Q1865.75 1547.05 1863.34 1546.31 L1863.34 1541.61 Q1865.42 1542.74 1867.64 1543.3 Q1869.87 1543.86 1872.34 1543.86 Q1876.35 1543.86 1878.69 1541.75 Q1881.02 1539.64 1881.02 1536.03 Q1881.02 1532.42 1878.69 1530.31 Q1876.35 1528.21 1872.34 1528.21 Q1870.47 1528.21 1868.59 1528.62 Q1866.74 1529.04 1864.8 1529.92 L1864.8 1512.56 Z\" fill=\"#000000\" fill-rule=\"evenodd\" fill-opacity=\"1\" /><path clip-path=\"url(#clip590)\" d=\"M2290.78 1527.98 Q2287.63 1527.98 2285.78 1530.13 Q2283.95 1532.28 2283.95 1536.03 Q2283.95 1539.76 2285.78 1541.93 Q2287.63 1544.09 2290.78 1544.09 Q2293.93 1544.09 2295.76 1541.93 Q2297.61 1539.76 2297.61 1536.03 Q2297.61 1532.28 2295.76 1530.13 Q2293.93 1527.98 2290.78 1527.98 M2300.06 1513.32 L2300.06 1517.58 Q2298.31 1516.75 2296.5 1516.31 Q2294.72 1515.87 2292.96 1515.87 Q2288.33 1515.87 2285.87 1519 Q2283.44 1522.12 2283.1 1528.44 Q2284.46 1526.43 2286.52 1525.36 Q2288.58 1524.27 2291.06 1524.27 Q2296.27 1524.27 2299.28 1527.44 Q2302.31 1530.59 2302.31 1536.03 Q2302.31 1541.36 2299.16 1544.57 Q2296.01 1547.79 2290.78 1547.79 Q2284.79 1547.79 2281.62 1543.21 Q2278.44 1538.6 2278.44 1529.87 Q2278.44 1521.68 2282.33 1516.82 Q2286.22 1511.93 2292.77 1511.93 Q2294.53 1511.93 2296.31 1512.28 Q2298.12 1512.63 2300.06 1513.32 Z\" fill=\"#000000\" fill-rule=\"evenodd\" fill-opacity=\"1\" /><polyline clip-path=\"url(#clip592)\" style=\"stroke:#000000; stroke-linecap:butt; stroke-linejoin:round; stroke-width:2; stroke-opacity:0.1; fill:none\" points=\"\n",
       "  148.705,1486.45 2352.76,1486.45 \n",
       "  \"/>\n",
       "<polyline clip-path=\"url(#clip590)\" style=\"stroke:#000000; stroke-linecap:butt; stroke-linejoin:round; stroke-width:4; stroke-opacity:1; fill:none\" points=\"\n",
       "  148.705,1486.45 148.705,47.2441 \n",
       "  \"/>\n",
       "<polyline clip-path=\"url(#clip590)\" style=\"stroke:#000000; stroke-linecap:butt; stroke-linejoin:round; stroke-width:4; stroke-opacity:1; fill:none\" points=\"\n",
       "  148.705,1486.45 167.602,1486.45 \n",
       "  \"/>\n",
       "<path clip-path=\"url(#clip590)\" d=\"M50.9921 1486.9 L80.6679 1486.9 L80.6679 1490.83 L50.9921 1490.83 L50.9921 1486.9 Z\" fill=\"#000000\" fill-rule=\"evenodd\" fill-opacity=\"1\" /><path clip-path=\"url(#clip590)\" d=\"M100.76 1472.25 Q97.1493 1472.25 95.3206 1475.81 Q93.515 1479.35 93.515 1486.48 Q93.515 1493.59 95.3206 1497.15 Q97.1493 1500.7 100.76 1500.7 Q104.395 1500.7 106.2 1497.15 Q108.029 1493.59 108.029 1486.48 Q108.029 1479.35 106.2 1475.81 Q104.395 1472.25 100.76 1472.25 M100.76 1468.54 Q106.571 1468.54 109.626 1473.15 Q112.705 1477.73 112.705 1486.48 Q112.705 1495.21 109.626 1499.82 Q106.571 1504.4 100.76 1504.4 Q94.9502 1504.4 91.8715 1499.82 Q88.816 1495.21 88.816 1486.48 Q88.816 1477.73 91.8715 1473.15 Q94.9502 1468.54 100.76 1468.54 Z\" fill=\"#000000\" fill-rule=\"evenodd\" fill-opacity=\"1\" /><polyline clip-path=\"url(#clip592)\" style=\"stroke:#009af9; stroke-linecap:butt; stroke-linejoin:round; stroke-width:4; stroke-opacity:1; fill:none\" points=\"\n",
       "  211.084,766.849 626.942,766.849 1042.8,766.843 1458.66,766.843 1874.52,766.849 2290.38,766.849 \n",
       "  \"/>\n",
       "<path clip-path=\"url(#clip590)\" d=\"\n",
       "M1981.96 198.898 L2279.29 198.898 L2279.29 95.2176 L1981.96 95.2176  Z\n",
       "  \" fill=\"#ffffff\" fill-rule=\"evenodd\" fill-opacity=\"1\"/>\n",
       "<polyline clip-path=\"url(#clip590)\" style=\"stroke:#000000; stroke-linecap:butt; stroke-linejoin:round; stroke-width:4; stroke-opacity:1; fill:none\" points=\"\n",
       "  1981.96,198.898 2279.29,198.898 2279.29,95.2176 1981.96,95.2176 1981.96,198.898 \n",
       "  \"/>\n",
       "<polyline clip-path=\"url(#clip590)\" style=\"stroke:#009af9; stroke-linecap:butt; stroke-linejoin:round; stroke-width:4; stroke-opacity:1; fill:none\" points=\"\n",
       "  2006.45,147.058 2153.39,147.058 \n",
       "  \"/>\n",
       "<path clip-path=\"url(#clip590)\" d=\"M2191.72 166.745 Q2189.92 171.375 2188.2 172.787 Q2186.49 174.199 2183.62 174.199 L2180.22 174.199 L2180.22 170.634 L2182.72 170.634 Q2184.48 170.634 2185.45 169.8 Q2186.42 168.967 2187.6 165.865 L2188.36 163.921 L2177.88 138.412 L2182.39 138.412 L2190.49 158.689 L2198.6 138.412 L2203.11 138.412 L2191.72 166.745 Z\" fill=\"#000000\" fill-rule=\"evenodd\" fill-opacity=\"1\" /><path clip-path=\"url(#clip590)\" d=\"M2210.4 160.402 L2218.04 160.402 L2218.04 134.037 L2209.73 135.703 L2209.73 131.444 L2217.99 129.778 L2222.67 129.778 L2222.67 160.402 L2230.31 160.402 L2230.31 164.338 L2210.4 164.338 L2210.4 160.402 Z\" fill=\"#000000\" fill-rule=\"evenodd\" fill-opacity=\"1\" /></svg>\n"
      ]
     },
     "execution_count": 15,
     "metadata": {},
     "output_type": "execute_result"
    }
   ],
   "source": [
    "plot(p)"
   ]
  },
  {
   "cell_type": "code",
   "execution_count": 9,
   "id": "4d1ac942",
   "metadata": {},
   "outputs": [
    {
     "data": {
      "text/plain": [
       "0.0:0.2:0.8"
      ]
     },
     "execution_count": 9,
     "metadata": {},
     "output_type": "execute_result"
    }
   ],
   "source": [
    "xrange"
   ]
  },
  {
   "cell_type": "code",
   "execution_count": 41,
   "id": "5de4dade",
   "metadata": {},
   "outputs": [
    {
     "data": {
      "text/plain": [
       "8"
      ]
     },
     "execution_count": 41,
     "metadata": {},
     "output_type": "execute_result"
    }
   ],
   "source": []
  },
  {
   "cell_type": "code",
   "execution_count": null,
   "id": "893cc99c",
   "metadata": {},
   "outputs": [],
   "source": []
  }
 ],
 "metadata": {
  "kernelspec": {
   "display_name": "Julia 1.6.1",
   "language": "julia",
   "name": "julia-1.6"
  },
  "language_info": {
   "file_extension": ".jl",
   "mimetype": "application/julia",
   "name": "julia",
   "version": "1.6.1"
  }
 },
 "nbformat": 4,
 "nbformat_minor": 5
}

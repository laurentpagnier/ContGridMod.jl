{
 "cells": [
  {
   "cell_type": "code",
   "execution_count": 1,
   "metadata": {},
   "outputs": [
    {
     "data": {
      "text/plain": [
       "get_grid (generic function with 1 method)"
      ]
     },
     "execution_count": 1,
     "metadata": {},
     "output_type": "execute_result"
    }
   ],
   "source": [
    "import JSON\n",
    "using Plots\n",
    "using HDF5\n",
    "using SparseArrays\n",
    "using IterativeSolvers\n",
    "using LinearAlgebra\n",
    "using Statistics\n",
    "include(\"../scripts/tools.jl\")\n",
    "include(\"../scripts/get_grid.jl\")"
   ]
  },
  {
   "cell_type": "code",
   "execution_count": 2,
   "metadata": {},
   "outputs": [
    {
     "data": {
      "text/plain": [
       "(157, 117, [-1884.715908758636, -1864.715908758636, -1844.715908758636, -1824.715908758636, -1804.715908758636, -1784.715908758636, -1764.715908758636, -1744.715908758636, -1724.715908758636, -1704.715908758636  …  1055.284091241364, 1075.284091241364, 1095.284091241364, 1115.284091241364, 1135.284091241364, 1155.284091241364, 1175.284091241364, 1195.284091241364, 1215.284091241364, 1235.284091241364], [-1209.773642941589, -1189.773642941589, -1169.773642941589, -1149.773642941589, -1129.773642941589, -1109.773642941589, -1089.773642941589, -1069.773642941589, -1049.773642941589, -1029.773642941589  …  930.2263570584109, 950.2263570584109, 970.2263570584109, 990.2263570584109, 1010.2263570584109, 1030.226357058411, 1050.226357058411, 1070.226357058411, 1090.226357058411, 1110.226357058411], Bool[0 0 … 0 0; 0 0 … 0 0; … ; 0 0 … 0 0; 0 0 … 0 0], Bool[0 0 … 0 0; 0 0 … 0 0; … ; 0 0 … 0 0; 0 0 … 0 0], [13.0 3.0 -1.0 -1.0; 14.0 3.0 -1.0 0.0; … ; 54.0 156.0 1.0 -1.0; 55.0 156.0 1.0 1.0])"
      ]
     },
     "execution_count": 2,
     "metadata": {},
     "output_type": "execute_result"
    }
   ],
   "source": [
    "border = import_border(\"../data/border.json\")\n",
    "dx = 20\n",
    "Nx, Ny, xrange, yrange, isgrid, isborder, n = get_grid(border, Float64(dx))"
   ]
  },
  {
   "cell_type": "code",
   "execution_count": 3,
   "metadata": {},
   "outputs": [
    {
     "data": {
      "text/plain": [
       "8196"
      ]
     },
     "execution_count": 3,
     "metadata": {},
     "output_type": "execute_result"
    }
   ],
   "source": [
    "# get indices of lattice nodes\n",
    "id_xy = findall(isgrid)\n",
    "id_x = Int64.(zeros(length(id_xy)))\n",
    "id_y = Int64.(zeros(length(id_xy)))\n",
    "for i in 1:length(id_xy)\n",
    "    id_y[i] = id_xy[i][1]\n",
    "    id_x[i] = id_xy[i][2]\n",
    "end\n",
    "\n",
    "Nbus = length(id_x)"
   ]
  },
  {
   "cell_type": "code",
   "execution_count": null,
   "metadata": {},
   "outputs": [],
   "source": [
    "# get the list of edges and susceptance vector\n",
    "epsilon = Int64.(zeros(Int64(1E6),2))\n",
    "b = zeros(Int64(1E6))\n",
    "k = 1\n",
    "\n",
    "for i=1:length(id_x)\n",
    "    if(isgrid[id_y[i], id_x[i]+1])\n",
    "        id = findall((id_y .== id_y[i]) .& (id_x .== (id_x[i]+1)))\n",
    "        epsilon[k,:] = [i id]\n",
    "        b[k] = dx^2\n",
    "        k += 1\n",
    "    end\n",
    "    if(isgrid[id_y[i]+1, id_x[i]])\n",
    "        id = findall((id_y .== (id_y[i]+1)) .& (id_x .== id_x[i]))\n",
    "        epsilon[k,:] = [i id]\n",
    "        b[k] = dx^2\n",
    "        k += 1\n",
    "    end\n",
    "end\n",
    "\n",
    "N = k-1\n",
    "epsilon = epsilon[1:N,:]\n",
    "b = b[1:N]\n",
    "\n",
    "B = sparse([epsilon[:,1];epsilon[:,2]],[1:N; 1:N],[-ones(N); ones(N)])\n",
    "Db = sparse(1:N, 1:N, b)\n",
    "L = B * Db * B'"
   ]
  },
  {
   "cell_type": "code",
   "execution_count": null,
   "metadata": {},
   "outputs": [],
   "source": [
    "# If L is small enough for a direct eigendecomposition\n",
    "minimum(diag(L))\n",
    "@time begin\n",
    "    eig = eigen(Array{Float64,2}(L))\n",
    "    V_ref = eig.vectors\n",
    "    D_ref = eig.values;\n",
    "end"
   ]
  },
  {
   "cell_type": "code",
   "execution_count": null,
   "metadata": {},
   "outputs": [],
   "source": [
    "# If not\n",
    "# Iterative algorithm to obtain the Ntrunc lowest eigenvalues and -vectors\n",
    "\n",
    "Ntrunc = 100\n",
    "D = zeros(Ntrunc)\n",
    "V = zeros(Nbus, Ntrunc)\n",
    "\n",
    "@time begin\n",
    "    for i=1:Ntrunc\n",
    "        println(i)\n",
    "        lambda_old = Inf\n",
    "        if(i > 1)\n",
    "            #lambda = D[i-1]\n",
    "            lambda = 0.001\n",
    "        else\n",
    "            lambda = 0.001\n",
    "        end\n",
    "        x = rand(Nbus)\n",
    "        for j = 1:i-1\n",
    "            x = x - dot(x,V[:,j]) * V[:,j]\n",
    "        end\n",
    "\n",
    "        x = x .- mean(x)\n",
    "        x = x ./ norm(x)\n",
    "\n",
    "        iter = 1\n",
    "        while((abs(lambda_old - lambda) / abs(lambda) > 1E-4) & (iter < 1E3))\n",
    "            Lt = L - sparse(1:Nbus, 1:Nbus, lambda*ones(Nbus))\n",
    "            x = minres(Lt, x)\n",
    "            for j = 1:i-1\n",
    "                x = x - dot(x, V[:,j]) * V[:,j]\n",
    "            end\n",
    "            x = x .- mean(x)\n",
    "            x = x ./ norm(x)\n",
    "            lambda_old = lambda\n",
    "            lambda = dot(x, L * x)\n",
    "            iter += 1\n",
    "        end\n",
    "        V[:,i] = x\n",
    "        D[i] = lambda\n",
    "    end\n",
    "end\n",
    "id_sort = sortperm(D)\n",
    "D = D[id_sort]\n",
    "V = V[:,id_sort];"
   ]
  },
  {
   "cell_type": "code",
   "execution_count": null,
   "metadata": {},
   "outputs": [],
   "source": [
    "# plot a mode\n",
    "a = 2\n",
    "mode = zeros(Ny, Nx)\n",
    "mode[id_xy] = V[:,a]\n",
    "do_plot(isgrid, mode)"
   ]
  },
  {
   "cell_type": "code",
   "execution_count": null,
   "metadata": {},
   "outputs": [],
   "source": [
    "# save the results\n",
    "fid = h5open(\"../numerics/eigen_\" * string(dx) * \".h5\",\"w\")\n",
    "write(fid,\"V\", V_ref)\n",
    "write(fid,\"D\", D_ref)\n",
    "write(fid,\"coord\", [xrange[id_x] yrange[id_y]])\n",
    "write(fid,\"Nx\", Nx)\n",
    "write(fid,\"Ny\", Ny)\n",
    "write(fid,\"id_x\", id_x)\n",
    "write(fid,\"id_y\", id_y)\n",
    "write(fid,\"isgrid\", Int64.(isgrid))\n",
    "close(fid)"
   ]
  }
 ],
 "metadata": {
  "kernelspec": {
   "display_name": "Julia 1.6.1",
   "language": "julia",
   "name": "julia-1.6"
  },
  "language_info": {
   "file_extension": ".jl",
   "mimetype": "application/julia",
   "name": "julia",
   "version": "1.6.1"
  }
 },
 "nbformat": 4,
 "nbformat_minor": 4
}

{
 "cells": [
  {
   "cell_type": "code",
   "execution_count": null,
   "metadata": {},
   "outputs": [],
   "source": [
    "import JSON\n",
    "using Plots\n",
    "using Trapz\n",
    "using HDF5\n",
    "include(\"../scripts/tools.jl\")\n",
    "include(\"../scripts/get_grid.jl\")\n",
    "include(\"../scripts/get_params.jl\")\n",
    "include(\"../scripts/disturbances.jl\")"
   ]
  },
  {
   "cell_type": "code",
   "execution_count": null,
   "metadata": {},
   "outputs": [],
   "source": [
    "border = import_border(\"../data/border.json\")\n",
    "dx = 30\n",
    "Nx, Ny, xrange, yrange, isgrid, isborder, n = get_grid(border, Float64(dx))\n",
    "x = repeat(reshape(xrange,1,Nx),Ny,1)\n",
    "y = repeat(reshape(yrange,Ny,1),1,Nx)\n",
    "x_for_bx = repeat(reshape(xrange,1,Nx),Ny,1) .- dx/2\n",
    "y_for_bx = repeat(reshape(yrange,Ny,1),1,Nx)\n",
    "x_for_by = repeat(reshape(xrange,1,Nx),Ny,1)\n",
    "y_for_by = repeat(reshape(yrange,Ny,1),1,Nx) .+ dx/2;"
   ]
  },
  {
   "cell_type": "code",
   "execution_count": null,
   "metadata": {},
   "outputs": [],
   "source": [
    "sigma = 1E2\n",
    "recompute_param = true\n",
    "\n",
    "if(recompute_param)\n",
    "    bx, by, p, m, d = get_params(isborder, sigma,\n",
    "        \"../data/pantagruel.h5\", \"../numerics/grid_params_\" * string(dx) * \".h5\")\n",
    "else\n",
    "    bx, by, p, m, d = get_params(\"../numerics/grid_params_\" * string(dx) * \".h5\")\n",
    "end"
   ]
  },
  {
   "cell_type": "code",
   "execution_count": null,
   "metadata": {},
   "outputs": [],
   "source": []
  },
  {
   "cell_type": "code",
   "execution_count": null,
   "metadata": {},
   "outputs": [],
   "source": []
  }
 ],
 "metadata": {
  "kernelspec": {
   "display_name": "Julia 1.6.2",
   "language": "julia",
   "name": "julia-1.6"
  },
  "language_info": {
   "file_extension": ".jl",
   "mimetype": "application/julia",
   "name": "julia",
   "version": "1.6.2"
  }
 },
 "nbformat": 4,
 "nbformat_minor": 4
}

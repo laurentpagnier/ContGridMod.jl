{
 "cells": [
  {
   "cell_type": "code",
   "execution_count": null,
   "id": "fc82f52a",
   "metadata": {},
   "outputs": [],
   "source": [
    "include(\"../scripts/disc_solvers.jl\");\n",
    "using HDF5\n",
    "using Plots"
   ]
  },
  {
   "cell_type": "code",
   "execution_count": null,
   "id": "05bfde7a",
   "metadata": {},
   "outputs": [],
   "source": [
    "data = h5read(\"../data/disc/pantagruel.h5\",\"/\");\n",
    "coord = data[\"bus_coord\"] \n",
    "idgen = Int64.(vec(data[\"gen\"][:, 1]))"
   ]
  },
  {
   "cell_type": "code",
   "execution_count": null,
   "id": "5fa299fc",
   "metadata": {},
   "outputs": [],
   "source": [
    "scatter(coord[:,1], coord[:,2])\n",
    "#scatter!(coord[idgen,1], coord[idgen,2])\n",
    "scatter!(coord[1:2,1], coord[1:2,2])\n",
    "#scatter!(coord[idgen[1:2],1], coord[idgen[1:2],2])"
   ]
  },
  {
   "cell_type": "code",
   "execution_count": null,
   "id": "4b08b2f2",
   "metadata": {},
   "outputs": [],
   "source": []
  }
 ],
 "metadata": {
  "kernelspec": {
   "display_name": "Julia 1.6.1",
   "language": "julia",
   "name": "julia-1.6"
  },
  "language_info": {
   "file_extension": ".jl",
   "mimetype": "application/julia",
   "name": "julia",
   "version": "1.6.1"
  }
 },
 "nbformat": 4,
 "nbformat_minor": 5
}

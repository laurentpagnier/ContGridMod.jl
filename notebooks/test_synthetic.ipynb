{
 "cells": [
  {
   "cell_type": "code",
   "execution_count": null,
   "id": "a2edf269",
   "metadata": {
    "scrolled": false
   },
   "outputs": [],
   "source": [
    "# load libraries and scripts\n",
    "import JSON\n",
    "using Plots\n",
    "using HDF5\n",
    "using Trapz\n",
    "using Statistics\n",
    "include(\"../scripts/tools.jl\")\n",
    "include(\"../scripts/get_grid.jl\")\n",
    "include(\"../scripts/get_params.jl\")\n",
    "include(\"../scripts/disturbances.jl\")\n",
    "include(\"../scripts/stable.jl\")\n",
    "include(\"../scripts/dynamics.jl\")"
   ]
  },
  {
   "cell_type": "code",
   "execution_count": null,
   "id": "50da9757",
   "metadata": {},
   "outputs": [],
   "source": [
    "#load borders\n",
    "#data, keys = import_json_numerics(\"../data/test/star30.json\")\n",
    "#border = 1000*data[\"border\"];\n",
    "\n",
    "border = import_border(\"../data/borders/border.json\");"
   ]
  },
  {
   "cell_type": "code",
   "execution_count": null,
   "id": "d0284df0",
   "metadata": {},
   "outputs": [],
   "source": [
    "# create the lattice grid\n",
    "dx = 10 \n",
    "Nx, Ny, xrange, yrange, isinside, isborder, n, isgrid = get_grid(border, Float64(dx))\n",
    "\n",
    "#isgrid = isinside .| isborder\n",
    "isout = .!isinside .& .!isborder\n",
    "\n",
    "# define x and y coordinate for plotting\n",
    "#x = repeat(reshape(xrange,1,Nx), Ny, 1)\n",
    "#y = repeat(reshape(yrange,Ny,1), 1, Nx);\n",
    "x = repeat(reshape(1:Nx,1,Nx), Ny, 1)\n",
    "y = repeat(reshape(1:Ny,Ny,1), 1, Nx);\n",
    "xr = 1:Nx\n",
    "yr = 1:Ny\n",
    "#minimum(n[:,3].^2 + n[:,4].^2)"
   ]
  },
  {
   "cell_type": "code",
   "execution_count": null,
   "id": "2e78f72d",
   "metadata": {
    "scrolled": true
   },
   "outputs": [],
   "source": [
    "#plot(border[:,1], border[:,2])\n",
    "#scatter(x[isinside], y[isinside], label=\"inside\", markersize=3)\n",
    "#scatter!(x[isborder], y[isborder], label=\"boundary\", markersize=3)\n",
    "#scatter!(x[isout], y[isout],label=\"ouside\", markersize=3)\n",
    "\n",
    "scatter(2x[isinside], 2*y[isinside], label=\"inside\", markersize=2)\n",
    "scatter!(2*x[isborder], 2*y[isborder], label=\"boundary\", markersize=2)\n",
    "#scatter!(2*x[isout], 2*y[isout],label=\"ouside\", markersize=3)\n",
    "#scatter!(2*x[isgrid], 2*y[isgrid],label=\"ouside\", markersize=2)\n",
    "#scatter!([2*60], [2*28],label=\"ouside\", markersize=4)\n",
    "#quiver!(vec(2*xr[Int64.(n[:,2])]), vec(2*yr[Int64.(n[:,1])]),\n",
    "#    quiver=(8*vec(n[:,4]), 8*vec(n[:,3])), linewidth=0.5)\n",
    "\n",
    "savefig(\"figure_b.pdf\")"
   ]
  },
  {
   "cell_type": "code",
   "execution_count": null,
   "id": "89cc81e9",
   "metadata": {
    "scrolled": true
   },
   "outputs": [],
   "source": [
    "bx = 2 * ones(Ny, Nx)\n",
    "by = 2 * ones(Ny, Nx)\n",
    "\n",
    "# adding\n",
    "#bx .+= local_disturbance(isinside, xrange, yrange, [-200., 250.], 4E6, 500.)\n",
    "#by .+= local_disturbance(isinside, xrange, yrange, [-200., 250.], 4E6, 500.)\n",
    "\n",
    "#no static injection\n",
    "p = zeros(Ny, Nx)\n",
    "\n",
    "# one \"punctual\" generator and one load\n",
    "#p = local_disturbance(isinside, xrange, yrange, [-200.0, -0.0], 9.0, 100.)\n",
    "#p .+= local_disturbance(isinside, xrange, yrange, [200.0, -0.0], -9.0, 100.)\n",
    "#contour(p, fill=true)"
   ]
  },
  {
   "cell_type": "code",
   "execution_count": null,
   "id": "b9caaa85",
   "metadata": {},
   "outputs": [],
   "source": [
    "# compute the stable solution\n",
    "th_ref, ths = compute_stable_sol(isinside, n, bx, by, p, Niter=14000, interval= 1000, tol=1E-9)\n",
    "contour(th_ref, fill=true)"
   ]
  },
  {
   "cell_type": "code",
   "execution_count": null,
   "id": "aae83a94",
   "metadata": {},
   "outputs": [],
   "source": [
    "# evolution for debugging\n",
    "#ctr_movie(Float64.(1:size(ths,3)), ths)\n",
    "m = 1E-5*ones(Ny, Nx)\n",
    "d = 0.6*copy(m)\n",
    "\n",
    "m[.!isgrid] .= 0.0\n",
    "d[.!isgrid] .= 0.0;"
   ]
  },
  {
   "cell_type": "code",
   "execution_count": null,
   "id": "a931c224",
   "metadata": {
    "scrolled": true
   },
   "outputs": [],
   "source": [
    "# perform a dynamical simulation\n",
    "# adding a fault\n",
    "#p = local_disturbance(isinside, xrange, yrange, [750.0, -250.0], -9.0, 100.)\n",
    "p = local_disturbance(isinside, xrange, yrange, [0.0, 0.0], -9.0, 100.)\n",
    "\n",
    "#p = local_disturbance(isinside, xrange, yrange, [100.0, -100.], -9.0, 100.)\n",
    "ts, thetas, omegas = perform_dyn_sim(isinside, n, bx, by, p, m, d, th_ref, interval = 1000, Ndt = Int64(5E4), dt = 0.0001);"
   ]
  },
  {
   "cell_type": "code",
   "execution_count": null,
   "id": "63c63fe1",
   "metadata": {
    "scrolled": true
   },
   "outputs": [],
   "source": [
    "# plotting the frequency at different locations\n",
    "coord = [0 -250; 0.0 0.0; -500 500; 500. 500.; -1500.0 -1000.0; 750.0 -1000]\n",
    "#coord = [-250.0 -0; 0.0 0.0; 250 -250; 50. -480.]\n",
    "time_plot(ts, omegas, coord, tstart = 0.0, tend = 50.0, borders = [border])\n",
    "current()\n",
    "#savefig(\"freq.pdf\")\n"
   ]
  },
  {
   "cell_type": "code",
   "execution_count": null,
   "id": "a95a9b41",
   "metadata": {},
   "outputs": [],
   "source": [
    "# evolution of the frequency\n",
    "ctr_movie(ts, omegas, tstart = 0.0, tend = 50.0)"
   ]
  },
  {
   "cell_type": "code",
   "execution_count": null,
   "id": "926e793e",
   "metadata": {},
   "outputs": [],
   "source": [
    "# post-fault frequency\n",
    "#println(sum(omegas[isinside,end])/sum(isinside))\n",
    "#println(sum(omegas[isgrid,end])/sum(isgrid))\n",
    "println(sum(p)/sum(d))\n",
    "println(sum(p[isgrid])/sum(d[isgrid]))\n",
    "println(sum(p[isinside])/sum(d[isinside]))\n",
    "#trapz((yrange,xrange),p)/trapz((yrange,xrange),d) "
   ]
  },
  {
   "cell_type": "code",
   "execution_count": null,
   "id": "108111a9",
   "metadata": {},
   "outputs": [],
   "source": []
  },
  {
   "cell_type": "code",
   "execution_count": null,
   "id": "c6180680",
   "metadata": {},
   "outputs": [],
   "source": []
  }
 ],
 "metadata": {
  "kernelspec": {
   "display_name": "Julia 1.6.1",
   "language": "julia",
   "name": "julia-1.6"
  },
  "language_info": {
   "file_extension": ".jl",
   "mimetype": "application/julia",
   "name": "julia",
   "version": "1.6.1"
  }
 },
 "nbformat": 4,
 "nbformat_minor": 5
}

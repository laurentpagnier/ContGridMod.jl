{
 "cells": [
  {
   "cell_type": "code",
   "execution_count": null,
   "id": "a2edf269",
   "metadata": {},
   "outputs": [],
   "source": [
    "# load libraries and scripts\n",
    "import JSON\n",
    "using Plots\n",
    "using HDF5\n",
    "using Trapz\n",
    "using Statistics\n",
    "include(\"../scripts/tools.jl\")\n",
    "include(\"../scripts/get_grid.jl\")\n",
    "include(\"../scripts/get_params.jl\")\n",
    "include(\"../scripts/disturbances.jl\")\n",
    "include(\"../scripts/stable.jl\")\n",
    "include(\"../scripts/dynamics.jl\")"
   ]
  },
  {
   "cell_type": "code",
   "execution_count": null,
   "id": "d0284df0",
   "metadata": {},
   "outputs": [],
   "source": [
    "#load borders\n",
    "border = import_border(\"../data/border.json\")\n",
    "border = border \n",
    "# create the lattice grid\n",
    "dx = 20 \n",
    "Nx, Ny, xrange, yrange, isinside, isborder, n = get_grid(border, Float64(dx))\n",
    "isgrid = isinside .| isborder\n",
    "# define x and y coordinate for plotting\n",
    "#x = repeat(reshape(xrange,1,Nx), Ny, 1)\n",
    "#y = repeat(reshape(yrange,Ny,1), 1, Nx);\n",
    "x = repeat(reshape(1:Nx,1,Nx), Ny, 1)\n",
    "y = repeat(reshape(1:Ny,Ny,1), 1, Nx);"
   ]
  },
  {
   "cell_type": "code",
   "execution_count": null,
   "id": "2e78f72d",
   "metadata": {},
   "outputs": [],
   "source": [
    "#plot(border[:,1], border[:,2])\n",
    "#scatter(x[isinside], y[isinside])"
   ]
  },
  {
   "cell_type": "code",
   "execution_count": null,
   "id": "89cc81e9",
   "metadata": {},
   "outputs": [],
   "source": [
    "bx = 2 * ones(Ny, Nx)\n",
    "by = 2 * ones(Ny, Nx)\n",
    "\n",
    "# adding\n",
    "#bx .+= local_disturbance(isinside, xrange, yrange, [-200., 250.], 4E6, 500.)\n",
    "#by .+= local_disturbance(isinside, xrange, yrange, [-200., 250.], 4E6, 500.)\n",
    "\n",
    "#no static injection\n",
    "p = zeros(Ny, Nx)\n",
    "\n",
    "# one \"punctual\" generator and one load\n",
    "#p = local_disturbance(isinside, xrange, yrange, [-1500.0, -750], 9.0, 100.)\n",
    "#p .+= local_disturbance(isinside, xrange, yrange, [750.0, -250], -9.0, 100.)\n",
    "contour(bx, fill=true)"
   ]
  },
  {
   "cell_type": "code",
   "execution_count": null,
   "id": "b9caaa85",
   "metadata": {},
   "outputs": [],
   "source": [
    "# compute the stable solution\n",
    "th_ref, ths = compute_stable_sol(isinside, n, bx, by, p, Niter=14000, interval= 1000, tol=1E-9)\n",
    "contour(th_ref, fill=true)"
   ]
  },
  {
   "cell_type": "code",
   "execution_count": null,
   "id": "aae83a94",
   "metadata": {},
   "outputs": [],
   "source": [
    "# evolution for debugging\n",
    "#ctr_movie(Float64.(1:size(ths,3)), ths)\n"
   ]
  },
  {
   "cell_type": "code",
   "execution_count": null,
   "id": "a931c224",
   "metadata": {},
   "outputs": [],
   "source": [
    "# perform a dynamical simulation\n",
    "m = 1E-5*ones(Ny, Nx)\n",
    "d = 0.6*copy(m)\n",
    "\n",
    "m[.!isgrid] .= 0.0\n",
    "d[.!isgrid] .= 0.0\n",
    "\n",
    "# adding a fault\n",
    "p .+= local_disturbance(isinside, xrange, yrange, [750.0, -250], -9.0, 100.)\n",
    "ts, thetas, omegas = perform_dyn_sim(isinside, n, bx, by, p, m, d, th_ref, interval = 1000, Ndt = Int64(5e5), dt = 0.0001);"
   ]
  },
  {
   "cell_type": "code",
   "execution_count": null,
   "id": "63c63fe1",
   "metadata": {},
   "outputs": [],
   "source": [
    "# plotting the frequency a different locations\n",
    "coord = [-1500.0 -750; 0.0 0.0; 750 -500; 50. -1050.]\n",
    "time_plot(ts, omegas, coord, tstart = 0.0, tend=50.0)\n",
    "current()"
   ]
  },
  {
   "cell_type": "code",
   "execution_count": null,
   "id": "a95a9b41",
   "metadata": {},
   "outputs": [],
   "source": [
    "# evolution of the frequency\n",
    "ctr_movie(ts, thetas, tstart = 0.0, tend=50.0)\n",
    "\n",
    "#trapz((yrange,xrange),p)/trapz((yrange,xrange),d) "
   ]
  },
  {
   "cell_type": "code",
   "execution_count": null,
   "id": "9e9ed778",
   "metadata": {},
   "outputs": [],
   "source": [
    "heatmap(xrange, yrange, abs.(thetas[:,:,3]-th_ref))"
   ]
  },
  {
   "cell_type": "code",
   "execution_count": null,
   "id": "9f93372b",
   "metadata": {},
   "outputs": [],
   "source": [
    "maximum(abs.(thetas[:,:,100]-th_ref))"
   ]
  },
  {
   "cell_type": "code",
   "execution_count": null,
   "id": "d7735136",
   "metadata": {},
   "outputs": [],
   "source": [
    "contour(1000*d,fill=true)"
   ]
  },
  {
   "cell_type": "code",
   "execution_count": null,
   "id": "ae99e2c6",
   "metadata": {},
   "outputs": [],
   "source": []
  },
  {
   "cell_type": "code",
   "execution_count": null,
   "id": "e0d8af05",
   "metadata": {},
   "outputs": [],
   "source": []
  },
  {
   "cell_type": "code",
   "execution_count": null,
   "id": "ae805c5e",
   "metadata": {},
   "outputs": [],
   "source": []
  }
 ],
 "metadata": {
  "kernelspec": {
   "display_name": "Julia 1.6.2",
   "language": "julia",
   "name": "julia-1.6"
  },
  "language_info": {
   "file_extension": ".jl",
   "mimetype": "application/julia",
   "name": "julia",
   "version": "1.6.2"
  }
 },
 "nbformat": 4,
 "nbformat_minor": 5
}

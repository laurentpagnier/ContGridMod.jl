{
 "cells": [
  {
   "cell_type": "code",
   "execution_count": null,
   "id": "b2b10492",
   "metadata": {},
   "outputs": [],
   "source": [
    "# load libraries and scripts\n",
    "using GLM\n",
    "using DataFrames\n",
    "using Statistics\n",
    "using Plots.PlotMeasures\n",
    "\n",
    "include(\"../scripts/tools.jl\")\n",
    "include(\"../scripts/get_grid.jl\")\n",
    "include(\"../scripts/get_params.jl\")\n",
    "include(\"../scripts/stable.jl\")\n",
    "include(\"../scripts/dynamics.jl\")\n",
    "include(\"../scripts/disturbances.jl\")\n",
    "include(\"../scripts/plotting_julian.jl\")\n",
    "include(\"../scripts/ps_analysis.jl\");"
   ]
  },
  {
   "cell_type": "code",
   "execution_count": null,
   "id": "02237e51",
   "metadata": {
    "scrolled": true
   },
   "outputs": [],
   "source": [
    "#load borders\n",
    "border, scale_factor = import_border(\"../data/borders/border.json\")\n",
    "\n",
    "dx = 0.005\n",
    "grid = get_grid(border, dx);"
   ]
  },
  {
   "cell_type": "code",
   "execution_count": null,
   "id": "08689078",
   "metadata": {},
   "outputs": [],
   "source": [
    "#scatter(grid.coord[grid.isgrid,2],grid.coord[grid.isgrid,1])\n",
    "#scatter!(grid.coord[grid.isborder,2],grid.coord[grid.isborder,1])"
   ]
  },
  {
   "cell_type": "code",
   "execution_count": null,
   "id": "5b6475a0-fad7-4127-abf4-fdf0f08e7d30",
   "metadata": {
    "scrolled": true,
    "tags": []
   },
   "outputs": [],
   "source": [
    "## Sweep paramters and calculate r^2 between th_discrete and th_continuos\n",
    "tmin = 1e-7\n",
    "tmax = 1e-5\n",
    "step = 2e-7\n",
    "Nstep = Int64(floor((tmax-tmin)/step)+1)\n",
    "vals = zeros(Nstep, 2)\n",
    "i = 1\n",
    "for j=tmin:step:tmax\n",
    "    println(j)\n",
    "    contmod = get_params(grid, scale_factor, \"../data/disc/pantagruel.h5\", Niter=10,\n",
    "        dmax = 2*dx, patch=1900.0, bmin=56.0, tau=j);\n",
    "    compute_stable_sol!(contmod, interval = 10000, Niter = 60000, tol = 1e-7);\n",
    "    th_disc = get_discrete_values(contmod.coord[contmod.isgrid,:], dm.coord, contmod.th[contmod.isgrid]);\n",
    "    # df = DataFrame(A=dm.th, B=th_disc)\n",
    "    # lin = lm(@formula(A  ~ B), df)\n",
    "    # println(coef(lin))\n",
    "    # println(r2(lin))\n",
    "    vals[i,1] = j\n",
    "    vals[i,2] = 1 - sum((dm.th .- th_disc).^2)/sum((th_disc .- mean(th_disc)).^2)\n",
    "    i += 1\n",
    "end"
   ]
  },
  {
   "cell_type": "code",
   "execution_count": null,
   "id": "95f9ba87-2e2c-429b-9912-97081468520e",
   "metadata": {
    "scrolled": true,
    "tags": []
   },
   "outputs": [],
   "source": [
    "## Sweep paramters and calculate r^2 between th_discrete and th_continuos\n",
    "tmin = 0.0\n",
    "tmax = 100.0\n",
    "step = 2.0\n",
    "Nstep = Int64(floor((tmax-tmin)/step)+1)\n",
    "vals = zeros(Nstep, 2)\n",
    "i = 1\n",
    "for j=tmin:step:tmax\n",
    "    println(j)\n",
    "    contmod = get_params(grid, scale_factor, \"../data/disc/pantagruel.h5\", Niter=10,\n",
    "        dmax = 2*dx, patch=1900.0, bmin=j, tau=5e-7);\n",
    "    compute_stable_sol!(contmod, interval = 10000, Niter = 120000, tol = 1e-7);\n",
    "    th_disc = get_discrete_values(contmod.coord[contmod.isgrid,:], dm.coord, contmod.th[contmod.isgrid]);\n",
    "    # df = DataFrame(A=dm.th, B=th_disc)\n",
    "    # lin = lm(@formula(B  ~ A), df)\n",
    "    # println(coef(lin))\n",
    "    # println(r2(lin))\n",
    "    vals[i,1] = j\n",
    "    vals[i,2] = 1 - sum((dm.th .- th_disc).^2)/sum((th_disc .- mean(th_disc)).^2)\n",
    "    i += 1\n",
    "end"
   ]
  },
  {
   "cell_type": "code",
   "execution_count": null,
   "id": "a10a3393-7c5f-4d03-8180-075d5ef0d75d",
   "metadata": {
    "scrolled": true,
    "tags": []
   },
   "outputs": [],
   "source": [
    "## Sweep paramters and calculate r^2 between th_discrete and th_continuos\n",
    "tmin = 1800.0\n",
    "tmax = 2200.0\n",
    "step = 20.0\n",
    "Nstep = Int64(floor((tmax-tmin)/step)+1)\n",
    "vals = zeros(Nstep, 2)\n",
    "i = 1\n",
    "for j=tmin:step:tmax\n",
    "    println(j)\n",
    "    contmod = get_params(grid, scale_factor, \"../data/disc/pantagruel.h5\", Niter=10,\n",
    "        dmax = 2*dx, patch=j, bmin=56.0, tau=1e-8);\n",
    "    compute_stable_sol!(contmod, interval = 10000, Niter = 60000, tol = 1e-7);\n",
    "    th_disc = get_discrete_values(contmod.coord[contmod.isgrid,:], dm.coord, contmod.th[contmod.isgrid]);\n",
    "    # df = DataFrame(A=dm.th, B=th_disc)\n",
    "    # lin = lm(@formula(B  ~ A), df)\n",
    "    # println(coef(lin))\n",
    "    # println(r2(lin))\n",
    "    vals[i,1] = j\n",
    "    vals[i,2] = 1 - sum((dm.th .- th_disc).^2)/sum((th_disc .- mean(th_disc)).^2)\n",
    "    i += 1\n",
    "end"
   ]
  },
  {
   "cell_type": "code",
   "execution_count": null,
   "id": "25cfeec3-a01b-4172-8785-e9d88611da68",
   "metadata": {
    "scrolled": true,
    "tags": []
   },
   "outputs": [],
   "source": [
    "## Sweep paramters and calculate r^2 between th_discrete and th_continuos\n",
    "tmin = 5\n",
    "tmax = 100\n",
    "step = 2\n",
    "Nstep = Int64(floor((tmax-tmin)/step)+1)\n",
    "vals = zeros(Nstep, 2)\n",
    "i = 1\n",
    "for j=tmin:step:tmax\n",
    "    println(j)\n",
    "    contmod = get_params(grid, scale_factor, \"../data/disc/pantagruel.h5\", Niter=j,\n",
    "        dmax = 2*dx, patch=1900.0, bmin=56.0, tau=5e-7);\n",
    "    compute_stable_sol!(contmod, interval = 10000, Niter = 60000, tol = 1e-7);\n",
    "    th_disc = get_discrete_values(contmod.coord[contmod.isgrid,:], dm.coord, contmod.th[contmod.isgrid]);\n",
    "    # df = DataFrame(A=dm.th, B=th_disc)\n",
    "    # lin = lm(@formula(A  ~ B), df)\n",
    "    # println(coef(lin))\n",
    "    # println(r2(lin))\n",
    "    vals[i,1] = j\n",
    "    vals[i,2] = 1 - sum((dm.th .- th_disc).^2)/sum((th_disc .- mean(th_disc)).^2)\n",
    "    i += 1\n",
    "end"
   ]
  },
  {
   "cell_type": "code",
   "execution_count": null,
   "id": "8c58f591-fc2a-4b84-83c2-971ad74680bd",
   "metadata": {},
   "outputs": [],
   "source": [
    "vals[argmax(vals[:,2])]"
   ]
  },
  {
   "cell_type": "code",
   "execution_count": null,
   "id": "36869ba6-5fc8-452d-b89b-45ded91bcbfe",
   "metadata": {},
   "outputs": [],
   "source": [
    "plot(vals[:,1], vals[:,2])"
   ]
  },
  {
   "cell_type": "code",
   "execution_count": null,
   "id": "10424f3d",
   "metadata": {},
   "outputs": [],
   "source": [
    "# compute or load grid parameters\n",
    "contmod = get_params(grid, scale_factor, \"../data/disc/pantagruel.h5\", Niter=10,\n",
    "    dmax = 2*dx, patch=1900.0, bmin=52.0, tau=5.0e-7);"
   ]
  },
  {
   "cell_type": "code",
   "execution_count": null,
   "id": "7050424e",
   "metadata": {
    "tags": []
   },
   "outputs": [],
   "source": [
    "compute_stable_sol!(contmod, interval = 10000, Niter = 60000, tol = 1e-7);\n",
    "println(maximum(contmod.th) - minimum(contmod.th))\n",
    "hm_plot(contmod, contmod.th, cb_title = \"\\$\\\\theta(x)\\$\", borders=[border])"
   ]
  },
  {
   "cell_type": "code",
   "execution_count": null,
   "id": "7085a7b9-a099-43ab-b75e-754186f05867",
   "metadata": {
    "tags": []
   },
   "outputs": [],
   "source": [
    "th_disc = get_discrete_values(contmod.coord[contmod.isgrid,:], dm.coord, contmod.th[contmod.isgrid]);\n",
    "df = DataFrame(A=dm.th, B=th_disc)\n",
    "lin = lm(@formula(B  ~ A), df)\n",
    "println(coef(lin))\n",
    "println(r2(lin))\n",
    "b=coef(lin)[1]\n",
    "m=coef(lin)[2]\n",
    "scatter(dm.th, th_disc)\n",
    "plot!([minimum(dm.th);maximum(dm.th)],[b+m*minimum(dm.th);-b+m*maximum(dm.th)],color=:red)"
   ]
  },
  {
   "cell_type": "code",
   "execution_count": null,
   "id": "04851231-3daf-4da0-be4b-c1f947aad805",
   "metadata": {},
   "outputs": [],
   "source": [
    "r = 1 - sum((dm.th .- th_disc).^2)/sum((th_disc .- mean(th_disc)).^2)"
   ]
  },
  {
   "cell_type": "code",
   "execution_count": null,
   "id": "492e2f39",
   "metadata": {},
   "outputs": [],
   "source": [
    "dm = load_discrete_model(\"../data/disc/pantagruel.h5\", scale_factor)\n",
    "#th = set_ref_phase!(contmod, vec(dm.coord[1,:]), th_ref = 0.0)\n",
    "th_disc = get_discrete_values(contmod.coord[contmod.isgrid,:], dm.coord, contmod.th[contmod.isgrid]);"
   ]
  },
  {
   "cell_type": "code",
   "execution_count": null,
   "id": "7ab06d94",
   "metadata": {},
   "outputs": [],
   "source": [
    "scatter(dm.th, th_disc)\n",
    "th_min = minimum(dm.th)\n",
    "th_max = maximum(dm.th)\n",
    "plot!([th_min; th_max], [th_min; th_max], xlabel=\"\\$\\\\theta_i^{\\\\rm ref}\\$\",\n",
    "    ylabel=\"\\$\\\\theta_i\\$\",color=:red, lw = 2, legend=false, size=(400,400))\n",
    "# savefig(\"../numerics/theta_ref_vs_cont.pdf\")"
   ]
  },
  {
   "cell_type": "code",
   "execution_count": null,
   "id": "ba81f731",
   "metadata": {},
   "outputs": [],
   "source": [
    "clim = extrema([dm.th; th_disc])\n",
    "p1 = disc_plot(dm.coord, dm.th, borders=[border], clim=clim, c=:viridis, cbar=false, cb_title=\"\\$\\\\theta_i\\$\")\n",
    "p2 = hm_plot(contmod, contmod.th, cbar=false, borders=[border], c=:viridis, clim=clim)\n",
    "p3 = scatter([0],[0],zcolor=[NaN],clim=clim, c=:viridis, xlims=(1,1.1), framestyle=:none, label=\"\",\n",
    "cbar_title=\"\\$\\\\theta\\$\")\n",
    "l = @layout [a b c{0.035w}]\n",
    "p_all = plot(p1, p2,  p3, layout=l, link=:all, title=[\"Discrete\" \"Continuous\" \"\"], size=(1200,400))\n",
    "savefig(\"../numerics/discontth0.pdf\")"
   ]
  },
  {
   "cell_type": "code",
   "execution_count": null,
   "id": "33f91f26-f3c6-4b54-954f-5001ab8fa3cb",
   "metadata": {},
   "outputs": [],
   "source": [
    "p1 = scatter(dm.th, th_disc)\n",
    "th_min = minimum(dm.th)\n",
    "th_max = maximum(dm.th)\n",
    "plot!([th_min; th_max], [th_min; th_max], xlabel=\"\\$\\\\theta_i^{\\\\rm ref}\\$\",\n",
    "    ylabel=\"\\$\\\\theta_i\\$\",color=:red, lw = 2, legend=false, left_margin=5mm, bottom_margin=8mm)\n",
    "p2 = disc_plot(dm.coord, dm.th .- th_disc, borders=[border], c=:viridis, cb_title=\"\\$\\\\theta_{i}^{\\\\rm ref}-\\\\theta_i\\$\")\n",
    "l = @layout [a{0.4w} b]\n",
    "plot(p1, p2, layout=l, size=(1200,400))\n",
    "savefig(\"../numerics/comparison.pdf\")"
   ]
  },
  {
   "cell_type": "code",
   "execution_count": null,
   "id": "68297fb3",
   "metadata": {},
   "outputs": [],
   "source": [
    "add_local_disturbance!(contmod, [741.57038805;-1078.62366301]/scale_factor, -9.0, 0.01, dx);"
   ]
  },
  {
   "cell_type": "code",
   "execution_count": null,
   "id": "ec4556af",
   "metadata": {
    "scrolled": true,
    "tags": []
   },
   "outputs": [],
   "source": [
    "ts, thetas, omegas = perform_dyn_sim(contmod, interval=1,\n",
    "    Ndt=5000, dt=0.01, method=\"crank-nicolson\");"
   ]
  },
  {
   "cell_type": "code",
   "execution_count": null,
   "id": "19013199",
   "metadata": {},
   "outputs": [],
   "source": [
    "#hm_movie(contmod, ts, omegas, tstart = 0.0, tend = 20.0, interval = 1)\n",
    "c = [500 -250; 0.0 0.0; -500 500; 500. 500.; -1500.0 -1000.0; 750.0 -1000; -1000 -400] / scale_factor\n",
    "time_plot(contmod, ts, omegas, c, borders = [border], tstart = 0.0, tend = 25.0)"
   ]
  },
  {
   "cell_type": "code",
   "execution_count": null,
   "id": "2d341842-e973-440b-8577-687de54d10e3",
   "metadata": {},
   "outputs": [],
   "source": []
  }
 ],
 "metadata": {
  "kernelspec": {
   "display_name": "Julia 1.6.3",
   "language": "julia",
   "name": "julia-1.6"
  },
  "language_info": {
   "file_extension": ".jl",
   "mimetype": "application/julia",
   "name": "julia",
   "version": "1.6.3"
  }
 },
 "nbformat": 4,
 "nbformat_minor": 5
}

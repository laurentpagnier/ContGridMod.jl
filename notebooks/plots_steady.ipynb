{
 "cells": [
  {
   "cell_type": "code",
   "execution_count": 6,
   "id": "b18749bb-9403-42e8-be8d-aaf297b49dfb",
   "metadata": {},
   "outputs": [],
   "source": [
    "# load libraries and scripts\n",
    "#using PyPlot\n",
    "using Plots\n",
    "#using PyCall\n",
    "using LaTeXStrings\n",
    "include(\"../scripts/tools.jl\")\n",
    "include(\"../scripts/get_grid.jl\")\n",
    "include(\"../scripts/get_params.jl\")\n",
    "include(\"../scripts/stable.jl\")\n",
    "include(\"../scripts/plotting.jl\")\n",
    "include(\"../scripts/dynamics.jl\")\n",
    "include(\"../scripts/disturbances.jl\")\n",
    "include(\"../scripts/ps_analysis.jl\");"
   ]
  },
  {
   "cell_type": "code",
   "execution_count": 2,
   "id": "825ad5fc-162a-46b4-b088-ff54979f6f6f",
   "metadata": {},
   "outputs": [],
   "source": [
    "# load borders\n",
    "border, scale_factor = import_border(\"../data/borders/border.json\")\n",
    "\n",
    "dx = 0.005\n",
    "mesh = get_grid(border, dx); # renamed to be able to use the grid function for plotting"
   ]
  },
  {
   "cell_type": "code",
   "execution_count": 15,
   "id": "03cfc0e6-4d1a-421c-b19a-6063721d7067",
   "metadata": {},
   "outputs": [
    {
     "name": "stdout",
     "output_type": "stream",
     "text": [
      "  3.530088 seconds (3.69 M allocations: 16.978 GiB, 9.12% gc time, 3.17% compilation time)\n",
      "  3.061791 seconds (4.23 M allocations: 1.248 GiB, 13.32% gc time, 57.16% compilation time)\n"
     ]
    }
   ],
   "source": [
    "# compute or load grid parameters\n",
    "contmod = get_params(mesh, scale_factor, \"../data/disc/pantagruel.h5\", Niter=10,\n",
    "    dmax = 2*dx, patch=1900.0, bmin=52.0, tau=5.0e-7);"
   ]
  },
  {
   "cell_type": "code",
   "execution_count": 16,
   "id": "4d91cd85-0219-4b2d-8de9-87850a8b1a36",
   "metadata": {},
   "outputs": [
    {
     "name": "stdout",
     "output_type": "stream",
     "text": [
      "[10000.0 0.00010416100217836011]\n",
      "[20000.0 3.791699982347296e-5]\n",
      "[30000.0 1.9966827604189774e-5]\n",
      "[40000.0 1.6065244865082207e-5]\n",
      "[50000.0 1.3633178183591887e-5]\n",
      "[60000.0 1.2124254233136789e-5]\n",
      "[70000.0 1.1183033745254534e-5]\n",
      "[80000.0 1.0592072499981953e-5]\n",
      "[90000.0 1.0219012503975833e-5]\n",
      "[100000.0 9.982583263568046e-6]\n",
      "[110000.0 9.832346266280823e-6]\n",
      "[120000.0 9.736714051689077e-6]\n",
      "[130000.0 9.675772984385489e-6]\n",
      "[140000.0 9.636911797117342e-6]\n",
      "[150000.0 9.612119969193422e-6]\n",
      "[160000.0 9.596299616165815e-6]\n",
      "[170000.0 9.586202564415558e-6]\n",
      "[180000.0 9.579757661248856e-6]\n",
      "[190000.0 9.575643655890254e-6]\n",
      "[200000.0 9.573017446751209e-6]\n",
      "[210000.0 9.571340945480067e-6]\n",
      "[220000.0 9.5702706978118e-6]\n",
      "[230000.0 9.569587464342e-6]\n",
      "[240000.0 9.569151294241962e-6]\n",
      "[250000.0 9.568872847753873e-6]\n",
      " 28.570366 seconds (3.67 M allocations: 81.760 GiB, 7.41% gc time, 1.55% compilation time)\n"
     ]
    }
   ],
   "source": [
    "# get stable solution\n",
    "compute_stable_sol!(contmod, interval = 10000, Niter = 250000, tol = 1e-7);\n",
    "dm = load_discrete_model(\"../data/disc/pantagruel.h5\", scale_factor);\n",
    "th_disc = get_discrete_values(contmod.coord[contmod.isgrid,:], dm.coord, contmod.th[contmod.isgrid]);"
   ]
  },
  {
   "cell_type": "code",
   "execution_count": 30,
   "id": "a8939c8f-75fd-477b-a3d3-2f980e2db9cb",
   "metadata": {
    "tags": []
   },
   "outputs": [],
   "source": [
    "dm = load_discrete_model(\"../data/disc/pantagruel.h5\", scale_factor);\n",
    "\n",
    "vmin = min(minimum(dm.th), minimum(contmod.th))\n",
    "vmax = max(maximum(dm.th), maximum(contmod.th))\n",
    "borders = [border]\n",
    "coord = dm.coord\n",
    "\n",
    "\n",
    "temp = copy(dm.th)\n",
    "temp .-= vmin\n",
    "temp ./= (vmax - vmin)\n",
    "\n",
    "    C(g::ColorGradient) = RGB[g[z] for z=temp]\n",
    "    g = :inferno\n",
    "    plot() # here to \"clear\" the figure\n",
    "    for k in 1:length(borders)\n",
    "        plot!(borders[k][:, 1], borders[k][:, 2], color=:black, linewidth=3.0)\n",
    "    end\n",
    "    scatter!(coord[:,2], coord[:,1], color=(cgrad(g) |> C), legend=false,\n",
    "        markerstrokecolor=(cgrad(g) |> C), grid=false,\n",
    "        showaxis=:hide, xaxis=nothing, yaxis=nothing, markersize=6.0,\n",
    "        aspect_ratio=:equal)\n",
    "savefig(\"../figures/steady1.svg\")"
   ]
  },
  {
   "cell_type": "code",
   "execution_count": 31,
   "id": "658dfeeb",
   "metadata": {},
   "outputs": [],
   "source": [
    "    \n",
    "temp = copy(contmod.th)\n",
    "temp[.!contmod.isinside] .= NaN\n",
    "c = :inferno\n",
    "heatmap(contmod.yrange, contmod.xrange,\n",
    "    reshape(temp, contmod.Ny, contmod.Nx),\n",
    "    c = c, clim = (vmin, vmax))\n",
    "    for k in 1:length(borders)\n",
    "        p2 = plot!(borders[k][:, 1], borders[k][:, 2], color=:black,linewidth=3.0)\n",
    "    end\n",
    "    plot!(legend=false, grid=false, showaxis=:hide, xaxis=nothing,\n",
    "    yaxis=nothing, aspect_ratio=:equal,colorbar=false)\n",
    "\n",
    "savefig(\"../figures/steady2.svg\")"
   ]
  },
  {
   "cell_type": "code",
   "execution_count": 33,
   "id": "8b484d48",
   "metadata": {},
   "outputs": [],
   "source": [
    "scatter(dm.th, th_disc)\n",
    "th_min = minimum(dm.th)\n",
    "th_max = maximum(dm.th)\n",
    "plot!([th_min; th_max], [th_min; th_max],color=:red, lw = 2, legend=false,\n",
    "    size=(400,400), grid=false, aspect_ratio=:equal, ymirror=true)\n",
    "savefig(\"../figures/steady3.svg\")\n"
   ]
  },
  {
   "cell_type": "code",
   "execution_count": null,
   "id": "f6818de0",
   "metadata": {},
   "outputs": [],
   "source": []
  }
 ],
 "metadata": {
  "kernelspec": {
   "display_name": "Julia 1.6.2",
   "language": "julia",
   "name": "julia-1.6"
  },
  "language_info": {
   "file_extension": ".jl",
   "mimetype": "application/julia",
   "name": "julia",
   "version": "1.6.2"
  }
 },
 "nbformat": 4,
 "nbformat_minor": 5
}

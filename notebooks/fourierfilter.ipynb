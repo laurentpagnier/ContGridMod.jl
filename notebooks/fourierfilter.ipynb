{
 "cells": [
  {
   "cell_type": "code",
   "execution_count": 1,
   "id": "40997940-0e03-44dd-8ef1-ce0c5f8a584f",
   "metadata": {},
   "outputs": [
    {
     "ename": "LoadError",
     "evalue": "InitError: PyError (PyImport_ImportModule\n\nThe Python package matplotlib could not be imported by pyimport. Usually this means\nthat you did not install matplotlib in the Python version being used by PyCall.\n\nPyCall is currently configured to use the Python version at:\n\n/usr/bin/python3\n\nand you should use whatever mechanism you usually use (apt-get, pip, conda,\netcetera) to install the Python package containing the matplotlib module.\n\nOne alternative is to re-configure PyCall to use a different Python\nversion on your system: set ENV[\"PYTHON\"] to the path/name of the python\nexecutable you want to use, run Pkg.build(\"PyCall\"), and re-launch Julia.\n\nAnother alternative is to configure PyCall to use a Julia-specific Python\ndistribution via the Conda.jl package (which installs a private Anaconda\nPython distribution), which has the advantage that packages can be installed\nand kept up-to-date via Julia.  As explained in the PyCall documentation,\nset ENV[\"PYTHON\"]=\"\", run Pkg.build(\"PyCall\"), and re-launch Julia. Then,\nTo install the matplotlib module, you can use `pyimport_conda(\"matplotlib\", PKG)`,\nwhere PKG is the Anaconda package that contains the module matplotlib,\nor alternatively you can use the Conda package directly (via\n`using Conda` followed by `Conda.add` etcetera).\n\n) <class 'ModuleNotFoundError'>\nModuleNotFoundError(\"No module named 'matplotlib'\")\n\nduring initialization of module PyPlot",
     "output_type": "error",
     "traceback": [
      "InitError: PyError (PyImport_ImportModule\n\nThe Python package matplotlib could not be imported by pyimport. Usually this means\nthat you did not install matplotlib in the Python version being used by PyCall.\n\nPyCall is currently configured to use the Python version at:\n\n/usr/bin/python3\n\nand you should use whatever mechanism you usually use (apt-get, pip, conda,\netcetera) to install the Python package containing the matplotlib module.\n\nOne alternative is to re-configure PyCall to use a different Python\nversion on your system: set ENV[\"PYTHON\"] to the path/name of the python\nexecutable you want to use, run Pkg.build(\"PyCall\"), and re-launch Julia.\n\nAnother alternative is to configure PyCall to use a Julia-specific Python\ndistribution via the Conda.jl package (which installs a private Anaconda\nPython distribution), which has the advantage that packages can be installed\nand kept up-to-date via Julia.  As explained in the PyCall documentation,\nset ENV[\"PYTHON\"]=\"\", run Pkg.build(\"PyCall\"), and re-launch Julia. Then,\nTo install the matplotlib module, you can use `pyimport_conda(\"matplotlib\", PKG)`,\nwhere PKG is the Anaconda package that contains the module matplotlib,\nor alternatively you can use the Conda package directly (via\n`using Conda` followed by `Conda.add` etcetera).\n\n) <class 'ModuleNotFoundError'>\nModuleNotFoundError(\"No module named 'matplotlib'\")\n\nduring initialization of module PyPlot",
      "",
      "Stacktrace:",
      "  [1] pyimport(name::String)",
      "    @ PyCall ~/.julia/packages/PyCall/BD546/src/PyCall.jl:550",
      "  [2] pyimport_conda(modulename::String, condapkg::String, channel::String)",
      "    @ PyCall ~/.julia/packages/PyCall/BD546/src/PyCall.jl:708",
      "  [3] pyimport_conda",
      "    @ ~/.julia/packages/PyCall/BD546/src/PyCall.jl:707 [inlined]",
      "  [4] __init__()",
      "    @ PyPlot ~/.julia/packages/PyPlot/XaELc/src/init.jl:185",
      "  [5] _include_from_serialized(path::String, depmods::Vector{Any})",
      "    @ Base ./loading.jl:696",
      "  [6] _require_search_from_serialized(pkg::Base.PkgId, sourcepath::String)",
      "    @ Base ./loading.jl:782",
      "  [7] _require(pkg::Base.PkgId)",
      "    @ Base ./loading.jl:1020",
      "  [8] require(uuidkey::Base.PkgId)",
      "    @ Base ./loading.jl:936",
      "  [9] require(into::Module, mod::Symbol)",
      "    @ Base ./loading.jl:923",
      " [10] eval",
      "    @ ./boot.jl:360 [inlined]",
      " [11] include_string(mapexpr::typeof(REPL.softscope), mod::Module, code::String, filename::String)",
      "    @ Base ./loading.jl:1116"
     ]
    }
   ],
   "source": [
    "# load libraries and scripts\n",
    "using PyPlot\n",
    "using PyCall\n",
    "using LaTeXStrings\n",
    "using FFTW\n",
    "include(\"../scripts/tools.jl\")\n",
    "include(\"../scripts/get_grid.jl\")\n",
    "include(\"../scripts/get_params.jl\")\n",
    "include(\"../scripts/stable.jl\")\n",
    "include(\"../scripts/dynamics.jl\")\n",
    "include(\"../scripts/disturbances.jl\")\n",
    "include(\"../scripts/ps_analysis.jl\");"
   ]
  },
  {
   "cell_type": "code",
   "execution_count": 2,
   "id": "dcbb3a8c-3a0f-452f-bbe2-0ff77d7e4f88",
   "metadata": {},
   "outputs": [
    {
     "ename": "LoadError",
     "evalue": "UndefVarError: import_border not defined",
     "output_type": "error",
     "traceback": [
      "UndefVarError: import_border not defined",
      "",
      "Stacktrace:",
      " [1] top-level scope",
      "   @ In[2]:2",
      " [2] eval",
      "   @ ./boot.jl:360 [inlined]",
      " [3] include_string(mapexpr::typeof(REPL.softscope), mod::Module, code::String, filename::String)",
      "   @ Base ./loading.jl:1116"
     ]
    }
   ],
   "source": [
    "# load borders\n",
    "border, scale_factor = import_border(\"../data/borders/border.json\")\n",
    "\n",
    "dx = 0.005\n",
    "mesh = get_grid(border, dx); # renamed to be able to use the grid function for plotting"
   ]
  },
  {
   "cell_type": "code",
   "execution_count": 3,
   "id": "fa8abfc4-b3b7-456a-b9a7-7263508c9b8c",
   "metadata": {},
   "outputs": [
    {
     "ename": "LoadError",
     "evalue": "UndefVarError: dx not defined",
     "output_type": "error",
     "traceback": [
      "UndefVarError: dx not defined",
      "",
      "Stacktrace:",
      " [1] top-level scope",
      "   @ In[3]:2",
      " [2] eval",
      "   @ ./boot.jl:360 [inlined]",
      " [3] include_string(mapexpr::typeof(REPL.softscope), mod::Module, code::String, filename::String)",
      "   @ Base ./loading.jl:1116"
     ]
    }
   ],
   "source": [
    "# compute or load grid parameters\n",
    "contmod = get_params(mesh, scale_factor, \"../data/disc/pantagruel.h5\", Niter=10,\n",
    "    dmax = 2*dx, patch=1900.0, bmin=52.0, tau=5.0e-6);"
   ]
  },
  {
   "cell_type": "code",
   "execution_count": 4,
   "id": "a6909341-fbf2-441e-9930-d92100de9c98",
   "metadata": {},
   "outputs": [
    {
     "ename": "LoadError",
     "evalue": "UndefVarError: compute_stable_sol! not defined",
     "output_type": "error",
     "traceback": [
      "UndefVarError: compute_stable_sol! not defined",
      "",
      "Stacktrace:",
      " [1] top-level scope",
      "   @ In[4]:2",
      " [2] eval",
      "   @ ./boot.jl:360 [inlined]",
      " [3] include_string(mapexpr::typeof(REPL.softscope), mod::Module, code::String, filename::String)",
      "   @ Base ./loading.jl:1116"
     ]
    }
   ],
   "source": [
    "# get stable solution\n",
    "compute_stable_sol!(contmod, interval = 10000, Niter = 250000, tol = 1e-7);\n",
    "dm = load_discrete_model(\"../data/disc/pantagruel.h5\", scale_factor);\n",
    "th_disc = get_discrete_values(contmod.coord[contmod.isgrid,:], dm.coord, contmod.th[contmod.isgrid]);"
   ]
  },
  {
   "cell_type": "code",
   "execution_count": 5,
   "id": "2b4719b3-37a2-41d0-8440-ba5e7b768c32",
   "metadata": {},
   "outputs": [
    {
     "ename": "LoadError",
     "evalue": "UndefVarError: dx not defined",
     "output_type": "error",
     "traceback": [
      "UndefVarError: dx not defined",
      "",
      "Stacktrace:",
      " [1] top-level scope",
      "   @ In[5]:2",
      " [2] eval",
      "   @ ./boot.jl:360 [inlined]",
      " [3] include_string(mapexpr::typeof(REPL.softscope), mod::Module, code::String, filename::String)",
      "   @ Base ./loading.jl:1116"
     ]
    }
   ],
   "source": [
    "# Second model for fourier filtering\n",
    "contmod2 = get_params(mesh, scale_factor, \"../data/disc/pantagruel.h5\", Niter=10,\n",
    "    dmax = 2*dx, patch=1900.0, bmin=52.0, tau=5.0e-7);"
   ]
  },
  {
   "cell_type": "code",
   "execution_count": 6,
   "id": "a1d16d7d-108d-45d9-9e41-60db73a08e05",
   "metadata": {},
   "outputs": [
    {
     "ename": "LoadError",
     "evalue": "UndefVarError: contmod2 not defined",
     "output_type": "error",
     "traceback": [
      "UndefVarError: contmod2 not defined",
      "",
      "Stacktrace:",
      " [1] top-level scope",
      "   @ In[6]:2",
      " [2] eval",
      "   @ ./boot.jl:360 [inlined]",
      " [3] include_string(mapexpr::typeof(REPL.softscope), mod::Module, code::String, filename::String)",
      "   @ Base ./loading.jl:1116"
     ]
    }
   ],
   "source": [
    "# Get frequencies\n",
    "freq = zeros(contmod2.Ny, contmod2.Nx)\n",
    "freqx = fftfreq(contmod2.Nx, dx)\n",
    "freqy = fftfreq(contmod2.Ny, dx)\n",
    "for i=1:contmod2.Ny\n",
    "    for j=1:contmod2.Nx\n",
    "        freq[i, j] = sqrt(freqy[i]^2 + freqx[j]^2)\n",
    "    end\n",
    "end"
   ]
  },
  {
   "cell_type": "code",
   "execution_count": 7,
   "id": "6b60a07f-36a2-4e11-83d7-3efbf0a2e909",
   "metadata": {},
   "outputs": [
    {
     "ename": "LoadError",
     "evalue": "UndefVarError: freq not defined",
     "output_type": "error",
     "traceback": [
      "UndefVarError: freq not defined",
      "",
      "Stacktrace:",
      " [1] top-level scope",
      "   @ In[7]:2",
      " [2] eval",
      "   @ ./boot.jl:360 [inlined]",
      " [3] include_string(mapexpr::typeof(REPL.softscope), mod::Module, code::String, filename::String)",
      "   @ Base ./loading.jl:1116"
     ]
    }
   ],
   "source": [
    "# Create filter mask\n",
    "filter = freq .<= .2 * maximum(freq);"
   ]
  },
  {
   "cell_type": "code",
   "execution_count": 8,
   "id": "6b9e04ec-74f0-4974-9391-82322113aa6d",
   "metadata": {},
   "outputs": [
    {
     "ename": "LoadError",
     "evalue": "UndefVarError: contmod2 not defined",
     "output_type": "error",
     "traceback": [
      "UndefVarError: contmod2 not defined",
      "",
      "Stacktrace:",
      " [1] top-level scope",
      "   @ In[8]:2",
      " [2] eval",
      "   @ ./boot.jl:360 [inlined]",
      " [3] include_string(mapexpr::typeof(REPL.softscope), mod::Module, code::String, filename::String)",
      "   @ Base ./loading.jl:1116"
     ]
    }
   ],
   "source": [
    "# Filter m\n",
    "mfft = fft(reshape(contmod2.m, contmod2.Ny, contmod2.Nx))\n",
    "mfft[.!filter] .= 0.0\n",
    "mifft = real.(ifft(mfft))\n",
    "mifft[.!contmod2.isgrid] .= 0.0\n",
    "contmod2.m = vec(mifft);"
   ]
  },
  {
   "cell_type": "code",
   "execution_count": 9,
   "id": "a7cf117c-6e66-4348-a498-2773f6482554",
   "metadata": {},
   "outputs": [
    {
     "ename": "LoadError",
     "evalue": "UndefVarError: contmod2 not defined",
     "output_type": "error",
     "traceback": [
      "UndefVarError: contmod2 not defined",
      "",
      "Stacktrace:",
      " [1] top-level scope",
      "   @ In[9]:2",
      " [2] eval",
      "   @ ./boot.jl:360 [inlined]",
      " [3] include_string(mapexpr::typeof(REPL.softscope), mod::Module, code::String, filename::String)",
      "   @ Base ./loading.jl:1116"
     ]
    }
   ],
   "source": [
    "# Filter d\n",
    "dfft = fft(reshape(contmod2.d, contmod2.Ny, contmod2.Nx))\n",
    "dfft[.!filter] .= 0.0\n",
    "difft = real.(ifft(dfft))\n",
    "difft[.!contmod2.isgrid] .= 0.0\n",
    "contmod2.d = vec(difft);"
   ]
  },
  {
   "cell_type": "code",
   "execution_count": 10,
   "id": "eebf083c-5ee1-49a7-b5fa-96469254974c",
   "metadata": {},
   "outputs": [
    {
     "ename": "LoadError",
     "evalue": "UndefVarError: contmod2 not defined",
     "output_type": "error",
     "traceback": [
      "UndefVarError: contmod2 not defined",
      "",
      "Stacktrace:",
      " [1] top-level scope",
      "   @ In[10]:2",
      " [2] eval",
      "   @ ./boot.jl:360 [inlined]",
      " [3] include_string(mapexpr::typeof(REPL.softscope), mod::Module, code::String, filename::String)",
      "   @ Base ./loading.jl:1116"
     ]
    }
   ],
   "source": [
    "# Filter bx\n",
    "bxfft = fft(reshape(contmod2.bx, contmod2.Ny, contmod2.Nx))\n",
    "bxfft[.!filter] .= 0.0\n",
    "bxifft = real.(ifft(bxfft))\n",
    "bxifft[.!contmod2.isgrid] .= 0.0\n",
    "contmod2.bx = vec(bxifft);"
   ]
  },
  {
   "cell_type": "code",
   "execution_count": 11,
   "id": "c840a9b4-cf83-4e96-8ae0-2548730002bf",
   "metadata": {},
   "outputs": [
    {
     "ename": "LoadError",
     "evalue": "UndefVarError: contmod2 not defined",
     "output_type": "error",
     "traceback": [
      "UndefVarError: contmod2 not defined",
      "",
      "Stacktrace:",
      " [1] top-level scope",
      "   @ In[11]:2",
      " [2] eval",
      "   @ ./boot.jl:360 [inlined]",
      " [3] include_string(mapexpr::typeof(REPL.softscope), mod::Module, code::String, filename::String)",
      "   @ Base ./loading.jl:1116"
     ]
    }
   ],
   "source": [
    "# Filter by\n",
    "byfft = fft(reshape(contmod2.by, contmod2.Ny, contmod2.Nx))\n",
    "byfft[.!filter] .= 0.0\n",
    "byifft = real.(ifft(byfft))\n",
    "byifft[.!contmod2.isgrid] .= 0.0\n",
    "contmod2.by = vec(byifft);"
   ]
  },
  {
   "cell_type": "code",
   "execution_count": 12,
   "id": "61055cdf-1a06-44a7-962f-fce206c33b62",
   "metadata": {},
   "outputs": [
    {
     "ename": "LoadError",
     "evalue": "UndefVarError: contmod2 not defined",
     "output_type": "error",
     "traceback": [
      "UndefVarError: contmod2 not defined",
      "",
      "Stacktrace:",
      " [1] top-level scope",
      "   @ In[12]:2",
      " [2] eval",
      "   @ ./boot.jl:360 [inlined]",
      " [3] include_string(mapexpr::typeof(REPL.softscope), mod::Module, code::String, filename::String)",
      "   @ Base ./loading.jl:1116"
     ]
    }
   ],
   "source": [
    "# Filter p\n",
    "ptemp = zeros(contmod2.Ny * contmod2.Nx)\n",
    "ptemp[contmod2.isgrid] = contmod2.p\n",
    "pfft = fft(reshape(ptemp, contmod2.Ny, contmod2.Nx))\n",
    "pfft[.!filter] .= 0.0\n",
    "pifft = real.(ifft(pfft))\n",
    "pifft[.!contmod2.isgrid] .= 0.0\n",
    "ptemp2 = vec(pifft)[contmod2.isgrid]\n",
    "ptemp2 .-= sum(ptemp2) / sum(contmod2.isgrid)\n",
    "contmod2.p = ptemp2;"
   ]
  },
  {
   "cell_type": "code",
   "execution_count": 13,
   "id": "4e68c0cf-a34c-4ab8-934f-a99f7743c3ba",
   "metadata": {},
   "outputs": [
    {
     "ename": "LoadError",
     "evalue": "UndefVarError: compute_stable_sol! not defined",
     "output_type": "error",
     "traceback": [
      "UndefVarError: compute_stable_sol! not defined",
      "",
      "Stacktrace:",
      " [1] top-level scope",
      "   @ In[13]:2",
      " [2] eval",
      "   @ ./boot.jl:360 [inlined]",
      " [3] include_string(mapexpr::typeof(REPL.softscope), mod::Module, code::String, filename::String)",
      "   @ Base ./loading.jl:1116"
     ]
    }
   ],
   "source": [
    "# get stable solution for filtered model\n",
    "compute_stable_sol!(contmod2, interval = 10000, Niter = 250000, tol = 1e-7);"
   ]
  },
  {
   "cell_type": "code",
   "execution_count": 14,
   "id": "3377cbfc-fd95-4495-beb1-72078c06864d",
   "metadata": {},
   "outputs": [
    {
     "ename": "LoadError",
     "evalue": "UndefVarError: plt not defined",
     "output_type": "error",
     "traceback": [
      "UndefVarError: plt not defined",
      "",
      "Stacktrace:",
      " [1] top-level scope",
      "   @ In[14]:3",
      " [2] eval",
      "   @ ./boot.jl:360 [inlined]",
      " [3] include_string(mapexpr::typeof(REPL.softscope), mod::Module, code::String, filename::String)",
      "   @ Base ./loading.jl:1116"
     ]
    }
   ],
   "source": [
    "CMAP = :inferno\n",
    "msize = 0.5\n",
    "fig = plt.figure(figsize=(8*2/3,10))\n",
    "gs = fig.add_gridspec(5,2)\n",
    "# Turn off axis lines and ticks of the big subplot\n",
    "wholefig = fig.add_subplot(py\"$(gs)[:,:]\")\n",
    "wholefig.spines[\"top\"].set_visible(false)\n",
    "wholefig.spines[\"right\"].set_visible(false)\n",
    "wholefig.spines[\"bottom\"].set_visible(false)\n",
    "wholefig.spines[\"left\"].set_visible(false)\n",
    "wholefig.tick_params(labelcolor=\"white\", top=false, bottom=false, left=false, right=false)\n",
    "p11 = fig.add_subplot(gs[1,1])\n",
    "p11.scatter(contmod.coord[contmod.isinside,2], contmod.coord[contmod.isinside,1], c=contmod.p[contmod.isinside[contmod.isgrid]], s=msize, cmap=CMAP)\n",
    "p11.text(0.05, 0.6, \"\\$p(\\\\mathbf{r})\\$\", transform=p11.transAxes, rotation=90, fontsize=15)\n",
    "p11.plot(border[:,1], border[:,2], \"k\", lw=1)\n",
    "p11.set_aspect(\"equal\")\n",
    "p11.axis(\"off\")\n",
    "p12 = fig.add_subplot(gs[2,1])\n",
    "p12.scatter(contmod.coord[contmod.isgrid,2], contmod.coord[contmod.isgrid,1], c=contmod.m[contmod.isgrid], s=msize, cmap=CMAP)\n",
    "p12.text(0.05, 0.6, \"\\$m(\\\\mathbf{r})\\$\", transform=p12.transAxes, rotation=90, fontsize=15)\n",
    "p12.plot(border[:,1], border[:,2], \"k\", lw=1)\n",
    "p12.set_aspect(\"equal\")\n",
    "p12.axis(\"off\")\n",
    "p13 = fig.add_subplot(gs[3,1])\n",
    "p13.scatter(contmod.coord[contmod.isgrid,2], contmod.coord[contmod.isgrid,1], c=contmod.d[contmod.isgrid], s=msize, cmap=CMAP)\n",
    "p13.text(0.05, 0.6, \"\\$d(\\\\mathbf{r})\\$\", transform=p13.transAxes, rotation=90, fontsize=15)\n",
    "p13.plot(border[:,1], border[:,2], \"k\", lw=1)\n",
    "p13.set_aspect(\"equal\")\n",
    "p13.axis(\"off\")\n",
    "p14 = fig.add_subplot(gs[4,1])\n",
    "p14.scatter(contmod.coord[contmod.isgrid,2], contmod.coord[contmod.isgrid,1], c=contmod.bx[contmod.isgrid], s=msize, cmap=CMAP)\n",
    "p14.text(0.05, 0.6, \"\\$b_x(\\\\mathbf{r})\\$\", transform=p14.transAxes, rotation=90, fontsize=15)\n",
    "p14.plot(border[:,1], border[:,2], \"k\", lw=1)\n",
    "p14.set_aspect(\"equal\")\n",
    "p14.axis(\"off\")\n",
    "p15 = fig.add_subplot(gs[5,1])\n",
    "p15.scatter(contmod.coord[contmod.isgrid,2], contmod.coord[contmod.isgrid,1], c=contmod.by[contmod.isgrid], s=msize, cmap=CMAP)\n",
    "p15.text(0.05, 0.6, \"\\$b_y(\\\\mathbf{r})\\$\", transform=p15.transAxes, rotation=90, fontsize=15)\n",
    "p15.plot(border[:,1], border[:,2], \"k\", lw=1)\n",
    "p15.set_aspect(\"equal\")\n",
    "p15.axis(\"off\")\n",
    "p21 = fig.add_subplot(gs[1,2])\n",
    "p21.scatter(contmod2.coord[contmod2.isinside,2], contmod2.coord[contmod2.isinside,1], c=contmod2.p[contmod2.isinside[contmod2.isgrid]], s=msize, cmap=CMAP)\n",
    "p21.plot(border[:,1], border[:,2], \"k\", lw=1)\n",
    "p21.set_aspect(\"equal\")\n",
    "p21.axis(\"off\")\n",
    "p22 = fig.add_subplot(gs[2,2])\n",
    "p22.scatter(contmod2.coord[contmod2.isinside,2], contmod2.coord[contmod2.isinside,1], c=contmod2.m[contmod2.isinside], s=msize, cmap=CMAP)\n",
    "p22.plot(border[:,1], border[:,2], \"k\", lw=1)\n",
    "p22.set_aspect(\"equal\")\n",
    "p22.axis(\"off\")\n",
    "p23 = fig.add_subplot(gs[3,2])\n",
    "p23.scatter(contmod2.coord[contmod2.isinside,2], contmod2.coord[contmod2.isinside,1], c=contmod2.d[contmod2.isinside], s=msize, cmap=CMAP)\n",
    "p23.plot(border[:,1], border[:,2], \"k\", lw=1)\n",
    "p23.set_aspect(\"equal\")\n",
    "p23.axis(\"off\")\n",
    "p24 = fig.add_subplot(gs[4,2])\n",
    "p24.scatter(contmod2.coord[contmod2.isinside,2], contmod2.coord[contmod2.isinside,1], c=contmod2.bx[contmod2.isinside], s=msize, cmap=CMAP)\n",
    "p24.plot(border[:,1], border[:,2], \"k\", lw=1)\n",
    "p24.set_aspect(\"equal\")\n",
    "p24.axis(\"off\")\n",
    "p25 = fig.add_subplot(gs[5,2])\n",
    "p25.scatter(contmod2.coord[contmod2.isinside,2], contmod2.coord[contmod2.isinside,1], c=contmod2.by[contmod2.isinside], s=msize, cmap=CMAP)\n",
    "p25.plot(border[:,1], border[:,2], \"k\", lw=1)\n",
    "p25.set_aspect(\"equal\")\n",
    "p25.axis(\"off\")\n",
    "wholefig.annotate(\"\", xy=(0.75, -0.01), xycoords=\"axes fraction\", xytext=(0.25, -0.01),\n",
    "            arrowprops=Dict([(\"arrowstyle\",\"->\"), (\"color\",\"k\")]))\n",
    "wholefig.text(0.5, -0.03, \"Fourier Filtering\", transform=wholefig.transAxes, fontsize=15, ha=\"center\")\n",
    "plt.subplots_adjust(left=0.0, right=1.0, top=1.0, bottom=0.0, wspace=0.05, hspace=0.05)\n",
    "# fig.tight_layout()\n",
    "fig.savefig(\"../figures/param_fourier.pdf\", bbox_inches=\"tight\")\n"
   ]
  },
  {
   "cell_type": "code",
   "execution_count": 15,
   "id": "f321fe3c-5196-432c-a79c-cebc42570a3c",
   "metadata": {},
   "outputs": [
    {
     "ename": "LoadError",
     "evalue": "UndefVarError: contmod not defined",
     "output_type": "error",
     "traceback": [
      "UndefVarError: contmod not defined",
      "",
      "Stacktrace:",
      " [1] top-level scope",
      "   @ In[15]:2",
      " [2] eval",
      "   @ ./boot.jl:360 [inlined]",
      " [3] include_string(mapexpr::typeof(REPL.softscope), mod::Module, code::String, filename::String)",
      "   @ Base ./loading.jl:1116"
     ]
    }
   ],
   "source": [
    "msize = 2\n",
    "clim = extrema([contmod.th; contmod2.th])\n",
    "fig, axs = plt.subplots(1,3, figsize=(8,2.5), gridspec_kw=py\"{\\\"width_ratios\\\":[1,1,0.05]}\")\n",
    "axs[1].scatter(contmod.coord[contmod.isinside,2], contmod.coord[contmod.isinside,1], c=contmod.th[contmod.isinside], s=msize, cmap=CMAP, vmin=clim[1], vmax=clim[2])\n",
    "axs[2].scatter(contmod2.coord[contmod2.isinside,2], contmod2.coord[contmod2.isinside,1], c=contmod2.th[contmod2.isinside], s=msize, cmap=CMAP, vmin=clim[1], vmax=clim[2])\n",
    "axs[1].set_aspect(\"equal\")\n",
    "axs[2].set_aspect(\"equal\")\n",
    "axs[1].axis(\"off\")\n",
    "axs[2].axis(\"off\")\n",
    "axs[1].text(0.1, 0.9, \"(a)\", transform=axs[1].transAxes)\n",
    "axs[2].text(0.1, 0.9, \"(b)\", transform=axs[2].transAxes)\n",
    "fig.colorbar(axs[2].collections[1], cax=axs[3])\n",
    "plt.subplots_adjust(left=0.0, right=0.9, top=1.0, bottom=0.0, wspace=0.05, hspace=0.05)\n",
    "plt.savefig(\"../figures/thetas_fourier.pdf\")"
   ]
  },
  {
   "cell_type": "code",
   "execution_count": null,
   "id": "fda4361e-f130-4b32-beec-44a36c3a2cdc",
   "metadata": {},
   "outputs": [],
   "source": []
  },
  {
   "cell_type": "code",
   "execution_count": null,
   "id": "e826e229",
   "metadata": {},
   "outputs": [],
   "source": []
  }
 ],
 "metadata": {
  "kernelspec": {
   "display_name": "Julia 1.6.2",
   "language": "julia",
   "name": "julia-1.6"
  },
  "language_info": {
   "file_extension": ".jl",
   "mimetype": "application/julia",
   "name": "julia",
   "version": "1.6.2"
  }
 },
 "nbformat": 4,
 "nbformat_minor": 5
}

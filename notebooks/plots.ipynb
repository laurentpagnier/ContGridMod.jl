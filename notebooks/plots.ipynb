{
 "cells": [
  {
   "cell_type": "code",
   "execution_count": null,
   "id": "b18749bb-9403-42e8-be8d-aaf297b49dfb",
   "metadata": {},
   "outputs": [],
   "source": [
    "# load libraries and scripts\n",
    "using PyPlot\n",
    "using PyCall\n",
    "include(\"../scripts/tools.jl\")\n",
    "include(\"../scripts/get_grid.jl\")\n",
    "include(\"../scripts/get_params.jl\")\n",
    "include(\"../scripts/stable.jl\")\n",
    "include(\"../scripts/dynamics.jl\")\n",
    "include(\"../scripts/disturbances.jl\")\n",
    "# include(\"../scripts/plotting_julian.jl\")\n",
    "include(\"../scripts/ps_analysis.jl\");"
   ]
  },
  {
   "cell_type": "code",
   "execution_count": null,
   "id": "38f35ee5-e6e1-47d6-8d9c-de7a8922ec1d",
   "metadata": {},
   "outputs": [],
   "source": [
    "# create necessary paths\n",
    "mkpath(\"../numerics\");\n",
    "mkpath(\"../figures\");"
   ]
  },
  {
   "cell_type": "code",
   "execution_count": null,
   "id": "55a05cb0-4b7a-41ed-8823-eb27f333ca84",
   "metadata": {},
   "outputs": [],
   "source": [
    "# set plot variables\n",
    "CMAP = :viridis;"
   ]
  },
  {
   "cell_type": "code",
   "execution_count": null,
   "id": "825ad5fc-162a-46b4-b088-ff54979f6f6f",
   "metadata": {},
   "outputs": [],
   "source": [
    "# load borders\n",
    "border, scale_factor = import_border(\"../data/borders/border.json\")\n",
    "\n",
    "dx = 0.005\n",
    "mesh = get_grid(border, dx); # renamed to be able to use the grid function for plotting"
   ]
  },
  {
   "cell_type": "code",
   "execution_count": null,
   "id": "b968a0aa-351f-4746-a6d9-679313a2abe5",
   "metadata": {},
   "outputs": [],
   "source": [
    "# compute or load grid parameters for different tau\n",
    "tau1 = get_params(mesh, scale_factor, \"../data/disc/pantagruel.h5\", Niter=10,\n",
    "    dmax = 2*dx, patch=1900.0, bmin=52.0, tau=5.0e-7);\n",
    "tau2 = get_params(mesh, scale_factor, \"../data/disc/pantagruel.h5\", Niter=10,\n",
    "    dmax = 2*dx, patch=1900.0, bmin=52.0, tau=5.0e-6);\n",
    "tau3 = get_params(mesh, scale_factor, \"../data/disc/pantagruel.h5\", Niter=10,\n",
    "    dmax = 2*dx, patch=1900.0, bmin=52.0, tau=5.0e-5);"
   ]
  },
  {
   "cell_type": "code",
   "execution_count": null,
   "id": "f32ee9bb-fc45-4ecb-a482-fe25ca25fd6f",
   "metadata": {},
   "outputs": [],
   "source": [
    "fig = plt.figure(constrained_layout=true, figsize=(7,6))\n",
    "gs = fig.add_gridspec(5,3)\n",
    "# Turn off axis lines and ticks of the big subplot\n",
    "wholefig = fig.add_subplot(py\"$(gs)[:,:]\")\n",
    "wholefig.spines[\"top\"].set_visible(false)\n",
    "wholefig.spines[\"right\"].set_visible(false)\n",
    "wholefig.spines[\"bottom\"].set_visible(false)\n",
    "wholefig.spines[\"left\"].set_visible(false)\n",
    "wholefig.tick_params(labelcolor=\"white\", top=false, bottom=false, left=false, right=false)\n",
    "p11 = fig.add_subplot(gs[1,1])\n",
    "p11.scatter(tau1.coord[tau1.isgrid,2], tau1.coord[tau1.isgrid,1], c=tau1.p, s=1, cmap=CMAP)\n",
    "p11.text(0.05, 0.6, \"\\$p(\\\\mathbf{x})\\$\", transform=p11.transAxes, rotation=90)\n",
    "p11.axis(\"off\")\n",
    "p12 = fig.add_subplot(gs[2,1])\n",
    "p12.scatter(tau1.coord[tau1.isgrid,2], tau1.coord[tau1.isgrid,1], c=tau1.m[tau1.isgrid], s=1, cmap=CMAP)\n",
    "p12.text(0.05, 0.6, \"\\$m(\\\\mathbf{x})\\$\", transform=p12.transAxes, rotation=90)\n",
    "p12.axis(\"off\")\n",
    "p13 = fig.add_subplot(gs[3,1])\n",
    "p13.scatter(tau1.coord[tau1.isgrid,2], tau1.coord[tau1.isgrid,1], c=tau1.d[tau1.isgrid], s=1, cmap=CMAP)\n",
    "p13.text(0.05, 0.6, \"\\$d(\\\\mathbf{x})\\$\", transform=p13.transAxes, rotation=90)\n",
    "p13.axis(\"off\")\n",
    "p14 = fig.add_subplot(gs[4,1])\n",
    "p14.scatter(tau1.coord[tau1.isgrid,2], tau1.coord[tau1.isgrid,1], c=tau1.bx[tau1.isgrid], s=1, cmap=CMAP)\n",
    "p14.text(0.05, 0.6, \"\\$b_x(\\\\mathbf{x})\\$\", transform=p14.transAxes, rotation=90)\n",
    "p14.axis(\"off\")\n",
    "p15 = fig.add_subplot(gs[5,1])\n",
    "p15.scatter(tau1.coord[tau1.isgrid,2], tau1.coord[tau1.isgrid,1], c=tau1.by[tau1.isgrid], s=1, cmap=CMAP)\n",
    "p15.text(0.05, 0.6, \"\\$b_y(\\\\mathbf{x})\\$\", transform=p15.transAxes, rotation=90)\n",
    "p15.axis(\"off\")\n",
    "p21 = fig.add_subplot(gs[1,2])\n",
    "p21.scatter(tau2.coord[tau2.isgrid,2], tau2.coord[tau2.isgrid,1], c=tau2.p, s=1, cmap=CMAP)\n",
    "p21.axis(\"off\")\n",
    "p22 = fig.add_subplot(gs[2,2])\n",
    "p22.scatter(tau1.coord[tau2.isgrid,2], tau2.coord[tau2.isgrid,1], c=tau2.m[tau2.isgrid], s=1, cmap=CMAP)\n",
    "p22.axis(\"off\")\n",
    "p23 = fig.add_subplot(gs[3,2])\n",
    "p23.scatter(tau1.coord[tau2.isgrid,2], tau2.coord[tau2.isgrid,1], c=tau2.d[tau2.isgrid], s=1, cmap=CMAP)\n",
    "p23.axis(\"off\")\n",
    "p24 = fig.add_subplot(gs[4,2])\n",
    "p24.scatter(tau1.coord[tau2.isgrid,2], tau2.coord[tau2.isgrid,1], c=tau2.bx[tau2.isgrid], s=1, cmap=CMAP)\n",
    "p24.axis(\"off\")\n",
    "p25 = fig.add_subplot(gs[5,2])\n",
    "p25.scatter(tau1.coord[tau2.isgrid,2], tau2.coord[tau2.isgrid,1], c=tau2.by[tau2.isgrid], s=1, cmap=CMAP)\n",
    "p25.axis(\"off\")\n",
    "p31 = fig.add_subplot(gs[1,3])\n",
    "p31.scatter(tau3.coord[tau3.isgrid,2], tau3.coord[tau3.isgrid,1], c=tau3.p, s=1, cmap=CMAP)\n",
    "p31.axis(\"off\")\n",
    "p32 = fig.add_subplot(gs[2,3])\n",
    "p32.scatter(tau1.coord[tau3.isgrid,2], tau3.coord[tau3.isgrid,1], c=tau3.m[tau3.isgrid], s=1, cmap=CMAP)\n",
    "p32.axis(\"off\")\n",
    "p33 = fig.add_subplot(gs[3,3])\n",
    "p33.scatter(tau1.coord[tau3.isgrid,2], tau3.coord[tau3.isgrid,1], c=tau3.d[tau3.isgrid], s=1, cmap=CMAP)\n",
    "p33.axis(\"off\")\n",
    "p34 = fig.add_subplot(gs[4,3])\n",
    "p34.scatter(tau1.coord[tau3.isgrid,2], tau3.coord[tau3.isgrid,1], c=tau3.bx[tau3.isgrid], s=1, cmap=CMAP)\n",
    "p34.axis(\"off\")\n",
    "p35 = fig.add_subplot(gs[5,3])\n",
    "p35.scatter(tau1.coord[tau3.isgrid,2], tau3.coord[tau3.isgrid,1], c=tau3.by[tau3.isgrid], s=1, cmap=CMAP)\n",
    "p35.axis(\"off\")\n",
    "wholefig.annotate(\"\", xy=(0.75, -0.1), xycoords=\"axes fraction\", xytext=(0.25, -0.1),\n",
    "            arrowprops=Dict([(\"arrowstyle\",\"->\"), (\"color\",\"k\")]))\n",
    "wholefig.text(0.5, -0.15, \"\\$\\\\tau\\$\", transform=wholefig.transAxes)\n",
    "plt.savefig(\"../figures/fig1.pdf\")"
   ]
  },
  {
   "cell_type": "code",
   "execution_count": null,
   "id": "03cfc0e6-4d1a-421c-b19a-6063721d7067",
   "metadata": {},
   "outputs": [],
   "source": [
    "# compute or load grid parameters\n",
    "contmod = get_params(mesh, scale_factor, \"../data/disc/pantagruel.h5\", Niter=10,\n",
    "    dmax = 2*dx, patch=1900.0, bmin=52.0, tau=5.0e-7);"
   ]
  },
  {
   "cell_type": "code",
   "execution_count": null,
   "id": "4d91cd85-0219-4b2d-8de9-87850a8b1a36",
   "metadata": {},
   "outputs": [],
   "source": [
    "# get stable solution\n",
    "compute_stable_sol!(contmod, interval = 10000, Niter = 250000, tol = 1e-7);\n",
    "dm = load_discrete_model(\"../data/disc/pantagruel.h5\", scale_factor);\n",
    "th_disc = get_discrete_values(contmod.coord[contmod.isgrid,:], dm.coord, contmod.th[contmod.isgrid]);"
   ]
  },
  {
   "cell_type": "code",
   "execution_count": null,
   "id": "4da7d27a-2916-4b7f-962f-a6420ab9a8eb",
   "metadata": {},
   "outputs": [],
   "source": [
    "# Create fig. 2\n",
    "contcols = fill!(Vector{Float64}(undef, contmod.Ny * contmod.Nx), NaN)\n",
    "contcols[contmod.isinside] = contmod.th[contmod.isinside]\n",
    "thmin = minimum(dm.th)\n",
    "thmax = maximum(dm.th)\n",
    "clim = extrema([dm.th;th_disc])\n",
    "fig = plt.figure(constrained_layout=true, figsize=(10,6))\n",
    "gs = fig.add_gridspec(3,2, height_ratios=[1,1,0.05])\n",
    "p1 = fig.add_subplot(gs[1,1], label=\"(a)\")\n",
    "p1.plot(border[:,1], border[:,2], \"k\", zorder=0, lw=2)\n",
    "p1.scatter(dm.coord[:,2], dm.coord[:,1], c=dm.th, cmap=CMAP, zorder=1, vmin=clim[1], vmax=clim[2], s=4)\n",
    "p1.axis(\"off\")\n",
    "p1.text(0.03,0.97, \"(a)\", transform=p1.transAxes)\n",
    "p2 = fig.add_subplot(gs[2,1])\n",
    "p2.scatter(contmod.coord[:,2], contmod.coord[:,1], c=contcols, cmap=CMAP, s=6, vmin=clim[1], vmax=clim[2])\n",
    "p2.plot(border[:,1], border[:,2], \"k\", lw=2)\n",
    "p2.axis(\"off\")\n",
    "p2.text(0.03,0.97, \"(b)\", transform=p2.transAxes)\n",
    "cbarax = fig.add_subplot(gs[3,1])\n",
    "plt.colorbar(p1.collections[1], cax=cbarax.axes, orientation=\"horizontal\", label=\"\\$\\\\theta\\$\")\n",
    "p3 = fig.add_subplot(py\"$(gs)[:,1]\") # Careful, when using PyCall the arrays have to be 0 indexed!\n",
    "p3.scatter(dm.th, th_disc, edgecolors=\"k\")\n",
    "p3.grid(color=\"gray\", linestyle=\"dashed\", lw=0.4)\n",
    "p3.set_axisbelow(true)\n",
    "p3.plot([1.1*thmin, 1.1*thmax], [1.1*thmin, 1.1*thmax], \"r\", lw=3)\n",
    "p3.set_xlim(1.1*thmin, 1.1*thmax)\n",
    "p3.set_xlabel(\"\\$\\\\theta_i^{\\\\rm ref}\\$\")\n",
    "p3.set_ylabel(\"\\$\\\\theta_i\\$\")\n",
    "p3.yaxis.tick_right()\n",
    "p3.yaxis.set_label_position(\"right\")\n",
    "p3.text(0.03,0.97, \"(c)\", transform=p3.transAxes);\n",
    "plt.savefig(\"../figures/fig2.pdf\")"
   ]
  },
  {
   "cell_type": "code",
   "execution_count": null,
   "id": "f30122e9-d06d-495a-9705-277f130b9f5a",
   "metadata": {},
   "outputs": [],
   "source": [
    "# Add perturbation around generator 1\n",
    "# Run only ONCE as it directly changes the distribution of p!\n",
    "dp = add_local_disturbance!(contmod, dm.coord[1,:], -9.0, 0.02, dx);\n",
    "dpf = fill!(Vector{Float64}(undef, contmod.Ny * contmod.Nx), NaN)\n",
    "dpf[contmod.isgrid] = dp;\n",
    "dpp = plt.scatter(contmod.coord[:,2], contmod.coord[:,1], c=dpf, s=2)\n",
    "plt.colorbar(dpp)"
   ]
  },
  {
   "cell_type": "code",
   "execution_count": null,
   "id": "ec1c7da0-6c56-4603-b3ec-9dad05d53c21",
   "metadata": {},
   "outputs": [],
   "source": [
    "plt.scatter([-0.5, -0.2, 0.1, 0.25],[-0.2, 0.0, 0.1, -0.15])\n",
    "plt.plot(border[:,1], border[:,2])"
   ]
  },
  {
   "cell_type": "code",
   "execution_count": null,
   "id": "8319868b-d750-463f-89e4-a8216f600e01",
   "metadata": {
    "scrolled": true,
    "tags": []
   },
   "outputs": [],
   "source": [
    "ts, thetas, omegas = perform_dyn_sim(contmod, interval=1,\n",
    "    Ndt=5000, dt=0.01, method=\"crank-nicolson\");"
   ]
  },
  {
   "cell_type": "code",
   "execution_count": null,
   "id": "78b12524-103c-486c-94e5-2d51f5a8c09a",
   "metadata": {},
   "outputs": [],
   "source": [
    "referencepoints=[[-0.5 -0.2];[-0.2 0.0];[0.1 0.1];[0.25 -0.15]] #(x,y) coordinates\n",
    "refids = zeros(Int64, 4)\n",
    "for i=1:4\n",
    "    refids[i] = argmin((contmod.coord[contmod.isgrid,2].-referencepoints[i,1]).^2 .+ (contmod.coord[contmod.isgrid,1].-referencepoints[i,2]).^2)\n",
    "end"
   ]
  },
  {
   "cell_type": "code",
   "execution_count": null,
   "id": "ba54148e-56b2-4b24-898e-2b7483cdde87",
   "metadata": {},
   "outputs": [],
   "source": [
    "disres = h5read(\"../numerics/disc_results.h5\",\"/\")\n",
    "omdis = disres[\"omegas\"]\n",
    "idgen = disres[\"idgen\"]\n",
    "tdis = disres[\"ts\"];"
   ]
  },
  {
   "cell_type": "code",
   "execution_count": null,
   "id": "3d8cb492-cc9c-4db0-badc-91e523b57459",
   "metadata": {},
   "outputs": [],
   "source": [
    "referencepoints=[[-0.5 -0.2];[-0.2 0.0];[0.1 0.1];[0.25 -0.15]] #(x,y) coordinates\n",
    "refgens = zeros(Int64, 4) # To get the frequencies\n",
    "refgensco = zeros(Int64, 4) # to get the coordinates\n",
    "for i=1:4\n",
    "    refgens[i] = argmin((dm.coord[idgen,2].-referencepoints[i,1]).^2 .+ (dm.coord[idgen,1].-referencepoints[i,2]).^2)\n",
    "    refgensco[i] = idgen[argmin((dm.coord[idgen,2].-referencepoints[i,1]).^2 .+ (dm.coord[idgen,1].-referencepoints[i,2]).^2)]\n",
    "end"
   ]
  },
  {
   "cell_type": "code",
   "execution_count": null,
   "id": "dc11d986-c194-4fa6-8da3-25a6a35c6d9c",
   "metadata": {},
   "outputs": [],
   "source": [
    "step = 4\n",
    "tend = 20.0\n",
    "if(tend != 0.0)\n",
    "    idend = findall(ts .< tend)[end]\n",
    "else\n",
    "    idend = length(ts) \n",
    "end\n",
    "plt.plot(ts[1:step:idend], omegas[refids, 1:step:idend]', lw=1)\n",
    "plt.xlabel(\"\\$t[s]\\$\")\n",
    "plt.ylabel(\"\\$(\\\\omega-\\\\omega_0)[1/s]\\$\");"
   ]
  },
  {
   "cell_type": "code",
   "execution_count": null,
   "id": "53e486de-68b0-45d0-9bed-52adf4e9d8f8",
   "metadata": {},
   "outputs": [],
   "source": [
    "step = 1\n",
    "tend = 20.0\n",
    "if(tend != 0.0)\n",
    "    idend = findall(tdis .< tend)[end]\n",
    "else\n",
    "    idend = length(tdis) \n",
    "end\n",
    "plt.plot(tdis[1:step:idend], omdis[refgens, 1:step:idend]', lw=1)\n",
    "plt.xlabel(\"\\$t[s]\\$\")\n",
    "plt.ylabel(\"\\$(\\\\omega-\\\\omega_0)[1/s]\\$\");"
   ]
  },
  {
   "cell_type": "code",
   "execution_count": null,
   "id": "bf6ddf8d-85ef-4d5a-af6a-dfa64d8e02a6",
   "metadata": {},
   "outputs": [],
   "source": [
    "tend = 20.0\n",
    "ymax = 1.1 * maximum([maximum(omdis[refgens,:]) maximum(omegas[refids,:])])\n",
    "ymin = 1.1 * minimum([minimum(omdis[refgens,:]) minimum(omegas[refids,:])])\n",
    "fig = plt.figure(constrained_layout=true)\n",
    "gs = fig.add_gridspec(2,1)\n",
    "# Turn off axis lines and ticks of the big subplot\n",
    "wholefig = fig.add_subplot(py\"$(gs)[:,:]\")\n",
    "wholefig.spines[\"top\"].set_visible(false)\n",
    "wholefig.spines[\"right\"].set_visible(false)\n",
    "wholefig.spines[\"bottom\"].set_visible(false)\n",
    "wholefig.spines[\"left\"].set_visible(false)\n",
    "wholefig.tick_params(labelcolor=\"white\", top=false, bottom=false, left=false, right=false)\n",
    "p1 = fig.add_subplot(gs[1,1])\n",
    "stepdis = 1\n",
    "if(tend != 0.0)\n",
    "    idenddis = findall(tdis .< tend)[end]\n",
    "else\n",
    "    idenddis = length(tdis) \n",
    "end\n",
    "p1.plot(tdis[1:stepdis:idenddis], omdis[refgens, 1:stepdis:idenddis]', lw=1)\n",
    "p1.set_ylim(ymin, ymax)\n",
    "p1.text(0.03,0.9, \"(a)\", transform=p1.transAxes)\n",
    "plt.setp(p1.get_xticklabels(), visible=false)\n",
    "p2 = fig.add_subplot(gs[2,1])\n",
    "stepcon = 4\n",
    "if(tend != 0.0)\n",
    "    idendcon = findall(ts .< tend)[end]\n",
    "else\n",
    "    idendcon = length(ts) \n",
    "end\n",
    "p2.plot(ts[1:stepcon:idendcon], omegas[refids, 1:stepcon:idendcon]', lw=1)\n",
    "p2.set_ylim(ymin, ymax)\n",
    "p2.set_xlabel(\"\\$t[s]\\$\")\n",
    "p2.text(0.03,0.9, \"(b)\", transform=p2.transAxes)\n",
    "inset = fig.add_axes([0.5, 0.35, 0.4, 0.4])\n",
    "inset.plot(border[:,1], border[:,2], \"k\")\n",
    "inset.scatter(contmod.coord[contmod.isinside,2], contmod.coord[contmod.isinside,1],s=50,c=\"white\")\n",
    "inset.scatter(referencepoints[:,1], referencepoints[:,2],s=10, c=[\"tab:blue\", \"tab:orange\", \"tab:green\", \"tab:red\"])\n",
    "inset.scatter(dm.coord[1,2], dm.coord[1,1],s=50, marker=\"X\", c=\"r\") # Fault location\n",
    "# inset.xaxis.set_ticklabels([])\n",
    "# inset.yaxis.set_ticklabels([])\n",
    "# inset.spines[\"top\"].set_visible(false)\n",
    "# inset.spines[\"right\"].set_visible(false)\n",
    "# inset.spines[\"bottom\"].set_visible(false)\n",
    "# inset.spines[\"left\"].set_visible(false)\n",
    "# inset.tick_params(top=false, bottom=false, left=false, right=false)\n",
    "inset.axis(\"off\")\n",
    "wholefig.set_ylabel(\"\\$(\\\\omega-\\\\omega_0)[1/s]\\$\");\n",
    "plt.savefig(\"../figures/fig3.pdf\")"
   ]
  },
  {
   "cell_type": "code",
   "execution_count": null,
   "id": "29405900-6cad-4e4e-9c1b-48973eef4266",
   "metadata": {},
   "outputs": [],
   "source": []
  }
 ],
 "metadata": {
  "kernelspec": {
   "display_name": "Julia 1.6.3",
   "language": "julia",
   "name": "julia-1.6"
  },
  "language_info": {
   "file_extension": ".jl",
   "mimetype": "application/julia",
   "name": "julia",
   "version": "1.6.3"
  }
 },
 "nbformat": 4,
 "nbformat_minor": 5
}

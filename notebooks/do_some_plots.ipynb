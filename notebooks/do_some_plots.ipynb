{
 "cells": [
  {
   "cell_type": "code",
   "execution_count": null,
   "id": "d546df0f",
   "metadata": {},
   "outputs": [],
   "source": [
    "# load libraries and scripts\n",
    "import JSON\n",
    "using Plots\n",
    "using HDF5\n",
    "using Trapz\n",
    "include(\"../scripts/tools.jl\")\n",
    "include(\"../scripts/get_grid.jl\")\n",
    "include(\"../scripts/get_params.jl\")\n",
    "\n",
    "#load borders\n",
    "border = import_border(\"../data/border.json\");"
   ]
  },
  {
   "cell_type": "code",
   "execution_count": null,
   "id": "4b6542ee",
   "metadata": {},
   "outputs": [],
   "source": [
    "dx = 40\n",
    "Nx, Ny, xrange, yrange, isinside, isborder, n = get_grid(border, Float64(dx))\n",
    "data = h5read(\"../numerics/stable_\" * string(dx) * \".h5\", \"/\")\n",
    "do_plot(isinside, data[\"th\"])"
   ]
  },
  {
   "cell_type": "code",
   "execution_count": null,
   "id": "60708854",
   "metadata": {},
   "outputs": [],
   "source": [
    "dx = 20\n",
    "Nx, Ny, xrange, yrange, isinside, isborder, n = get_grid(border, Float64(dx))\n",
    "data = h5read(\"../numerics/stable_\" * string(dx) * \".h5\", \"/\")\n",
    "do_plot(isinside, data[\"th\"])"
   ]
  },
  {
   "cell_type": "code",
   "execution_count": null,
   "id": "8a11eb6a",
   "metadata": {},
   "outputs": [],
   "source": [
    "dx = 10\n",
    "Nx, Ny, xrange, yrange, isinside, isborder, n = get_grid(border, Float64(dx))\n",
    "data = h5read(\"../numerics/stable_\" * string(dx) * \".h5\", \"/\")\n",
    "do_plot(isinside, data[\"th\"])"
   ]
  }
 ],
 "metadata": {
  "kernelspec": {
   "display_name": "Julia 1.6.2",
   "language": "julia",
   "name": "julia-1.6"
  },
  "language_info": {
   "file_extension": ".jl",
   "mimetype": "application/julia",
   "name": "julia",
   "version": "1.6.2"
  }
 },
 "nbformat": 4,
 "nbformat_minor": 5
}

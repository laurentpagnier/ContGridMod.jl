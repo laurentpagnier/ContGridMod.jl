{
 "cells": [
  {
   "cell_type": "code",
   "execution_count": null,
   "id": "d546df0f",
   "metadata": {},
   "outputs": [],
   "source": [
    "# load libraries and scripts\n",
    "import JSON\n",
    "using Plots\n",
    "using HDF5\n",
    "using Trapz\n",
    "include(\"../scripts/tools.jl\")\n",
    "include(\"../scripts/get_grid.jl\")\n",
    "include(\"../scripts/get_params.jl\")\n",
    "\n",
    "#load borders\n",
    "border = import_border(\"../data/border.json\");"
   ]
  },
  {
   "cell_type": "code",
   "execution_count": null,
   "id": "4b6542ee",
   "metadata": {},
   "outputs": [],
   "source": [
    "dx = 40\n",
    "Nx, Ny, xrange, yrange, isinside, isborder, n = get_grid(border, Float64(dx))\n",
    "data = h5read(\"../numerics/stable_\" * string(dx) * \".h5\", \"/\")\n",
    "do_plot(isinside, data[\"th\"])"
   ]
  },
  {
   "cell_type": "code",
   "execution_count": null,
   "id": "60708854",
   "metadata": {},
   "outputs": [],
   "source": [
    "dx = 20\n",
    "Nx, Ny, xrange, yrange, isinside, isborder, n = get_grid(border, Float64(dx))\n",
    "data = h5read(\"../numerics/stable_\" * string(dx) * \".h5\", \"/\")\n",
    "do_plot(isinside, data[\"th\"])\n",
    "data = h5read(\"../numerics/sim_\" * string(dx) * \".h5\", \"/\")\n",
    "do_plot(isinside, data[\"omega\"][:,:,end], (30,60), (40,80))\n",
    "do_plot(isinside, data[\"omega\"][:,:,end])\n",
    "#bx, by, p, m, d = get_params(isinside, \"../numerics/grid_params_\" * string(dx) * \".h5\")\n",
    "#do_plot(isinside, omegas[:,:,end])\n",
    "#do_plot(isinside, m, (30,60), (40,80))\n",
    "plot(data[\"theta\"][30,30,1:10])\n",
    "#=\n",
    "plot(data[\"omega\"][80,43,1:end])\n",
    "println(argmax(abs.(data[\"omega\"][:,:,50])))\n",
    "\n",
    "bx, by, p, m, d = get_params(isinside, \"../numerics/grid_params_\" * string(dx) * \".h5\")\n",
    "println(p[78,42])\n",
    "println(m[78,42])\n",
    "println(d[78,42])\n",
    "=#\n",
    "\n",
    "#=\n",
    "Nx = size(m,2)\n",
    "Ny = size(m,1)\n",
    "bij = zeros(size(m))\n",
    "for i = 2:Ny-2\n",
    "    for j = 2:Nx-2\n",
    "        bij[i,j] = bx[i,j] + bx[i,j+1] + by[i-1,j] + by[i,j]\n",
    "    end\n",
    "end\n",
    "contour(bij./m ,fill=true)\n",
    "contour(abs.(p)./d ,fill=true)\n",
    "=#\n",
    "#\n",
    "#contour( abs.(p) .* m ./ d, fill=true,xlim=(20,60),ylim=(60,80))\n",
    "#temp = p./m\n",
    "#sum(abs.(temp[.!isnan.(temp)]))./sum(.!isnan.(temp))\n",
    "#sum(maximum(abs.(temp[.!isnan.(temp)])))\n",
    "#maximum(abs.(temp))"
   ]
  },
  {
   "cell_type": "code",
   "execution_count": null,
   "id": "8a11eb6a",
   "metadata": {},
   "outputs": [],
   "source": [
    "dx = 10\n",
    "Nx, Ny, xrange, yrange, isinside, isborder, n = get_grid(border, Float64(dx))\n",
    "data = h5read(\"../numerics/stable_\" * string(dx) * \".h5\", \"/\")\n",
    "do_plot(isinside, data[\"th\"])"
   ]
  },
  {
   "cell_type": "code",
   "execution_count": null,
   "id": "462b3522",
   "metadata": {},
   "outputs": [],
   "source": []
  }
 ],
 "metadata": {
  "kernelspec": {
   "display_name": "Julia 1.6.1",
   "language": "julia",
   "name": "julia-1.6"
  },
  "language_info": {
   "file_extension": ".jl",
   "mimetype": "application/julia",
   "name": "julia",
   "version": "1.6.1"
  }
 },
 "nbformat": 4,
 "nbformat_minor": 5
}

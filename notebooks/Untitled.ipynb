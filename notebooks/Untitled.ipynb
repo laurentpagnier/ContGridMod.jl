{
 "cells": [
  {
   "cell_type": "code",
   "execution_count": null,
   "metadata": {},
   "outputs": [],
   "source": [
    "import JSON\n",
    "using Plots\n",
    "using Trapz\n",
    "using HDF5\n",
    "include(\"../scripts/tools.jl\")\n",
    "include(\"../scripts/get_grid.jl\")\n",
    "include(\"../scripts/get_params.jl\")\n",
    "include(\"../scripts/disturbances.jl\")"
   ]
  },
  {
   "cell_type": "code",
   "execution_count": null,
   "metadata": {},
   "outputs": [],
   "source": [
    "border = import_border(\"../data/border.json\")\n",
    "dx = 40\n",
    "Nx, Ny, xrange, yrange, isinside, isborder, n = get_grid(border, Float64(dx))\n",
    "x = repeat(reshape(xrange,1,Nx),Ny,1)\n",
    "y = repeat(reshape(yrange,Ny,1),1,Nx)\n",
    "x_for_bx = repeat(reshape(xrange,1,Nx),Ny,1) .- dx/2\n",
    "y_for_bx = repeat(reshape(yrange,Ny,1),1,Nx)\n",
    "x_for_by = repeat(reshape(xrange,1,Nx),Ny,1)\n",
    "y_for_by = repeat(reshape(yrange,Ny,1),1,Nx) .+ dx/2;\n",
    "\n",
    "isgrid = isinside .| isborder"
   ]
  },
  {
   "cell_type": "code",
   "execution_count": null,
   "metadata": {},
   "outputs": [],
   "source": [
    "bx, by, p, m, d = get_params(isinside, \"../numerics/grid_params_\" * string(dx) * \".h5\")\n",
    "\n",
    "\n",
    "scatter(x[isinside], y[isinside], marker = (:circle, 2))\n",
    "scatter!(x[isborder], y[isborder], marker = (:circle, 2))\n",
    "id = findall(bx .> 0)\n",
    "scatter!(x_for_bx[id], y_for_bx[id], marker = (:circle, 2))\n",
    "id = findall(by .> 0)\n",
    "scatter!(x_for_by[id], y_for_by[id], marker = (:circle, 2))\n",
    "\n",
    "savefig(\"map.svg\")\n",
    "\n",
    "\n",
    "temp = findall(isborder)\n",
    "id_xy = Int64.(zeros(length(temp),2))\n",
    "for i=1:length(temp)\n",
    "    id_xy[i,:] = [temp[i][1] temp[i][2]]\n",
    "end\n",
    "scatter(id_xy[:,2],id_xy[:,1], marker = (:circle, 2))\n",
    "\n",
    "temp = findall(isinside)\n",
    "id_xy = Int64.(zeros(length(temp),2))\n",
    "for i=1:length(temp)\n",
    "    id_xy[i,:] = [temp[i][1] temp[i][2]]\n",
    "end\n",
    "scatter!(id_xy[:,2], id_xy[:,1], marker = (:circle, 2))\n",
    "quiver!(vec(n[:,2]),vec(n[:,1]),quiver=(2*vec(n[:,4]),2*vec(n[:,3])),linewidth=0.1,headwidth=0.1, headlength=0.2)\n",
    "\n",
    "savefig(\"n_vector.svg\")\n"
   ]
  },
  {
   "cell_type": "code",
   "execution_count": null,
   "metadata": {},
   "outputs": [],
   "source": []
  },
  {
   "cell_type": "code",
   "execution_count": null,
   "metadata": {},
   "outputs": [],
   "source": []
  },
  {
   "cell_type": "code",
   "execution_count": null,
   "metadata": {},
   "outputs": [],
   "source": []
  }
 ],
 "metadata": {
  "kernelspec": {
   "display_name": "Julia 1.6.1",
   "language": "julia",
   "name": "julia-1.6"
  },
  "language_info": {
   "file_extension": ".jl",
   "mimetype": "application/julia",
   "name": "julia",
   "version": "1.6.1"
  }
 },
 "nbformat": 4,
 "nbformat_minor": 4
}

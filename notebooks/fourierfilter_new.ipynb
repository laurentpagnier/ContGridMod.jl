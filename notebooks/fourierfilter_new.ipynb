{
 "cells": [
  {
   "cell_type": "code",
   "execution_count": 19,
   "id": "40997940-0e03-44dd-8ef1-ce0c5f8a584f",
   "metadata": {},
   "outputs": [],
   "source": [
    "# load libraries and scripts\n",
    "using Plots\n",
    "using FFTW\n",
    "include(\"../scripts/tools.jl\")\n",
    "include(\"../scripts/get_grid.jl\")\n",
    "include(\"../scripts/get_params.jl\")\n",
    "include(\"../scripts/stable.jl\")\n",
    "include(\"../scripts/dynamics.jl\")\n",
    "include(\"../scripts/plotting.jl\")\n",
    "include(\"../scripts/disturbances.jl\")\n",
    "include(\"../scripts/ps_analysis.jl\");"
   ]
  },
  {
   "cell_type": "code",
   "execution_count": 3,
   "id": "dcbb3a8c-3a0f-452f-bbe2-0ff77d7e4f88",
   "metadata": {},
   "outputs": [],
   "source": [
    "# load borders\n",
    "border, scale_factor = import_border(\"../data/borders/border.json\")\n",
    "\n",
    "dx = 0.005\n",
    "mesh = get_grid(border, dx); # renamed to be able to use the grid function for plotting"
   ]
  },
  {
   "cell_type": "code",
   "execution_count": 4,
   "id": "fa8abfc4-b3b7-456a-b9a7-7263508c9b8c",
   "metadata": {},
   "outputs": [
    {
     "name": "stdout",
     "output_type": "stream",
     "text": [
      "  5.297989 seconds (3.77 M allocations: 16.983 GiB, 4.78% gc time, 8.66% compilation time)\n",
      "  3.753261 seconds (4.27 M allocations: 1.250 GiB, 10.44% gc time, 61.78% compilation time)\n"
     ]
    }
   ],
   "source": [
    "# compute or load grid parameters\n",
    "contmod = get_params(mesh, scale_factor, \"../data/disc/pantagruel.h5\", Niter=10,\n",
    "    dmax = 2*dx, patch=1900.0, bmin=52.0, tau=5.0e-6);"
   ]
  },
  {
   "cell_type": "code",
   "execution_count": 5,
   "id": "a6909341-fbf2-441e-9930-d92100de9c98",
   "metadata": {},
   "outputs": [
    {
     "name": "stdout",
     "output_type": "stream",
     "text": [
      "[10000.0 7.328706000730989e-5]\n",
      "[20000.0 2.2965377293626688e-5]\n",
      "[30000.0 8.507224656062462e-6]\n",
      "[40000.0 5.117974986923457e-6]\n",
      "[50000.0 3.448676758388558e-6]\n",
      "[60000.0 2.4544002302784307e-6]\n",
      "[70000.0 1.823181983384714e-6]\n",
      "[80000.0 1.420736850832327e-6]\n",
      "[90000.0 1.1641277828378094e-6]\n",
      "[100000.0 1.0006691575359383e-6]\n",
      "[110000.0 8.966544252642095e-7]\n",
      "[120000.0 8.305195351443473e-7]\n",
      "[130000.0 7.884933591606469e-7]\n",
      "[140000.0 7.617974213669498e-7]\n",
      "[150000.0 7.448437097101746e-7]\n",
      "[160000.0 7.340786249976361e-7]\n",
      "[170000.0 7.272437856364888e-7]\n",
      "[180000.0 7.229045514423049e-7]\n",
      "[190000.0 7.201498030129372e-7]\n",
      "[200000.0 7.184010009098074e-7]\n",
      "[210000.0 7.172908202957018e-7]\n",
      "[220000.0 7.165860590463424e-7]\n",
      "[230000.0 7.161386647025481e-7]\n",
      "[240000.0 7.158546541097266e-7]\n",
      "[250000.0 7.156743615510663e-7]\n",
      " 31.269048 seconds (4.31 M allocations: 81.793 GiB, 5.54% gc time, 2.25% compilation time)\n"
     ]
    }
   ],
   "source": [
    "# get stable solution\n",
    "compute_stable_sol!(contmod, interval = 10000, Niter = 250000, tol = 1e-7);\n",
    "dm = load_discrete_model(\"../data/disc/pantagruel.h5\", scale_factor);\n",
    "th_disc = get_discrete_values(contmod.coord[contmod.isgrid,:], dm.coord, contmod.th[contmod.isgrid]);"
   ]
  },
  {
   "cell_type": "code",
   "execution_count": 6,
   "id": "2b4719b3-37a2-41d0-8440-ba5e7b768c32",
   "metadata": {},
   "outputs": [
    {
     "name": "stdout",
     "output_type": "stream",
     "text": [
      "  3.489664 seconds (529.80 k allocations: 16.811 GiB, 4.51% gc time)\n",
      "  1.177364 seconds (3.87 k allocations: 1.011 GiB, 1.65% gc time)\n"
     ]
    }
   ],
   "source": [
    "# Second model for fourier filtering\n",
    "contmod2 = get_params(mesh, scale_factor, \"../data/disc/pantagruel.h5\", Niter=10,\n",
    "    dmax = 2*dx, patch=1900.0, bmin=52.0, tau=5.0e-7);"
   ]
  },
  {
   "cell_type": "code",
   "execution_count": 7,
   "id": "a1d16d7d-108d-45d9-9e41-60db73a08e05",
   "metadata": {},
   "outputs": [],
   "source": [
    "# Get frequencies\n",
    "freq = zeros(contmod2.Ny, contmod2.Nx)\n",
    "freqx = fftfreq(contmod2.Nx, dx)\n",
    "freqy = fftfreq(contmod2.Ny, dx)\n",
    "for i=1:contmod2.Ny\n",
    "    for j=1:contmod2.Nx\n",
    "        freq[i, j] = sqrt(freqy[i]^2 + freqx[j]^2)\n",
    "    end\n",
    "end"
   ]
  },
  {
   "cell_type": "code",
   "execution_count": 8,
   "id": "6b60a07f-36a2-4e11-83d7-3efbf0a2e909",
   "metadata": {},
   "outputs": [],
   "source": [
    "# Create filter mask\n",
    "filter = freq .<= .2 * maximum(freq);"
   ]
  },
  {
   "cell_type": "code",
   "execution_count": 9,
   "id": "6b9e04ec-74f0-4974-9391-82322113aa6d",
   "metadata": {},
   "outputs": [],
   "source": [
    "# Filter m\n",
    "mfft = fft(reshape(contmod2.m, contmod2.Ny, contmod2.Nx))\n",
    "mfft[.!filter] .= 0.0\n",
    "mifft = real.(ifft(mfft))\n",
    "mifft[.!contmod2.isgrid] .= 0.0\n",
    "contmod2.m = vec(mifft);"
   ]
  },
  {
   "cell_type": "code",
   "execution_count": 10,
   "id": "a7cf117c-6e66-4348-a498-2773f6482554",
   "metadata": {},
   "outputs": [],
   "source": [
    "# Filter d\n",
    "dfft = fft(reshape(contmod2.d, contmod2.Ny, contmod2.Nx))\n",
    "dfft[.!filter] .= 0.0\n",
    "difft = real.(ifft(dfft))\n",
    "difft[.!contmod2.isgrid] .= 0.0\n",
    "contmod2.d = vec(difft);"
   ]
  },
  {
   "cell_type": "code",
   "execution_count": 11,
   "id": "eebf083c-5ee1-49a7-b5fa-96469254974c",
   "metadata": {},
   "outputs": [],
   "source": [
    "# Filter bx\n",
    "bxfft = fft(reshape(contmod2.bx, contmod2.Ny, contmod2.Nx))\n",
    "bxfft[.!filter] .= 0.0\n",
    "bxifft = real.(ifft(bxfft))\n",
    "bxifft[.!contmod2.isgrid] .= 0.0\n",
    "contmod2.bx = vec(bxifft);"
   ]
  },
  {
   "cell_type": "code",
   "execution_count": 12,
   "id": "c840a9b4-cf83-4e96-8ae0-2548730002bf",
   "metadata": {},
   "outputs": [],
   "source": [
    "# Filter by\n",
    "byfft = fft(reshape(contmod2.by, contmod2.Ny, contmod2.Nx))\n",
    "byfft[.!filter] .= 0.0\n",
    "byifft = real.(ifft(byfft))\n",
    "byifft[.!contmod2.isgrid] .= 0.0\n",
    "contmod2.by = vec(byifft);"
   ]
  },
  {
   "cell_type": "code",
   "execution_count": 13,
   "id": "61055cdf-1a06-44a7-962f-fce206c33b62",
   "metadata": {},
   "outputs": [],
   "source": [
    "# Filter p\n",
    "ptemp = zeros(contmod2.Ny * contmod2.Nx)\n",
    "ptemp[contmod2.isgrid] = contmod2.p\n",
    "pfft = fft(reshape(ptemp, contmod2.Ny, contmod2.Nx))\n",
    "pfft[.!filter] .= 0.0\n",
    "pifft = real.(ifft(pfft))\n",
    "pifft[.!contmod2.isgrid] .= 0.0\n",
    "ptemp2 = vec(pifft)[contmod2.isgrid]\n",
    "ptemp2 .-= sum(ptemp2) / sum(contmod2.isgrid)\n",
    "contmod2.p = ptemp2;"
   ]
  },
  {
   "cell_type": "code",
   "execution_count": 14,
   "id": "4e68c0cf-a34c-4ab8-934f-a99f7743c3ba",
   "metadata": {},
   "outputs": [
    {
     "name": "stdout",
     "output_type": "stream",
     "text": [
      "[10000.0 9.047111319127055e-5]\n",
      "[20000.0 3.0717868552132543e-5]\n",
      "[30000.0 1.5777396266236643e-5]\n",
      "[40000.0 1.0232021236733502e-5]\n",
      "[50000.0 6.8541442663772045e-6]\n",
      "[60000.0 4.650279317619521e-6]\n",
      "[70000.0 3.222944455094634e-6]\n",
      "[80000.0 2.3038767393845916e-6]\n",
      "[90000.0 1.7144683333025768e-6]\n",
      "[100000.0 1.3374745000405142e-6]\n",
      "[110000.0 1.0967501860026374e-6]\n",
      "[120000.0 9.432006455867281e-7]\n",
      "[130000.0 8.45320402342864e-7]\n",
      "[140000.0 7.829513877233296e-7]\n",
      "[150000.0 7.432196480472442e-7]\n",
      "[160000.0 7.179125425249566e-7]\n",
      "[170000.0 7.017946328513602e-7]\n",
      "[180000.0 6.915298063070452e-7]\n",
      "[190000.0 6.849927771668263e-7]\n",
      "[200000.0 6.808298305127636e-7]\n",
      "[210000.0 6.78178792012929e-7]\n",
      "[220000.0 6.764905766676321e-7]\n",
      "[230000.0 6.754155021937436e-7]\n",
      "[240000.0 6.747308864962775e-7]\n",
      "[250000.0 6.742949170135404e-7]\n",
      " 30.234148 seconds (2.27 M allocations: 81.681 GiB, 5.05% gc time, 0.06% compilation time)\n"
     ]
    }
   ],
   "source": [
    "# get stable solution for filtered model\n",
    "compute_stable_sol!(contmod2, interval = 10000, Niter = 250000, tol = 1e-7);"
   ]
  },
  {
   "cell_type": "code",
   "execution_count": 25,
   "id": "6848fbcb",
   "metadata": {},
   "outputs": [],
   "source": [
    "temp = zeros(size(contmod.isgrid))\n",
    "temp[contmod.isgrid] = contmod.p\n",
    "#println(size(contmod2.p))\n",
    "hm_plot(contmod, temp, borders = [border], c = :inferno)\n",
    "savefig(\"../figures/p_pre.svg\")\n",
    "\n",
    "temp = zeros(size(contmod.isgrid))\n",
    "temp[contmod.isgrid] = contmod2.p\n",
    "#println(size(contmod2.p))\n",
    "hm_plot(contmod, temp, borders = [border], c = :inferno)\n",
    "savefig(\"../figures/p_post.svg\")\n",
    "\n",
    "hm_plot(contmod, contmod.m, borders = [border], c = :inferno)\n",
    "savefig(\"../figures/m_pre.svg\")\n",
    "\n",
    "hm_plot(contmod, contmod2.m, borders = [border], c = :inferno)\n",
    "savefig(\"../figures/m_post.svg\")\n",
    "\n",
    "hm_plot(contmod, contmod.d, borders = [border], c = :inferno)\n",
    "savefig(\"../figures/d_pre.svg\")\n",
    "\n",
    "hm_plot(contmod, contmod2.d, borders = [border], c = :inferno)\n",
    "savefig(\"../figures/d_post.svg\")\n",
    "\n",
    "hm_plot(contmod, contmod.bx, borders = [border], c = :inferno)\n",
    "savefig(\"../figures/bx_pre.svg\")\n",
    "\n",
    "hm_plot(contmod, contmod2.bx, borders = [border], c = :inferno)\n",
    "savefig(\"../figures/bx_post.svg\")\n",
    "\n",
    "hm_plot(contmod, contmod.by, borders = [border], c = :inferno)\n",
    "savefig(\"../figures/by_pre.svg\")\n",
    "\n",
    "hm_plot(contmod, contmod2.by, borders = [border], c = :inferno)\n",
    "savefig(\"../figures/by_post.svg\")\n",
    "\n",
    "hm_plot(contmod, contmod.th, borders = [border], c = :inferno)\n",
    "savefig(\"../figures/theta_pre.svg\")\n",
    "\n",
    "hm_plot(contmod, contmod2.th, borders = [border], c = :inferno)\n",
    "savefig(\"../figures/theta_post.svg\")\n"
   ]
  },
  {
   "cell_type": "code",
   "execution_count": 15,
   "id": "f321fe3c-5196-432c-a79c-cebc42570a3c",
   "metadata": {},
   "outputs": [
    {
     "ename": "LoadError",
     "evalue": "UndefVarError: contmod not defined",
     "output_type": "error",
     "traceback": [
      "UndefVarError: contmod not defined",
      "",
      "Stacktrace:",
      " [1] top-level scope",
      "   @ In[15]:2",
      " [2] eval",
      "   @ ./boot.jl:360 [inlined]",
      " [3] include_string(mapexpr::typeof(REPL.softscope), mod::Module, code::String, filename::String)",
      "   @ Base ./loading.jl:1116"
     ]
    }
   ],
   "source": [
    "msize = 2\n",
    "clim = extrema([contmod.th; contmod2.th])\n",
    "fig, axs = plt.subplots(1,3, figsize=(8,2.5), gridspec_kw=py\"{\\\"width_ratios\\\":[1,1,0.05]}\")\n",
    "axs[1].scatter(contmod.coord[contmod.isinside,2], contmod.coord[contmod.isinside,1], c=contmod.th[contmod.isinside], s=msize, cmap=CMAP, vmin=clim[1], vmax=clim[2])\n",
    "axs[2].scatter(contmod2.coord[contmod2.isinside,2], contmod2.coord[contmod2.isinside,1], c=contmod2.th[contmod2.isinside], s=msize, cmap=CMAP, vmin=clim[1], vmax=clim[2])\n",
    "axs[1].set_aspect(\"equal\")\n",
    "axs[2].set_aspect(\"equal\")\n",
    "axs[1].axis(\"off\")\n",
    "axs[2].axis(\"off\")\n",
    "axs[1].text(0.1, 0.9, \"(a)\", transform=axs[1].transAxes)\n",
    "axs[2].text(0.1, 0.9, \"(b)\", transform=axs[2].transAxes)\n",
    "fig.colorbar(axs[2].collections[1], cax=axs[3])\n",
    "plt.subplots_adjust(left=0.0, right=0.9, top=1.0, bottom=0.0, wspace=0.05, hspace=0.05)\n",
    "plt.savefig(\"../figures/thetas_fourier.pdf\")"
   ]
  },
  {
   "cell_type": "code",
   "execution_count": 77,
   "id": "fda4361e-f130-4b32-beec-44a36c3a2cdc",
   "metadata": {},
   "outputs": [],
   "source": [
    "# create an horizontal color bar\n",
    "\n",
    "vmin = min(minimum(contmod2.th), minimum(contmod2.th))\n",
    "vmax = max(maximum(contmod2.th), maximum(contmod2.th))\n",
    "x = collect(0:0.01:1)\n",
    "x = collect(vmin:0.01:vmax)\n",
    "n = length(x)\n",
    "#nlabel = 7\n",
    "\n",
    "#dv = vmax - vmin\n",
    "#dtick = round(10 * dv / nlabel) / 10\n",
    "#floor(vmin/dtick):dtick:floor(vmax/dtick)\n",
    "#println(x)\n",
    "#, tick_direction=:out\n",
    "heatmap(x, [1], reshape(x,1,n), colorbar=false, yaxis=nothing, size=(400,50), xtick=-2:0.5:1.5)\n",
    "savefig(\"../figures/colorbar.svg\")"
   ]
  },
  {
   "cell_type": "code",
   "execution_count": null,
   "id": "a7dabf85",
   "metadata": {},
   "outputs": [],
   "source": [
    "# performing a dynamical simulation on the reduced model\n",
    "\n",
    " contmod2.p"
   ]
  }
 ],
 "metadata": {
  "kernelspec": {
   "display_name": "Julia 1.6.1",
   "language": "julia",
   "name": "julia-1.6"
  },
  "language_info": {
   "file_extension": ".jl",
   "mimetype": "application/julia",
   "name": "julia",
   "version": "1.6.1"
  }
 },
 "nbformat": 4,
 "nbformat_minor": 5
}

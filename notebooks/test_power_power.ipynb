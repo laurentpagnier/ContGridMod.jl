{
 "cells": [
  {
   "cell_type": "code",
   "execution_count": null,
   "id": "a6262fe5",
   "metadata": {},
   "outputs": [],
   "source": [
    "# load libraries and scripts\n",
    "import JSON\n",
    "using Plots\n",
    "using HDF5\n",
    "using Trapz\n",
    "using Statistics\n",
    "using GLMakie\n",
    "include(\"../scripts/tools.jl\")\n",
    "include(\"../scripts/stable.jl\")\n",
    "include(\"../scripts/get_grid.jl\")\n",
    "include(\"../scripts/get_params.jl\")"
   ]
  },
  {
   "cell_type": "code",
   "execution_count": null,
   "id": "ee10e9d6",
   "metadata": {},
   "outputs": [],
   "source": [
    "#load borders\n",
    "border = import_border(\"../data/border.json\")\n",
    "\n",
    "# create the lattice grid\n",
    "dx = 20\n",
    "Nx, Ny, xrange, yrange, isinside, isborder, n = get_grid(border, Float64(dx))"
   ]
  },
  {
   "cell_type": "code",
   "execution_count": null,
   "id": "78fb4674",
   "metadata": {},
   "outputs": [],
   "source": [
    "# compute or load grid parameters\n",
    "recompute_param = true\n",
    "if(recompute_param || isfile(\"../numerics/grid_params_\" * string(dx) * \".h5\"))\n",
    "    #bx, by, p, m, d = get_params_diff(isinside, isborder, Float64(dx), yrange, xrange, \"../data/pantagruel.h5\",\n",
    "    #    \"../numerics/grid_params_\" * string(dx) * \".h5\", Niter=5000, dmax = 10.0, patch=0.002, bmin=0.01)\n",
    "    bx, by, p, m, d = get_params(isinside, isborder, Float64(dx), yrange, xrange, \"../data/pantagruel.h5\",\n",
    "        \"../numerics/grid_params_\" * string(dx) * \".h5\")\n",
    "else\n",
    "    bx, by, p, m, d = get_params(isinside, \"../numerics/grid_params_\" * string(dx) * \".h5\")\n",
    "end"
   ]
  },
  {
   "cell_type": "code",
   "execution_count": null,
   "id": "4e5ca347",
   "metadata": {},
   "outputs": [],
   "source": [
    "# compute, iteratively, the stable solution\n",
    "th = compute_stable_sol(isinside, n, bx, by, p);\n",
    "\n",
    "fx, fy = power_flow(isinside, th, bx, by, Float64(dx))"
   ]
  },
  {
   "cell_type": "code",
   "execution_count": null,
   "id": "004cc850",
   "metadata": {},
   "outputs": [],
   "source": [
    "arrows(x[isinside],y[isinside],-fx[isinside],-fy[isinside], lengthscale = 500,arrowsize =1)"
   ]
  },
  {
   "cell_type": "code",
   "execution_count": null,
   "id": "bcccda2a",
   "metadata": {},
   "outputs": [],
   "source": [
    "Plots.contour(p,fill=true)"
   ]
  },
  {
   "cell_type": "code",
   "execution_count": null,
   "id": "3f1da863",
   "metadata": {},
   "outputs": [],
   "source": [
    "gen, dem, bline, idb, idgen, coord, mg, dg, dl, th = load_discrete_model(\"../data/pantagruel.h5\")\n",
    "p = -copy(dem)\n",
    "p[idgen] .+= gen \n",
    "Plots.contour(get_cont_values(isinside, yrange, xrange, coord, p),fill=true)\n"
   ]
  },
  {
   "cell_type": "code",
   "execution_count": null,
   "id": "a13e76b5",
   "metadata": {},
   "outputs": [],
   "source": [
    "sum(dem)"
   ]
  },
  {
   "cell_type": "code",
   "execution_count": null,
   "id": "23814ff4",
   "metadata": {},
   "outputs": [],
   "source": [
    "plot(is)"
   ]
  },
  {
   "cell_type": "code",
   "execution_count": null,
   "id": "377472c2",
   "metadata": {},
   "outputs": [],
   "source": []
  }
 ],
 "metadata": {
  "kernelspec": {
   "display_name": "Julia 1.6.2",
   "language": "julia",
   "name": "julia-1.6"
  },
  "language_info": {
   "file_extension": ".jl",
   "mimetype": "application/julia",
   "name": "julia",
   "version": "1.6.2"
  }
 },
 "nbformat": 4,
 "nbformat_minor": 5
}

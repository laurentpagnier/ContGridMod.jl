{
 "cells": [
  {
   "cell_type": "code",
   "execution_count": null,
   "id": "6d530133",
   "metadata": {},
   "outputs": [],
   "source": [
    "# load libraries and scripts\n",
    "import JSON\n",
    "using Plots\n",
    "using HDF5\n",
    "using Trapz\n",
    "using Statistics\n",
    "using SparseArrays\n",
    "using LinearAlgebra\n",
    "include(\"../scripts/tools.jl\")\n",
    "include(\"../scripts/get_grid.jl\")\n",
    "include(\"../scripts/get_params.jl\")\n",
    "include(\"../scripts/disturbances.jl\")\n",
    "include(\"../scripts/stable.jl\")\n",
    "include(\"../scripts/dynamics.jl\")\n",
    "include(\"../scripts/vectorize.jl\")"
   ]
  },
  {
   "cell_type": "code",
   "execution_count": null,
   "id": "79ffff69",
   "metadata": {},
   "outputs": [],
   "source": [
    "#load borders\n",
    "border = import_border(\"../data/borders/border.json\");"
   ]
  },
  {
   "cell_type": "code",
   "execution_count": null,
   "id": "1c4c5897",
   "metadata": {},
   "outputs": [],
   "source": [
    "# create the lattice grid\n",
    "dx = 20.0\n",
    "Nx, Ny, xrange, yrange, isinside, isborder, n, isgrid = get_grid(border, Float64(dx));"
   ]
  },
  {
   "cell_type": "code",
   "execution_count": null,
   "id": "ca2103ad-0fa9-4a1b-97f6-9926f5dcfd82",
   "metadata": {},
   "outputs": [],
   "source": [
    "plot(heatmap(xrange, yrange, 2 * isinside + isborder))"
   ]
  },
  {
   "cell_type": "code",
   "execution_count": null,
   "id": "fac5d645-947c-4b6e-b8e3-8b6425821a19",
   "metadata": {},
   "outputs": [],
   "source": [
    "heatmap(xrange,yrange,isgrid-isborder-isinside)"
   ]
  },
  {
   "cell_type": "code",
   "execution_count": null,
   "id": "91d4d44f",
   "metadata": {},
   "outputs": [],
   "source": [
    "# compute or load grid parameters\n",
    "recompute_param = true\n",
    "sigma = 150.0\n",
    "if(recompute_param || !isfile(\"../numerics/grid_params_\" * string(dx) * \".h5\"))\n",
    "    bx, by, p, m, d = get_params(isinside, isborder, n, Float64(dx), yrange, xrange, \"../data/disc/pantagruel.h5\",\n",
    "        \"../numerics/grid_params_\" * string(dx) * \".h5\", sigma=sigma)\n",
    "else\n",
    "    bx, by, p, m, d = get_params(isinside, \"../numerics/grid_params_\" * string(dx) * \".h5\");\n",
    "end"
   ]
  },
  {
   "cell_type": "code",
   "execution_count": null,
   "id": "0dddf52a",
   "metadata": {},
   "outputs": [],
   "source": [
    "plot(hm_plot(isgrid, xrange, yrange, bx), hm_plot(isgrid, xrange, yrange, by),\n",
    "    hm_plot(isgrid, xrange, yrange, m), hm_plot(isgrid, xrange, yrange, d), hm_plot(isgrid, xrange, yrange, p),\n",
    "    layout=(5,1), size=(700,1500))"
   ]
  },
  {
   "cell_type": "code",
   "execution_count": null,
   "id": "023a26d6",
   "metadata": {},
   "outputs": [],
   "source": [
    "# compute or load grid parameters\n",
    "recompute_param = true\n",
    "# sigma = 100.0\n",
    "if(recompute_param || !isfile(\"../numerics/grid_params_\" * string(dx) * \".h5\"))\n",
    "    bx, by, p, m, d = get_params_diff(isinside, n, Float64(dx), yrange, xrange, \"../data/disc/pantagruel.h5\",\n",
    "        \"../numerics/grid_params_\" * string(dx) * \".h5\", Niter = 10000, dmax = 10.0, patch=0.003, bmin=0.01)\n",
    "else\n",
    "    bx, by, p, m, d = get_params(isinside, \"../numerics/grid_params_\" * string(dx) * \".h5\");\n",
    "end"
   ]
  },
  {
   "cell_type": "code",
   "execution_count": null,
   "id": "24ec173a",
   "metadata": {},
   "outputs": [],
   "source": [
    "th0, ~ = compute_stable_sol(isinside, n, bx, by, p);"
   ]
  },
  {
   "cell_type": "code",
   "execution_count": null,
   "id": "93091cfb",
   "metadata": {},
   "outputs": [],
   "source": [
    "hm_plot(isgrid, xrange, yrange, th0)"
   ]
  },
  {
   "cell_type": "code",
   "execution_count": null,
   "id": "a3581053",
   "metadata": {
    "jupyter": {
     "source_hidden": true
    },
    "tags": []
   },
   "outputs": [],
   "source": [
    "m = 1e-5 * ones(Ny, Nx)\n",
    "d = 0.6 * m\n",
    "bx = 8 * ones(Ny, Nx)\n",
    "by = 8 * ones(Ny, Nx)\n",
    "p = zeros(Ny, Nx)\n",
    "m[.!isgrid] .= 0\n",
    "d[.!isgrid] .= 0\n",
    "p[.!isgrid] .= 0"
   ]
  },
  {
   "cell_type": "code",
   "execution_count": null,
   "id": "c141033c",
   "metadata": {
    "scrolled": true
   },
   "outputs": [],
   "source": [
    "isinsideflat, bxflat, byflat, pflat, minvflat, gammaflat, bflat, xneigh, yneigh = vectorize(isinside, n, bx, by, p, m, d);"
   ]
  },
  {
   "cell_type": "code",
   "execution_count": null,
   "id": "cb0f3d35-5a3c-42f0-9182-f4ecbdfecea1",
   "metadata": {},
   "outputs": [],
   "source": [
    "minimum(minvflat[isinsideflat])"
   ]
  },
  {
   "cell_type": "code",
   "execution_count": null,
   "id": "4d69b234",
   "metadata": {
    "tags": []
   },
   "outputs": [],
   "source": [
    "# define a disturbance\n",
    "dP = -9.0\n",
    "# dP = 0.0\n",
    "sigma = 200.0\n",
    "location = [-1500.0, -900.0]\n",
    "dp = local_disturbance(isgrid, xrange, yrange, location, dP, sigma)\n",
    "dpflat = vec(dp)\n",
    "println(\"Synchronized frequency: \", trapz((yrange, xrange), p .+ dp) / trapz((yrange, xrange), d))\n",
    "hm_plot(isinside, xrange, yrange, dp)\n"
   ]
  },
  {
   "cell_type": "code",
   "execution_count": null,
   "id": "514d224d-9bdc-41a2-9ec7-dcca6bde3024",
   "metadata": {},
   "outputs": [],
   "source": [
    "A = zeros(Nx * Ny, Nx * Ny)\n",
    "#Threads.@threads for i in 1:Nx*Ny\n",
    "mflat = vec(m)\n",
    "for i in 1:Nx*Ny\n",
    "    if(isinsideflat[i])\n",
    "        A[i, i-Ny] = bxflat[i-Ny] / mflat[i]\n",
    "        A[i, i+Ny] = bxflat[i] / mflat[i]\n",
    "        A[i, i-1] = byflat[i-1] / mflat[i]\n",
    "        A[i, i+1] = byflat[i] / mflat[i]\n",
    "        A[i, i] = -(bxflat[i-Ny] + bxflat[i] + byflat[i-1] + byflat[i]) / mflat[i]\n",
    "    end\n",
    "end\n",
    "\n",
    "#Threads.@threads for k in 1:size(n, 1)\n",
    "for k in 1:size(n, 1)\n",
    "    # with Nx goes out of bound\n",
    "    i = (Int64(n[k, 2]) - 1) * Ny + Int64(n[k, 1])\n",
    "    nx = n[k, 4] \n",
    "    ny = n[k, 3]\n",
    "    A[i, i-Ny] = (1 + nx) * bxflat[i-Ny] / mflat[i]\n",
    "    A[i, i+Ny] = (1 - nx) * bxflat[i] / mflat[i]\n",
    "    A[i, i-1] = (1 + ny) * byflat[i-1] / mflat[i]\n",
    "    A[i, i+1] = (1 - ny) * byflat[i] / mflat[i]\n",
    "    A[i, i] = -((1 + ny) * byflat[i-1] + (1 - ny) * byflat[i] + (1 - nx) * bxflat[i] + (1 + nx) * bxflat[i-Ny]) / mflat[i]\n",
    "end  \n",
    "A = sparse(A)"
   ]
  },
  {
   "cell_type": "code",
   "execution_count": null,
   "id": "32db22ad-6f5d-44f3-96c7-10f00b7b5da4",
   "metadata": {},
   "outputs": [],
   "source": [
    "isflat = vec(isgrid);"
   ]
  },
  {
   "cell_type": "code",
   "execution_count": null,
   "id": "86ea0699-e7ba-42cd-9876-3656bac00fe6",
   "metadata": {
    "tags": []
   },
   "outputs": [],
   "source": [
    "# perform a dynamical simulation\n",
    "mflat = vec(m)[isflat]\n",
    "dflat = vec(d)[isflat]\n",
    "interval = 1\n",
    "dt = 0.05\n",
    "Ndt = 1000\n",
    "\n",
    "println(\"Total time: \", dt * Ndt)\n",
    "\n",
    "Nn = sum(isflat)\n",
    "\n",
    "omegas = zeros(Nx * Ny,1 + Int64(ceil(Ndt/interval)))\n",
    "ts = zeros(1 + Int64(ceil(Ndt/interval)))\n",
    "th = [copy(vec(th0)[isflat]); zeros(Nn)]\n",
    "# th = zeros(2 * Nn)\n",
    "C = [Matrix(1.0I, Nn, Nn) Matrix(dt/2 * I, Nn, Nn);\n",
    "    dt / 2 * A[isflat, isflat] / dx^2 (-dt/2 * Diagonal(dflat./mflat) + Matrix(1.0I, Nn, Nn))]\n",
    "D = [Matrix(1.0I, Nn, Nn) Matrix(-dt/2 * I, Nn, Nn);\n",
    "    -dt/2 * A[isflat, isflat] / dx^2 (dt/2 * Diagonal(dflat./mflat) + Matrix(1.0I, Nn, Nn))]\n",
    "P = [zeros(Nn); dt * (pflat[isflat] .+ dpflat[isflat]) ./ mflat]\n",
    "# println(size(th))\n",
    "# println(size(P))\n",
    "\n",
    "@time begin\n",
    "    for t in 1:Ndt\n",
    "        v = C * th + P\n",
    "        th = D\\v\n",
    "        if(mod(t,interval) == 0)\n",
    "            println(\"NIter: \", t)\n",
    "            omegas[isflat,Int64(t/interval) + 1] = th[Nn+1:end]\n",
    "            ts[Int64(t/interval) + 1] = t*dt\n",
    "        end\n",
    "    end\n",
    "end\n",
    "# Rewrite omegas and thetas in 2d format\n",
    "omegasre = zeros(Ny,Nx,1 + Int64(ceil(Ndt/interval)))\n",
    "for i=1:1 + Int64(ceil(Ndt/interval))\n",
    "    for j=1:Nx*Ny\n",
    "        omegasre[(j-1) % Ny + 1, (j-1) ÷ Ny + 1, i] = omegas[j, i]\n",
    "    end\n",
    "end"
   ]
  },
  {
   "cell_type": "code",
   "execution_count": null,
   "id": "9aaa613d-6662-4bc5-85e1-0c38d7774b63",
   "metadata": {},
   "outputs": [],
   "source": [
    "start=1\n",
    "plot(ts,omegasre[20,20,start:end])\n",
    "plot!(ts,omegasre[60,80,start:end])\n",
    "plot!(ts,omegasre[10,100,start:end])\n",
    "plot!(ts,omegasre[24,121,start:end])\n",
    "xlabel!(\"\\$t[s]\\$\")\n",
    "ylabel!(\"\\$\\\\omega[1/s]\\$\")"
   ]
  },
  {
   "cell_type": "code",
   "execution_count": null,
   "id": "26729968-fcc6-4efd-a315-2c0463327be8",
   "metadata": {},
   "outputs": [],
   "source": [
    "@gif for i=1:size(omegasre,3)\n",
    "# @gif for i=1:30\n",
    "#     do_plot(isinside, omegas[:,:,i])\n",
    "    hm_plot(isinside, xrange, yrange, omegasre[:,:,i], clim=(minimum(omegasre), maximum(omegasre)))\n",
    "    #contour(omegas[:,:,i],fill=true,levels= -2:0.1:2)\n",
    "    #contour(omegas[:,:,i],fill=true)\n",
    "end"
   ]
  },
  {
   "cell_type": "code",
   "execution_count": null,
   "id": "1e449bc0-d934-44b0-bdc0-5a7410b7c25a",
   "metadata": {},
   "outputs": [],
   "source": [
    "mean(omegasre[isgrid, 1 + Int64(ceil(Ndt/interval))])"
   ]
  },
  {
   "cell_type": "code",
   "execution_count": null,
   "id": "f27aaac8-f7b3-4903-9e88-0ae0a84158db",
   "metadata": {},
   "outputs": [],
   "source": [
    "sum(dpflat)"
   ]
  },
  {
   "cell_type": "code",
   "execution_count": null,
   "id": "aca84c4f",
   "metadata": {},
   "outputs": [],
   "source": []
  }
 ],
 "metadata": {
  "kernelspec": {
   "display_name": "Julia 1.6.2",
   "language": "julia",
   "name": "julia-1.6"
  },
  "language_info": {
   "file_extension": ".jl",
   "mimetype": "application/julia",
   "name": "julia",
   "version": "1.6.2"
  }
 },
 "nbformat": 4,
 "nbformat_minor": 5
}

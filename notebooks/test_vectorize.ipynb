{
 "cells": [
  {
   "cell_type": "code",
   "execution_count": 8,
   "id": "6d530133",
   "metadata": {
    "scrolled": false
   },
   "outputs": [
    {
     "data": {
      "text/plain": [
       "vectorize (generic function with 1 method)"
      ]
     },
     "execution_count": 8,
     "metadata": {},
     "output_type": "execute_result"
    }
   ],
   "source": [
    "# load libraries and scripts\n",
    "using HDF5\n",
    "using Trapz\n",
    "#using Statistics\n",
    "include(\"../scripts/plotting.jl\")\n",
    "include(\"../scripts/tools.jl\")\n",
    "include(\"../scripts/get_grid.jl\")\n",
    "include(\"../scripts/get_params.jl\")\n",
    "include(\"../scripts/disturbances.jl\")\n",
    "include(\"../scripts/stable.jl\")\n",
    "include(\"../scripts/dynamics.jl\")"
   ]
  },
  {
   "cell_type": "code",
   "execution_count": 9,
   "id": "79ffff69",
   "metadata": {},
   "outputs": [
    {
     "name": "stdout",
     "output_type": "stream",
     "text": [
      "border\n"
     ]
    },
    {
     "data": {
      "text/plain": [
       "4×2 Matrix{Float64}:\n",
       "  0.0  -0.866025\n",
       "  1.0   0.866025\n",
       " -1.0   0.866025\n",
       "  0.0  -0.866025"
      ]
     },
     "execution_count": 9,
     "metadata": {},
     "output_type": "execute_result"
    }
   ],
   "source": [
    "#load borders\n",
    "border, scale_factor = import_border(\"../data/borders/border.json\");\n",
    "\n",
    "data, ~ = import_json_numerics(\"../data/test/triangle.json\");\n",
    "border = data[\"border\"]"
   ]
  },
  {
   "cell_type": "code",
   "execution_count": 10,
   "id": "1c4c5897",
   "metadata": {},
   "outputs": [
    {
     "name": "stdout",
     "output_type": "stream",
     "text": [
      "  0.005628 seconds (146.94 k allocations: 16.408 MiB)\n"
     ]
    }
   ],
   "source": [
    "# create the lattice grid\n",
    "include(\"../scripts/get_grid.jl\")\n",
    "dx = 0.01\n",
    "@time begin\n",
    "Nx, Ny, xrange, yrange, isinside, isborder, n, isgrid = get_grid(border, Float64(dx));\n",
    "end\n",
    "\n",
    "#@time begin\n",
    "#Nx, Ny, xrange, yrange, isinside, isborder, n, isgrid = get_grid_fast(border, Float64(dx));\n",
    "#end"
   ]
  },
  {
   "cell_type": "code",
   "execution_count": 40,
   "id": "407449b9",
   "metadata": {},
   "outputs": [
    {
     "name": "stdout",
     "output_type": "stream",
     "text": [
      "(36312,)\n",
      "(36312,)\n"
     ]
    },
    {
     "ename": "LoadError",
     "evalue": "syntax: missing separator in array expression",
     "output_type": "error",
     "traceback": [
      "syntax: missing separator in array expression",
      "",
      "Stacktrace:",
      " [1] top-level scope",
      "   @ In[40]:10",
      " [2] eval",
      "   @ ./boot.jl:360 [inlined]",
      " [3] include_string(mapexpr::typeof(REPL.softscope), mod::Module, code::String, filename::String)",
      "   @ Base ./loading.jl:1094"
     ]
    }
   ],
   "source": [
    "#p = [(xrange[j],yrange[i]) for i in 1:Ny for j in 1:Nx]\n",
    "p = [(yrange[i], xrange[j]) for i in 1:Ny for j in 1:Nx]\n",
    "x = repeat(reshape(xrange,1,Nx), Ny, 1)\n",
    "y = repeat(reshape(yrange,Ny,1), 1, Nx);\n",
    "#x = repeat(xrange,1,1:Ny)\n",
    "#println(size(y))\n",
    "#println(size(x))\n",
    "println(size(p))\n",
    "println(size(vec(isinside)))\n",
    "scatter([p[i][1] for i in 1:length(p)], [p[i][2]  for i in 1:length(p)])"
   ]
  },
  {
   "cell_type": "code",
   "execution_count": null,
   "id": "a3581053",
   "metadata": {
    "tags": []
   },
   "outputs": [],
   "source": [
    "m = 30 * ones(Ny, Nx)\n",
    "d = 0.6 * m\n",
    "bx = 10 * ones(Ny, Nx)\n",
    "by = 10 * ones(Ny, Nx)\n",
    "p = zeros(Ny, Nx)\n",
    "m[.!isgrid] .= 0\n",
    "d[.!isgrid] .= 0\n",
    "p[.!isgrid] .= 0;"
   ]
  },
  {
   "cell_type": "code",
   "execution_count": null,
   "id": "c141033c",
   "metadata": {},
   "outputs": [],
   "source": [
    "@time begin\n",
    "isinsideflat, pflat, minvflat, gammaflat, xi = vectorize(isinside, isborder, n, bx, by, p, m, d);\n",
    "end\n",
    "\n",
    "#@time begin\n",
    "#isinsideflat, pflat, minvflat, gammaflat, xi2 = vectorize(isinside, isborder, n, bx, by, p, m, d);\n",
    "#end\n",
    "#sum(abs.(Array{Float64,2}(xi)-Array{Float64,2}(xi2)))"
   ]
  },
  {
   "cell_type": "code",
   "execution_count": null,
   "id": "cb0f3d35-5a3c-42f0-9182-f4ecbdfecea1",
   "metadata": {},
   "outputs": [],
   "source": [
    "isgridflat = vec(isinside .| isborder);"
   ]
  },
  {
   "cell_type": "code",
   "execution_count": null,
   "id": "4d69b234",
   "metadata": {
    "tags": []
   },
   "outputs": [],
   "source": [
    "# define a disturbance\n",
    "dP = -9.0\n",
    "# dP = 0.0\n",
    "sigma = 100.0 / scale_factor\n",
    "location = [-1500.0, -900.0] / scale_factor\n",
    "sigma = 0.1\n",
    "location = [00.0, 00.0] / scale_factor\n",
    "dp = local_disturbance(isgrid, xrange, yrange, location, dP, sigma)\n",
    "dpflat = vec(dp)\n",
    "println(\"Synchronized frequency: \", trapz((yrange, xrange), p .+ dp) / trapz((yrange, xrange), d))\n",
    "println(\"Synchronized frequency: \", sum(p .+ dp) / sum(d))\n",
    "hm_plot(isinside, xrange, yrange, dp)\n"
   ]
  },
  {
   "cell_type": "code",
   "execution_count": null,
   "id": "514d224d-9bdc-41a2-9ec7-dcca6bde3024",
   "metadata": {},
   "outputs": [],
   "source": [
    "th0 = zeros(Ny * Nx)\n",
    "\n",
    "ts, ~, omegas = perform_dyn_sim(isgridflat, xi, pflat[isgridflat]+dpflat[isgridflat],\n",
    "    minvflat, gammaflat, th0, interval = 100, Ndt = Int64(30000), dt = 0.001, method = \"crank-nicolson\")\n",
    "o_ref = sum(p .+ dp) / sum(d)\n",
    "sum(omegas[:,end])/sum(isgridflat) / o_ref"
   ]
  },
  {
   "cell_type": "code",
   "execution_count": null,
   "id": "32db22ad-6f5d-44f3-96c7-10f00b7b5da4",
   "metadata": {},
   "outputs": [],
   "source": [
    "# backward Euler\n",
    "coord = [500 -250; 0.0 0.0; -500 500; 500. 500.; -1500.0 -1000.0; 750.0 -1000; -1000 -400]/scale_factor\n",
    "time_plot(ts_be, omegas_be, coord, tstart = 0.0, tend = 50.0, borders = [border])"
   ]
  },
  {
   "cell_type": "code",
   "execution_count": null,
   "id": "35ebdb86",
   "metadata": {},
   "outputs": [],
   "source": [
    "# Crank-Nicolson\n",
    "coord = [500 -250; 0.0 0.0; -500 500; 500. 500.; -1500.0 -1000.0; 750.0 -1000; -1000 -400]\n",
    "time_plot(ts_cn, omegas_cn, coord, tstart = 0.0, tend = 10.0, borders = [border])"
   ]
  },
  {
   "cell_type": "code",
   "execution_count": null,
   "id": "b2443ec8",
   "metadata": {},
   "outputs": [],
   "source": [
    "# \"Standard vec\"\n",
    "coord = [500 -250; 0.0 0.0; -500 500; 500. 500.; -1500.0 -1000.0; 750.0 -1000; -1000 -400]\n",
    "time_plot(ts_v, omegas_v, coord, tstart = 0.0, tend = 10.0, borders = [border])"
   ]
  },
  {
   "cell_type": "code",
   "execution_count": null,
   "id": "4d5db767",
   "metadata": {},
   "outputs": [],
   "source": [
    "heatmap(omegas_be[:,:,10],fill=true)\n"
   ]
  },
  {
   "cell_type": "code",
   "execution_count": null,
   "id": "fde2a4bd",
   "metadata": {},
   "outputs": [],
   "source": []
  },
  {
   "cell_type": "code",
   "execution_count": null,
   "id": "c4ba9f85",
   "metadata": {},
   "outputs": [],
   "source": [
    "N = sum(isgridflat)\n",
    "dt = 0.001\n",
    "th0 = zeros(Ny * Nx)\n",
    "\n",
    "I = sparse(1:N, 1:N, ones(N))\n",
    "A = [I -dt / 2 * I;\n",
    "    - dt / 2 / dx^2 * sparse(1:N, 1:N, minvflat) * xi (I + dt/2 * sparse(1:N, 1:N, gammaflat))]\n",
    "B = [I dt / 2 * I;\n",
    "    dt / 2 / dx^2 * sparse(1:N, 1:N, minvflat) * xi (I - dt/2 * sparse(1:N, 1:N, gammaflat))]\n",
    "C = [zeros(N); dt * sparse(1:N, 1:N, minvflat) * dpflat[isgridflat]]\n",
    "x = [zeros(N); th0[isgridflat]]\n",
    "x2 = [zeros(N); th0[isgridflat]]\n",
    "println(size(x))\n",
    "println(size(A))\n",
    "println(size(B))\n",
    "println(size(C))\n",
    "@time begin\n",
    "    x1 = A \\ (B * x + C)\n",
    "end\n",
    "x = [zeros(N); th0[isgridflat]]\n",
    "@time begin\n",
    "    gmres!(x2, A, (B * x + C))\n",
    "end\n",
    "\n",
    "println(sum(abs.(A * x1 - (B * x + C))))\n",
    "println(sum(abs.(A * x2 - (B * x + C))))"
   ]
  },
  {
   "cell_type": "code",
   "execution_count": null,
   "id": "7a2df6ec",
   "metadata": {},
   "outputs": [],
   "source": []
  },
  {
   "cell_type": "code",
   "execution_count": null,
   "id": "d20010ed",
   "metadata": {},
   "outputs": [],
   "source": []
  }
 ],
 "metadata": {
  "kernelspec": {
   "display_name": "Julia 1.6.2",
   "language": "julia",
   "name": "julia-1.6"
  },
  "language_info": {
   "file_extension": ".jl",
   "mimetype": "application/julia",
   "name": "julia",
   "version": "1.6.2"
  }
 },
 "nbformat": 4,
 "nbformat_minor": 5
}

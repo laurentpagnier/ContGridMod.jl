{
 "cells": [
  {
   "cell_type": "code",
   "execution_count": 51,
   "id": "6d530133",
   "metadata": {},
   "outputs": [
    {
     "data": {
      "text/plain": [
       "vectorize (generic function with 1 method)"
      ]
     },
     "execution_count": 51,
     "metadata": {},
     "output_type": "execute_result"
    }
   ],
   "source": [
    "# load libraries and scripts\n",
    "import JSON\n",
    "using Plots\n",
    "using HDF5\n",
    "using Trapz\n",
    "using Statistics\n",
    "using SparseArrays\n",
    "include(\"../scripts/tools.jl\")\n",
    "include(\"../scripts/get_grid.jl\")\n",
    "include(\"../scripts/get_params.jl\")\n",
    "include(\"../scripts/disturbances.jl\")\n",
    "include(\"../scripts/stable.jl\")\n",
    "include(\"../scripts/dynamics.jl\")\n",
    "include(\"../scripts/vectorize.jl\")"
   ]
  },
  {
   "cell_type": "code",
   "execution_count": 2,
   "id": "79ffff69",
   "metadata": {},
   "outputs": [],
   "source": [
    "#load borders\n",
    "border = import_border(\"../data/borders/border.json\");"
   ]
  },
  {
   "cell_type": "code",
   "execution_count": 3,
   "id": "1c4c5897",
   "metadata": {},
   "outputs": [],
   "source": [
    "# create the lattice grid\n",
    "dx = 20.0\n",
    "Nx, Ny, xrange, yrange, isinside, isborder, n, isgrid = get_grid(border, Float64(dx));"
   ]
  },
  {
   "cell_type": "code",
   "execution_count": null,
   "id": "023a26d6",
   "metadata": {},
   "outputs": [],
   "source": [
    "# compute or load grid parameters\n",
    "recompute_param = true\n",
    "#sigma = 100.0\n",
    "if(recompute_param || !isfile(\"../numerics/grid_params_\" * string(dx) * \".h5\"))\n",
    "    bx, by, p, m, d = get_params_diff(isinside, n, Float64(dx), yrange, xrange, \"../data/disc/pantagruel.h5\",\n",
    "        \"../numerics/grid_params_\" * string(dx) * \".h5\", Niter = 10000, dmax = 10.0, patch=0.003, bmin=0.01)\n",
    "else\n",
    "    bx, by, p, m, d = get_params(isinside, \"../numerics/grid_params_\" * string(dx) * \".h5\");\n",
    "end"
   ]
  },
  {
   "cell_type": "code",
   "execution_count": 4,
   "id": "a3581053",
   "metadata": {},
   "outputs": [
    {
     "data": {
      "text/plain": [
       "119×159 Matrix{Float64}:\n",
       " 0.0  0.0  0.0  0.0  0.0  0.0  0.0  0.0  …  0.0  0.0  0.0  0.0  0.0  0.0  0.0\n",
       " 0.0  0.0  0.0  0.0  0.0  0.0  0.0  0.0     0.0  0.0  0.0  0.0  0.0  0.0  0.0\n",
       " 0.0  0.0  0.0  0.0  0.0  0.0  0.0  0.0     0.0  0.0  0.0  0.0  0.0  0.0  0.0\n",
       " 0.0  0.0  0.0  0.0  0.0  0.0  0.0  0.0     0.0  0.0  0.0  0.0  0.0  0.0  0.0\n",
       " 0.0  0.0  0.0  0.0  0.0  0.0  0.0  0.0     0.0  0.0  0.0  0.0  0.0  0.0  0.0\n",
       " 0.0  0.0  0.0  0.0  0.0  0.0  0.0  0.0  …  0.0  0.0  0.0  0.0  0.0  0.0  0.0\n",
       " 0.0  0.0  0.0  0.0  0.0  0.0  0.0  0.0     0.0  0.0  0.0  0.0  0.0  0.0  0.0\n",
       " 0.0  0.0  0.0  0.0  0.0  0.0  0.0  0.0     0.0  0.0  0.0  0.0  0.0  0.0  0.0\n",
       " 0.0  0.0  0.0  0.0  0.0  0.0  0.0  0.0     0.0  0.0  0.0  0.0  0.0  0.0  0.0\n",
       " 0.0  0.0  0.0  0.0  0.0  0.0  0.0  0.0     0.0  0.0  0.0  0.0  0.0  0.0  0.0\n",
       " 0.0  0.0  0.0  0.0  0.0  0.0  0.0  0.0  …  0.0  0.0  0.0  0.0  0.0  0.0  0.0\n",
       " 0.0  0.0  0.0  0.0  0.0  0.0  0.0  0.0     0.0  0.0  0.0  0.0  0.0  0.0  0.0\n",
       " 0.0  0.0  0.0  0.0  0.0  0.0  0.0  0.0     0.0  0.0  0.0  0.0  0.0  0.0  0.0\n",
       " ⋮                        ⋮              ⋱                 ⋮              \n",
       " 0.0  0.0  0.0  0.0  0.0  0.0  0.0  0.0     0.0  0.0  0.0  0.0  0.0  0.0  0.0\n",
       " 0.0  0.0  0.0  0.0  0.0  0.0  0.0  0.0     0.0  0.0  0.0  0.0  0.0  0.0  0.0\n",
       " 0.0  0.0  0.0  0.0  0.0  0.0  0.0  0.0     0.0  0.0  0.0  0.0  0.0  0.0  0.0\n",
       " 0.0  0.0  0.0  0.0  0.0  0.0  0.0  0.0  …  0.0  0.0  0.0  0.0  0.0  0.0  0.0\n",
       " 0.0  0.0  0.0  0.0  0.0  0.0  0.0  0.0     0.0  0.0  0.0  0.0  0.0  0.0  0.0\n",
       " 0.0  0.0  0.0  0.0  0.0  0.0  0.0  0.0     0.0  0.0  0.0  0.0  0.0  0.0  0.0\n",
       " 0.0  0.0  0.0  0.0  0.0  0.0  0.0  0.0     0.0  0.0  0.0  0.0  0.0  0.0  0.0\n",
       " 0.0  0.0  0.0  0.0  0.0  0.0  0.0  0.0     0.0  0.0  0.0  0.0  0.0  0.0  0.0\n",
       " 0.0  0.0  0.0  0.0  0.0  0.0  0.0  0.0  …  0.0  0.0  0.0  0.0  0.0  0.0  0.0\n",
       " 0.0  0.0  0.0  0.0  0.0  0.0  0.0  0.0     0.0  0.0  0.0  0.0  0.0  0.0  0.0\n",
       " 0.0  0.0  0.0  0.0  0.0  0.0  0.0  0.0     0.0  0.0  0.0  0.0  0.0  0.0  0.0\n",
       " 0.0  0.0  0.0  0.0  0.0  0.0  0.0  0.0     0.0  0.0  0.0  0.0  0.0  0.0  0.0"
      ]
     },
     "execution_count": 4,
     "metadata": {},
     "output_type": "execute_result"
    }
   ],
   "source": [
    "m = 1e-5 * ones(Ny, Nx)\n",
    "d = 0.6 * m\n",
    "bx = 8 * ones(Ny, Nx)\n",
    "by = 8 * ones(Ny, Nx)\n",
    "p = zeros(Ny, Nx)\n"
   ]
  },
  {
   "cell_type": "code",
   "execution_count": 52,
   "id": "c141033c",
   "metadata": {
    "scrolled": true
   },
   "outputs": [],
   "source": [
    "isinsideflat, bxflat, byflat, pflat, minvflat, gammaflat, bflat, xneigh, yneigh = vectorize(isinside, n, bx, by, p, m, d);"
   ]
  },
  {
   "cell_type": "code",
   "execution_count": 10,
   "id": "4d69b234",
   "metadata": {},
   "outputs": [],
   "source": [
    "# define a disturbance\n",
    "dP = -9.0\n",
    "# dP = 0.0\n",
    "sigma = 100.0\n",
    "location = [-1500.0, -900.0]\n",
    "dp = local_disturbance(isgrid, xrange, yrange, location, dP, sigma)\n",
    "dpflat = [dp[i,j] for i=1:Ny for j=1:Nx];\n",
    "\n"
   ]
  },
  {
   "cell_type": "code",
   "execution_count": 53,
   "id": "b2653e62",
   "metadata": {},
   "outputs": [
    {
     "name": "stdout",
     "output_type": "stream",
     "text": [
      "Total time: 1.0\n",
      "NIter: 100\n",
      "NIter: 200\n",
      "NIter: 300\n",
      "NIter: 400\n",
      "NIter: 500\n",
      "NIter: 600\n",
      "NIter: 700\n",
      "NIter: 800\n",
      "NIter: 900\n",
      "NIter: 1000\n",
      "NIter: 1100\n",
      "NIter: 1200\n",
      "NIter: 1300\n",
      "NIter: 1400\n",
      "NIter: 1500\n",
      "NIter: 1600\n",
      "NIter: 1700\n",
      "NIter: 1800\n",
      "NIter: 1900\n",
      "NIter: 2000\n",
      "NIter: 2100\n",
      "NIter: 2200\n",
      "NIter: 2300\n",
      "NIter: 2400\n",
      "NIter: 2500\n",
      "NIter: 2600\n",
      "NIter: 2700\n",
      "NIter: 2800\n",
      "NIter: 2900\n",
      "NIter: 3000\n",
      "NIter: 3100\n",
      "NIter: 3200\n",
      "NIter: 3300\n",
      "NIter: 3400\n",
      "NIter: 3500\n",
      "NIter: 3600\n",
      "NIter: 3700\n",
      "NIter: 3800\n",
      "NIter: 3900\n",
      "NIter: 4000\n",
      "NIter: 4100\n",
      "NIter: 4200\n",
      "NIter: 4300\n",
      "NIter: 4400\n",
      "NIter: 4500\n",
      "NIter: 4600\n",
      "NIter: 4700\n",
      "NIter: 4800\n",
      "NIter: 4900\n",
      "NIter: 5000\n",
      "NIter: 5100\n",
      "NIter: 5200\n",
      "NIter: 5300\n",
      "NIter: 5400\n",
      "NIter: 5500\n",
      "NIter: 5600\n",
      "NIter: 5700\n",
      "NIter: 5800\n",
      "NIter: 5900\n",
      "NIter: 6000\n",
      "NIter: 6100\n",
      "NIter: 6200\n",
      "NIter: 6300\n",
      "NIter: 6400\n",
      "NIter: 6500\n",
      "NIter: 6600\n",
      "NIter: 6700\n",
      "NIter: 6800\n",
      "NIter: 6900\n",
      "NIter: 7000\n",
      "NIter: 7100\n",
      "NIter: 7200\n",
      "NIter: 7300\n",
      "NIter: 7400\n",
      "NIter: 7500\n",
      "NIter: 7600\n",
      "NIter: 7700\n",
      "NIter: 7800\n",
      "NIter: 7900\n",
      "NIter: 8000\n",
      "NIter: 8100\n",
      "NIter: 8200\n",
      "NIter: 8300\n",
      "NIter: 8400\n",
      "NIter: 8500\n",
      "NIter: 8600\n",
      "NIter: 8700\n",
      "NIter: 8800\n",
      "NIter: 8900\n",
      "NIter: 9000\n",
      "NIter: 9100\n",
      "NIter: 9200\n",
      "NIter: 9300\n",
      "NIter: 9400\n",
      "NIter: 9500\n",
      "NIter: 9600\n",
      "NIter: 9700\n",
      "NIter: 9800\n",
      "NIter: 9900\n",
      "NIter: 10000\n",
      "  7.552801 seconds (1.50 M allocations: 28.302 GiB, 8.43% gc time, 6.09% compilation time)\n"
     ]
    }
   ],
   "source": [
    "th0 = zeros(Nx * Ny)\n",
    "ts, thetas, omegas = perform_dyn_sim_vec(bxflat, byflat, xneigh, yneigh, bflat, pflat, minvflat, gammaflat, th0, interval = 100, Ndt = Int64(1E4), dt = 0.0001);"
   ]
  },
  {
   "cell_type": "code",
   "execution_count": 44,
   "id": "3f842367",
   "metadata": {},
   "outputs": [
    {
     "data": {
      "text/plain": [
       "SparseMatrixCSC{Any, Int64}"
      ]
     },
     "execution_count": 44,
     "metadata": {},
     "output_type": "execute_result"
    }
   ],
   "source": [
    "typeof(xneigh)"
   ]
  },
  {
   "cell_type": "code",
   "execution_count": null,
   "id": "eea1d266",
   "metadata": {},
   "outputs": [],
   "source": []
  }
 ],
 "metadata": {
  "kernelspec": {
   "display_name": "Julia 1.6.1",
   "language": "julia",
   "name": "julia-1.6"
  },
  "language_info": {
   "file_extension": ".jl",
   "mimetype": "application/julia",
   "name": "julia",
   "version": "1.6.1"
  }
 },
 "nbformat": 4,
 "nbformat_minor": 5
}

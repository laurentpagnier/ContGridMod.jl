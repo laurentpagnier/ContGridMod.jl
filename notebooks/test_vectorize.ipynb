{
 "cells": [
  {
   "cell_type": "code",
   "execution_count": null,
   "id": "6d530133",
   "metadata": {},
   "outputs": [],
   "source": [
    "# load libraries and scripts\n",
    "import JSON\n",
    "using Plots\n",
    "using HDF5\n",
    "using Trapz\n",
    "using Statistics\n",
    "using SparseArrays\n",
    "using LinearAlgebra\n",
    "include(\"../scripts/tools.jl\")\n",
    "include(\"../scripts/get_grid.jl\")\n",
    "include(\"../scripts/get_params.jl\")\n",
    "include(\"../scripts/disturbances.jl\")\n",
    "include(\"../scripts/stable.jl\")\n",
    "include(\"../scripts/dynamics.jl\")\n",
    "include(\"../scripts/vectorize.jl\")"
   ]
  },
  {
   "cell_type": "code",
   "execution_count": null,
   "id": "79ffff69",
   "metadata": {},
   "outputs": [],
   "source": [
    "#load borders\n",
    "border = import_border(\"../data/borders/border.json\");"
   ]
  },
  {
   "cell_type": "code",
   "execution_count": null,
   "id": "1c4c5897",
   "metadata": {},
   "outputs": [],
   "source": [
    "# create the lattice grid\n",
    "dx = 20.0\n",
    "Nx, Ny, xrange, yrange, isinside, isborder, n, isgrid = get_grid(border, Float64(dx));"
   ]
  },
  {
   "cell_type": "code",
   "execution_count": null,
   "id": "a3581053",
   "metadata": {
    "tags": []
   },
   "outputs": [],
   "source": [
    "m = 1e-5 * ones(Ny, Nx)\n",
    "d = 0.3 * m\n",
    "bx = 8 * ones(Ny, Nx)\n",
    "by = 8 * ones(Ny, Nx)\n",
    "p = zeros(Ny, Nx)\n",
    "m[.!isgrid] .= 0\n",
    "d[.!isgrid] .= 0\n",
    "p[.!isgrid] .= 0;"
   ]
  },
  {
   "cell_type": "code",
   "execution_count": null,
   "id": "c141033c",
   "metadata": {},
   "outputs": [],
   "source": [
    "isinsideflat, pflat, minvflat, gammaflat, xi = vectorize(isinside, isborder, n, bx, by, p, m, d);"
   ]
  },
  {
   "cell_type": "code",
   "execution_count": null,
   "id": "cb0f3d35-5a3c-42f0-9182-f4ecbdfecea1",
   "metadata": {},
   "outputs": [],
   "source": [
    "isgridflat = vec(isinside .| isborder);"
   ]
  },
  {
   "cell_type": "code",
   "execution_count": null,
   "id": "4d69b234",
   "metadata": {
    "tags": []
   },
   "outputs": [],
   "source": [
    "# define a disturbance\n",
    "dP = -9.0\n",
    "# dP = 0.0\n",
    "sigma = 100.0\n",
    "location = [-1500.0, -900.0]\n",
    "dp = local_disturbance(isgrid, xrange, yrange, location, dP, sigma)\n",
    "dpflat = vec(dp)\n",
    "println(\"Synchronized frequency: \", trapz((yrange, xrange), p .+ dp) / trapz((yrange, xrange), d))\n",
    "hm_plot(isinside, xrange, yrange, dp)\n"
   ]
  },
  {
   "cell_type": "code",
   "execution_count": null,
   "id": "514d224d-9bdc-41a2-9ec7-dcca6bde3024",
   "metadata": {},
   "outputs": [],
   "source": [
    "th0 = zeros(Ny*Nx)\n",
    "ts_be, ~, omegas_be = perform_dyn_sim_vec_backward_euler(isgridflat, xi, pflat[isgridflat]+dpflat[isgridflat],\n",
    "    minvflat, gammaflat, th0, interval = 5, Ndt = 2500, dt = 0.01)\n",
    "ts_cn, ~, omegas_cn = perform_dyn_sim_vec_crank_nicolson(isgridflat, xi, pflat[isgridflat]+dpflat[isgridflat],\n",
    "    minvflat, gammaflat, th0, interval = 1, Ndt = 500, dt = 0.05)\n",
    "ts_v, ~, omegas_v = perform_dyn_sim_vec(isgridflat, xi, pflat[isgridflat]+dpflat[isgridflat],\n",
    "    minvflat, gammaflat, th0, interval = 1000, Ndt = 250000, dt = 0.0001)\n",
    "omegas_be = back_to_2d(isgrid, omegas_be)\n",
    "omegas_cn = back_to_2d(isgrid, omegas_cn)\n",
    "omegas_v = back_to_2d(isgrid, omegas_v)"
   ]
  },
  {
   "cell_type": "code",
   "execution_count": null,
   "id": "32db22ad-6f5d-44f3-96c7-10f00b7b5da4",
   "metadata": {},
   "outputs": [],
   "source": [
    "# backward Euler\n",
    "coord = [500 -250; 0.0 0.0; -500 500; 500. 500.; -1500.0 -1000.0; 750.0 -1000; -1000 -400]\n",
    "time_plot(ts_be, omegas_be, coord, tstart = 0.0, tend = 10.0, borders = [border])"
   ]
  },
  {
   "cell_type": "code",
   "execution_count": null,
   "id": "35ebdb86",
   "metadata": {},
   "outputs": [],
   "source": [
    "# Crank-Nicolson\n",
    "coord = [500 -250; 0.0 0.0; -500 500; 500. 500.; -1500.0 -1000.0; 750.0 -1000; -1000 -400]\n",
    "time_plot(ts_cn, omegas_cn, coord, tstart = 0.0, tend = 10.0, borders = [border])"
   ]
  },
  {
   "cell_type": "code",
   "execution_count": null,
   "id": "b2443ec8",
   "metadata": {},
   "outputs": [],
   "source": [
    "# \"Standard vec\"\n",
    "coord = [500 -250; 0.0 0.0; -500 500; 500. 500.; -1500.0 -1000.0; 750.0 -1000; -1000 -400]\n",
    "time_plot(ts_v, omegas_v, coord, tstart = 0.0, tend = 10.0, borders = [border])"
   ]
  }
 ],
 "metadata": {
  "kernelspec": {
   "display_name": "Julia 1.6.2",
   "language": "julia",
   "name": "julia-1.6"
  },
  "language_info": {
   "file_extension": ".jl",
   "mimetype": "application/julia",
   "name": "julia",
   "version": "1.6.2"
  }
 },
 "nbformat": 4,
 "nbformat_minor": 5
}

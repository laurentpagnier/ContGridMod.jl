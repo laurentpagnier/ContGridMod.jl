{
 "cells": [
  {
   "cell_type": "code",
   "execution_count": null,
   "id": "b2b10492",
   "metadata": {},
   "outputs": [],
   "source": [
    "# load libraries and scripts\n",
    "import JSON\n",
    "using Plots\n",
    "using HDF5\n",
    "using Trapz\n",
    "using Statistics\n",
    "include(\"../scripts/tools.jl\")\n",
    "include(\"../scripts/get_grid.jl\")\n",
    "include(\"../scripts/get_params.jl\")\n",
    "include(\"../scripts/stable.jl\")\n",
    "include(\"../scripts/dynamics.jl\")"
   ]
  },
  {
   "cell_type": "code",
   "execution_count": null,
   "id": "02237e51",
   "metadata": {},
   "outputs": [],
   "source": [
    "#load borders\n",
    "border = import_border(\"../data/borders/border.json\")\n",
    "border = border\n",
    "# create the lattice grid\n",
    "dx = 20 \n",
    "Nx, Ny, xrange, yrange, isinside, isborder, n = get_grid(border, Float64(dx))\n",
    "isgrid = isinside .| isborder\n",
    "# define x and y coordinate for plotting\n",
    "x = repeat(reshape(xrange,1,Nx), Ny, 1)\n",
    "y = repeat(reshape(yrange,Ny,1), 1, Nx);"
   ]
  },
  {
   "cell_type": "code",
   "execution_count": null,
   "id": "10424f3d",
   "metadata": {
    "scrolled": true
   },
   "outputs": [],
   "source": [
    "# compute or load grid parameters\n",
    "bx, by, p, m, d = get_params_diff(isinside, n, Float64(dx), yrange, xrange, \"../data/disc/pantagruel.h5\",\n",
    "    \"../numerics/grid_params_\" * string(dx) * \".h5\", Niter=5000, dmax = 10.0, patch=0.002, bmin=0.01)"
   ]
  },
  {
   "cell_type": "code",
   "execution_count": null,
   "id": "ee447088",
   "metadata": {},
   "outputs": [],
   "source": [
    "hm_plot(isgrid, xrange, yrange, bx)\n",
    "hm_plot(isgrid, xrange, yrange, bx)"
   ]
  },
  {
   "cell_type": "code",
   "execution_count": null,
   "id": "b0d8f8ae",
   "metadata": {},
   "outputs": [],
   "source": [
    "# if grid params exist then plot bx and by\n",
    "if(isfile(\"../numerics/grid_params_\" * string(dx) * \".h5\"))\n",
    "    bx, by, p, m, d = get_params(isinside, \"../numerics/grid_params_\" * string(dx) * \".h5\")\n",
    "    x_for_bx = repeat(reshape(xrange,1,Nx),Ny,1) .+ dx/2\n",
    "    y_for_bx = repeat(reshape(yrange,Ny,1),1,Nx)\n",
    "    x_for_by = repeat(reshape(xrange,1,Nx),Ny,1)\n",
    "    y_for_by = repeat(reshape(yrange,Ny,1),1,Nx) .+ dx/2;\n",
    "    scatter(x[isgrid], y[isgrid], markershape=:circle, markersize=2, markerstrokewidth=0.2, label=\"nodes\")\n",
    "    id = findall(bx .> 0)\n",
    "    scatter!(x_for_bx[isgrid], y_for_bx[isgrid], markershape=:circle, markersize=2, markerstrokewidth=0.2, label=\"bx\")\n",
    "    id = findall(by .> 0)\n",
    "    scatter!(x_for_by[isgrid], y_for_by[isgrid], markershape=:circle, markersize=2, markerstrokewidth=0.2, label=\"by\")\n",
    "    savefig(\"susceptance.pdf\")\n",
    "end"
   ]
  },
  {
   "cell_type": "code",
   "execution_count": null,
   "id": "39cbd889",
   "metadata": {},
   "outputs": [],
   "source": [
    "minimum(by[isgrid])"
   ]
  },
  {
   "cell_type": "code",
   "execution_count": null,
   "id": "7ef2869a",
   "metadata": {},
   "outputs": [],
   "source": [
    "histogram(bx[isgrid])"
   ]
  },
  {
   "cell_type": "code",
   "execution_count": null,
   "id": "ced9c868",
   "metadata": {},
   "outputs": [],
   "source": []
  },
  {
   "cell_type": "code",
   "execution_count": null,
   "id": "4bb051c0",
   "metadata": {},
   "outputs": [],
   "source": []
  }
 ],
 "metadata": {
  "kernelspec": {
   "display_name": "Julia 1.6.2",
   "language": "julia",
   "name": "julia-1.6"
  },
  "language_info": {
   "file_extension": ".jl",
   "mimetype": "application/julia",
   "name": "julia",
   "version": "1.6.2"
  }
 },
 "nbformat": 4,
 "nbformat_minor": 5
}

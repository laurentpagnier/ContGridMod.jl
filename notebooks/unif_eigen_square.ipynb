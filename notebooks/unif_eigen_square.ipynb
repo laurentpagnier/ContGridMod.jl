{
 "cells": [
  {
   "cell_type": "code",
   "execution_count": null,
   "metadata": {},
   "outputs": [],
   "source": [
    "import JSON\n",
    "using Plots\n",
    "using HDF5\n",
    "using SparseArrays\n",
    "using IterativeSolvers\n",
    "using LinearAlgebra\n",
    "using Statistics\n",
    "include(\"../scripts/tools.jl\")\n",
    "include(\"../scripts/get_grid.jl\")"
   ]
  },
  {
   "cell_type": "code",
   "execution_count": null,
   "metadata": {},
   "outputs": [],
   "source": [
    "border = Float64.([-100 -100; -100 200; 100 200; 100 -100; -100 -100])\n",
    "println(size(border))\n",
    "dx = 5\n",
    "kk = 1\n",
    "dxs = vec([50,25, 20, 10, 5, ])\n",
    "values = zeros(length(dxs),10)\n",
    "for dx = dxs\n",
    "\n",
    "    Nx, Ny, xrange, yrange, isgrid, isborder, n = get_grid(border, Float64(dx))\n",
    "\n",
    "    id_xy = findall(isgrid)\n",
    "    id_x = Int64.(zeros(length(id_xy)))\n",
    "    id_y = Int64.(zeros(length(id_xy)))\n",
    "    for i in 1:length(id_xy)\n",
    "        id_y[i] = id_xy[i][1]\n",
    "        id_x[i] = id_xy[i][2]\n",
    "    end\n",
    "\n",
    "    Nbus = length(id_x)\n",
    "\n",
    "    # get the list of edges and susceptance vector\n",
    "    epsilon = Int64.(zeros(Int64(1E6),2))\n",
    "    b = zeros(Int64(1E6))\n",
    "    k = 1\n",
    "\n",
    "    for i=1:length(id_x)\n",
    "        if(isgrid[id_y[i], id_x[i]+1])\n",
    "            id = findall((id_y .== id_y[i]) .& (id_x .== (id_x[i]+1)))\n",
    "            epsilon[k,:] = [i id]\n",
    "            b[k] = 1\n",
    "            k += 1\n",
    "        end\n",
    "        if(isgrid[id_y[i]+1, id_x[i]])\n",
    "            id = findall((id_y .== (id_y[i]+1)) .& (id_x .== id_x[i]))\n",
    "            epsilon[k,:] = [i id]\n",
    "            b[k] = 1\n",
    "            k += 1\n",
    "        end\n",
    "    end\n",
    "    \n",
    "    N = k-1\n",
    "    epsilon = epsilon[1:N,:]\n",
    "    b = b[1:N]\n",
    "    #println(b)\n",
    "    \n",
    "    B = sparse([epsilon[:,1];epsilon[:,2]],[1:N; 1:N],[-ones(N); ones(N)])\n",
    "    Db = sparse(1:N, 1:N, b)\n",
    "    L = B * Db * B'\n",
    "    @time begin\n",
    "        eig = eigen(Array{Float64,2}(L))\n",
    "        V_ref = eig.vectors\n",
    "        D_ref = eig.values;\n",
    "    end\n",
    "    values[kk,:] = D_ref[2:11]\n",
    "    global kk += 1\n",
    "end"
   ]
  },
  {
   "cell_type": "code",
   "execution_count": null,
   "metadata": {},
   "outputs": [],
   "source": [
    "# v = sparse(1:length(dxs), 1:length(dxs), dxs.^(-2))*values\n",
    "#v = sparse(1:length(dxs), 1:length(dxs), dxs.^(-1))*values\n",
    "#v = values\n",
    "v = sparse(1:length(dxs), 1:length(dxs), dxs)*values\n",
    "#v = sparse(1:length(dxs), 1:length(dxs), dxs.^(2))*values\n",
    "plot(v')\n",
    "#plot!(xlims=(0,Inf), ylims=(0,1))"
   ]
  },
  {
   "cell_type": "code",
   "execution_count": null,
   "metadata": {},
   "outputs": [],
   "source": []
  }
 ],
 "metadata": {
  "kernelspec": {
   "display_name": "Julia 1.6.1",
   "language": "julia",
   "name": "julia-1.6"
  },
  "language_info": {
   "file_extension": ".jl",
   "mimetype": "application/julia",
   "name": "julia",
   "version": "1.6.1"
  }
 },
 "nbformat": 4,
 "nbformat_minor": 5
}

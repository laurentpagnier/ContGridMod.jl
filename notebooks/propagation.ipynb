{
 "cells": [
  {
   "cell_type": "code",
   "execution_count": null,
   "id": "4ced5118",
   "metadata": {},
   "outputs": [],
   "source": [
    "import JSON\n",
    "using Plots\n",
    "using Trapz\n",
    "using HDF5\n",
    "include(\"../scripts/tools.jl\")\n",
    "include(\"../scripts/get_grid.jl\")\n",
    "include(\"../scripts/get_params.jl\")\n",
    "include(\"../scripts/disturbances.jl\")"
   ]
  },
  {
   "cell_type": "code",
   "execution_count": null,
   "id": "0b7de196",
   "metadata": {
    "scrolled": true
   },
   "outputs": [],
   "source": [
    "border = import_border(\"../data/border.json\")\n",
    "dx = 20\n",
    "Nx, Ny, xrange, yrange, isinside, isborder, n = get_grid(border, Float64(dx))\n",
    "x = repeat(reshape(xrange,1,Nx),Ny,1)\n",
    "y = repeat(reshape(yrange,Ny,1),1,Nx)\n",
    "x_for_bx = repeat(reshape(xrange,1,Nx),Ny,1) .- dx/2\n",
    "y_for_bx = repeat(reshape(yrange,Ny,1),1,Nx)\n",
    "x_for_by = repeat(reshape(xrange,1,Nx),Ny,1)\n",
    "y_for_by = repeat(reshape(yrange,Ny,1),1,Nx) .+ dx/2;\n",
    "\n",
    "isgrid = isinside .| isborder\n",
    "\n",
    "plot(border[:,1], border[:,2])"
   ]
  },
  {
   "cell_type": "code",
   "execution_count": null,
   "id": "697af355",
   "metadata": {},
   "outputs": [],
   "source": [
    "sigma = 1E2\n",
    "recompute_param = false\n",
    "\n",
    "if(recompute_param)\n",
    "    bx, by, p, m, d = get_params(isborder, sigma,\n",
    "        \"../data/pantagruel.h5\", \"../numerics/grid_params_\" * string(dx) * \".h5\")\n",
    "else\n",
    "    bx, by, p, m, d = get_params(isinside, \"../numerics/grid_params_\" * string(dx) * \".h5\")\n",
    "end\n",
    "\n",
    "\n",
    "println(sum(p))\n",
    "\n",
    "#dP = -9.0\n",
    "dP = 0.0\n",
    "sigma = 30.0\n",
    "location = [-1500., -900.]\n",
    "dp = local_disturbance(isinside, xrange, yrange, location, dP, sigma)\n",
    "do_plot(isinside, dp)\n",
    "\n",
    "# u*dt^2/dx^2 should be << 1\n",
    "u = zeros(Ny,Nx)\n",
    "for j=2:Nx-1\n",
    "    for i=2:Ny-1\n",
    "        u[i,j] = (by[i-1,j] + by[i,j] + bx[i,j] + bx[i,j+1]) / m[i,j]\n",
    "    end\n",
    "end\n",
    "u[.!isinside] .= 0;\n",
    "minimum(bx)\n",
    "trapz((yrange,xrange),by) / trapz((yrange,xrange),isinside) "
   ]
  },
  {
   "cell_type": "code",
   "execution_count": null,
   "id": "b3828487",
   "metadata": {},
   "outputs": [],
   "source": [
    "interval = 100\n",
    "dt = 0.0001\n",
    "Ndt = 10000\n",
    "\n",
    "println(maximum(u)*dt^2/dx^2)\n",
    "\n",
    "gamma = d ./ m\n",
    "\n",
    "omegas = zeros(Ny,Nx,1 + Int64(ceil(Ndt/interval)))\n",
    "thetas = zeros(Ny,Nx,1 + Int64(ceil(Ndt/interval)))\n",
    "th_new = zeros(Ny,Nx)\n",
    "reset = true\n",
    "data = h5read(\"../numerics/stable_\" * string(dx) * \".h5\", \"/\")\n",
    "if(reset)\n",
    "    #th_old = zeros(Ny,Nx)\n",
    "    #th = zeros(Ny,Nx)\n",
    "    th_old = copy(data[\"th\"])\n",
    "    th = copy(data[\"th\"])\n",
    "    omegas[:,:,1] = zeros(size(th))\n",
    "    thetas[:,:,1] = copy(data[\"th\"])    \n",
    "end\n",
    "println(maximum(abs.(th_old[isinside])))\n",
    "\n",
    "ts = zeros(1 + Int64(ceil(Ndt/interval)))\n",
    "chi = 1 .+ gamma*dt/2\n",
    "\n",
    "@time begin\n",
    "    for k in 1:Ndt\n",
    "        \n",
    "        for i in 2:Ny-1\n",
    "            for j in 2:Nx-1\n",
    "                if(isinside[i,j])\n",
    "                    bij = (by[i-1,j] + by[i,j] + bx[i,j] + bx[i,j+1])\n",
    "                    th_new[i,j] = (2 - bij / m[i,j] * dt^2 / dx^2) / chi[i,j] * th[i,j] + \n",
    "                        (gamma[i,j] * dt/2 - 1) /chi[i,j] * th_old[i,j] + \n",
    "                        dt^2 / dx^2 / chi[i,j] / m[i,j] * \n",
    "                        (by[i,j] * th[i+1,j] + by[i-1,j] * th[i-1,j] +\n",
    "                        bx[i,j+1] * th[i,j+1] + bx[i,j] * th[i,j-1]) +\n",
    "                        dt^2 / chi[i,j] / m[i,j] * (p[i,j] + dp[i,j])\n",
    "                end\n",
    "            end\n",
    "        end   \n",
    "        \n",
    "        # impose boundary condition\n",
    "        Threads.@threads for k in 1:size(n,1)\n",
    "        #for k in 1:size(n,1)\n",
    "            i = Int64(n[k,1])\n",
    "            j = Int64(n[k,2])\n",
    "            nx = n[k,4]\n",
    "            ny = n[k,3]\n",
    "            if(nx == 1)\n",
    "                th_new[i,j] = th_new[i,j-2]\n",
    "            else(nx == -1)\n",
    "                th_new[i,j] = th_new[i,j+2]\n",
    "            end\n",
    "            if(ny == 1)\n",
    "                th_new[i,j] = th_new[i-2,j]\n",
    "            else(ny == -1)\n",
    "                th_new[i,j] = th_new[i+2,j]\n",
    "            end\n",
    "        end\n",
    "\n",
    "        \n",
    "        if(mod(k,interval) == 0)\n",
    "            println(\"NIter: \", k)\n",
    "            omegas[:,:,Int64(k/interval) + 1] = (th_new-th) / dt\n",
    "            thetas[:,:,Int64(k/interval) + 1] = th_new\n",
    "            ts[Int64(k/interval) + 1] = k*dt\n",
    "        end\n",
    "        th_old = copy(th)\n",
    "        th = copy(th_new)\n",
    "    end\n",
    "end"
   ]
  },
  {
   "cell_type": "code",
   "execution_count": null,
   "id": "fdff15ff",
   "metadata": {},
   "outputs": [],
   "source": [
    "@gif for i=1:size(omegas,3)\n",
    "    do_plot(isinside,omegas[:,:,i])\n",
    "    #contour(omegas[:,:,i],fill=true,levels= -2:0.1:2)\n",
    "    #contour(omegas[:,:,i],fill=true)\n",
    "end\n"
   ]
  },
  {
   "cell_type": "code",
   "execution_count": null,
   "id": "e5cfd509",
   "metadata": {},
   "outputs": [],
   "source": [
    "do_plot(isgrid, thetas[:,:,end])\n",
    "savefig(\"tmp.svg\")"
   ]
  },
  {
   "cell_type": "code",
   "execution_count": null,
   "id": "917cf5fd",
   "metadata": {},
   "outputs": [],
   "source": [
    "println(d[25,45])\n",
    "contour(d./m,fill=true)"
   ]
  },
  {
   "cell_type": "code",
   "execution_count": null,
   "id": "a260076f",
   "metadata": {},
   "outputs": [],
   "source": [
    "plot(omegas[20,20,:])\n"
   ]
  },
  {
   "cell_type": "code",
   "execution_count": null,
   "id": "4c593127",
   "metadata": {},
   "outputs": [],
   "source": []
  }
 ],
 "metadata": {
  "kernelspec": {
   "display_name": "Julia 1.6.2",
   "language": "julia",
   "name": "julia-1.6"
  },
  "language_info": {
   "file_extension": ".jl",
   "mimetype": "application/julia",
   "name": "julia",
   "version": "1.6.2"
  }
 },
 "nbformat": 4,
 "nbformat_minor": 5
}

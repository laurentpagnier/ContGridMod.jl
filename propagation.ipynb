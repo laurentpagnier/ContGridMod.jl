{
 "cells": [
  {
   "cell_type": "code",
   "execution_count": null,
   "metadata": {},
   "outputs": [],
   "source": [
    "import JSON\n",
    "using Plots\n",
    "using HDF5\n",
    "include(\"tools.jl\")\n",
    "include(\"get_grid.jl\")\n",
    "include(\"get_params.jl\")\n",
    "include(\"disturbances.jl\")"
   ]
  },
  {
   "cell_type": "code",
   "execution_count": null,
   "metadata": {
    "scrolled": true
   },
   "outputs": [],
   "source": [
    "border = import_border(\"data/border.json\")\n",
    "dx = 20\n",
    "Nx, Ny, xrange, yrange, isgrid, isborder, n = get_grid(border, Float64(dx))\n",
    "x = repeat(reshape(xrange,1,Nx),Ny,1)\n",
    "y = repeat(reshape(yrange,Ny,1),1,Nx)\n",
    "x_for_bx = repeat(reshape(xrange,1,Nx),Ny,1) .- dx/2\n",
    "y_for_bx = repeat(reshape(yrange,Ny,1),1,Nx)\n",
    "x_for_by = repeat(reshape(xrange,1,Nx),Ny,1)\n",
    "y_for_by = repeat(reshape(yrange,Ny,1),1,Nx) .+ dx/2"
   ]
  },
  {
   "cell_type": "code",
   "execution_count": null,
   "metadata": {},
   "outputs": [],
   "source": [
    "sigma_l = 1E2\n",
    "#sigma_l = 40.\n",
    "recompute_param = true\n",
    "\n",
    "if(recompute_param)\n",
    "    bx, by, p, m, d = get_params(isborder, sigma_l, \"data/pantagruel.h5\", \"grid_params_20.h5\")\n",
    "else\n",
    "    bx, by, p, m, d = get_params(\"grid_params_20.h5\")\n",
    "end\n",
    "\n",
    "\n",
    "dP = -9.0\n",
    "sigma = 30.0\n",
    "location = [-1500., -900.]\n",
    "dp = local_disturbance(isgrid, xrange, yrange, location, dP, sigma)\n",
    "do_plot(isgrid, dp)\n",
    "\n",
    "# u*dt^2/dx^2 should be << 1\n",
    "u = zeros(Ny,Nx)\n",
    "for j=2:Nx-1\n",
    "    for i=2:Ny-1\n",
    "        u[i,j] = (by[i-1,j] + by[i,j] + bx[i,j] + bx[i,j+1]) / m[i,j]\n",
    "    end\n",
    "end\n",
    "u[.!isgrid] .= 0;\n",
    "maximum(u)"
   ]
  },
  {
   "cell_type": "code",
   "execution_count": null,
   "metadata": {},
   "outputs": [],
   "source": [
    "interval = 50\n",
    "dt = 0.0001\n",
    "Ndt = 5000\n",
    "\n",
    "gamma = d ./ m\n",
    "\n",
    "omegas = zeros(Ny,Nx,1 + Int64(ceil(Ndt/interval)))\n",
    "thetas = zeros(Ny,Nx,1 + Int64(ceil(Ndt/interval)))\n",
    "th_new = zeros(Ny,Nx)\n",
    "reset = true \n",
    "if(reset)\n",
    "    th_old = zeros(Ny,Nx)\n",
    "    th = zeros(Ny,Nx)\n",
    "    omegas[:,:,1] = th_old\n",
    "else\n",
    "    #data = h5read(\"sim.h5\",\"/\")\n",
    "    #th_old = data[\"thetas\"][:,:,end]\n",
    "    #th_old[.!isgrid] .= NaN\n",
    "    #th = data[\"thetas\"][:,:,end]\n",
    "    #omegas[:,:,1] = data[\"omegas\"][:,:,end]\n",
    "end\n",
    "println(maximum(abs.(th_old[isgrid]))) \n",
    "ts = zeros(1 + Int64(ceil(Ndt/interval)))\n",
    "chi = 1 .+ gamma*dt/2\n",
    "\n",
    "@time begin\n",
    "    for k in 1:Ndt\n",
    "        for i in 2:Ny-1\n",
    "            for j in 2:Nx-1\n",
    "                if(isborder[i,j])\n",
    "                    id = (n[:,1] .== i) .& (n[:,2] .== j)\n",
    "                    nx = n[id,3][1]\n",
    "                    ny = n[id,4][1]\n",
    "                    th_new[i,j] = (nx * ( bx[i,j] * th[i,j-1] - bx[i,j+1] * th[i,j+1]) +\n",
    "                        ny * (by[i-1,j] * th[i-1,j] - by[i,j] * th[i+1,j])) /\n",
    "                        (nx * (bx[i,j] - bx[i,j+1]) + ny * (by[i-1,j] - by[i,j]))\n",
    "                elseif(isgrid[i,j])\n",
    "                    bij = (by[i-1,j] + by[i,j] + bx[i,j] + bx[i,j+1])\n",
    "                    th_new[i,j] = (2 - bij / m[i,j] * dt^2 / dx^2) / chi[i,j] * th[i,j] + \n",
    "                        (gamma[i,j] * dt/2 - 1) /chi[i,j] * th_old[i,j] + \n",
    "                        dt^2 / dx^2 / chi[i,j] / m[i,j] * \n",
    "                        (by[i,j] * th[i+1,j] + by[i-1,j] * th[i-1,j] +\n",
    "                        bx[i,j+1] * th[i,j+1] + bx[i,j] * th[i,j-1]) +\n",
    "                        dt^2 / chi[i,j] / m[i,j] * (p[i,j] + dp[i,j])\n",
    "                end\n",
    "            end\n",
    "        end   \n",
    "        if(mod(k,interval) == 0)\n",
    "            println(k)\n",
    "            temp = (th_new-th) / dt\n",
    "            omegas[:,:,Int64(k/interval) + 1] = temp\n",
    "            thetas[:,:,Int64(k/interval) + 1] = th_ne\n",
    "            ts[Int64(k/interval) + 1] = k*dt\n",
    "        end\n",
    "        th_old = copy(th)\n",
    "        th = copy(th_new)\n",
    "    end\n",
    "end"
   ]
  },
  {
   "cell_type": "code",
   "execution_count": null,
   "metadata": {},
   "outputs": [],
   "source": [
    "@gif for i=1:size(omegas,3)\n",
    "    do_plot(isgrid, omegas[:,:,i])\n",
    "end"
   ]
  }
 ],
 "metadata": {
  "kernelspec": {
   "display_name": "Julia 1.6.1",
   "language": "julia",
   "name": "julia-1.6"
  },
  "language_info": {
   "file_extension": ".jl",
   "mimetype": "application/julia",
   "name": "julia",
   "version": "1.6.1"
  }
 },
 "nbformat": 4,
 "nbformat_minor": 5
}

{
 "cells": [
  {
   "cell_type": "code",
   "execution_count": 1,
   "metadata": {},
   "outputs": [
    {
     "data": {
      "text/plain": [
       "get_grid (generic function with 1 method)"
      ]
     },
     "execution_count": 1,
     "metadata": {},
     "output_type": "execute_result"
    }
   ],
   "source": [
    "import JSON\n",
    "using Plots\n",
    "using HDF5\n",
    "using SparseArrays\n",
    "using IterativeSolvers\n",
    "using LinearAlgebra\n",
    "using Statistics\n",
    "include(\"tools.jl\")\n",
    "include(\"get_grid.jl\")"
   ]
  },
  {
   "cell_type": "code",
   "execution_count": 2,
   "metadata": {},
   "outputs": [
    {
     "data": {
      "text/plain": [
       "(157, 117, [-1884.715908758636, -1864.715908758636, -1844.715908758636, -1824.715908758636, -1804.715908758636, -1784.715908758636, -1764.715908758636, -1744.715908758636, -1724.715908758636, -1704.715908758636  …  1055.284091241364, 1075.284091241364, 1095.284091241364, 1115.284091241364, 1135.284091241364, 1155.284091241364, 1175.284091241364, 1195.284091241364, 1215.284091241364, 1235.284091241364], [-1209.773642941589, -1189.773642941589, -1169.773642941589, -1149.773642941589, -1129.773642941589, -1109.773642941589, -1089.773642941589, -1069.773642941589, -1049.773642941589, -1029.773642941589  …  930.2263570584109, 950.2263570584109, 970.2263570584109, 990.2263570584109, 1010.2263570584109, 1030.226357058411, 1050.226357058411, 1070.226357058411, 1090.226357058411, 1110.226357058411], Bool[0 0 … 0 0; 0 0 … 0 0; … ; 0 0 … 0 0; 0 0 … 0 0], Bool[0 0 … 0 0; 0 0 … 0 0; … ; 0 0 … 0 0; 0 0 … 0 0], [13.0 3.0 -1.0 -1.0; 14.0 3.0 -1.0 0.0; … ; 54.0 156.0 1.0 -1.0; 55.0 156.0 1.0 1.0])"
      ]
     },
     "execution_count": 2,
     "metadata": {},
     "output_type": "execute_result"
    }
   ],
   "source": [
    "border = import_border(\"data/border.json\")\n",
    "dx = 20\n",
    "Nx, Ny, xrange, yrange, isgrid, isborder, n = get_grid(border, Float64(dx))"
   ]
  },
  {
   "cell_type": "code",
   "execution_count": 3,
   "metadata": {},
   "outputs": [
    {
     "data": {
      "text/plain": [
       "8196"
      ]
     },
     "execution_count": 3,
     "metadata": {},
     "output_type": "execute_result"
    }
   ],
   "source": [
    "# get indices of lattice nodes\n",
    "id_xy = findall(isgrid)\n",
    "id_x = Int64.(zeros(length(id_xy)))\n",
    "id_y = Int64.(zeros(length(id_xy)))\n",
    "for i in 1:length(id_xy)\n",
    "    id_y[i] = id_xy[i][1]\n",
    "    id_x[i] = id_xy[i][2]\n",
    "end\n",
    "\n",
    "Nbus = length(id_x)"
   ]
  },
  {
   "cell_type": "code",
   "execution_count": 4,
   "metadata": {},
   "outputs": [
    {
     "data": {
      "text/plain": [
       "8196×8196 SparseMatrixCSC{Float64, Int64} with 40012 stored entries:\n",
       "⠻⣦⡀⠀⠀⠀⠀⠀⠀⠀⠀⠀⠀⠀⠀⠀⠀⠀⠀⠀⠀⠀⠀⠀⠀⠀⠀⠀⠀⠀⠀⠀⠀⠀⠀⠀⠀⠀⠀⠀\n",
       "⠀⠈⠻⣦⡀⠀⠀⠀⠀⠀⠀⠀⠀⠀⠀⠀⠀⠀⠀⠀⠀⠀⠀⠀⠀⠀⠀⠀⠀⠀⠀⠀⠀⠀⠀⠀⠀⠀⠀⠀\n",
       "⠀⠀⠀⠈⠻⣦⡀⠀⠀⠀⠀⠀⠀⠀⠀⠀⠀⠀⠀⠀⠀⠀⠀⠀⠀⠀⠀⠀⠀⠀⠀⠀⠀⠀⠀⠀⠀⠀⠀⠀\n",
       "⠀⠀⠀⠀⠀⠈⠻⣦⡀⠀⠀⠀⠀⠀⠀⠀⠀⠀⠀⠀⠀⠀⠀⠀⠀⠀⠀⠀⠀⠀⠀⠀⠀⠀⠀⠀⠀⠀⠀⠀\n",
       "⠀⠀⠀⠀⠀⠀⠀⠈⠻⣦⡀⠀⠀⠀⠀⠀⠀⠀⠀⠀⠀⠀⠀⠀⠀⠀⠀⠀⠀⠀⠀⠀⠀⠀⠀⠀⠀⠀⠀⠀\n",
       "⠀⠀⠀⠀⠀⠀⠀⠀⠀⠈⠻⣦⡀⠀⠀⠀⠀⠀⠀⠀⠀⠀⠀⠀⠀⠀⠀⠀⠀⠀⠀⠀⠀⠀⠀⠀⠀⠀⠀⠀\n",
       "⠀⠀⠀⠀⠀⠀⠀⠀⠀⠀⠀⠈⠻⣦⡀⠀⠀⠀⠀⠀⠀⠀⠀⠀⠀⠀⠀⠀⠀⠀⠀⠀⠀⠀⠀⠀⠀⠀⠀⠀\n",
       "⠀⠀⠀⠀⠀⠀⠀⠀⠀⠀⠀⠀⠀⠈⠻⣦⡀⠀⠀⠀⠀⠀⠀⠀⠀⠀⠀⠀⠀⠀⠀⠀⠀⠀⠀⠀⠀⠀⠀⠀\n",
       "⠀⠀⠀⠀⠀⠀⠀⠀⠀⠀⠀⠀⠀⠀⠀⠈⠻⣦⡀⠀⠀⠀⠀⠀⠀⠀⠀⠀⠀⠀⠀⠀⠀⠀⠀⠀⠀⠀⠀⠀\n",
       "⠀⠀⠀⠀⠀⠀⠀⠀⠀⠀⠀⠀⠀⠀⠀⠀⠀⠈⠻⣦⡀⠀⠀⠀⠀⠀⠀⠀⠀⠀⠀⠀⠀⠀⠀⠀⠀⠀⠀⠀\n",
       "⠀⠀⠀⠀⠀⠀⠀⠀⠀⠀⠀⠀⠀⠀⠀⠀⠀⠀⠀⠈⠻⣦⡀⠀⠀⠀⠀⠀⠀⠀⠀⠀⠀⠀⠀⠀⠀⠀⠀⠀\n",
       "⠀⠀⠀⠀⠀⠀⠀⠀⠀⠀⠀⠀⠀⠀⠀⠀⠀⠀⠀⠀⠀⠈⠻⣦⡀⠀⠀⠀⠀⠀⠀⠀⠀⠀⠀⠀⠀⠀⠀⠀\n",
       "⠀⠀⠀⠀⠀⠀⠀⠀⠀⠀⠀⠀⠀⠀⠀⠀⠀⠀⠀⠀⠀⠀⠀⠈⠻⣦⡀⠀⠀⠀⠀⠀⠀⠀⠀⠀⠀⠀⠀⠀\n",
       "⠀⠀⠀⠀⠀⠀⠀⠀⠀⠀⠀⠀⠀⠀⠀⠀⠀⠀⠀⠀⠀⠀⠀⠀⠀⠈⠻⣦⡀⠀⠀⠀⠀⠀⠀⠀⠀⠀⠀⠀\n",
       "⠀⠀⠀⠀⠀⠀⠀⠀⠀⠀⠀⠀⠀⠀⠀⠀⠀⠀⠀⠀⠀⠀⠀⠀⠀⠀⠀⠈⠻⣦⡀⠀⠀⠀⠀⠀⠀⠀⠀⠀\n",
       "⠀⠀⠀⠀⠀⠀⠀⠀⠀⠀⠀⠀⠀⠀⠀⠀⠀⠀⠀⠀⠀⠀⠀⠀⠀⠀⠀⠀⠀⠈⠻⣦⡀⠀⠀⠀⠀⠀⠀⠀\n",
       "⠀⠀⠀⠀⠀⠀⠀⠀⠀⠀⠀⠀⠀⠀⠀⠀⠀⠀⠀⠀⠀⠀⠀⠀⠀⠀⠀⠀⠀⠀⠀⠈⠻⣦⡀⠀⠀⠀⠀⠀\n",
       "⠀⠀⠀⠀⠀⠀⠀⠀⠀⠀⠀⠀⠀⠀⠀⠀⠀⠀⠀⠀⠀⠀⠀⠀⠀⠀⠀⠀⠀⠀⠀⠀⠀⠈⠻⣦⡀⠀⠀⠀\n",
       "⠀⠀⠀⠀⠀⠀⠀⠀⠀⠀⠀⠀⠀⠀⠀⠀⠀⠀⠀⠀⠀⠀⠀⠀⠀⠀⠀⠀⠀⠀⠀⠀⠀⠀⠀⠈⠻⣦⡀⠀\n",
       "⠀⠀⠀⠀⠀⠀⠀⠀⠀⠀⠀⠀⠀⠀⠀⠀⠀⠀⠀⠀⠀⠀⠀⠀⠀⠀⠀⠀⠀⠀⠀⠀⠀⠀⠀⠀⠀⠈⠻⣦"
      ]
     },
     "execution_count": 4,
     "metadata": {},
     "output_type": "execute_result"
    }
   ],
   "source": [
    "# get the list of edges and susceptance vector\n",
    "epsilon = Int64.(zeros(Int64(1E6),2))\n",
    "b = zeros(Int64(1E6))\n",
    "k = 1\n",
    "\n",
    "for i=1:length(id_x)\n",
    "    if(isgrid[id_y[i], id_x[i]+1])\n",
    "        id = findall((id_y .== id_y[i]) .& (id_x .== (id_x[i]+1)))\n",
    "        epsilon[k,:] = [i id]\n",
    "        b[k] = dx^2\n",
    "        k += 1\n",
    "    end\n",
    "    if(isgrid[id_y[i]+1, id_x[i]])\n",
    "        id = findall((id_y .== (id_y[i]+1)) .& (id_x .== id_x[i]))\n",
    "        epsilon[k,:] = [i id]\n",
    "        b[k] = dx^2\n",
    "        k += 1\n",
    "    end\n",
    "end\n",
    "\n",
    "N = k-1\n",
    "epsilon = epsilon[1:N,:]\n",
    "b = b[1:N]\n",
    "\n",
    "B = sparse([epsilon[:,1];epsilon[:,2]],[1:N; 1:N],[-ones(N); ones(N)])\n",
    "Db = sparse(1:N, 1:N, b)\n",
    "L = B * Db * B'"
   ]
  },
  {
   "cell_type": "code",
   "execution_count": 5,
   "metadata": {},
   "outputs": [
    {
     "name": "stdout",
     "output_type": "stream",
     "text": [
      " 61.922673 seconds (1.56 M allocations: 2.093 GiB, 0.27% gc time, 0.70% compilation time)\n"
     ]
    },
    {
     "data": {
      "text/plain": [
       "8196-element Vector{Float64}:\n",
       "   -1.5457271906357978e-13\n",
       "    0.11569085239353628\n",
       "    0.24599486320358205\n",
       "    0.3629630568378557\n",
       "    0.7268802413888282\n",
       "    1.21929376844046\n",
       "    1.2974133854630308\n",
       "    1.4253341640834465\n",
       "    1.9449756191375738\n",
       "    2.2167640086456535\n",
       "    2.525415824215542\n",
       "    2.7625765427543687\n",
       "    3.034567688542276\n",
       "    ⋮\n",
       " 3187.5216165059205\n",
       " 3188.374059081486\n",
       " 3188.7609430693456\n",
       " 3189.523321161497\n",
       " 3191.1470991074425\n",
       " 3191.8654327519234\n",
       " 3193.235329995958\n",
       " 3194.153003882841\n",
       " 3194.487035545837\n",
       " 3195.734594729329\n",
       " 3196.6766102544143\n",
       " 3197.9434845504893"
      ]
     },
     "execution_count": 5,
     "metadata": {},
     "output_type": "execute_result"
    }
   ],
   "source": [
    "# If L is small enough for a direct eigendecomposition\n",
    "minimum(diag(L))\n",
    "@time begin\n",
    "    eig = eigen(Array{Float64,2}(L))\n",
    "    V_ref = eig.vectors\n",
    "    D_ref = eig.values;\n",
    "end"
   ]
  },
  {
   "cell_type": "code",
   "execution_count": null,
   "metadata": {},
   "outputs": [
    {
     "name": "stdout",
     "output_type": "stream",
     "text": [
      "1\n",
      "2\n",
      "3\n",
      "4\n",
      "5\n",
      "6\n",
      "7\n",
      "8\n",
      "9\n",
      "10\n",
      "11\n",
      "12\n",
      "13\n",
      "14\n",
      "15\n",
      "16\n",
      "17\n",
      "18\n",
      "19\n",
      "20\n",
      "21\n",
      "22\n",
      "23\n"
     ]
    }
   ],
   "source": [
    "# If not\n",
    "# Iterative algorithm to obtain the Ntrunc lowest eigenvalues and -vectors\n",
    "\n",
    "Ntrunc = 100\n",
    "D = zeros(Ntrunc)\n",
    "V = zeros(Nbus, Ntrunc)\n",
    "\n",
    "@time begin\n",
    "    for i=1:Ntrunc\n",
    "        println(i)\n",
    "        lambda_old = Inf\n",
    "        if(i > 1)\n",
    "            #lambda = D[i-1]\n",
    "            lambda = 0.001\n",
    "        else\n",
    "            lambda = 0.001\n",
    "        end\n",
    "        x = rand(Nbus)\n",
    "        for j = 1:i-1\n",
    "            x = x - dot(x,V[:,j]) * V[:,j]\n",
    "        end\n",
    "\n",
    "        x = x .- mean(x)\n",
    "        x = x ./ norm(x)\n",
    "\n",
    "        iter = 1\n",
    "        while((abs(lambda_old - lambda) / abs(lambda) > 1E-4) & (iter < 1E3))\n",
    "            Lt = L - sparse(1:Nbus, 1:Nbus, lambda*ones(Nbus))\n",
    "            x = minres(Lt, x)\n",
    "            for j = 1:i-1\n",
    "                x = x - dot(x, V[:,j]) * V[:,j]\n",
    "            end\n",
    "            x = x .- mean(x)\n",
    "            x = x ./ norm(x)\n",
    "            lambda_old = lambda\n",
    "            lambda = dot(x, L * x)\n",
    "            iter += 1\n",
    "        end\n",
    "        V[:,i] = x\n",
    "        D[i] = lambda\n",
    "    end\n",
    "end\n",
    "id_sort = sortperm(D)\n",
    "D = D[id_sort]\n",
    "V = V[:,id_sort];"
   ]
  },
  {
   "cell_type": "code",
   "execution_count": null,
   "metadata": {},
   "outputs": [],
   "source": [
    "# plot a mode\n",
    "a = 2\n",
    "mode = zeros(Ny, Nx)\n",
    "mode[id_xy] = V[:,a]\n",
    "do_plot(isgrid, mode)"
   ]
  },
  {
   "cell_type": "code",
   "execution_count": null,
   "metadata": {},
   "outputs": [],
   "source": [
    "# save the results\n",
    "fid = h5open(\"eigen_20.h5\",\"w\")\n",
    "write(fid,\"V\", V_ref)\n",
    "write(fid,\"D\", D_ref)\n",
    "write(fid,\"coord\", [xrange[id_x] yrange[id_y]])\n",
    "write(fid,\"Nx\", Nx)\n",
    "write(fid,\"Ny\", Ny)\n",
    "write(fid,\"id_x\", id_x)\n",
    "write(fid,\"id_y\", id_y)\n",
    "write(fid,\"isgrid\", Int64.(isgrid))\n",
    "close(fid)"
   ]
  }
 ],
 "metadata": {
  "kernelspec": {
   "display_name": "Julia 1.6.2",
   "language": "julia",
   "name": "julia-1.6"
  },
  "language_info": {
   "file_extension": ".jl",
   "mimetype": "application/julia",
   "name": "julia",
   "version": "1.6.2"
  }
 },
 "nbformat": 4,
 "nbformat_minor": 4
}
